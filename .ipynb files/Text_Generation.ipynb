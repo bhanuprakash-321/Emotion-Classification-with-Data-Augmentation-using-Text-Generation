{
  "metadata": {
    "kernelspec": {
      "name": "python3",
      "display_name": "Python 3",
      "language": "python"
    },
    "language_info": {
      "name": "python",
      "version": "3.11.11",
      "mimetype": "text/x-python",
      "codemirror_mode": {
        "name": "ipython",
        "version": 3
      },
      "pygments_lexer": "ipython3",
      "nbconvert_exporter": "python",
      "file_extension": ".py"
    },
    "kaggle": {
      "accelerator": "nvidiaTeslaT4",
      "dataSources": [
        {
          "sourceId": 1085454,
          "sourceType": "datasetVersion",
          "datasetId": 605165
        }
      ],
      "dockerImageVersionId": 31041,
      "isInternetEnabled": true,
      "language": "python",
      "sourceType": "notebook",
      "isGpuEnabled": true
    },
    "colab": {
      "provenance": [],
      "gpuType": "T4"
    },
    "accelerator": "GPU"
  },
  "nbformat_minor": 0,
  "nbformat": 4,
  "cells": [
    {
      "cell_type": "markdown",
      "source": [
        "## Text Generation for Emotion Dataset Enrichment"
      ],
      "metadata": {
        "id": "N8FzrqpAIZQr"
      }
    },
    {
      "cell_type": "markdown",
      "source": [
        "### Why We Used Text Generation Instead of Oversampling/Undersampling/SMOTE\n",
        "\n",
        "In this project, we chose **text generation** over traditional data balancing techniques such as oversampling, undersampling, and SMOTE for the following reasons:\n",
        "\n",
        "- **Text data is sequential and contextual**, and duplicating samples (oversampling) can cause overfitting without adding any new linguistic diversity.\n",
        "- **Undersampling** removes data from majority classes, which leads to a significant loss of valuable information.\n",
        "- **SMOTE** and similar synthetic methods work well for numerical/tabular data but fail to generate semantically meaningful text.\n",
        "- Instead, we **trained a Seq2Seq model** to generate high-quality synthetic text samples for underrepresented emotion classes, preserving linguistic structure and emotional context.\n",
        "- This method helps balance the dataset while improving the model’s ability to generalize across all emotion categories.\n"
      ],
      "metadata": {
        "id": "F90znkmP4f0Q"
      }
    },
    {
      "cell_type": "markdown",
      "source": [
        "## Import the libraries"
      ],
      "metadata": {
        "id": "HBf7Q0itKR7E"
      }
    },
    {
      "cell_type": "code",
      "source": [
        "import numpy as np\n",
        "import pandas as pd\n",
        "import matplotlib.pyplot as plt\n",
        "import seaborn as sns\n",
        "import warnings\n",
        "warnings.filterwarnings('ignore')\n",
        "from sklearn.model_selection import train_test_split\n",
        "import tensorflow as tf\n",
        "from tensorflow import keras\n",
        "from tensorflow.keras.preprocessing.text import Tokenizer\n",
        "from tensorflow.keras.preprocessing.sequence import pad_sequences\n",
        "from tensorflow.keras.models import Model\n",
        "from tensorflow.keras.layers import Input, Embedding, LSTM, Dense, TimeDistributed, Concatenate\n",
        "from tensorflow.keras.callbacks import EarlyStopping\n",
        "from tqdm import tqdm\n",
        "from tensorflow.keras.layers import Lambda"
      ],
      "metadata": {
        "trusted": true,
        "execution": {
          "iopub.status.busy": "2025-05-14T09:18:48.480807Z",
          "iopub.execute_input": "2025-05-14T09:18:48.481374Z",
          "iopub.status.idle": "2025-05-14T09:18:48.486426Z",
          "shell.execute_reply.started": "2025-05-14T09:18:48.481353Z",
          "shell.execute_reply": "2025-05-14T09:18:48.485693Z"
        },
        "id": "jaDSMJVG5sru"
      },
      "outputs": [],
      "execution_count": 2
    },
    {
      "cell_type": "markdown",
      "source": [
        "## Load the data"
      ],
      "metadata": {
        "id": "xVEwo-aznJDm"
      }
    },
    {
      "cell_type": "code",
      "source": [
        "df_train=pd.read_csv('/content/train.txt',names=[\"text\",\"emotions\"],sep=';')\n",
        "df_test=pd.read_csv('/content/test.txt',names=[\"text\",\"emotions\"],sep=';')\n",
        "df_val=pd.read_csv(\"/content/val.txt\",names=[\"text\",\"emotions\"],sep=';')"
      ],
      "metadata": {
        "trusted": true,
        "execution": {
          "iopub.status.busy": "2025-05-14T09:18:49.583335Z",
          "iopub.execute_input": "2025-05-14T09:18:49.583723Z",
          "iopub.status.idle": "2025-05-14T09:18:49.627867Z",
          "shell.execute_reply.started": "2025-05-14T09:18:49.583699Z",
          "shell.execute_reply": "2025-05-14T09:18:49.627250Z"
        },
        "id": "Qkosr6Ld5sru"
      },
      "outputs": [],
      "execution_count": 3
    },
    {
      "cell_type": "code",
      "source": [
        "display(df_train.sample(2))\n",
        "display(df_train.sample(2))\n",
        "display(df_train.sample(2))"
      ],
      "metadata": {
        "trusted": true,
        "execution": {
          "iopub.status.busy": "2025-05-14T09:18:50.626191Z",
          "iopub.execute_input": "2025-05-14T09:18:50.626774Z",
          "iopub.status.idle": "2025-05-14T09:18:50.642011Z",
          "shell.execute_reply.started": "2025-05-14T09:18:50.626741Z",
          "shell.execute_reply": "2025-05-14T09:18:50.641232Z"
        },
        "colab": {
          "base_uri": "https://localhost:8080/",
          "height": 302
        },
        "id": "x9Nxf0Y95sru",
        "outputId": "7af9bfa3-8291-4384-dff8-4d4155110975"
      },
      "outputs": [
        {
          "output_type": "display_data",
          "data": {
            "text/plain": [
              "                                                    text emotions\n",
              "11575  i feel melancholy about the past as my parents...  sadness\n",
              "8107   i also feels at times that i am somewhat socia...  sadness"
            ],
            "text/html": [
              "\n",
              "  <div id=\"df-f07b94df-5b47-4c74-b598-406971b1e99e\" class=\"colab-df-container\">\n",
              "    <div>\n",
              "<style scoped>\n",
              "    .dataframe tbody tr th:only-of-type {\n",
              "        vertical-align: middle;\n",
              "    }\n",
              "\n",
              "    .dataframe tbody tr th {\n",
              "        vertical-align: top;\n",
              "    }\n",
              "\n",
              "    .dataframe thead th {\n",
              "        text-align: right;\n",
              "    }\n",
              "</style>\n",
              "<table border=\"1\" class=\"dataframe\">\n",
              "  <thead>\n",
              "    <tr style=\"text-align: right;\">\n",
              "      <th></th>\n",
              "      <th>text</th>\n",
              "      <th>emotions</th>\n",
              "    </tr>\n",
              "  </thead>\n",
              "  <tbody>\n",
              "    <tr>\n",
              "      <th>11575</th>\n",
              "      <td>i feel melancholy about the past as my parents...</td>\n",
              "      <td>sadness</td>\n",
              "    </tr>\n",
              "    <tr>\n",
              "      <th>8107</th>\n",
              "      <td>i also feels at times that i am somewhat socia...</td>\n",
              "      <td>sadness</td>\n",
              "    </tr>\n",
              "  </tbody>\n",
              "</table>\n",
              "</div>\n",
              "    <div class=\"colab-df-buttons\">\n",
              "\n",
              "  <div class=\"colab-df-container\">\n",
              "    <button class=\"colab-df-convert\" onclick=\"convertToInteractive('df-f07b94df-5b47-4c74-b598-406971b1e99e')\"\n",
              "            title=\"Convert this dataframe to an interactive table.\"\n",
              "            style=\"display:none;\">\n",
              "\n",
              "  <svg xmlns=\"http://www.w3.org/2000/svg\" height=\"24px\" viewBox=\"0 -960 960 960\">\n",
              "    <path d=\"M120-120v-720h720v720H120Zm60-500h600v-160H180v160Zm220 220h160v-160H400v160Zm0 220h160v-160H400v160ZM180-400h160v-160H180v160Zm440 0h160v-160H620v160ZM180-180h160v-160H180v160Zm440 0h160v-160H620v160Z\"/>\n",
              "  </svg>\n",
              "    </button>\n",
              "\n",
              "  <style>\n",
              "    .colab-df-container {\n",
              "      display:flex;\n",
              "      gap: 12px;\n",
              "    }\n",
              "\n",
              "    .colab-df-convert {\n",
              "      background-color: #E8F0FE;\n",
              "      border: none;\n",
              "      border-radius: 50%;\n",
              "      cursor: pointer;\n",
              "      display: none;\n",
              "      fill: #1967D2;\n",
              "      height: 32px;\n",
              "      padding: 0 0 0 0;\n",
              "      width: 32px;\n",
              "    }\n",
              "\n",
              "    .colab-df-convert:hover {\n",
              "      background-color: #E2EBFA;\n",
              "      box-shadow: 0px 1px 2px rgba(60, 64, 67, 0.3), 0px 1px 3px 1px rgba(60, 64, 67, 0.15);\n",
              "      fill: #174EA6;\n",
              "    }\n",
              "\n",
              "    .colab-df-buttons div {\n",
              "      margin-bottom: 4px;\n",
              "    }\n",
              "\n",
              "    [theme=dark] .colab-df-convert {\n",
              "      background-color: #3B4455;\n",
              "      fill: #D2E3FC;\n",
              "    }\n",
              "\n",
              "    [theme=dark] .colab-df-convert:hover {\n",
              "      background-color: #434B5C;\n",
              "      box-shadow: 0px 1px 3px 1px rgba(0, 0, 0, 0.15);\n",
              "      filter: drop-shadow(0px 1px 2px rgba(0, 0, 0, 0.3));\n",
              "      fill: #FFFFFF;\n",
              "    }\n",
              "  </style>\n",
              "\n",
              "    <script>\n",
              "      const buttonEl =\n",
              "        document.querySelector('#df-f07b94df-5b47-4c74-b598-406971b1e99e button.colab-df-convert');\n",
              "      buttonEl.style.display =\n",
              "        google.colab.kernel.accessAllowed ? 'block' : 'none';\n",
              "\n",
              "      async function convertToInteractive(key) {\n",
              "        const element = document.querySelector('#df-f07b94df-5b47-4c74-b598-406971b1e99e');\n",
              "        const dataTable =\n",
              "          await google.colab.kernel.invokeFunction('convertToInteractive',\n",
              "                                                    [key], {});\n",
              "        if (!dataTable) return;\n",
              "\n",
              "        const docLinkHtml = 'Like what you see? Visit the ' +\n",
              "          '<a target=\"_blank\" href=https://colab.research.google.com/notebooks/data_table.ipynb>data table notebook</a>'\n",
              "          + ' to learn more about interactive tables.';\n",
              "        element.innerHTML = '';\n",
              "        dataTable['output_type'] = 'display_data';\n",
              "        await google.colab.output.renderOutput(dataTable, element);\n",
              "        const docLink = document.createElement('div');\n",
              "        docLink.innerHTML = docLinkHtml;\n",
              "        element.appendChild(docLink);\n",
              "      }\n",
              "    </script>\n",
              "  </div>\n",
              "\n",
              "\n",
              "    <div id=\"df-61c43174-dcc8-41f4-9926-03898d228edc\">\n",
              "      <button class=\"colab-df-quickchart\" onclick=\"quickchart('df-61c43174-dcc8-41f4-9926-03898d228edc')\"\n",
              "                title=\"Suggest charts\"\n",
              "                style=\"display:none;\">\n",
              "\n",
              "<svg xmlns=\"http://www.w3.org/2000/svg\" height=\"24px\"viewBox=\"0 0 24 24\"\n",
              "     width=\"24px\">\n",
              "    <g>\n",
              "        <path d=\"M19 3H5c-1.1 0-2 .9-2 2v14c0 1.1.9 2 2 2h14c1.1 0 2-.9 2-2V5c0-1.1-.9-2-2-2zM9 17H7v-7h2v7zm4 0h-2V7h2v10zm4 0h-2v-4h2v4z\"/>\n",
              "    </g>\n",
              "</svg>\n",
              "      </button>\n",
              "\n",
              "<style>\n",
              "  .colab-df-quickchart {\n",
              "      --bg-color: #E8F0FE;\n",
              "      --fill-color: #1967D2;\n",
              "      --hover-bg-color: #E2EBFA;\n",
              "      --hover-fill-color: #174EA6;\n",
              "      --disabled-fill-color: #AAA;\n",
              "      --disabled-bg-color: #DDD;\n",
              "  }\n",
              "\n",
              "  [theme=dark] .colab-df-quickchart {\n",
              "      --bg-color: #3B4455;\n",
              "      --fill-color: #D2E3FC;\n",
              "      --hover-bg-color: #434B5C;\n",
              "      --hover-fill-color: #FFFFFF;\n",
              "      --disabled-bg-color: #3B4455;\n",
              "      --disabled-fill-color: #666;\n",
              "  }\n",
              "\n",
              "  .colab-df-quickchart {\n",
              "    background-color: var(--bg-color);\n",
              "    border: none;\n",
              "    border-radius: 50%;\n",
              "    cursor: pointer;\n",
              "    display: none;\n",
              "    fill: var(--fill-color);\n",
              "    height: 32px;\n",
              "    padding: 0;\n",
              "    width: 32px;\n",
              "  }\n",
              "\n",
              "  .colab-df-quickchart:hover {\n",
              "    background-color: var(--hover-bg-color);\n",
              "    box-shadow: 0 1px 2px rgba(60, 64, 67, 0.3), 0 1px 3px 1px rgba(60, 64, 67, 0.15);\n",
              "    fill: var(--button-hover-fill-color);\n",
              "  }\n",
              "\n",
              "  .colab-df-quickchart-complete:disabled,\n",
              "  .colab-df-quickchart-complete:disabled:hover {\n",
              "    background-color: var(--disabled-bg-color);\n",
              "    fill: var(--disabled-fill-color);\n",
              "    box-shadow: none;\n",
              "  }\n",
              "\n",
              "  .colab-df-spinner {\n",
              "    border: 2px solid var(--fill-color);\n",
              "    border-color: transparent;\n",
              "    border-bottom-color: var(--fill-color);\n",
              "    animation:\n",
              "      spin 1s steps(1) infinite;\n",
              "  }\n",
              "\n",
              "  @keyframes spin {\n",
              "    0% {\n",
              "      border-color: transparent;\n",
              "      border-bottom-color: var(--fill-color);\n",
              "      border-left-color: var(--fill-color);\n",
              "    }\n",
              "    20% {\n",
              "      border-color: transparent;\n",
              "      border-left-color: var(--fill-color);\n",
              "      border-top-color: var(--fill-color);\n",
              "    }\n",
              "    30% {\n",
              "      border-color: transparent;\n",
              "      border-left-color: var(--fill-color);\n",
              "      border-top-color: var(--fill-color);\n",
              "      border-right-color: var(--fill-color);\n",
              "    }\n",
              "    40% {\n",
              "      border-color: transparent;\n",
              "      border-right-color: var(--fill-color);\n",
              "      border-top-color: var(--fill-color);\n",
              "    }\n",
              "    60% {\n",
              "      border-color: transparent;\n",
              "      border-right-color: var(--fill-color);\n",
              "    }\n",
              "    80% {\n",
              "      border-color: transparent;\n",
              "      border-right-color: var(--fill-color);\n",
              "      border-bottom-color: var(--fill-color);\n",
              "    }\n",
              "    90% {\n",
              "      border-color: transparent;\n",
              "      border-bottom-color: var(--fill-color);\n",
              "    }\n",
              "  }\n",
              "</style>\n",
              "\n",
              "      <script>\n",
              "        async function quickchart(key) {\n",
              "          const quickchartButtonEl =\n",
              "            document.querySelector('#' + key + ' button');\n",
              "          quickchartButtonEl.disabled = true;  // To prevent multiple clicks.\n",
              "          quickchartButtonEl.classList.add('colab-df-spinner');\n",
              "          try {\n",
              "            const charts = await google.colab.kernel.invokeFunction(\n",
              "                'suggestCharts', [key], {});\n",
              "          } catch (error) {\n",
              "            console.error('Error during call to suggestCharts:', error);\n",
              "          }\n",
              "          quickchartButtonEl.classList.remove('colab-df-spinner');\n",
              "          quickchartButtonEl.classList.add('colab-df-quickchart-complete');\n",
              "        }\n",
              "        (() => {\n",
              "          let quickchartButtonEl =\n",
              "            document.querySelector('#df-61c43174-dcc8-41f4-9926-03898d228edc button');\n",
              "          quickchartButtonEl.style.display =\n",
              "            google.colab.kernel.accessAllowed ? 'block' : 'none';\n",
              "        })();\n",
              "      </script>\n",
              "    </div>\n",
              "\n",
              "    </div>\n",
              "  </div>\n"
            ],
            "application/vnd.google.colaboratory.intrinsic+json": {
              "type": "dataframe",
              "summary": "{\n  \"name\": \"display(df_train\",\n  \"rows\": 2,\n  \"fields\": [\n    {\n      \"column\": \"text\",\n      \"properties\": {\n        \"dtype\": \"string\",\n        \"num_unique_values\": 2,\n        \"samples\": [\n          \"i also feels at times that i am somewhat socially isolated\",\n          \"i feel melancholy about the past as my parents have passed and i never really told them how thankful i am\"\n        ],\n        \"semantic_type\": \"\",\n        \"description\": \"\"\n      }\n    },\n    {\n      \"column\": \"emotions\",\n      \"properties\": {\n        \"dtype\": \"string\",\n        \"num_unique_values\": 1,\n        \"samples\": [\n          \"sadness\"\n        ],\n        \"semantic_type\": \"\",\n        \"description\": \"\"\n      }\n    }\n  ]\n}"
            }
          },
          "metadata": {}
        },
        {
          "output_type": "display_data",
          "data": {
            "text/plain": [
              "                                                   text emotions\n",
              "1460  i have the emotions but have learned that to f...     fear\n",
              "705         i feel like i was a rude ass hole at hookah    anger"
            ],
            "text/html": [
              "\n",
              "  <div id=\"df-fdf0c9a8-04d5-472e-86ca-7d80526f6ba0\" class=\"colab-df-container\">\n",
              "    <div>\n",
              "<style scoped>\n",
              "    .dataframe tbody tr th:only-of-type {\n",
              "        vertical-align: middle;\n",
              "    }\n",
              "\n",
              "    .dataframe tbody tr th {\n",
              "        vertical-align: top;\n",
              "    }\n",
              "\n",
              "    .dataframe thead th {\n",
              "        text-align: right;\n",
              "    }\n",
              "</style>\n",
              "<table border=\"1\" class=\"dataframe\">\n",
              "  <thead>\n",
              "    <tr style=\"text-align: right;\">\n",
              "      <th></th>\n",
              "      <th>text</th>\n",
              "      <th>emotions</th>\n",
              "    </tr>\n",
              "  </thead>\n",
              "  <tbody>\n",
              "    <tr>\n",
              "      <th>1460</th>\n",
              "      <td>i have the emotions but have learned that to f...</td>\n",
              "      <td>fear</td>\n",
              "    </tr>\n",
              "    <tr>\n",
              "      <th>705</th>\n",
              "      <td>i feel like i was a rude ass hole at hookah</td>\n",
              "      <td>anger</td>\n",
              "    </tr>\n",
              "  </tbody>\n",
              "</table>\n",
              "</div>\n",
              "    <div class=\"colab-df-buttons\">\n",
              "\n",
              "  <div class=\"colab-df-container\">\n",
              "    <button class=\"colab-df-convert\" onclick=\"convertToInteractive('df-fdf0c9a8-04d5-472e-86ca-7d80526f6ba0')\"\n",
              "            title=\"Convert this dataframe to an interactive table.\"\n",
              "            style=\"display:none;\">\n",
              "\n",
              "  <svg xmlns=\"http://www.w3.org/2000/svg\" height=\"24px\" viewBox=\"0 -960 960 960\">\n",
              "    <path d=\"M120-120v-720h720v720H120Zm60-500h600v-160H180v160Zm220 220h160v-160H400v160Zm0 220h160v-160H400v160ZM180-400h160v-160H180v160Zm440 0h160v-160H620v160ZM180-180h160v-160H180v160Zm440 0h160v-160H620v160Z\"/>\n",
              "  </svg>\n",
              "    </button>\n",
              "\n",
              "  <style>\n",
              "    .colab-df-container {\n",
              "      display:flex;\n",
              "      gap: 12px;\n",
              "    }\n",
              "\n",
              "    .colab-df-convert {\n",
              "      background-color: #E8F0FE;\n",
              "      border: none;\n",
              "      border-radius: 50%;\n",
              "      cursor: pointer;\n",
              "      display: none;\n",
              "      fill: #1967D2;\n",
              "      height: 32px;\n",
              "      padding: 0 0 0 0;\n",
              "      width: 32px;\n",
              "    }\n",
              "\n",
              "    .colab-df-convert:hover {\n",
              "      background-color: #E2EBFA;\n",
              "      box-shadow: 0px 1px 2px rgba(60, 64, 67, 0.3), 0px 1px 3px 1px rgba(60, 64, 67, 0.15);\n",
              "      fill: #174EA6;\n",
              "    }\n",
              "\n",
              "    .colab-df-buttons div {\n",
              "      margin-bottom: 4px;\n",
              "    }\n",
              "\n",
              "    [theme=dark] .colab-df-convert {\n",
              "      background-color: #3B4455;\n",
              "      fill: #D2E3FC;\n",
              "    }\n",
              "\n",
              "    [theme=dark] .colab-df-convert:hover {\n",
              "      background-color: #434B5C;\n",
              "      box-shadow: 0px 1px 3px 1px rgba(0, 0, 0, 0.15);\n",
              "      filter: drop-shadow(0px 1px 2px rgba(0, 0, 0, 0.3));\n",
              "      fill: #FFFFFF;\n",
              "    }\n",
              "  </style>\n",
              "\n",
              "    <script>\n",
              "      const buttonEl =\n",
              "        document.querySelector('#df-fdf0c9a8-04d5-472e-86ca-7d80526f6ba0 button.colab-df-convert');\n",
              "      buttonEl.style.display =\n",
              "        google.colab.kernel.accessAllowed ? 'block' : 'none';\n",
              "\n",
              "      async function convertToInteractive(key) {\n",
              "        const element = document.querySelector('#df-fdf0c9a8-04d5-472e-86ca-7d80526f6ba0');\n",
              "        const dataTable =\n",
              "          await google.colab.kernel.invokeFunction('convertToInteractive',\n",
              "                                                    [key], {});\n",
              "        if (!dataTable) return;\n",
              "\n",
              "        const docLinkHtml = 'Like what you see? Visit the ' +\n",
              "          '<a target=\"_blank\" href=https://colab.research.google.com/notebooks/data_table.ipynb>data table notebook</a>'\n",
              "          + ' to learn more about interactive tables.';\n",
              "        element.innerHTML = '';\n",
              "        dataTable['output_type'] = 'display_data';\n",
              "        await google.colab.output.renderOutput(dataTable, element);\n",
              "        const docLink = document.createElement('div');\n",
              "        docLink.innerHTML = docLinkHtml;\n",
              "        element.appendChild(docLink);\n",
              "      }\n",
              "    </script>\n",
              "  </div>\n",
              "\n",
              "\n",
              "    <div id=\"df-55d51f6a-1030-41df-9786-187272b1e0aa\">\n",
              "      <button class=\"colab-df-quickchart\" onclick=\"quickchart('df-55d51f6a-1030-41df-9786-187272b1e0aa')\"\n",
              "                title=\"Suggest charts\"\n",
              "                style=\"display:none;\">\n",
              "\n",
              "<svg xmlns=\"http://www.w3.org/2000/svg\" height=\"24px\"viewBox=\"0 0 24 24\"\n",
              "     width=\"24px\">\n",
              "    <g>\n",
              "        <path d=\"M19 3H5c-1.1 0-2 .9-2 2v14c0 1.1.9 2 2 2h14c1.1 0 2-.9 2-2V5c0-1.1-.9-2-2-2zM9 17H7v-7h2v7zm4 0h-2V7h2v10zm4 0h-2v-4h2v4z\"/>\n",
              "    </g>\n",
              "</svg>\n",
              "      </button>\n",
              "\n",
              "<style>\n",
              "  .colab-df-quickchart {\n",
              "      --bg-color: #E8F0FE;\n",
              "      --fill-color: #1967D2;\n",
              "      --hover-bg-color: #E2EBFA;\n",
              "      --hover-fill-color: #174EA6;\n",
              "      --disabled-fill-color: #AAA;\n",
              "      --disabled-bg-color: #DDD;\n",
              "  }\n",
              "\n",
              "  [theme=dark] .colab-df-quickchart {\n",
              "      --bg-color: #3B4455;\n",
              "      --fill-color: #D2E3FC;\n",
              "      --hover-bg-color: #434B5C;\n",
              "      --hover-fill-color: #FFFFFF;\n",
              "      --disabled-bg-color: #3B4455;\n",
              "      --disabled-fill-color: #666;\n",
              "  }\n",
              "\n",
              "  .colab-df-quickchart {\n",
              "    background-color: var(--bg-color);\n",
              "    border: none;\n",
              "    border-radius: 50%;\n",
              "    cursor: pointer;\n",
              "    display: none;\n",
              "    fill: var(--fill-color);\n",
              "    height: 32px;\n",
              "    padding: 0;\n",
              "    width: 32px;\n",
              "  }\n",
              "\n",
              "  .colab-df-quickchart:hover {\n",
              "    background-color: var(--hover-bg-color);\n",
              "    box-shadow: 0 1px 2px rgba(60, 64, 67, 0.3), 0 1px 3px 1px rgba(60, 64, 67, 0.15);\n",
              "    fill: var(--button-hover-fill-color);\n",
              "  }\n",
              "\n",
              "  .colab-df-quickchart-complete:disabled,\n",
              "  .colab-df-quickchart-complete:disabled:hover {\n",
              "    background-color: var(--disabled-bg-color);\n",
              "    fill: var(--disabled-fill-color);\n",
              "    box-shadow: none;\n",
              "  }\n",
              "\n",
              "  .colab-df-spinner {\n",
              "    border: 2px solid var(--fill-color);\n",
              "    border-color: transparent;\n",
              "    border-bottom-color: var(--fill-color);\n",
              "    animation:\n",
              "      spin 1s steps(1) infinite;\n",
              "  }\n",
              "\n",
              "  @keyframes spin {\n",
              "    0% {\n",
              "      border-color: transparent;\n",
              "      border-bottom-color: var(--fill-color);\n",
              "      border-left-color: var(--fill-color);\n",
              "    }\n",
              "    20% {\n",
              "      border-color: transparent;\n",
              "      border-left-color: var(--fill-color);\n",
              "      border-top-color: var(--fill-color);\n",
              "    }\n",
              "    30% {\n",
              "      border-color: transparent;\n",
              "      border-left-color: var(--fill-color);\n",
              "      border-top-color: var(--fill-color);\n",
              "      border-right-color: var(--fill-color);\n",
              "    }\n",
              "    40% {\n",
              "      border-color: transparent;\n",
              "      border-right-color: var(--fill-color);\n",
              "      border-top-color: var(--fill-color);\n",
              "    }\n",
              "    60% {\n",
              "      border-color: transparent;\n",
              "      border-right-color: var(--fill-color);\n",
              "    }\n",
              "    80% {\n",
              "      border-color: transparent;\n",
              "      border-right-color: var(--fill-color);\n",
              "      border-bottom-color: var(--fill-color);\n",
              "    }\n",
              "    90% {\n",
              "      border-color: transparent;\n",
              "      border-bottom-color: var(--fill-color);\n",
              "    }\n",
              "  }\n",
              "</style>\n",
              "\n",
              "      <script>\n",
              "        async function quickchart(key) {\n",
              "          const quickchartButtonEl =\n",
              "            document.querySelector('#' + key + ' button');\n",
              "          quickchartButtonEl.disabled = true;  // To prevent multiple clicks.\n",
              "          quickchartButtonEl.classList.add('colab-df-spinner');\n",
              "          try {\n",
              "            const charts = await google.colab.kernel.invokeFunction(\n",
              "                'suggestCharts', [key], {});\n",
              "          } catch (error) {\n",
              "            console.error('Error during call to suggestCharts:', error);\n",
              "          }\n",
              "          quickchartButtonEl.classList.remove('colab-df-spinner');\n",
              "          quickchartButtonEl.classList.add('colab-df-quickchart-complete');\n",
              "        }\n",
              "        (() => {\n",
              "          let quickchartButtonEl =\n",
              "            document.querySelector('#df-55d51f6a-1030-41df-9786-187272b1e0aa button');\n",
              "          quickchartButtonEl.style.display =\n",
              "            google.colab.kernel.accessAllowed ? 'block' : 'none';\n",
              "        })();\n",
              "      </script>\n",
              "    </div>\n",
              "\n",
              "    </div>\n",
              "  </div>\n"
            ],
            "application/vnd.google.colaboratory.intrinsic+json": {
              "type": "dataframe",
              "summary": "{\n  \"name\": \"display(df_train\",\n  \"rows\": 2,\n  \"fields\": [\n    {\n      \"column\": \"text\",\n      \"properties\": {\n        \"dtype\": \"string\",\n        \"num_unique_values\": 2,\n        \"samples\": [\n          \"i feel like i was a rude ass hole at hookah\",\n          \"i have the emotions but have learned that to feel them to let myself become agitated or excited means that my heart and heat jumps the regulated limits of what can be sustained\"\n        ],\n        \"semantic_type\": \"\",\n        \"description\": \"\"\n      }\n    },\n    {\n      \"column\": \"emotions\",\n      \"properties\": {\n        \"dtype\": \"string\",\n        \"num_unique_values\": 2,\n        \"samples\": [\n          \"anger\",\n          \"fear\"\n        ],\n        \"semantic_type\": \"\",\n        \"description\": \"\"\n      }\n    }\n  ]\n}"
            }
          },
          "metadata": {}
        },
        {
          "output_type": "display_data",
          "data": {
            "text/plain": [
              "                                                    text emotions\n",
              "14853  i watched her tears fell i really feel so hear...  sadness\n",
              "8717   i feel like if i m too fake with lighting you ...  sadness"
            ],
            "text/html": [
              "\n",
              "  <div id=\"df-c14944c3-c913-40be-93b9-647a8ecc6719\" class=\"colab-df-container\">\n",
              "    <div>\n",
              "<style scoped>\n",
              "    .dataframe tbody tr th:only-of-type {\n",
              "        vertical-align: middle;\n",
              "    }\n",
              "\n",
              "    .dataframe tbody tr th {\n",
              "        vertical-align: top;\n",
              "    }\n",
              "\n",
              "    .dataframe thead th {\n",
              "        text-align: right;\n",
              "    }\n",
              "</style>\n",
              "<table border=\"1\" class=\"dataframe\">\n",
              "  <thead>\n",
              "    <tr style=\"text-align: right;\">\n",
              "      <th></th>\n",
              "      <th>text</th>\n",
              "      <th>emotions</th>\n",
              "    </tr>\n",
              "  </thead>\n",
              "  <tbody>\n",
              "    <tr>\n",
              "      <th>14853</th>\n",
              "      <td>i watched her tears fell i really feel so hear...</td>\n",
              "      <td>sadness</td>\n",
              "    </tr>\n",
              "    <tr>\n",
              "      <th>8717</th>\n",
              "      <td>i feel like if i m too fake with lighting you ...</td>\n",
              "      <td>sadness</td>\n",
              "    </tr>\n",
              "  </tbody>\n",
              "</table>\n",
              "</div>\n",
              "    <div class=\"colab-df-buttons\">\n",
              "\n",
              "  <div class=\"colab-df-container\">\n",
              "    <button class=\"colab-df-convert\" onclick=\"convertToInteractive('df-c14944c3-c913-40be-93b9-647a8ecc6719')\"\n",
              "            title=\"Convert this dataframe to an interactive table.\"\n",
              "            style=\"display:none;\">\n",
              "\n",
              "  <svg xmlns=\"http://www.w3.org/2000/svg\" height=\"24px\" viewBox=\"0 -960 960 960\">\n",
              "    <path d=\"M120-120v-720h720v720H120Zm60-500h600v-160H180v160Zm220 220h160v-160H400v160Zm0 220h160v-160H400v160ZM180-400h160v-160H180v160Zm440 0h160v-160H620v160ZM180-180h160v-160H180v160Zm440 0h160v-160H620v160Z\"/>\n",
              "  </svg>\n",
              "    </button>\n",
              "\n",
              "  <style>\n",
              "    .colab-df-container {\n",
              "      display:flex;\n",
              "      gap: 12px;\n",
              "    }\n",
              "\n",
              "    .colab-df-convert {\n",
              "      background-color: #E8F0FE;\n",
              "      border: none;\n",
              "      border-radius: 50%;\n",
              "      cursor: pointer;\n",
              "      display: none;\n",
              "      fill: #1967D2;\n",
              "      height: 32px;\n",
              "      padding: 0 0 0 0;\n",
              "      width: 32px;\n",
              "    }\n",
              "\n",
              "    .colab-df-convert:hover {\n",
              "      background-color: #E2EBFA;\n",
              "      box-shadow: 0px 1px 2px rgba(60, 64, 67, 0.3), 0px 1px 3px 1px rgba(60, 64, 67, 0.15);\n",
              "      fill: #174EA6;\n",
              "    }\n",
              "\n",
              "    .colab-df-buttons div {\n",
              "      margin-bottom: 4px;\n",
              "    }\n",
              "\n",
              "    [theme=dark] .colab-df-convert {\n",
              "      background-color: #3B4455;\n",
              "      fill: #D2E3FC;\n",
              "    }\n",
              "\n",
              "    [theme=dark] .colab-df-convert:hover {\n",
              "      background-color: #434B5C;\n",
              "      box-shadow: 0px 1px 3px 1px rgba(0, 0, 0, 0.15);\n",
              "      filter: drop-shadow(0px 1px 2px rgba(0, 0, 0, 0.3));\n",
              "      fill: #FFFFFF;\n",
              "    }\n",
              "  </style>\n",
              "\n",
              "    <script>\n",
              "      const buttonEl =\n",
              "        document.querySelector('#df-c14944c3-c913-40be-93b9-647a8ecc6719 button.colab-df-convert');\n",
              "      buttonEl.style.display =\n",
              "        google.colab.kernel.accessAllowed ? 'block' : 'none';\n",
              "\n",
              "      async function convertToInteractive(key) {\n",
              "        const element = document.querySelector('#df-c14944c3-c913-40be-93b9-647a8ecc6719');\n",
              "        const dataTable =\n",
              "          await google.colab.kernel.invokeFunction('convertToInteractive',\n",
              "                                                    [key], {});\n",
              "        if (!dataTable) return;\n",
              "\n",
              "        const docLinkHtml = 'Like what you see? Visit the ' +\n",
              "          '<a target=\"_blank\" href=https://colab.research.google.com/notebooks/data_table.ipynb>data table notebook</a>'\n",
              "          + ' to learn more about interactive tables.';\n",
              "        element.innerHTML = '';\n",
              "        dataTable['output_type'] = 'display_data';\n",
              "        await google.colab.output.renderOutput(dataTable, element);\n",
              "        const docLink = document.createElement('div');\n",
              "        docLink.innerHTML = docLinkHtml;\n",
              "        element.appendChild(docLink);\n",
              "      }\n",
              "    </script>\n",
              "  </div>\n",
              "\n",
              "\n",
              "    <div id=\"df-5ab5eaf2-67e3-4741-9ea1-39528d3b4ff4\">\n",
              "      <button class=\"colab-df-quickchart\" onclick=\"quickchart('df-5ab5eaf2-67e3-4741-9ea1-39528d3b4ff4')\"\n",
              "                title=\"Suggest charts\"\n",
              "                style=\"display:none;\">\n",
              "\n",
              "<svg xmlns=\"http://www.w3.org/2000/svg\" height=\"24px\"viewBox=\"0 0 24 24\"\n",
              "     width=\"24px\">\n",
              "    <g>\n",
              "        <path d=\"M19 3H5c-1.1 0-2 .9-2 2v14c0 1.1.9 2 2 2h14c1.1 0 2-.9 2-2V5c0-1.1-.9-2-2-2zM9 17H7v-7h2v7zm4 0h-2V7h2v10zm4 0h-2v-4h2v4z\"/>\n",
              "    </g>\n",
              "</svg>\n",
              "      </button>\n",
              "\n",
              "<style>\n",
              "  .colab-df-quickchart {\n",
              "      --bg-color: #E8F0FE;\n",
              "      --fill-color: #1967D2;\n",
              "      --hover-bg-color: #E2EBFA;\n",
              "      --hover-fill-color: #174EA6;\n",
              "      --disabled-fill-color: #AAA;\n",
              "      --disabled-bg-color: #DDD;\n",
              "  }\n",
              "\n",
              "  [theme=dark] .colab-df-quickchart {\n",
              "      --bg-color: #3B4455;\n",
              "      --fill-color: #D2E3FC;\n",
              "      --hover-bg-color: #434B5C;\n",
              "      --hover-fill-color: #FFFFFF;\n",
              "      --disabled-bg-color: #3B4455;\n",
              "      --disabled-fill-color: #666;\n",
              "  }\n",
              "\n",
              "  .colab-df-quickchart {\n",
              "    background-color: var(--bg-color);\n",
              "    border: none;\n",
              "    border-radius: 50%;\n",
              "    cursor: pointer;\n",
              "    display: none;\n",
              "    fill: var(--fill-color);\n",
              "    height: 32px;\n",
              "    padding: 0;\n",
              "    width: 32px;\n",
              "  }\n",
              "\n",
              "  .colab-df-quickchart:hover {\n",
              "    background-color: var(--hover-bg-color);\n",
              "    box-shadow: 0 1px 2px rgba(60, 64, 67, 0.3), 0 1px 3px 1px rgba(60, 64, 67, 0.15);\n",
              "    fill: var(--button-hover-fill-color);\n",
              "  }\n",
              "\n",
              "  .colab-df-quickchart-complete:disabled,\n",
              "  .colab-df-quickchart-complete:disabled:hover {\n",
              "    background-color: var(--disabled-bg-color);\n",
              "    fill: var(--disabled-fill-color);\n",
              "    box-shadow: none;\n",
              "  }\n",
              "\n",
              "  .colab-df-spinner {\n",
              "    border: 2px solid var(--fill-color);\n",
              "    border-color: transparent;\n",
              "    border-bottom-color: var(--fill-color);\n",
              "    animation:\n",
              "      spin 1s steps(1) infinite;\n",
              "  }\n",
              "\n",
              "  @keyframes spin {\n",
              "    0% {\n",
              "      border-color: transparent;\n",
              "      border-bottom-color: var(--fill-color);\n",
              "      border-left-color: var(--fill-color);\n",
              "    }\n",
              "    20% {\n",
              "      border-color: transparent;\n",
              "      border-left-color: var(--fill-color);\n",
              "      border-top-color: var(--fill-color);\n",
              "    }\n",
              "    30% {\n",
              "      border-color: transparent;\n",
              "      border-left-color: var(--fill-color);\n",
              "      border-top-color: var(--fill-color);\n",
              "      border-right-color: var(--fill-color);\n",
              "    }\n",
              "    40% {\n",
              "      border-color: transparent;\n",
              "      border-right-color: var(--fill-color);\n",
              "      border-top-color: var(--fill-color);\n",
              "    }\n",
              "    60% {\n",
              "      border-color: transparent;\n",
              "      border-right-color: var(--fill-color);\n",
              "    }\n",
              "    80% {\n",
              "      border-color: transparent;\n",
              "      border-right-color: var(--fill-color);\n",
              "      border-bottom-color: var(--fill-color);\n",
              "    }\n",
              "    90% {\n",
              "      border-color: transparent;\n",
              "      border-bottom-color: var(--fill-color);\n",
              "    }\n",
              "  }\n",
              "</style>\n",
              "\n",
              "      <script>\n",
              "        async function quickchart(key) {\n",
              "          const quickchartButtonEl =\n",
              "            document.querySelector('#' + key + ' button');\n",
              "          quickchartButtonEl.disabled = true;  // To prevent multiple clicks.\n",
              "          quickchartButtonEl.classList.add('colab-df-spinner');\n",
              "          try {\n",
              "            const charts = await google.colab.kernel.invokeFunction(\n",
              "                'suggestCharts', [key], {});\n",
              "          } catch (error) {\n",
              "            console.error('Error during call to suggestCharts:', error);\n",
              "          }\n",
              "          quickchartButtonEl.classList.remove('colab-df-spinner');\n",
              "          quickchartButtonEl.classList.add('colab-df-quickchart-complete');\n",
              "        }\n",
              "        (() => {\n",
              "          let quickchartButtonEl =\n",
              "            document.querySelector('#df-5ab5eaf2-67e3-4741-9ea1-39528d3b4ff4 button');\n",
              "          quickchartButtonEl.style.display =\n",
              "            google.colab.kernel.accessAllowed ? 'block' : 'none';\n",
              "        })();\n",
              "      </script>\n",
              "    </div>\n",
              "\n",
              "    </div>\n",
              "  </div>\n"
            ],
            "application/vnd.google.colaboratory.intrinsic+json": {
              "type": "dataframe",
              "summary": "{\n  \"name\": \"display(df_train\",\n  \"rows\": 2,\n  \"fields\": [\n    {\n      \"column\": \"text\",\n      \"properties\": {\n        \"dtype\": \"string\",\n        \"num_unique_values\": 2,\n        \"samples\": [\n          \"i feel like if i m too fake with lighting you ll be taken away and not immersed in the story\",\n          \"i watched her tears fell i really feel so heartbroken\"\n        ],\n        \"semantic_type\": \"\",\n        \"description\": \"\"\n      }\n    },\n    {\n      \"column\": \"emotions\",\n      \"properties\": {\n        \"dtype\": \"string\",\n        \"num_unique_values\": 1,\n        \"samples\": [\n          \"sadness\"\n        ],\n        \"semantic_type\": \"\",\n        \"description\": \"\"\n      }\n    }\n  ]\n}"
            }
          },
          "metadata": {}
        }
      ],
      "execution_count": 4
    },
    {
      "cell_type": "code",
      "source": [
        "print(f\"The shape of train data is {df_train.shape}\")\n",
        "print(f\"The shape of test data is {df_test.shape}\")\n",
        "print(f\"The shape of val data is {df_val.shape}\")"
      ],
      "metadata": {
        "trusted": true,
        "execution": {
          "iopub.status.busy": "2025-05-14T09:18:52.454685Z",
          "iopub.execute_input": "2025-05-14T09:18:52.455219Z",
          "iopub.status.idle": "2025-05-14T09:18:52.459343Z",
          "shell.execute_reply.started": "2025-05-14T09:18:52.455198Z",
          "shell.execute_reply": "2025-05-14T09:18:52.458564Z"
        },
        "colab": {
          "base_uri": "https://localhost:8080/"
        },
        "id": "iOf99pX15srv",
        "outputId": "f8d97147-5043-4c7b-83a1-8ad86df6aeea"
      },
      "outputs": [
        {
          "output_type": "stream",
          "name": "stdout",
          "text": [
            "The shape of train data is (16000, 2)\n",
            "The shape of test data is (2000, 2)\n",
            "The shape of val data is (2000, 2)\n"
          ]
        }
      ],
      "execution_count": 5
    },
    {
      "cell_type": "markdown",
      "source": [
        "## Exploratory Data Analysis"
      ],
      "metadata": {
        "id": "bgcTixY55srv"
      }
    },
    {
      "cell_type": "code",
      "source": [
        "def class_count(df):\n",
        "  emotions=df[\"emotions\"].value_counts()\n",
        "  print(emotions)\n",
        "\n",
        "  plt.figure(figsize=(10,5))\n",
        "  sns.barplot(x=emotions.index,y=emotions.values,palette=\"rocket\")\n",
        "  plt.title(\"Emotions Count\")\n",
        "  plt.show()\n"
      ],
      "metadata": {
        "trusted": true,
        "execution": {
          "iopub.status.busy": "2025-05-14T09:18:54.999391Z",
          "iopub.execute_input": "2025-05-14T09:18:54.999686Z",
          "iopub.status.idle": "2025-05-14T09:18:55.003990Z",
          "shell.execute_reply.started": "2025-05-14T09:18:54.999666Z",
          "shell.execute_reply": "2025-05-14T09:18:55.003411Z"
        },
        "id": "ykqW2yrZ5srv"
      },
      "outputs": [],
      "execution_count": 6
    },
    {
      "cell_type": "code",
      "source": [
        "class_count(df_train)"
      ],
      "metadata": {
        "trusted": true,
        "execution": {
          "iopub.status.busy": "2025-05-14T09:18:55.840594Z",
          "iopub.execute_input": "2025-05-14T09:18:55.841212Z",
          "iopub.status.idle": "2025-05-14T09:18:55.984717Z",
          "shell.execute_reply.started": "2025-05-14T09:18:55.841187Z",
          "shell.execute_reply": "2025-05-14T09:18:55.983958Z"
        },
        "colab": {
          "base_uri": "https://localhost:8080/",
          "height": 531
        },
        "id": "uP0_v3Yv5srw",
        "outputId": "16fbfddd-cef9-4273-ee91-471b88616e36"
      },
      "outputs": [
        {
          "output_type": "stream",
          "name": "stdout",
          "text": [
            "emotions\n",
            "joy         5362\n",
            "sadness     4666\n",
            "anger       2159\n",
            "fear        1937\n",
            "love        1304\n",
            "surprise     572\n",
            "Name: count, dtype: int64\n"
          ]
        },
        {
          "output_type": "display_data",
          "data": {
            "text/plain": [
              "<Figure size 1000x500 with 1 Axes>"
            ],
            "image/png": "[encoded data removed]"
          },
          "metadata": {}
        }
      ],
      "execution_count": 7
    },
    {
      "cell_type": "code",
      "source": [
        "class_count(df_test)"
      ],
      "metadata": {
        "trusted": true,
        "execution": {
          "iopub.status.busy": "2025-05-14T09:18:58.325438Z",
          "iopub.execute_input": "2025-05-14T09:18:58.326139Z",
          "iopub.status.idle": "2025-05-14T09:18:58.473465Z",
          "shell.execute_reply.started": "2025-05-14T09:18:58.326114Z",
          "shell.execute_reply": "2025-05-14T09:18:58.472883Z"
        },
        "colab": {
          "base_uri": "https://localhost:8080/",
          "height": 534
        },
        "id": "TVYvf-8j5srw",
        "outputId": "4fbb3dc2-b6bf-4c2a-bae0-f3728ff05214"
      },
      "outputs": [
        {
          "output_type": "stream",
          "name": "stdout",
          "text": [
            "emotions\n",
            "joy         695\n",
            "sadness     581\n",
            "anger       275\n",
            "fear        224\n",
            "love        159\n",
            "surprise     66\n",
            "Name: count, dtype: int64\n"
          ]
        },
        {
          "output_type": "display_data",
          "data": {
            "text/plain": [
              "<Figure size 1000x500 with 1 Axes>"
            ],
            "image/png": "[encoded data removed]"
          },
          "metadata": {}
        }
      ],
      "execution_count": 8
    },
    {
      "cell_type": "code",
      "source": [
        "class_count(df_val)"
      ],
      "metadata": {
        "trusted": true,
        "execution": {
          "iopub.status.busy": "2025-05-14T09:18:59.157802Z",
          "iopub.execute_input": "2025-05-14T09:18:59.158507Z",
          "iopub.status.idle": "2025-05-14T09:18:59.304806Z",
          "shell.execute_reply.started": "2025-05-14T09:18:59.158473Z",
          "shell.execute_reply": "2025-05-14T09:18:59.304200Z"
        },
        "colab": {
          "base_uri": "https://localhost:8080/",
          "height": 534
        },
        "id": "VNO84U9Q5srw",
        "outputId": "12c61f3a-ad64-42ff-8fd9-5f0d275d06cd"
      },
      "outputs": [
        {
          "output_type": "stream",
          "name": "stdout",
          "text": [
            "emotions\n",
            "joy         704\n",
            "sadness     550\n",
            "anger       275\n",
            "fear        212\n",
            "love        178\n",
            "surprise     81\n",
            "Name: count, dtype: int64\n"
          ]
        },
        {
          "output_type": "display_data",
          "data": {
            "text/plain": [
              "<Figure size 1000x500 with 1 Axes>"
            ],
            "image/png": "[encoded data removed]"
          },
          "metadata": {}
        }
      ],
      "execution_count": 9
    },
    {
      "cell_type": "code",
      "source": [
        "text_count = 0\n",
        "for text in df_train['text']:\n",
        "    if len(text.split())<60:\n",
        "        text_count += 1\n",
        "print(text_count/len(df_train['text']))"
      ],
      "metadata": {
        "trusted": true,
        "execution": {
          "iopub.status.busy": "2025-05-14T09:19:01.194023Z",
          "iopub.execute_input": "2025-05-14T09:19:01.194622Z",
          "iopub.status.idle": "2025-05-14T09:19:01.218318Z",
          "shell.execute_reply.started": "2025-05-14T09:19:01.194598Z",
          "shell.execute_reply": "2025-05-14T09:19:01.217772Z"
        },
        "colab": {
          "base_uri": "https://localhost:8080/"
        },
        "id": "N0gABVlE5srw",
        "outputId": "048f946d-56a5-4eb1-e8a6-469329b167ea"
      },
      "outputs": [
        {
          "output_type": "stream",
          "name": "stdout",
          "text": [
            "0.998875\n"
          ]
        }
      ],
      "execution_count": 10
    },
    {
      "cell_type": "code",
      "source": [
        "text_word_count = []\n",
        "\n",
        "# get number of words in text and summary\n",
        "\n",
        "for i in df_train['text']:\n",
        "    text_word_count.append(len(i.split()))\n",
        "\n",
        "length = pd.DataFrame()\n",
        "length['text'] = pd.Series(text_word_count)\n",
        "\n",
        "length.hist()\n",
        "plt.show()"
      ],
      "metadata": {
        "trusted": true,
        "execution": {
          "iopub.status.busy": "2025-05-14T09:19:01.928584Z",
          "iopub.execute_input": "2025-05-14T09:19:01.929333Z",
          "iopub.status.idle": "2025-05-14T09:19:02.101458Z",
          "shell.execute_reply.started": "2025-05-14T09:19:01.929313Z",
          "shell.execute_reply": "2025-05-14T09:19:02.100760Z"
        },
        "colab": {
          "base_uri": "https://localhost:8080/",
          "height": 452
        },
        "id": "2JwmmgZ95srx",
        "outputId": "aebb67de-9162-4ab6-b678-f4440018862b"
      },
      "outputs": [
        {
          "output_type": "display_data",
          "data": {
            "text/plain": [
              "<Figure size 640x480 with 1 Axes>"
            ],
            "image/png": "[encoded data removed]"
          },
          "metadata": {}
        }
      ],
      "execution_count": 11
    },
    {
      "cell_type": "code",
      "source": [
        "max_sentence_length=60\n",
        "output_length=20 #generated sentence length"
      ],
      "metadata": {
        "trusted": true,
        "execution": {
          "iopub.status.busy": "2025-05-14T09:19:04.547831Z",
          "iopub.execute_input": "2025-05-14T09:19:04.548573Z",
          "iopub.status.idle": "2025-05-14T09:19:04.551747Z",
          "shell.execute_reply.started": "2025-05-14T09:19:04.548519Z",
          "shell.execute_reply": "2025-05-14T09:19:04.551034Z"
        },
        "id": "w9wcUT0q5srx"
      },
      "outputs": [],
      "execution_count": 12
    },
    {
      "cell_type": "markdown",
      "source": [
        "## Combine training, validation, and test sets for text generation\n",
        "We merge all splits into a single DataFrame to collect all available labeled emotion texts. This allows us to analyze class distributions and preprocess the data more easily, rather than handling each dataset separately."
      ],
      "metadata": {
        "id": "35BW-XWX5srx"
      }
    },
    {
      "cell_type": "code",
      "source": [
        "df = pd.concat([df_train, df_val, df_test], ignore_index=True)\n",
        "display(df.head())\n",
        "print(df.shape)"
      ],
      "metadata": {
        "trusted": true,
        "execution": {
          "iopub.status.busy": "2025-05-14T09:19:06.439509Z",
          "iopub.execute_input": "2025-05-14T09:19:06.440096Z",
          "iopub.status.idle": "2025-05-14T09:19:06.448752Z",
          "shell.execute_reply.started": "2025-05-14T09:19:06.440073Z",
          "shell.execute_reply": "2025-05-14T09:19:06.448059Z"
        },
        "colab": {
          "base_uri": "https://localhost:8080/",
          "height": 223
        },
        "id": "am5Ssf945srx",
        "outputId": "825dfe57-1d81-4f0e-8dbc-ad32379101d9"
      },
      "outputs": [
        {
          "output_type": "display_data",
          "data": {
            "text/plain": [
              "                                                text emotions\n",
              "0                            i didnt feel humiliated  sadness\n",
              "1  i can go from feeling so hopeless to so damned...  sadness\n",
              "2   im grabbing a minute to post i feel greedy wrong    anger\n",
              "3  i am ever feeling nostalgic about the fireplac...     love\n",
              "4                               i am feeling grouchy    anger"
            ],
            "text/html": [
              "\n",
              "  <div id=\"df-987d5527-9892-4104-9a13-5db9e673ce90\" class=\"colab-df-container\">\n",
              "    <div>\n",
              "<style scoped>\n",
              "    .dataframe tbody tr th:only-of-type {\n",
              "        vertical-align: middle;\n",
              "    }\n",
              "\n",
              "    .dataframe tbody tr th {\n",
              "        vertical-align: top;\n",
              "    }\n",
              "\n",
              "    .dataframe thead th {\n",
              "        text-align: right;\n",
              "    }\n",
              "</style>\n",
              "<table border=\"1\" class=\"dataframe\">\n",
              "  <thead>\n",
              "    <tr style=\"text-align: right;\">\n",
              "      <th></th>\n",
              "      <th>text</th>\n",
              "      <th>emotions</th>\n",
              "    </tr>\n",
              "  </thead>\n",
              "  <tbody>\n",
              "    <tr>\n",
              "      <th>0</th>\n",
              "      <td>i didnt feel humiliated</td>\n",
              "      <td>sadness</td>\n",
              "    </tr>\n",
              "    <tr>\n",
              "      <th>1</th>\n",
              "      <td>i can go from feeling so hopeless to so damned...</td>\n",
              "      <td>sadness</td>\n",
              "    </tr>\n",
              "    <tr>\n",
              "      <th>2</th>\n",
              "      <td>im grabbing a minute to post i feel greedy wrong</td>\n",
              "      <td>anger</td>\n",
              "    </tr>\n",
              "    <tr>\n",
              "      <th>3</th>\n",
              "      <td>i am ever feeling nostalgic about the fireplac...</td>\n",
              "      <td>love</td>\n",
              "    </tr>\n",
              "    <tr>\n",
              "      <th>4</th>\n",
              "      <td>i am feeling grouchy</td>\n",
              "      <td>anger</td>\n",
              "    </tr>\n",
              "  </tbody>\n",
              "</table>\n",
              "</div>\n",
              "    <div class=\"colab-df-buttons\">\n",
              "\n",
              "  <div class=\"colab-df-container\">\n",
              "    <button class=\"colab-df-convert\" onclick=\"convertToInteractive('df-987d5527-9892-4104-9a13-5db9e673ce90')\"\n",
              "            title=\"Convert this dataframe to an interactive table.\"\n",
              "            style=\"display:none;\">\n",
              "\n",
              "  <svg xmlns=\"http://www.w3.org/2000/svg\" height=\"24px\" viewBox=\"0 -960 960 960\">\n",
              "    <path d=\"M120-120v-720h720v720H120Zm60-500h600v-160H180v160Zm220 220h160v-160H400v160Zm0 220h160v-160H400v160ZM180-400h160v-160H180v160Zm440 0h160v-160H620v160ZM180-180h160v-160H180v160Zm440 0h160v-160H620v160Z\"/>\n",
              "  </svg>\n",
              "    </button>\n",
              "\n",
              "  <style>\n",
              "    .colab-df-container {\n",
              "      display:flex;\n",
              "      gap: 12px;\n",
              "    }\n",
              "\n",
              "    .colab-df-convert {\n",
              "      background-color: #E8F0FE;\n",
              "      border: none;\n",
              "      border-radius: 50%;\n",
              "      cursor: pointer;\n",
              "      display: none;\n",
              "      fill: #1967D2;\n",
              "      height: 32px;\n",
              "      padding: 0 0 0 0;\n",
              "      width: 32px;\n",
              "    }\n",
              "\n",
              "    .colab-df-convert:hover {\n",
              "      background-color: #E2EBFA;\n",
              "      box-shadow: 0px 1px 2px rgba(60, 64, 67, 0.3), 0px 1px 3px 1px rgba(60, 64, 67, 0.15);\n",
              "      fill: #174EA6;\n",
              "    }\n",
              "\n",
              "    .colab-df-buttons div {\n",
              "      margin-bottom: 4px;\n",
              "    }\n",
              "\n",
              "    [theme=dark] .colab-df-convert {\n",
              "      background-color: #3B4455;\n",
              "      fill: #D2E3FC;\n",
              "    }\n",
              "\n",
              "    [theme=dark] .colab-df-convert:hover {\n",
              "      background-color: #434B5C;\n",
              "      box-shadow: 0px 1px 3px 1px rgba(0, 0, 0, 0.15);\n",
              "      filter: drop-shadow(0px 1px 2px rgba(0, 0, 0, 0.3));\n",
              "      fill: #FFFFFF;\n",
              "    }\n",
              "  </style>\n",
              "\n",
              "    <script>\n",
              "      const buttonEl =\n",
              "        document.querySelector('#df-987d5527-9892-4104-9a13-5db9e673ce90 button.colab-df-convert');\n",
              "      buttonEl.style.display =\n",
              "        google.colab.kernel.accessAllowed ? 'block' : 'none';\n",
              "\n",
              "      async function convertToInteractive(key) {\n",
              "        const element = document.querySelector('#df-987d5527-9892-4104-9a13-5db9e673ce90');\n",
              "        const dataTable =\n",
              "          await google.colab.kernel.invokeFunction('convertToInteractive',\n",
              "                                                    [key], {});\n",
              "        if (!dataTable) return;\n",
              "\n",
              "        const docLinkHtml = 'Like what you see? Visit the ' +\n",
              "          '<a target=\"_blank\" href=https://colab.research.google.com/notebooks/data_table.ipynb>data table notebook</a>'\n",
              "          + ' to learn more about interactive tables.';\n",
              "        element.innerHTML = '';\n",
              "        dataTable['output_type'] = 'display_data';\n",
              "        await google.colab.output.renderOutput(dataTable, element);\n",
              "        const docLink = document.createElement('div');\n",
              "        docLink.innerHTML = docLinkHtml;\n",
              "        element.appendChild(docLink);\n",
              "      }\n",
              "    </script>\n",
              "  </div>\n",
              "\n",
              "\n",
              "    <div id=\"df-af919c18-9552-47e7-a888-93910121897b\">\n",
              "      <button class=\"colab-df-quickchart\" onclick=\"quickchart('df-af919c18-9552-47e7-a888-93910121897b')\"\n",
              "                title=\"Suggest charts\"\n",
              "                style=\"display:none;\">\n",
              "\n",
              "<svg xmlns=\"http://www.w3.org/2000/svg\" height=\"24px\"viewBox=\"0 0 24 24\"\n",
              "     width=\"24px\">\n",
              "    <g>\n",
              "        <path d=\"M19 3H5c-1.1 0-2 .9-2 2v14c0 1.1.9 2 2 2h14c1.1 0 2-.9 2-2V5c0-1.1-.9-2-2-2zM9 17H7v-7h2v7zm4 0h-2V7h2v10zm4 0h-2v-4h2v4z\"/>\n",
              "    </g>\n",
              "</svg>\n",
              "      </button>\n",
              "\n",
              "<style>\n",
              "  .colab-df-quickchart {\n",
              "      --bg-color: #E8F0FE;\n",
              "      --fill-color: #1967D2;\n",
              "      --hover-bg-color: #E2EBFA;\n",
              "      --hover-fill-color: #174EA6;\n",
              "      --disabled-fill-color: #AAA;\n",
              "      --disabled-bg-color: #DDD;\n",
              "  }\n",
              "\n",
              "  [theme=dark] .colab-df-quickchart {\n",
              "      --bg-color: #3B4455;\n",
              "      --fill-color: #D2E3FC;\n",
              "      --hover-bg-color: #434B5C;\n",
              "      --hover-fill-color: #FFFFFF;\n",
              "      --disabled-bg-color: #3B4455;\n",
              "      --disabled-fill-color: #666;\n",
              "  }\n",
              "\n",
              "  .colab-df-quickchart {\n",
              "    background-color: var(--bg-color);\n",
              "    border: none;\n",
              "    border-radius: 50%;\n",
              "    cursor: pointer;\n",
              "    display: none;\n",
              "    fill: var(--fill-color);\n",
              "    height: 32px;\n",
              "    padding: 0;\n",
              "    width: 32px;\n",
              "  }\n",
              "\n",
              "  .colab-df-quickchart:hover {\n",
              "    background-color: var(--hover-bg-color);\n",
              "    box-shadow: 0 1px 2px rgba(60, 64, 67, 0.3), 0 1px 3px 1px rgba(60, 64, 67, 0.15);\n",
              "    fill: var(--button-hover-fill-color);\n",
              "  }\n",
              "\n",
              "  .colab-df-quickchart-complete:disabled,\n",
              "  .colab-df-quickchart-complete:disabled:hover {\n",
              "    background-color: var(--disabled-bg-color);\n",
              "    fill: var(--disabled-fill-color);\n",
              "    box-shadow: none;\n",
              "  }\n",
              "\n",
              "  .colab-df-spinner {\n",
              "    border: 2px solid var(--fill-color);\n",
              "    border-color: transparent;\n",
              "    border-bottom-color: var(--fill-color);\n",
              "    animation:\n",
              "      spin 1s steps(1) infinite;\n",
              "  }\n",
              "\n",
              "  @keyframes spin {\n",
              "    0% {\n",
              "      border-color: transparent;\n",
              "      border-bottom-color: var(--fill-color);\n",
              "      border-left-color: var(--fill-color);\n",
              "    }\n",
              "    20% {\n",
              "      border-color: transparent;\n",
              "      border-left-color: var(--fill-color);\n",
              "      border-top-color: var(--fill-color);\n",
              "    }\n",
              "    30% {\n",
              "      border-color: transparent;\n",
              "      border-left-color: var(--fill-color);\n",
              "      border-top-color: var(--fill-color);\n",
              "      border-right-color: var(--fill-color);\n",
              "    }\n",
              "    40% {\n",
              "      border-color: transparent;\n",
              "      border-right-color: var(--fill-color);\n",
              "      border-top-color: var(--fill-color);\n",
              "    }\n",
              "    60% {\n",
              "      border-color: transparent;\n",
              "      border-right-color: var(--fill-color);\n",
              "    }\n",
              "    80% {\n",
              "      border-color: transparent;\n",
              "      border-right-color: var(--fill-color);\n",
              "      border-bottom-color: var(--fill-color);\n",
              "    }\n",
              "    90% {\n",
              "      border-color: transparent;\n",
              "      border-bottom-color: var(--fill-color);\n",
              "    }\n",
              "  }\n",
              "</style>\n",
              "\n",
              "      <script>\n",
              "        async function quickchart(key) {\n",
              "          const quickchartButtonEl =\n",
              "            document.querySelector('#' + key + ' button');\n",
              "          quickchartButtonEl.disabled = true;  // To prevent multiple clicks.\n",
              "          quickchartButtonEl.classList.add('colab-df-spinner');\n",
              "          try {\n",
              "            const charts = await google.colab.kernel.invokeFunction(\n",
              "                'suggestCharts', [key], {});\n",
              "          } catch (error) {\n",
              "            console.error('Error during call to suggestCharts:', error);\n",
              "          }\n",
              "          quickchartButtonEl.classList.remove('colab-df-spinner');\n",
              "          quickchartButtonEl.classList.add('colab-df-quickchart-complete');\n",
              "        }\n",
              "        (() => {\n",
              "          let quickchartButtonEl =\n",
              "            document.querySelector('#df-af919c18-9552-47e7-a888-93910121897b button');\n",
              "          quickchartButtonEl.style.display =\n",
              "            google.colab.kernel.accessAllowed ? 'block' : 'none';\n",
              "        })();\n",
              "      </script>\n",
              "    </div>\n",
              "\n",
              "    </div>\n",
              "  </div>\n"
            ],
            "application/vnd.google.colaboratory.intrinsic+json": {
              "type": "dataframe",
              "summary": "{\n  \"name\": \"print(df\",\n  \"rows\": 5,\n  \"fields\": [\n    {\n      \"column\": \"text\",\n      \"properties\": {\n        \"dtype\": \"string\",\n        \"num_unique_values\": 5,\n        \"samples\": [\n          \"i can go from feeling so hopeless to so damned hopeful just from being around someone who cares and is awake\",\n          \"i am feeling grouchy\",\n          \"im grabbing a minute to post i feel greedy wrong\"\n        ],\n        \"semantic_type\": \"\",\n        \"description\": \"\"\n      }\n    },\n    {\n      \"column\": \"emotions\",\n      \"properties\": {\n        \"dtype\": \"string\",\n        \"num_unique_values\": 3,\n        \"samples\": [\n          \"sadness\",\n          \"anger\",\n          \"love\"\n        ],\n        \"semantic_type\": \"\",\n        \"description\": \"\"\n      }\n    }\n  ]\n}"
            }
          },
          "metadata": {}
        },
        {
          "output_type": "stream",
          "name": "stdout",
          "text": [
            "(20000, 2)\n"
          ]
        }
      ],
      "execution_count": 13
    },
    {
      "cell_type": "code",
      "source": [
        "df['emotions'].value_counts()"
      ],
      "metadata": {
        "trusted": true,
        "execution": {
          "iopub.status.busy": "2025-05-14T09:19:08.585926Z",
          "iopub.execute_input": "2025-05-14T09:19:08.586503Z",
          "iopub.status.idle": "2025-05-14T09:19:08.593237Z",
          "shell.execute_reply.started": "2025-05-14T09:19:08.586479Z",
          "shell.execute_reply": "2025-05-14T09:19:08.592708Z"
        },
        "colab": {
          "base_uri": "https://localhost:8080/",
          "height": 303
        },
        "id": "xEZPVcIb5srx",
        "outputId": "1d0994ad-47c4-48cf-f29c-79f2d337ca23"
      },
      "outputs": [
        {
          "output_type": "execute_result",
          "data": {
            "text/plain": [
              "emotions\n",
              "joy         6761\n",
              "sadness     5797\n",
              "anger       2709\n",
              "fear        2373\n",
              "love        1641\n",
              "surprise     719\n",
              "Name: count, dtype: int64"
            ],
            "text/html": [
              "<div>\n",
              "<style scoped>\n",
              "    .dataframe tbody tr th:only-of-type {\n",
              "        vertical-align: middle;\n",
              "    }\n",
              "\n",
              "    .dataframe tbody tr th {\n",
              "        vertical-align: top;\n",
              "    }\n",
              "\n",
              "    .dataframe thead th {\n",
              "        text-align: right;\n",
              "    }\n",
              "</style>\n",
              "<table border=\"1\" class=\"dataframe\">\n",
              "  <thead>\n",
              "    <tr style=\"text-align: right;\">\n",
              "      <th></th>\n",
              "      <th>count</th>\n",
              "    </tr>\n",
              "    <tr>\n",
              "      <th>emotions</th>\n",
              "      <th></th>\n",
              "    </tr>\n",
              "  </thead>\n",
              "  <tbody>\n",
              "    <tr>\n",
              "      <th>joy</th>\n",
              "      <td>6761</td>\n",
              "    </tr>\n",
              "    <tr>\n",
              "      <th>sadness</th>\n",
              "      <td>5797</td>\n",
              "    </tr>\n",
              "    <tr>\n",
              "      <th>anger</th>\n",
              "      <td>2709</td>\n",
              "    </tr>\n",
              "    <tr>\n",
              "      <th>fear</th>\n",
              "      <td>2373</td>\n",
              "    </tr>\n",
              "    <tr>\n",
              "      <th>love</th>\n",
              "      <td>1641</td>\n",
              "    </tr>\n",
              "    <tr>\n",
              "      <th>surprise</th>\n",
              "      <td>719</td>\n",
              "    </tr>\n",
              "  </tbody>\n",
              "</table>\n",
              "</div><br><label><b>dtype:</b> int64</label>"
            ]
          },
          "metadata": {},
          "execution_count": 14
        }
      ],
      "execution_count": 14
    },
    {
      "cell_type": "markdown",
      "source": [
        "To address class imbalance, we first dropped all samples from the majority class `joy` since we will use it as the reference count."
      ],
      "metadata": {
        "id": "tujvpFXc5srx"
      }
    },
    {
      "cell_type": "code",
      "source": [
        "# Drop all 'joy' class samples since we don't need to generate them\n",
        "df = df[df['emotions'] != 'joy']\n",
        "df.shape"
      ],
      "metadata": {
        "trusted": true,
        "execution": {
          "iopub.status.busy": "2025-05-14T09:19:10.568056Z",
          "iopub.execute_input": "2025-05-14T09:19:10.568661Z",
          "iopub.status.idle": "2025-05-14T09:19:10.576886Z",
          "shell.execute_reply.started": "2025-05-14T09:19:10.568638Z",
          "shell.execute_reply": "2025-05-14T09:19:10.576018Z"
        },
        "colab": {
          "base_uri": "https://localhost:8080/"
        },
        "id": "ODJCyNYO5srx",
        "outputId": "80e474ff-c6cf-464a-c6f9-120bb4b7efd8"
      },
      "outputs": [
        {
          "output_type": "execute_result",
          "data": {
            "text/plain": [
              "(13239, 2)"
            ]
          },
          "metadata": {},
          "execution_count": 15
        }
      ],
      "execution_count": 15
    },
    {
      "cell_type": "markdown",
      "source": [
        "Now, we calculated the number of synthetic samples needed for each of the remaining emotion classes so they can match the `joy` class count (6761 samples). This ensures a balanced dataset for training our sentiment classification model."
      ],
      "metadata": {
        "id": "GERKQTup5sry"
      }
    },
    {
      "cell_type": "code",
      "source": [
        "# Target count based on 'joy' class\n",
        "target_count = 6761\n",
        "\n",
        "# Calculate how many samples to generate per emotion\n",
        "samples_to_generate = {}\n",
        "\n",
        "class_counts = df['emotions'].value_counts()\n",
        "for emotion, count in class_counts.items():\n",
        "    samples_to_generate[emotion] = target_count - count\n",
        "\n",
        "# Shows how many synthetic samples are needed for each emotion\n",
        "print(samples_to_generate)"
      ],
      "metadata": {
        "trusted": true,
        "execution": {
          "iopub.status.busy": "2025-05-14T09:19:12.916465Z",
          "iopub.execute_input": "2025-05-14T09:19:12.917166Z",
          "iopub.status.idle": "2025-05-14T09:19:12.923405Z",
          "shell.execute_reply.started": "2025-05-14T09:19:12.917143Z",
          "shell.execute_reply": "2025-05-14T09:19:12.922509Z"
        },
        "colab": {
          "base_uri": "https://localhost:8080/"
        },
        "id": "VNe3eS_s5sry",
        "outputId": "92b8b475-e9f9-44fe-f47e-ccec1c6e3271"
      },
      "outputs": [
        {
          "output_type": "stream",
          "name": "stdout",
          "text": [
            "{'sadness': 964, 'anger': 4052, 'fear': 4388, 'love': 5120, 'surprise': 6042}\n"
          ]
        }
      ],
      "execution_count": 16
    },
    {
      "cell_type": "markdown",
      "source": [
        "## Preprocessing"
      ],
      "metadata": {
        "id": "Cpa9S8dT5sry"
      }
    },
    {
      "cell_type": "code",
      "source": [
        "import re\n",
        "def clean_text(text):\n",
        "    text = text.lower()                                 # Lowercase\n",
        "    text = re.sub(r\"http\\S+\", \"\", text)                 # Remove URLs\n",
        "    text = re.sub(r\"@\\w+\", \"\", text)                    # Remove @mentions\n",
        "    text = re.sub(r\"[^a-z\\s]\", \"\", text)                # Remove punctuation/numbers, keep only letters and spaces\n",
        "    text = re.sub(r\"\\b(?:ref|http|www|com|turd)\\b\", \"\", text)  # Remove unwanted specific words\n",
        "    text = re.sub(r\"\\s+\", \" \", text).strip()            # Normalize whitespace\n",
        "    return text"
      ],
      "metadata": {
        "trusted": true,
        "execution": {
          "iopub.status.busy": "2025-05-14T09:19:16.546407Z",
          "iopub.execute_input": "2025-05-14T09:19:16.547117Z",
          "iopub.status.idle": "2025-05-14T09:19:16.551656Z",
          "shell.execute_reply.started": "2025-05-14T09:19:16.547093Z",
          "shell.execute_reply": "2025-05-14T09:19:16.550804Z"
        },
        "id": "4zzosJcc5sry"
      },
      "outputs": [],
      "execution_count": 17
    },
    {
      "cell_type": "code",
      "source": [
        "df['text'] = df['text'].apply(clean_text)"
      ],
      "metadata": {
        "trusted": true,
        "execution": {
          "iopub.status.busy": "2025-05-14T09:19:17.755743Z",
          "iopub.execute_input": "2025-05-14T09:19:17.756484Z",
          "iopub.status.idle": "2025-05-14T09:19:17.916655Z",
          "shell.execute_reply.started": "2025-05-14T09:19:17.756454Z",
          "shell.execute_reply": "2025-05-14T09:19:17.915895Z"
        },
        "id": "UmfO-Buw5sry"
      },
      "outputs": [],
      "execution_count": 18
    },
    {
      "cell_type": "code",
      "source": [
        "df.head()"
      ],
      "metadata": {
        "trusted": true,
        "execution": {
          "iopub.status.busy": "2025-05-14T09:19:19.321003Z",
          "iopub.execute_input": "2025-05-14T09:19:19.321275Z",
          "iopub.status.idle": "2025-05-14T09:19:19.328245Z",
          "shell.execute_reply.started": "2025-05-14T09:19:19.321255Z",
          "shell.execute_reply": "2025-05-14T09:19:19.327577Z"
        },
        "colab": {
          "base_uri": "https://localhost:8080/",
          "height": 206
        },
        "id": "giboDoRF5sry",
        "outputId": "527b49d6-b12d-42e6-c45e-a49bedbb66a3"
      },
      "outputs": [
        {
          "output_type": "execute_result",
          "data": {
            "text/plain": [
              "                                                text emotions\n",
              "0                            i didnt feel humiliated  sadness\n",
              "1  i can go from feeling so hopeless to so damned...  sadness\n",
              "2   im grabbing a minute to post i feel greedy wrong    anger\n",
              "3  i am ever feeling nostalgic about the fireplac...     love\n",
              "4                               i am feeling grouchy    anger"
            ],
            "text/html": [
              "\n",
              "  <div id=\"df-61a0131a-d4cb-482a-bfdc-2480e5b85500\" class=\"colab-df-container\">\n",
              "    <div>\n",
              "<style scoped>\n",
              "    .dataframe tbody tr th:only-of-type {\n",
              "        vertical-align: middle;\n",
              "    }\n",
              "\n",
              "    .dataframe tbody tr th {\n",
              "        vertical-align: top;\n",
              "    }\n",
              "\n",
              "    .dataframe thead th {\n",
              "        text-align: right;\n",
              "    }\n",
              "</style>\n",
              "<table border=\"1\" class=\"dataframe\">\n",
              "  <thead>\n",
              "    <tr style=\"text-align: right;\">\n",
              "      <th></th>\n",
              "      <th>text</th>\n",
              "      <th>emotions</th>\n",
              "    </tr>\n",
              "  </thead>\n",
              "  <tbody>\n",
              "    <tr>\n",
              "      <th>0</th>\n",
              "      <td>i didnt feel humiliated</td>\n",
              "      <td>sadness</td>\n",
              "    </tr>\n",
              "    <tr>\n",
              "      <th>1</th>\n",
              "      <td>i can go from feeling so hopeless to so damned...</td>\n",
              "      <td>sadness</td>\n",
              "    </tr>\n",
              "    <tr>\n",
              "      <th>2</th>\n",
              "      <td>im grabbing a minute to post i feel greedy wrong</td>\n",
              "      <td>anger</td>\n",
              "    </tr>\n",
              "    <tr>\n",
              "      <th>3</th>\n",
              "      <td>i am ever feeling nostalgic about the fireplac...</td>\n",
              "      <td>love</td>\n",
              "    </tr>\n",
              "    <tr>\n",
              "      <th>4</th>\n",
              "      <td>i am feeling grouchy</td>\n",
              "      <td>anger</td>\n",
              "    </tr>\n",
              "  </tbody>\n",
              "</table>\n",
              "</div>\n",
              "    <div class=\"colab-df-buttons\">\n",
              "\n",
              "  <div class=\"colab-df-container\">\n",
              "    <button class=\"colab-df-convert\" onclick=\"convertToInteractive('df-61a0131a-d4cb-482a-bfdc-2480e5b85500')\"\n",
              "            title=\"Convert this dataframe to an interactive table.\"\n",
              "            style=\"display:none;\">\n",
              "\n",
              "  <svg xmlns=\"http://www.w3.org/2000/svg\" height=\"24px\" viewBox=\"0 -960 960 960\">\n",
              "    <path d=\"M120-120v-720h720v720H120Zm60-500h600v-160H180v160Zm220 220h160v-160H400v160Zm0 220h160v-160H400v160ZM180-400h160v-160H180v160Zm440 0h160v-160H620v160ZM180-180h160v-160H180v160Zm440 0h160v-160H620v160Z\"/>\n",
              "  </svg>\n",
              "    </button>\n",
              "\n",
              "  <style>\n",
              "    .colab-df-container {\n",
              "      display:flex;\n",
              "      gap: 12px;\n",
              "    }\n",
              "\n",
              "    .colab-df-convert {\n",
              "      background-color: #E8F0FE;\n",
              "      border: none;\n",
              "      border-radius: 50%;\n",
              "      cursor: pointer;\n",
              "      display: none;\n",
              "      fill: #1967D2;\n",
              "      height: 32px;\n",
              "      padding: 0 0 0 0;\n",
              "      width: 32px;\n",
              "    }\n",
              "\n",
              "    .colab-df-convert:hover {\n",
              "      background-color: #E2EBFA;\n",
              "      box-shadow: 0px 1px 2px rgba(60, 64, 67, 0.3), 0px 1px 3px 1px rgba(60, 64, 67, 0.15);\n",
              "      fill: #174EA6;\n",
              "    }\n",
              "\n",
              "    .colab-df-buttons div {\n",
              "      margin-bottom: 4px;\n",
              "    }\n",
              "\n",
              "    [theme=dark] .colab-df-convert {\n",
              "      background-color: #3B4455;\n",
              "      fill: #D2E3FC;\n",
              "    }\n",
              "\n",
              "    [theme=dark] .colab-df-convert:hover {\n",
              "      background-color: #434B5C;\n",
              "      box-shadow: 0px 1px 3px 1px rgba(0, 0, 0, 0.15);\n",
              "      filter: drop-shadow(0px 1px 2px rgba(0, 0, 0, 0.3));\n",
              "      fill: #FFFFFF;\n",
              "    }\n",
              "  </style>\n",
              "\n",
              "    <script>\n",
              "      const buttonEl =\n",
              "        document.querySelector('#df-61a0131a-d4cb-482a-bfdc-2480e5b85500 button.colab-df-convert');\n",
              "      buttonEl.style.display =\n",
              "        google.colab.kernel.accessAllowed ? 'block' : 'none';\n",
              "\n",
              "      async function convertToInteractive(key) {\n",
              "        const element = document.querySelector('#df-61a0131a-d4cb-482a-bfdc-2480e5b85500');\n",
              "        const dataTable =\n",
              "          await google.colab.kernel.invokeFunction('convertToInteractive',\n",
              "                                                    [key], {});\n",
              "        if (!dataTable) return;\n",
              "\n",
              "        const docLinkHtml = 'Like what you see? Visit the ' +\n",
              "          '<a target=\"_blank\" href=https://colab.research.google.com/notebooks/data_table.ipynb>data table notebook</a>'\n",
              "          + ' to learn more about interactive tables.';\n",
              "        element.innerHTML = '';\n",
              "        dataTable['output_type'] = 'display_data';\n",
              "        await google.colab.output.renderOutput(dataTable, element);\n",
              "        const docLink = document.createElement('div');\n",
              "        docLink.innerHTML = docLinkHtml;\n",
              "        element.appendChild(docLink);\n",
              "      }\n",
              "    </script>\n",
              "  </div>\n",
              "\n",
              "\n",
              "    <div id=\"df-d82853a9-d2de-40c6-b890-0be791a5b164\">\n",
              "      <button class=\"colab-df-quickchart\" onclick=\"quickchart('df-d82853a9-d2de-40c6-b890-0be791a5b164')\"\n",
              "                title=\"Suggest charts\"\n",
              "                style=\"display:none;\">\n",
              "\n",
              "<svg xmlns=\"http://www.w3.org/2000/svg\" height=\"24px\"viewBox=\"0 0 24 24\"\n",
              "     width=\"24px\">\n",
              "    <g>\n",
              "        <path d=\"M19 3H5c-1.1 0-2 .9-2 2v14c0 1.1.9 2 2 2h14c1.1 0 2-.9 2-2V5c0-1.1-.9-2-2-2zM9 17H7v-7h2v7zm4 0h-2V7h2v10zm4 0h-2v-4h2v4z\"/>\n",
              "    </g>\n",
              "</svg>\n",
              "      </button>\n",
              "\n",
              "<style>\n",
              "  .colab-df-quickchart {\n",
              "      --bg-color: #E8F0FE;\n",
              "      --fill-color: #1967D2;\n",
              "      --hover-bg-color: #E2EBFA;\n",
              "      --hover-fill-color: #174EA6;\n",
              "      --disabled-fill-color: #AAA;\n",
              "      --disabled-bg-color: #DDD;\n",
              "  }\n",
              "\n",
              "  [theme=dark] .colab-df-quickchart {\n",
              "      --bg-color: #3B4455;\n",
              "      --fill-color: #D2E3FC;\n",
              "      --hover-bg-color: #434B5C;\n",
              "      --hover-fill-color: #FFFFFF;\n",
              "      --disabled-bg-color: #3B4455;\n",
              "      --disabled-fill-color: #666;\n",
              "  }\n",
              "\n",
              "  .colab-df-quickchart {\n",
              "    background-color: var(--bg-color);\n",
              "    border: none;\n",
              "    border-radius: 50%;\n",
              "    cursor: pointer;\n",
              "    display: none;\n",
              "    fill: var(--fill-color);\n",
              "    height: 32px;\n",
              "    padding: 0;\n",
              "    width: 32px;\n",
              "  }\n",
              "\n",
              "  .colab-df-quickchart:hover {\n",
              "    background-color: var(--hover-bg-color);\n",
              "    box-shadow: 0 1px 2px rgba(60, 64, 67, 0.3), 0 1px 3px 1px rgba(60, 64, 67, 0.15);\n",
              "    fill: var(--button-hover-fill-color);\n",
              "  }\n",
              "\n",
              "  .colab-df-quickchart-complete:disabled,\n",
              "  .colab-df-quickchart-complete:disabled:hover {\n",
              "    background-color: var(--disabled-bg-color);\n",
              "    fill: var(--disabled-fill-color);\n",
              "    box-shadow: none;\n",
              "  }\n",
              "\n",
              "  .colab-df-spinner {\n",
              "    border: 2px solid var(--fill-color);\n",
              "    border-color: transparent;\n",
              "    border-bottom-color: var(--fill-color);\n",
              "    animation:\n",
              "      spin 1s steps(1) infinite;\n",
              "  }\n",
              "\n",
              "  @keyframes spin {\n",
              "    0% {\n",
              "      border-color: transparent;\n",
              "      border-bottom-color: var(--fill-color);\n",
              "      border-left-color: var(--fill-color);\n",
              "    }\n",
              "    20% {\n",
              "      border-color: transparent;\n",
              "      border-left-color: var(--fill-color);\n",
              "      border-top-color: var(--fill-color);\n",
              "    }\n",
              "    30% {\n",
              "      border-color: transparent;\n",
              "      border-left-color: var(--fill-color);\n",
              "      border-top-color: var(--fill-color);\n",
              "      border-right-color: var(--fill-color);\n",
              "    }\n",
              "    40% {\n",
              "      border-color: transparent;\n",
              "      border-right-color: var(--fill-color);\n",
              "      border-top-color: var(--fill-color);\n",
              "    }\n",
              "    60% {\n",
              "      border-color: transparent;\n",
              "      border-right-color: var(--fill-color);\n",
              "    }\n",
              "    80% {\n",
              "      border-color: transparent;\n",
              "      border-right-color: var(--fill-color);\n",
              "      border-bottom-color: var(--fill-color);\n",
              "    }\n",
              "    90% {\n",
              "      border-color: transparent;\n",
              "      border-bottom-color: var(--fill-color);\n",
              "    }\n",
              "  }\n",
              "</style>\n",
              "\n",
              "      <script>\n",
              "        async function quickchart(key) {\n",
              "          const quickchartButtonEl =\n",
              "            document.querySelector('#' + key + ' button');\n",
              "          quickchartButtonEl.disabled = true;  // To prevent multiple clicks.\n",
              "          quickchartButtonEl.classList.add('colab-df-spinner');\n",
              "          try {\n",
              "            const charts = await google.colab.kernel.invokeFunction(\n",
              "                'suggestCharts', [key], {});\n",
              "          } catch (error) {\n",
              "            console.error('Error during call to suggestCharts:', error);\n",
              "          }\n",
              "          quickchartButtonEl.classList.remove('colab-df-spinner');\n",
              "          quickchartButtonEl.classList.add('colab-df-quickchart-complete');\n",
              "        }\n",
              "        (() => {\n",
              "          let quickchartButtonEl =\n",
              "            document.querySelector('#df-d82853a9-d2de-40c6-b890-0be791a5b164 button');\n",
              "          quickchartButtonEl.style.display =\n",
              "            google.colab.kernel.accessAllowed ? 'block' : 'none';\n",
              "        })();\n",
              "      </script>\n",
              "    </div>\n",
              "\n",
              "    </div>\n",
              "  </div>\n"
            ],
            "application/vnd.google.colaboratory.intrinsic+json": {
              "type": "dataframe",
              "variable_name": "df",
              "summary": "{\n  \"name\": \"df\",\n  \"rows\": 13239,\n  \"fields\": [\n    {\n      \"column\": \"text\",\n      \"properties\": {\n        \"dtype\": \"string\",\n        \"num_unique_values\": 13220,\n        \"samples\": [\n          \"im still a little mixed on how i feel about him back especially because i liked the a href\",\n          \"im feeling so helpless clueless and homesick\",\n          \"i almost always feel the inside of my tire but in my rushed state i failed to do this important step\"\n        ],\n        \"semantic_type\": \"\",\n        \"description\": \"\"\n      }\n    },\n    {\n      \"column\": \"emotions\",\n      \"properties\": {\n        \"dtype\": \"category\",\n        \"num_unique_values\": 5,\n        \"samples\": [\n          \"anger\",\n          \"fear\",\n          \"love\"\n        ],\n        \"semantic_type\": \"\",\n        \"description\": \"\"\n      }\n    }\n  ]\n}"
            }
          },
          "metadata": {},
          "execution_count": 19
        }
      ],
      "execution_count": 19
    },
    {
      "cell_type": "markdown",
      "source": [
        "- We are adding the `<sos>` token and the `<eos>` token at the start and end of each sentence to guide the model in conditioned text generation.\n",
        "\n",
        "- The `<sos>` and `<eos>` tokens define the start and end of the sequence. This structure improves the control and coherence of the generated output"
      ],
      "metadata": {
        "id": "PKnMJDDi5sry"
      }
    },
    {
      "cell_type": "code",
      "source": [
        "def add_special_tokens(df, text_col='text'):\n",
        "    # Prepend emotion token and <sos> and append <eos>\n",
        "    df['Text'] = df.apply(lambda row: f\"<sos> {row[text_col]} <eos>\", axis=1)\n",
        "    df.drop('text',inplace=True,axis=1)\n",
        "    return df"
      ],
      "metadata": {
        "trusted": true,
        "execution": {
          "iopub.status.busy": "2025-05-14T09:19:22.143834Z",
          "iopub.execute_input": "2025-05-14T09:19:22.144584Z",
          "iopub.status.idle": "2025-05-14T09:19:22.148882Z",
          "shell.execute_reply.started": "2025-05-14T09:19:22.144556Z",
          "shell.execute_reply": "2025-05-14T09:19:22.148213Z"
        },
        "id": "KZniFrVn5sry"
      },
      "outputs": [],
      "execution_count": 20
    },
    {
      "cell_type": "code",
      "source": [
        "# Apply to our datasets\n",
        "df = add_special_tokens(df)"
      ],
      "metadata": {
        "trusted": true,
        "execution": {
          "iopub.status.busy": "2025-05-14T09:19:23.213454Z",
          "iopub.execute_input": "2025-05-14T09:19:23.214141Z",
          "iopub.status.idle": "2025-05-14T09:19:23.274008Z",
          "shell.execute_reply.started": "2025-05-14T09:19:23.214118Z",
          "shell.execute_reply": "2025-05-14T09:19:23.273468Z"
        },
        "id": "uDOodcjF5sry"
      },
      "outputs": [],
      "execution_count": 21
    },
    {
      "cell_type": "code",
      "source": [
        "df.head()"
      ],
      "metadata": {
        "trusted": true,
        "execution": {
          "iopub.status.busy": "2025-05-14T09:19:24.702184Z",
          "iopub.execute_input": "2025-05-14T09:19:24.702786Z",
          "iopub.status.idle": "2025-05-14T09:19:24.709839Z",
          "shell.execute_reply.started": "2025-05-14T09:19:24.702765Z",
          "shell.execute_reply": "2025-05-14T09:19:24.709120Z"
        },
        "colab": {
          "base_uri": "https://localhost:8080/",
          "height": 206
        },
        "id": "sgoMkR1S5srz",
        "outputId": "25b60232-94e0-411c-e0a6-4c9011d0caf5"
      },
      "outputs": [
        {
          "output_type": "execute_result",
          "data": {
            "text/plain": [
              "  emotions                                               Text\n",
              "0  sadness                <sos> i didnt feel humiliated <eos>\n",
              "1  sadness  <sos> i can go from feeling so hopeless to so ...\n",
              "2    anger  <sos> im grabbing a minute to post i feel gree...\n",
              "3     love  <sos> i am ever feeling nostalgic about the fi...\n",
              "4    anger                   <sos> i am feeling grouchy <eos>"
            ],
            "text/html": [
              "\n",
              "  <div id=\"df-e4ed835f-be34-48a2-8225-33b55c633516\" class=\"colab-df-container\">\n",
              "    <div>\n",
              "<style scoped>\n",
              "    .dataframe tbody tr th:only-of-type {\n",
              "        vertical-align: middle;\n",
              "    }\n",
              "\n",
              "    .dataframe tbody tr th {\n",
              "        vertical-align: top;\n",
              "    }\n",
              "\n",
              "    .dataframe thead th {\n",
              "        text-align: right;\n",
              "    }\n",
              "</style>\n",
              "<table border=\"1\" class=\"dataframe\">\n",
              "  <thead>\n",
              "    <tr style=\"text-align: right;\">\n",
              "      <th></th>\n",
              "      <th>emotions</th>\n",
              "      <th>Text</th>\n",
              "    </tr>\n",
              "  </thead>\n",
              "  <tbody>\n",
              "    <tr>\n",
              "      <th>0</th>\n",
              "      <td>sadness</td>\n",
              "      <td>&lt;sos&gt; i didnt feel humiliated &lt;eos&gt;</td>\n",
              "    </tr>\n",
              "    <tr>\n",
              "      <th>1</th>\n",
              "      <td>sadness</td>\n",
              "      <td>&lt;sos&gt; i can go from feeling so hopeless to so ...</td>\n",
              "    </tr>\n",
              "    <tr>\n",
              "      <th>2</th>\n",
              "      <td>anger</td>\n",
              "      <td>&lt;sos&gt; im grabbing a minute to post i feel gree...</td>\n",
              "    </tr>\n",
              "    <tr>\n",
              "      <th>3</th>\n",
              "      <td>love</td>\n",
              "      <td>&lt;sos&gt; i am ever feeling nostalgic about the fi...</td>\n",
              "    </tr>\n",
              "    <tr>\n",
              "      <th>4</th>\n",
              "      <td>anger</td>\n",
              "      <td>&lt;sos&gt; i am feeling grouchy &lt;eos&gt;</td>\n",
              "    </tr>\n",
              "  </tbody>\n",
              "</table>\n",
              "</div>\n",
              "    <div class=\"colab-df-buttons\">\n",
              "\n",
              "  <div class=\"colab-df-container\">\n",
              "    <button class=\"colab-df-convert\" onclick=\"convertToInteractive('df-e4ed835f-be34-48a2-8225-33b55c633516')\"\n",
              "            title=\"Convert this dataframe to an interactive table.\"\n",
              "            style=\"display:none;\">\n",
              "\n",
              "  <svg xmlns=\"http://www.w3.org/2000/svg\" height=\"24px\" viewBox=\"0 -960 960 960\">\n",
              "    <path d=\"M120-120v-720h720v720H120Zm60-500h600v-160H180v160Zm220 220h160v-160H400v160Zm0 220h160v-160H400v160ZM180-400h160v-160H180v160Zm440 0h160v-160H620v160ZM180-180h160v-160H180v160Zm440 0h160v-160H620v160Z\"/>\n",
              "  </svg>\n",
              "    </button>\n",
              "\n",
              "  <style>\n",
              "    .colab-df-container {\n",
              "      display:flex;\n",
              "      gap: 12px;\n",
              "    }\n",
              "\n",
              "    .colab-df-convert {\n",
              "      background-color: #E8F0FE;\n",
              "      border: none;\n",
              "      border-radius: 50%;\n",
              "      cursor: pointer;\n",
              "      display: none;\n",
              "      fill: #1967D2;\n",
              "      height: 32px;\n",
              "      padding: 0 0 0 0;\n",
              "      width: 32px;\n",
              "    }\n",
              "\n",
              "    .colab-df-convert:hover {\n",
              "      background-color: #E2EBFA;\n",
              "      box-shadow: 0px 1px 2px rgba(60, 64, 67, 0.3), 0px 1px 3px 1px rgba(60, 64, 67, 0.15);\n",
              "      fill: #174EA6;\n",
              "    }\n",
              "\n",
              "    .colab-df-buttons div {\n",
              "      margin-bottom: 4px;\n",
              "    }\n",
              "\n",
              "    [theme=dark] .colab-df-convert {\n",
              "      background-color: #3B4455;\n",
              "      fill: #D2E3FC;\n",
              "    }\n",
              "\n",
              "    [theme=dark] .colab-df-convert:hover {\n",
              "      background-color: #434B5C;\n",
              "      box-shadow: 0px 1px 3px 1px rgba(0, 0, 0, 0.15);\n",
              "      filter: drop-shadow(0px 1px 2px rgba(0, 0, 0, 0.3));\n",
              "      fill: #FFFFFF;\n",
              "    }\n",
              "  </style>\n",
              "\n",
              "    <script>\n",
              "      const buttonEl =\n",
              "        document.querySelector('#df-e4ed835f-be34-48a2-8225-33b55c633516 button.colab-df-convert');\n",
              "      buttonEl.style.display =\n",
              "        google.colab.kernel.accessAllowed ? 'block' : 'none';\n",
              "\n",
              "      async function convertToInteractive(key) {\n",
              "        const element = document.querySelector('#df-e4ed835f-be34-48a2-8225-33b55c633516');\n",
              "        const dataTable =\n",
              "          await google.colab.kernel.invokeFunction('convertToInteractive',\n",
              "                                                    [key], {});\n",
              "        if (!dataTable) return;\n",
              "\n",
              "        const docLinkHtml = 'Like what you see? Visit the ' +\n",
              "          '<a target=\"_blank\" href=https://colab.research.google.com/notebooks/data_table.ipynb>data table notebook</a>'\n",
              "          + ' to learn more about interactive tables.';\n",
              "        element.innerHTML = '';\n",
              "        dataTable['output_type'] = 'display_data';\n",
              "        await google.colab.output.renderOutput(dataTable, element);\n",
              "        const docLink = document.createElement('div');\n",
              "        docLink.innerHTML = docLinkHtml;\n",
              "        element.appendChild(docLink);\n",
              "      }\n",
              "    </script>\n",
              "  </div>\n",
              "\n",
              "\n",
              "    <div id=\"df-99573def-3483-4abd-ba91-a17729bc4f18\">\n",
              "      <button class=\"colab-df-quickchart\" onclick=\"quickchart('df-99573def-3483-4abd-ba91-a17729bc4f18')\"\n",
              "                title=\"Suggest charts\"\n",
              "                style=\"display:none;\">\n",
              "\n",
              "<svg xmlns=\"http://www.w3.org/2000/svg\" height=\"24px\"viewBox=\"0 0 24 24\"\n",
              "     width=\"24px\">\n",
              "    <g>\n",
              "        <path d=\"M19 3H5c-1.1 0-2 .9-2 2v14c0 1.1.9 2 2 2h14c1.1 0 2-.9 2-2V5c0-1.1-.9-2-2-2zM9 17H7v-7h2v7zm4 0h-2V7h2v10zm4 0h-2v-4h2v4z\"/>\n",
              "    </g>\n",
              "</svg>\n",
              "      </button>\n",
              "\n",
              "<style>\n",
              "  .colab-df-quickchart {\n",
              "      --bg-color: #E8F0FE;\n",
              "      --fill-color: #1967D2;\n",
              "      --hover-bg-color: #E2EBFA;\n",
              "      --hover-fill-color: #174EA6;\n",
              "      --disabled-fill-color: #AAA;\n",
              "      --disabled-bg-color: #DDD;\n",
              "  }\n",
              "\n",
              "  [theme=dark] .colab-df-quickchart {\n",
              "      --bg-color: #3B4455;\n",
              "      --fill-color: #D2E3FC;\n",
              "      --hover-bg-color: #434B5C;\n",
              "      --hover-fill-color: #FFFFFF;\n",
              "      --disabled-bg-color: #3B4455;\n",
              "      --disabled-fill-color: #666;\n",
              "  }\n",
              "\n",
              "  .colab-df-quickchart {\n",
              "    background-color: var(--bg-color);\n",
              "    border: none;\n",
              "    border-radius: 50%;\n",
              "    cursor: pointer;\n",
              "    display: none;\n",
              "    fill: var(--fill-color);\n",
              "    height: 32px;\n",
              "    padding: 0;\n",
              "    width: 32px;\n",
              "  }\n",
              "\n",
              "  .colab-df-quickchart:hover {\n",
              "    background-color: var(--hover-bg-color);\n",
              "    box-shadow: 0 1px 2px rgba(60, 64, 67, 0.3), 0 1px 3px 1px rgba(60, 64, 67, 0.15);\n",
              "    fill: var(--button-hover-fill-color);\n",
              "  }\n",
              "\n",
              "  .colab-df-quickchart-complete:disabled,\n",
              "  .colab-df-quickchart-complete:disabled:hover {\n",
              "    background-color: var(--disabled-bg-color);\n",
              "    fill: var(--disabled-fill-color);\n",
              "    box-shadow: none;\n",
              "  }\n",
              "\n",
              "  .colab-df-spinner {\n",
              "    border: 2px solid var(--fill-color);\n",
              "    border-color: transparent;\n",
              "    border-bottom-color: var(--fill-color);\n",
              "    animation:\n",
              "      spin 1s steps(1) infinite;\n",
              "  }\n",
              "\n",
              "  @keyframes spin {\n",
              "    0% {\n",
              "      border-color: transparent;\n",
              "      border-bottom-color: var(--fill-color);\n",
              "      border-left-color: var(--fill-color);\n",
              "    }\n",
              "    20% {\n",
              "      border-color: transparent;\n",
              "      border-left-color: var(--fill-color);\n",
              "      border-top-color: var(--fill-color);\n",
              "    }\n",
              "    30% {\n",
              "      border-color: transparent;\n",
              "      border-left-color: var(--fill-color);\n",
              "      border-top-color: var(--fill-color);\n",
              "      border-right-color: var(--fill-color);\n",
              "    }\n",
              "    40% {\n",
              "      border-color: transparent;\n",
              "      border-right-color: var(--fill-color);\n",
              "      border-top-color: var(--fill-color);\n",
              "    }\n",
              "    60% {\n",
              "      border-color: transparent;\n",
              "      border-right-color: var(--fill-color);\n",
              "    }\n",
              "    80% {\n",
              "      border-color: transparent;\n",
              "      border-right-color: var(--fill-color);\n",
              "      border-bottom-color: var(--fill-color);\n",
              "    }\n",
              "    90% {\n",
              "      border-color: transparent;\n",
              "      border-bottom-color: var(--fill-color);\n",
              "    }\n",
              "  }\n",
              "</style>\n",
              "\n",
              "      <script>\n",
              "        async function quickchart(key) {\n",
              "          const quickchartButtonEl =\n",
              "            document.querySelector('#' + key + ' button');\n",
              "          quickchartButtonEl.disabled = true;  // To prevent multiple clicks.\n",
              "          quickchartButtonEl.classList.add('colab-df-spinner');\n",
              "          try {\n",
              "            const charts = await google.colab.kernel.invokeFunction(\n",
              "                'suggestCharts', [key], {});\n",
              "          } catch (error) {\n",
              "            console.error('Error during call to suggestCharts:', error);\n",
              "          }\n",
              "          quickchartButtonEl.classList.remove('colab-df-spinner');\n",
              "          quickchartButtonEl.classList.add('colab-df-quickchart-complete');\n",
              "        }\n",
              "        (() => {\n",
              "          let quickchartButtonEl =\n",
              "            document.querySelector('#df-99573def-3483-4abd-ba91-a17729bc4f18 button');\n",
              "          quickchartButtonEl.style.display =\n",
              "            google.colab.kernel.accessAllowed ? 'block' : 'none';\n",
              "        })();\n",
              "      </script>\n",
              "    </div>\n",
              "\n",
              "    </div>\n",
              "  </div>\n"
            ],
            "application/vnd.google.colaboratory.intrinsic+json": {
              "type": "dataframe",
              "variable_name": "df",
              "summary": "{\n  \"name\": \"df\",\n  \"rows\": 13239,\n  \"fields\": [\n    {\n      \"column\": \"emotions\",\n      \"properties\": {\n        \"dtype\": \"category\",\n        \"num_unique_values\": 5,\n        \"samples\": [\n          \"anger\",\n          \"fear\",\n          \"love\"\n        ],\n        \"semantic_type\": \"\",\n        \"description\": \"\"\n      }\n    },\n    {\n      \"column\": \"Text\",\n      \"properties\": {\n        \"dtype\": \"string\",\n        \"num_unique_values\": 13220,\n        \"samples\": [\n          \"<sos> im still a little mixed on how i feel about him back especially because i liked the a href <eos>\",\n          \"<sos> im feeling so helpless clueless and homesick <eos>\",\n          \"<sos> i almost always feel the inside of my tire but in my rushed state i failed to do this important step <eos>\"\n        ],\n        \"semantic_type\": \"\",\n        \"description\": \"\"\n      }\n    }\n  ]\n}"
            }
          },
          "metadata": {},
          "execution_count": 22
        }
      ],
      "execution_count": 22
    },
    {
      "cell_type": "markdown",
      "source": [
        "We have sucessfully added the tokens."
      ],
      "metadata": {
        "id": "xGSWjlOdplqw"
      }
    },
    {
      "cell_type": "markdown",
      "source": [
        "Splitting the dataset into separate DataFrames for each emotion class.Now we can use each of these DataFrames separately for class-wise training or analysis."
      ],
      "metadata": {
        "id": "i-1-Q4KoBvlE"
      }
    },
    {
      "cell_type": "code",
      "source": [
        "sadness_df = df[df['emotions'] == 'sadness']\n",
        "anger_df = df[df['emotions'] == 'anger']\n",
        "love_df = df[df['emotions'] == 'love']\n",
        "fear_df = df[df['emotions'] == 'fear']\n",
        "surprise_df = df[df['emotions'] == 'surprise']"
      ],
      "metadata": {
        "id": "2GYClyT867zB",
        "trusted": true,
        "execution": {
          "iopub.status.busy": "2025-05-14T09:19:28.008780Z",
          "iopub.execute_input": "2025-05-14T09:19:28.009513Z",
          "iopub.status.idle": "2025-05-14T09:19:28.023890Z",
          "shell.execute_reply.started": "2025-05-14T09:19:28.009480Z",
          "shell.execute_reply": "2025-05-14T09:19:28.023214Z"
        }
      },
      "outputs": [],
      "execution_count": 23
    },
    {
      "cell_type": "code",
      "source": [
        "surprise_df.head()"
      ],
      "metadata": {
        "colab": {
          "base_uri": "https://localhost:8080/",
          "height": 206
        },
        "id": "KynbTOMy7L_8",
        "outputId": "b5f619bf-f5b0-4363-9701-ee9eb1c13c4f",
        "trusted": true,
        "execution": {
          "iopub.status.busy": "2025-05-14T09:19:28.981664Z",
          "iopub.execute_input": "2025-05-14T09:19:28.982328Z",
          "iopub.status.idle": "2025-05-14T09:19:28.988873Z",
          "shell.execute_reply.started": "2025-05-14T09:19:28.982305Z",
          "shell.execute_reply": "2025-05-14T09:19:28.988263Z"
        }
      },
      "outputs": [
        {
          "output_type": "execute_result",
          "data": {
            "text/plain": [
              "     emotions                                               Text\n",
              "6    surprise  <sos> ive been taking or milligrams or times r...\n",
              "32   surprise  <sos> i have seen heard and read over the past...\n",
              "57   surprise  <sos> i keep feeling pleasantly surprised at h...\n",
              "64   surprise  <sos> i am now nearly finished the week detox ...\n",
              "129  surprise  <sos> i too feel as if i am a stranger in a st..."
            ],
            "text/html": [
              "\n",
              "  <div id=\"df-2a1bd32e-62ca-4cae-a99b-06d3e0c6155f\" class=\"colab-df-container\">\n",
              "    <div>\n",
              "<style scoped>\n",
              "    .dataframe tbody tr th:only-of-type {\n",
              "        vertical-align: middle;\n",
              "    }\n",
              "\n",
              "    .dataframe tbody tr th {\n",
              "        vertical-align: top;\n",
              "    }\n",
              "\n",
              "    .dataframe thead th {\n",
              "        text-align: right;\n",
              "    }\n",
              "</style>\n",
              "<table border=\"1\" class=\"dataframe\">\n",
              "  <thead>\n",
              "    <tr style=\"text-align: right;\">\n",
              "      <th></th>\n",
              "      <th>emotions</th>\n",
              "      <th>Text</th>\n",
              "    </tr>\n",
              "  </thead>\n",
              "  <tbody>\n",
              "    <tr>\n",
              "      <th>6</th>\n",
              "      <td>surprise</td>\n",
              "      <td>&lt;sos&gt; ive been taking or milligrams or times r...</td>\n",
              "    </tr>\n",
              "    <tr>\n",
              "      <th>32</th>\n",
              "      <td>surprise</td>\n",
              "      <td>&lt;sos&gt; i have seen heard and read over the past...</td>\n",
              "    </tr>\n",
              "    <tr>\n",
              "      <th>57</th>\n",
              "      <td>surprise</td>\n",
              "      <td>&lt;sos&gt; i keep feeling pleasantly surprised at h...</td>\n",
              "    </tr>\n",
              "    <tr>\n",
              "      <th>64</th>\n",
              "      <td>surprise</td>\n",
              "      <td>&lt;sos&gt; i am now nearly finished the week detox ...</td>\n",
              "    </tr>\n",
              "    <tr>\n",
              "      <th>129</th>\n",
              "      <td>surprise</td>\n",
              "      <td>&lt;sos&gt; i too feel as if i am a stranger in a st...</td>\n",
              "    </tr>\n",
              "  </tbody>\n",
              "</table>\n",
              "</div>\n",
              "    <div class=\"colab-df-buttons\">\n",
              "\n",
              "  <div class=\"colab-df-container\">\n",
              "    <button class=\"colab-df-convert\" onclick=\"convertToInteractive('df-2a1bd32e-62ca-4cae-a99b-06d3e0c6155f')\"\n",
              "            title=\"Convert this dataframe to an interactive table.\"\n",
              "            style=\"display:none;\">\n",
              "\n",
              "  <svg xmlns=\"http://www.w3.org/2000/svg\" height=\"24px\" viewBox=\"0 -960 960 960\">\n",
              "    <path d=\"M120-120v-720h720v720H120Zm60-500h600v-160H180v160Zm220 220h160v-160H400v160Zm0 220h160v-160H400v160ZM180-400h160v-160H180v160Zm440 0h160v-160H620v160ZM180-180h160v-160H180v160Zm440 0h160v-160H620v160Z\"/>\n",
              "  </svg>\n",
              "    </button>\n",
              "\n",
              "  <style>\n",
              "    .colab-df-container {\n",
              "      display:flex;\n",
              "      gap: 12px;\n",
              "    }\n",
              "\n",
              "    .colab-df-convert {\n",
              "      background-color: #E8F0FE;\n",
              "      border: none;\n",
              "      border-radius: 50%;\n",
              "      cursor: pointer;\n",
              "      display: none;\n",
              "      fill: #1967D2;\n",
              "      height: 32px;\n",
              "      padding: 0 0 0 0;\n",
              "      width: 32px;\n",
              "    }\n",
              "\n",
              "    .colab-df-convert:hover {\n",
              "      background-color: #E2EBFA;\n",
              "      box-shadow: 0px 1px 2px rgba(60, 64, 67, 0.3), 0px 1px 3px 1px rgba(60, 64, 67, 0.15);\n",
              "      fill: #174EA6;\n",
              "    }\n",
              "\n",
              "    .colab-df-buttons div {\n",
              "      margin-bottom: 4px;\n",
              "    }\n",
              "\n",
              "    [theme=dark] .colab-df-convert {\n",
              "      background-color: #3B4455;\n",
              "      fill: #D2E3FC;\n",
              "    }\n",
              "\n",
              "    [theme=dark] .colab-df-convert:hover {\n",
              "      background-color: #434B5C;\n",
              "      box-shadow: 0px 1px 3px 1px rgba(0, 0, 0, 0.15);\n",
              "      filter: drop-shadow(0px 1px 2px rgba(0, 0, 0, 0.3));\n",
              "      fill: #FFFFFF;\n",
              "    }\n",
              "  </style>\n",
              "\n",
              "    <script>\n",
              "      const buttonEl =\n",
              "        document.querySelector('#df-2a1bd32e-62ca-4cae-a99b-06d3e0c6155f button.colab-df-convert');\n",
              "      buttonEl.style.display =\n",
              "        google.colab.kernel.accessAllowed ? 'block' : 'none';\n",
              "\n",
              "      async function convertToInteractive(key) {\n",
              "        const element = document.querySelector('#df-2a1bd32e-62ca-4cae-a99b-06d3e0c6155f');\n",
              "        const dataTable =\n",
              "          await google.colab.kernel.invokeFunction('convertToInteractive',\n",
              "                                                    [key], {});\n",
              "        if (!dataTable) return;\n",
              "\n",
              "        const docLinkHtml = 'Like what you see? Visit the ' +\n",
              "          '<a target=\"_blank\" href=https://colab.research.google.com/notebooks/data_table.ipynb>data table notebook</a>'\n",
              "          + ' to learn more about interactive tables.';\n",
              "        element.innerHTML = '';\n",
              "        dataTable['output_type'] = 'display_data';\n",
              "        await google.colab.output.renderOutput(dataTable, element);\n",
              "        const docLink = document.createElement('div');\n",
              "        docLink.innerHTML = docLinkHtml;\n",
              "        element.appendChild(docLink);\n",
              "      }\n",
              "    </script>\n",
              "  </div>\n",
              "\n",
              "\n",
              "    <div id=\"df-bd704c37-b17f-4a0a-be02-442cf7fbf860\">\n",
              "      <button class=\"colab-df-quickchart\" onclick=\"quickchart('df-bd704c37-b17f-4a0a-be02-442cf7fbf860')\"\n",
              "                title=\"Suggest charts\"\n",
              "                style=\"display:none;\">\n",
              "\n",
              "<svg xmlns=\"http://www.w3.org/2000/svg\" height=\"24px\"viewBox=\"0 0 24 24\"\n",
              "     width=\"24px\">\n",
              "    <g>\n",
              "        <path d=\"M19 3H5c-1.1 0-2 .9-2 2v14c0 1.1.9 2 2 2h14c1.1 0 2-.9 2-2V5c0-1.1-.9-2-2-2zM9 17H7v-7h2v7zm4 0h-2V7h2v10zm4 0h-2v-4h2v4z\"/>\n",
              "    </g>\n",
              "</svg>\n",
              "      </button>\n",
              "\n",
              "<style>\n",
              "  .colab-df-quickchart {\n",
              "      --bg-color: #E8F0FE;\n",
              "      --fill-color: #1967D2;\n",
              "      --hover-bg-color: #E2EBFA;\n",
              "      --hover-fill-color: #174EA6;\n",
              "      --disabled-fill-color: #AAA;\n",
              "      --disabled-bg-color: #DDD;\n",
              "  }\n",
              "\n",
              "  [theme=dark] .colab-df-quickchart {\n",
              "      --bg-color: #3B4455;\n",
              "      --fill-color: #D2E3FC;\n",
              "      --hover-bg-color: #434B5C;\n",
              "      --hover-fill-color: #FFFFFF;\n",
              "      --disabled-bg-color: #3B4455;\n",
              "      --disabled-fill-color: #666;\n",
              "  }\n",
              "\n",
              "  .colab-df-quickchart {\n",
              "    background-color: var(--bg-color);\n",
              "    border: none;\n",
              "    border-radius: 50%;\n",
              "    cursor: pointer;\n",
              "    display: none;\n",
              "    fill: var(--fill-color);\n",
              "    height: 32px;\n",
              "    padding: 0;\n",
              "    width: 32px;\n",
              "  }\n",
              "\n",
              "  .colab-df-quickchart:hover {\n",
              "    background-color: var(--hover-bg-color);\n",
              "    box-shadow: 0 1px 2px rgba(60, 64, 67, 0.3), 0 1px 3px 1px rgba(60, 64, 67, 0.15);\n",
              "    fill: var(--button-hover-fill-color);\n",
              "  }\n",
              "\n",
              "  .colab-df-quickchart-complete:disabled,\n",
              "  .colab-df-quickchart-complete:disabled:hover {\n",
              "    background-color: var(--disabled-bg-color);\n",
              "    fill: var(--disabled-fill-color);\n",
              "    box-shadow: none;\n",
              "  }\n",
              "\n",
              "  .colab-df-spinner {\n",
              "    border: 2px solid var(--fill-color);\n",
              "    border-color: transparent;\n",
              "    border-bottom-color: var(--fill-color);\n",
              "    animation:\n",
              "      spin 1s steps(1) infinite;\n",
              "  }\n",
              "\n",
              "  @keyframes spin {\n",
              "    0% {\n",
              "      border-color: transparent;\n",
              "      border-bottom-color: var(--fill-color);\n",
              "      border-left-color: var(--fill-color);\n",
              "    }\n",
              "    20% {\n",
              "      border-color: transparent;\n",
              "      border-left-color: var(--fill-color);\n",
              "      border-top-color: var(--fill-color);\n",
              "    }\n",
              "    30% {\n",
              "      border-color: transparent;\n",
              "      border-left-color: var(--fill-color);\n",
              "      border-top-color: var(--fill-color);\n",
              "      border-right-color: var(--fill-color);\n",
              "    }\n",
              "    40% {\n",
              "      border-color: transparent;\n",
              "      border-right-color: var(--fill-color);\n",
              "      border-top-color: var(--fill-color);\n",
              "    }\n",
              "    60% {\n",
              "      border-color: transparent;\n",
              "      border-right-color: var(--fill-color);\n",
              "    }\n",
              "    80% {\n",
              "      border-color: transparent;\n",
              "      border-right-color: var(--fill-color);\n",
              "      border-bottom-color: var(--fill-color);\n",
              "    }\n",
              "    90% {\n",
              "      border-color: transparent;\n",
              "      border-bottom-color: var(--fill-color);\n",
              "    }\n",
              "  }\n",
              "</style>\n",
              "\n",
              "      <script>\n",
              "        async function quickchart(key) {\n",
              "          const quickchartButtonEl =\n",
              "            document.querySelector('#' + key + ' button');\n",
              "          quickchartButtonEl.disabled = true;  // To prevent multiple clicks.\n",
              "          quickchartButtonEl.classList.add('colab-df-spinner');\n",
              "          try {\n",
              "            const charts = await google.colab.kernel.invokeFunction(\n",
              "                'suggestCharts', [key], {});\n",
              "          } catch (error) {\n",
              "            console.error('Error during call to suggestCharts:', error);\n",
              "          }\n",
              "          quickchartButtonEl.classList.remove('colab-df-spinner');\n",
              "          quickchartButtonEl.classList.add('colab-df-quickchart-complete');\n",
              "        }\n",
              "        (() => {\n",
              "          let quickchartButtonEl =\n",
              "            document.querySelector('#df-bd704c37-b17f-4a0a-be02-442cf7fbf860 button');\n",
              "          quickchartButtonEl.style.display =\n",
              "            google.colab.kernel.accessAllowed ? 'block' : 'none';\n",
              "        })();\n",
              "      </script>\n",
              "    </div>\n",
              "\n",
              "    </div>\n",
              "  </div>\n"
            ],
            "application/vnd.google.colaboratory.intrinsic+json": {
              "type": "dataframe",
              "variable_name": "surprise_df",
              "summary": "{\n  \"name\": \"surprise_df\",\n  \"rows\": 719,\n  \"fields\": [\n    {\n      \"column\": \"emotions\",\n      \"properties\": {\n        \"dtype\": \"category\",\n        \"num_unique_values\": 1,\n        \"samples\": [\n          \"surprise\"\n        ],\n        \"semantic_type\": \"\",\n        \"description\": \"\"\n      }\n    },\n    {\n      \"column\": \"Text\",\n      \"properties\": {\n        \"dtype\": \"string\",\n        \"num_unique_values\": 719,\n        \"samples\": [\n          \"<sos> i woke up feeling dazed and confused <eos>\"\n        ],\n        \"semantic_type\": \"\",\n        \"description\": \"\"\n      }\n    }\n  ]\n}"
            }
          },
          "metadata": {},
          "execution_count": 24
        }
      ],
      "execution_count": 24
    },
    {
      "cell_type": "markdown",
      "source": [
        "We build a separate Seq2Seq model for each emotion and generate the required number of texts. The reason for doing this separately for each emotion is to ensure that the generated texts closely follow the patterns of the training sentences."
      ],
      "metadata": {
        "id": "2unMZ9w3qDBt"
      }
    },
    {
      "cell_type": "markdown",
      "source": [
        "## **1.Emotion-Specific Text Generation: *Sadness Class***"
      ],
      "metadata": {
        "id": "5dNAuHAorGmH"
      }
    },
    {
      "cell_type": "markdown",
      "source": [
        "### Tokenize: text_to_word_sequence"
      ],
      "metadata": {
        "id": "ROncdbv55srz"
      }
    },
    {
      "cell_type": "markdown",
      "source": [
        "- A Seq2Seq model requires that we convert both the input and the output sentences into integer sequences of fixed length.\n",
        "\n",
        "- Now, vectorize our text data by using Keras’s Tokenizer() class. It will turn our sentences into sequences of integers. We can then pad those sequences with zeros to make all the sequences of the same length."
      ],
      "metadata": {
        "id": "32vYTR0M5srz"
      }
    },
    {
      "cell_type": "code",
      "source": [
        "# let's create tokenizer for sadness_df\n",
        "\n",
        "sadness_tokenizer = Tokenizer(oov_token=\"<unk>\",filters='')\n",
        "sadness_tokenizer.fit_on_texts(sadness_df['Text'])\n",
        "sadness_sequences = sadness_tokenizer.texts_to_sequences(sadness_df['Text'])\n"
      ],
      "metadata": {
        "id": "Ch3Hji6vC5hg",
        "trusted": true,
        "execution": {
          "iopub.status.busy": "2025-05-13T13:35:39.702627Z",
          "iopub.execute_input": "2025-05-13T13:35:39.702873Z",
          "iopub.status.idle": "2025-05-13T13:35:39.826739Z",
          "shell.execute_reply.started": "2025-05-13T13:35:39.702852Z",
          "shell.execute_reply": "2025-05-13T13:35:39.826150Z"
        }
      },
      "outputs": [],
      "execution_count": 25
    },
    {
      "cell_type": "markdown",
      "source": [
        "- We tokenized the data — i.e., converted the text to numerical values. This allows the neural network to perform operations on the input data.\n",
        "\n",
        "- When we run the tokenizer, it creates a word index, which is then used to convert each sentence to a vector.\n"
      ],
      "metadata": {
        "id": "1GwejnaJ5srz"
      }
    },
    {
      "cell_type": "markdown",
      "source": [
        "### Padding"
      ],
      "metadata": {
        "id": "n7L5qdis5srz"
      }
    },
    {
      "cell_type": "code",
      "source": [
        "# create pad_sequence for sadness_df\n",
        "\n",
        "sadness_padded = pad_sequences(sadness_sequences, maxlen=max_sentence_length, padding='post', truncating='post')\n"
      ],
      "metadata": {
        "id": "S7ue1a1-RMR7",
        "trusted": true,
        "execution": {
          "iopub.status.busy": "2025-05-13T13:35:39.827470Z",
          "iopub.execute_input": "2025-05-13T13:35:39.827726Z",
          "iopub.status.idle": "2025-05-13T13:35:39.847445Z",
          "shell.execute_reply.started": "2025-05-13T13:35:39.827708Z",
          "shell.execute_reply": "2025-05-13T13:35:39.846971Z"
        }
      },
      "outputs": [],
      "execution_count": 26
    },
    {
      "cell_type": "markdown",
      "source": [
        "When we feed our sequences of word IDs into the model, each sequence needs to be the same length. To achieve this, padding is added to any sequence that is shorter than the max length (i.e. shorter than the longest sentence)."
      ],
      "metadata": {
        "id": "-fToQ3sg5srz"
      }
    },
    {
      "cell_type": "markdown",
      "source": [
        "### Sequence Splitting for Seq2Seq Model\n",
        "\n",
        "To prepare data for the encoder-decoder model, we split each padded sequence into three parts:\n",
        "- **Encoder Input**: The original padded sequence including `<sos>` tokens.\n",
        "- **Decoder Input**: A right-shifted version of the sequence starting with the `<sos>` token.\n",
        "- **Decoder Output**: A left-shifted version of the sequence ending with the `<eos>` token.\n",
        "\n",
        "This setup ensures the model learns to predict the next word during training while being conditioned on both the encoder context and previous outputs.\n"
      ],
      "metadata": {
        "id": "E3ClLmhC5sr0"
      }
    },
    {
      "cell_type": "code",
      "source": [
        "# create sequence splitting for sadness_df\n",
        "\n",
        "from sklearn.model_selection import train_test_split\n",
        "\n",
        "# Assuming sadness_padded is already defined as in your provided code\n",
        "sadness_encoder_input_data = sadness_padded[:, :-1]\n",
        "sadness_decoder_input_data = sadness_padded[:, 1:]\n",
        "sadness_decoder_target_data = np.zeros_like(sadness_decoder_input_data)\n",
        "\n",
        "\n",
        "#Shifting the decoder target data one step to the left.\n",
        "sadness_decoder_target_data[:, :-1] = sadness_decoder_input_data[:, 1:]\n",
        "sadness_decoder_target_data[:, -1] = sadness_tokenizer.word_index['<eos>']\n"
      ],
      "metadata": {
        "id": "rOFCY9MsRXoG",
        "trusted": true,
        "execution": {
          "iopub.status.busy": "2025-05-13T13:35:39.848096Z",
          "iopub.execute_input": "2025-05-13T13:35:39.848411Z",
          "iopub.status.idle": "2025-05-13T13:35:39.853236Z",
          "shell.execute_reply.started": "2025-05-13T13:35:39.848329Z",
          "shell.execute_reply": "2025-05-13T13:35:39.852531Z"
        }
      },
      "outputs": [],
      "execution_count": 27
    },
    {
      "cell_type": "markdown",
      "source": [
        "### Train-Validation Split\n",
        "\n",
        "We split the encoder input and decoder output into training and validation sets using an 80-20 ratio.  \n",
        "This allows us to train the model on one portion of the data and evaluate its performance on unseen data, helping to detect overfitting and improve generalization.\n"
      ],
      "metadata": {
        "id": "UusD0gAS5sr0"
      }
    },
    {
      "cell_type": "code",
      "source": [
        "#Split data into training and validation sets.\n",
        "sadness_encoder_input_train, sadness_encoder_input_val, sadness_decoder_input_train, sadness_decoder_input_val, sadness_decoder_target_train, sadness_decoder_target_val = train_test_split(\n",
        "    sadness_encoder_input_data,\n",
        "    sadness_decoder_input_data,\n",
        "    sadness_decoder_target_data,\n",
        "    test_size=0.2,  # Adjust as needed\n",
        "    random_state=42  # For reproducibility\n",
        ")"
      ],
      "metadata": {
        "id": "0CA3_fwYR_z9",
        "trusted": true,
        "execution": {
          "iopub.status.busy": "2025-05-13T13:35:39.854031Z",
          "iopub.execute_input": "2025-05-13T13:35:39.854750Z",
          "iopub.status.idle": "2025-05-13T13:35:39.875935Z",
          "shell.execute_reply.started": "2025-05-13T13:35:39.854723Z",
          "shell.execute_reply": "2025-05-13T13:35:39.875178Z"
        }
      },
      "outputs": [],
      "execution_count": 28
    },
    {
      "cell_type": "markdown",
      "source": [
        "## Model Building"
      ],
      "metadata": {
        "id": "THvsHbZR5sr1"
      }
    },
    {
      "cell_type": "markdown",
      "source": [
        "We are using a custom attention layer because keras does not officially support attention layers. We will use third-party implementation of custom attention layer taken from https://github.com/thushv89/attention_keras/blob/master/src/layers/attention.py , This implements Bahdanau Attention. For encoder-decoder neural networks, the use of attention allows for the creation of a context vector at each timestep, given the decoder’s current hidden state and a subset of the encoder’s hidden states."
      ],
      "metadata": {
        "id": "fzkGFYk45sr1"
      }
    },
    {
      "cell_type": "markdown",
      "source": [
        "we use this custom attention layer for every emotion."
      ],
      "metadata": {
        "id": "POQLBzxNrvFR"
      }
    },
    {
      "cell_type": "code",
      "source": [
        "\n",
        "import tensorflow as tf\n",
        "from tensorflow.python.keras import backend as K\n",
        "\n",
        "logger = tf.get_logger()\n",
        "\n",
        "class AttentionLayer(tf.keras.layers.Layer):\n",
        "    \"\"\"\n",
        "    This class implements Bahdanau attention (https://arxiv.org/pdf/1409.0473.pdf).\n",
        "    There are three sets of weights introduced W_a, U_a, and V_a\n",
        "     \"\"\"\n",
        "\n",
        "    def __init__(self, **kwargs):\n",
        "        super(AttentionLayer, self).__init__(**kwargs)\n",
        "\n",
        "    def build(self, input_shape):\n",
        "        assert isinstance(input_shape, list)\n",
        "        # Create a trainable weight variable for this layer.\n",
        "\n",
        "        self.W_a = self.add_weight(name='W_a',\n",
        "                                   shape=tf.TensorShape((input_shape[0][2], input_shape[0][2])),\n",
        "                                   initializer='uniform',\n",
        "                                   trainable=True)\n",
        "        self.U_a = self.add_weight(name='U_a',\n",
        "                                   shape=tf.TensorShape((input_shape[1][2], input_shape[0][2])),\n",
        "                                   initializer='uniform',\n",
        "                                   trainable=True)\n",
        "        self.V_a = self.add_weight(name='V_a',\n",
        "                                   shape=tf.TensorShape((input_shape[0][2], 1)),\n",
        "                                   initializer='uniform',\n",
        "                                   trainable=True)\n",
        "\n",
        "        super(AttentionLayer, self).build(input_shape)  # Be sure to call this at the end\n",
        "\n",
        "    def call(self, inputs):\n",
        "        \"\"\"\n",
        "        inputs: [encoder_output_sequence, decoder_output_sequence]\n",
        "        \"\"\"\n",
        "        assert type(inputs) == list\n",
        "        encoder_out_seq, decoder_out_seq = inputs\n",
        "\n",
        "        logger.debug(f\"encoder_out_seq.shape = {encoder_out_seq.shape}\")\n",
        "        logger.debug(f\"decoder_out_seq.shape = {decoder_out_seq.shape}\")\n",
        "\n",
        "        def energy_step(inputs, states):\n",
        "            \"\"\" Step function for computing energy for a single decoder state\n",
        "            inputs: (batchsize * 1 * de_in_dim)\n",
        "            states: (batchsize * 1 * de_latent_dim)\n",
        "            \"\"\"\n",
        "\n",
        "            logger.debug(\"Running energy computation step\")\n",
        "\n",
        "            if not isinstance(states, (list, tuple)):\n",
        "                raise TypeError(f\"States must be an iterable. Got {states} of type {type(states)}\")\n",
        "\n",
        "            encoder_full_seq = states[-1]\n",
        "\n",
        "            \"\"\" Computing S.Wa where S=[s0, s1, ..., si]\"\"\"\n",
        "            # <= batch size * en_seq_len * latent_dim\n",
        "            W_a_dot_s = K.dot(encoder_full_seq, self.W_a)\n",
        "\n",
        "            \"\"\" Computing hj.Ua \"\"\"\n",
        "            U_a_dot_h = K.expand_dims(K.dot(inputs, self.U_a), 1)  # <= batch_size, 1, latent_dim\n",
        "\n",
        "            logger.debug(f\"U_a_dot_h.shape = {U_a_dot_h.shape}\")\n",
        "\n",
        "            \"\"\" tanh(S.Wa + hj.Ua) \"\"\"\n",
        "            # <= batch_size*en_seq_len, latent_dim\n",
        "            Ws_plus_Uh = K.tanh(W_a_dot_s + U_a_dot_h)\n",
        "\n",
        "            logger.debug(f\"Ws_plus_Uh.shape = {Ws_plus_Uh.shape}\")\n",
        "\n",
        "            \"\"\" softmax(va.tanh(S.Wa + hj.Ua)) \"\"\"\n",
        "            # <= batch_size, en_seq_len\n",
        "            e_i = K.squeeze(K.dot(Ws_plus_Uh, self.V_a), axis=-1)\n",
        "            # <= batch_size, en_seq_len\n",
        "            e_i = K.softmax(e_i)\n",
        "\n",
        "            logger.debug(f\"ei.shape = {e_i.shape}\")\n",
        "\n",
        "            return e_i, [e_i]\n",
        "\n",
        "        def context_step(inputs, states):\n",
        "            \"\"\" Step function for computing ci using ei \"\"\"\n",
        "\n",
        "            logger.debug(\"Running attention vector computation step\")\n",
        "\n",
        "            if not isinstance(states, (list, tuple)):\n",
        "                raise TypeError(f\"States must be an iterable. Got {states} of type {type(states)}\")\n",
        "\n",
        "            encoder_full_seq = states[-1]\n",
        "\n",
        "            # <= batch_size, hidden_size\n",
        "            c_i = K.sum(encoder_full_seq * K.expand_dims(inputs, -1), axis=1)\n",
        "\n",
        "            logger.debug(f\"ci.shape = {c_i.shape}\")\n",
        "\n",
        "            return c_i, [c_i]\n",
        "\n",
        "        # we don't maintain states between steps when computing attention\n",
        "        # attention is stateless, so we're passing a fake state for RNN step function\n",
        "        fake_state_c = K.sum(encoder_out_seq, axis=1)\n",
        "        fake_state_e = K.sum(encoder_out_seq, axis=2)  # <= (batch_size, enc_seq_len, latent_dim\n",
        "\n",
        "        \"\"\" Computing energy outputs \"\"\"\n",
        "        # e_outputs => (batch_size, de_seq_len, en_seq_len)\n",
        "        last_out, e_outputs, _ = K.rnn(\n",
        "            energy_step, decoder_out_seq, [fake_state_e], constants=[encoder_out_seq]\n",
        "        )\n",
        "\n",
        "        \"\"\" Computing context vectors \"\"\"\n",
        "        last_out, c_outputs, _ = K.rnn(\n",
        "            context_step, e_outputs, [fake_state_c], constants=[encoder_out_seq]\n",
        "        )\n",
        "\n",
        "        return c_outputs, e_outputs\n",
        "\n",
        "    def compute_output_shape(self, input_shape):\n",
        "        \"\"\" Outputs produced by the layer \"\"\"\n",
        "        return [\n",
        "            tf.TensorShape((input_shape[1][0], input_shape[1][1], input_shape[1][2])),\n",
        "            tf.TensorShape((input_shape[1][0], input_shape[1][1], input_shape[0][1]))\n",
        "        ]\n"
      ],
      "metadata": {
        "trusted": true,
        "execution": {
          "iopub.status.busy": "2025-05-14T09:19:47.242117Z",
          "iopub.execute_input": "2025-05-14T09:19:47.242398Z",
          "iopub.status.idle": "2025-05-14T09:19:47.254641Z",
          "shell.execute_reply.started": "2025-05-14T09:19:47.242377Z",
          "shell.execute_reply": "2025-05-14T09:19:47.253826Z"
        },
        "id": "M8n_hINf5sr1"
      },
      "outputs": [],
      "execution_count": 29
    },
    {
      "cell_type": "markdown",
      "source": [
        "### Define model"
      ],
      "metadata": {
        "id": "6PhPUPpM5sr1"
      }
    },
    {
      "cell_type": "markdown",
      "source": [
        "**Seq2Seq Architecture:** The model uses a Sequence-to-Sequence (Seq2Seq) architecture with an encoder-decoder structure, suitable for sequence generation tasks.\n",
        "\n",
        "**Encoder:** The encoder processes the input sentence, converting it into a fixed-length context vector using an LSTM layer.\n",
        "\n",
        "**Decoder:** The decoder generates the output sequence by predicting the next word based on the encoder’s context vector, using its own LSTM layer.\n",
        "\n",
        "**Input & Output:** The encoder input is the tokenized sequence, the decoder input is the shifted sequence with <sos> at the start, and the decoder output is the target sequence with <eos> at the end.\n",
        "\n",
        "**Training:** The model is trained using sparse categorical cross-entropy loss and the Adam optimizer to predict the next word in the sequence.\n",
        "\n",
        "**Validation:** The model’s performance is validated using a separate validation set to ensure it generalizes well to unseen data.\n",
        "\n",
        "**Data Flow:** Both encoder and decoder inputs are fed during training, while the decoder output serves as the target for predictions."
      ],
      "metadata": {
        "id": "IqdfEsML5sr2"
      }
    },
    {
      "cell_type": "code",
      "source": [
        "vocab_size = len(sadness_tokenizer.word_index) + 1\n",
        "latent_dim = 256\n",
        "\n",
        "# Encoder\n",
        "sadness_encoder_inputs = Input(shape=(max_sentence_length - 1,))\n",
        "sadness_enc_emb = Embedding(vocab_size, latent_dim)(sadness_encoder_inputs)\n",
        "sadness_encoder_lstm = LSTM(latent_dim, return_sequences=True, return_state=True)\n",
        "sadness_encoder_out, sadness_state_h, sadness_state_c = sadness_encoder_lstm(sadness_enc_emb)\n",
        "sadness_encoder_states = [sadness_state_h, sadness_state_c]\n",
        "\n",
        "# Decoder\n",
        "sadness_decoder_inputs = Input(shape=(max_sentence_length - 1,))\n",
        "sadness_dec_emb_layer = Embedding(vocab_size, latent_dim)\n",
        "sadness_dec_emb = sadness_dec_emb_layer(sadness_decoder_inputs)\n",
        "sadness_decoder_lstm = LSTM(latent_dim, return_sequences=True, return_state=True)\n",
        "sadness_decoder_outputs,sadness_decoder_h,sadness_decoder_c = sadness_decoder_lstm(sadness_dec_emb, initial_state=sadness_encoder_states)\n",
        "\n",
        "# Attention Layer\n",
        "sadness_attn_layer = AttentionLayer()\n",
        "sadness_attn_out, sadness_attn_states = sadness_attn_layer([sadness_encoder_out, sadness_decoder_outputs])\n",
        "sadness_decoder_concat_input = Concatenate(axis=-1)([sadness_decoder_outputs, sadness_attn_out])\n",
        "\n",
        "# Dense layer\n",
        "sadness_decoder_dense = TimeDistributed(Dense(len(sadness_tokenizer.word_index) + 1, activation='softmax'))\n",
        "sadness_decoder_outputs = sadness_decoder_dense(sadness_decoder_concat_input)"
      ],
      "metadata": {
        "id": "Wg4Yrds3TrSP",
        "trusted": true,
        "execution": {
          "iopub.status.busy": "2025-05-13T07:25:50.728846Z",
          "iopub.execute_input": "2025-05-13T07:25:50.729138Z",
          "iopub.status.idle": "2025-05-13T07:25:50.834643Z",
          "shell.execute_reply.started": "2025-05-13T07:25:50.729112Z",
          "shell.execute_reply": "2025-05-13T07:25:50.834116Z"
        }
      },
      "outputs": [],
      "execution_count": 30
    },
    {
      "cell_type": "code",
      "source": [
        "\n",
        "# Model\n",
        "sadness_model = Model([sadness_encoder_inputs, sadness_decoder_inputs], sadness_decoder_outputs)\n",
        "sadness_model.compile(optimizer='adam', loss='sparse_categorical_crossentropy', metrics=['accuracy'])"
      ],
      "metadata": {
        "id": "taO5_3sVTvgP",
        "trusted": true,
        "execution": {
          "iopub.status.busy": "2025-05-13T07:25:50.835268Z",
          "iopub.execute_input": "2025-05-13T07:25:50.835477Z",
          "iopub.status.idle": "2025-05-13T07:25:50.844639Z",
          "shell.execute_reply.started": "2025-05-13T07:25:50.835462Z",
          "shell.execute_reply": "2025-05-13T07:25:50.843983Z"
        }
      },
      "outputs": [],
      "execution_count": 31
    },
    {
      "cell_type": "code",
      "source": [
        "# Training with Early Stopping\n",
        "epochs = 50\n",
        "batch_size = 64\n",
        "es = EarlyStopping(monitor='val_accuracy', mode='max', verbose=1, patience=5, restore_best_weights=True)\n",
        "sadness_history = sadness_model.fit(\n",
        "    [sadness_encoder_input_train, sadness_decoder_input_train],\n",
        "    sadness_decoder_target_train,\n",
        "    batch_size=batch_size,\n",
        "    epochs=epochs,\n",
        "    validation_data=([sadness_encoder_input_val, sadness_decoder_input_val], sadness_decoder_target_val),\n",
        "    callbacks=[es]\n",
        ")"
      ],
      "metadata": {
        "colab": {
          "base_uri": "https://localhost:8080/"
        },
        "id": "KhYQ6W5CTwZk",
        "outputId": "b0e8135b-c5e7-47c5-fc4f-2908c6e15932",
        "trusted": true,
        "execution": {
          "iopub.status.busy": "2025-05-13T07:25:50.845529Z",
          "iopub.execute_input": "2025-05-13T07:25:50.845803Z",
          "iopub.status.idle": "2025-05-13T07:38:36.740752Z",
          "shell.execute_reply.started": "2025-05-13T07:25:50.845787Z",
          "shell.execute_reply": "2025-05-13T07:38:36.739959Z"
        }
      },
      "outputs": [
        {
          "output_type": "stream",
          "name": "stdout",
          "text": [
            "Epoch 1/50\n",
            "\u001b[1m73/73\u001b[0m \u001b[32m━━━━━━━━━━━━━━━━━━━━\u001b[0m\u001b[37m\u001b[0m \u001b[1m28s\u001b[0m 237ms/step - accuracy: 0.6273 - loss: 4.0919 - val_accuracy: 0.6955 - val_loss: 2.0316\n",
            "Epoch 2/50\n",
            "\u001b[1m73/73\u001b[0m \u001b[32m━━━━━━━━━━━━━━━━━━━━\u001b[0m\u001b[37m\u001b[0m \u001b[1m35s\u001b[0m 212ms/step - accuracy: 0.6964 - loss: 1.9784 - val_accuracy: 0.7001 - val_loss: 1.9580\n",
            "Epoch 3/50\n",
            "\u001b[1m73/73\u001b[0m \u001b[32m━━━━━━━━━━━━━━━━━━━━\u001b[0m\u001b[37m\u001b[0m \u001b[1m20s\u001b[0m 207ms/step - accuracy: 0.7072 - loss: 1.8882 - val_accuracy: 0.7126 - val_loss: 1.8771\n",
            "Epoch 4/50\n",
            "\u001b[1m73/73\u001b[0m \u001b[32m━━━━━━━━━━━━━━━━━━━━\u001b[0m\u001b[37m\u001b[0m \u001b[1m21s\u001b[0m 212ms/step - accuracy: 0.7143 - loss: 1.8167 - val_accuracy: 0.7271 - val_loss: 1.8087\n",
            "Epoch 5/50\n",
            "\u001b[1m73/73\u001b[0m \u001b[32m━━━━━━━━━━━━━━━━━━━━\u001b[0m\u001b[37m\u001b[0m \u001b[1m20s\u001b[0m 209ms/step - accuracy: 0.7323 - loss: 1.6906 - val_accuracy: 0.7350 - val_loss: 1.7569\n",
            "Epoch 6/50\n",
            "\u001b[1m73/73\u001b[0m \u001b[32m━━━━━━━━━━━━━━━━━━━━\u001b[0m\u001b[37m\u001b[0m \u001b[1m22s\u001b[0m 227ms/step - accuracy: 0.7398 - loss: 1.6252 - val_accuracy: 0.7426 - val_loss: 1.7087\n",
            "Epoch 7/50\n",
            "\u001b[1m73/73\u001b[0m \u001b[32m━━━━━━━━━━━━━━━━━━━━\u001b[0m\u001b[37m\u001b[0m \u001b[1m20s\u001b[0m 222ms/step - accuracy: 0.7497 - loss: 1.5411 - val_accuracy: 0.7482 - val_loss: 1.6751\n",
            "Epoch 8/50\n",
            "\u001b[1m73/73\u001b[0m \u001b[32m━━━━━━━━━━━━━━━━━━━━\u001b[0m\u001b[37m\u001b[0m \u001b[1m20s\u001b[0m 216ms/step - accuracy: 0.7544 - loss: 1.4880 - val_accuracy: 0.7516 - val_loss: 1.6607\n",
            "Epoch 9/50\n",
            "\u001b[1m73/73\u001b[0m \u001b[32m━━━━━━━━━━━━━━━━━━━━\u001b[0m\u001b[37m\u001b[0m \u001b[1m20s\u001b[0m 213ms/step - accuracy: 0.7534 - loss: 1.4592 - val_accuracy: 0.7532 - val_loss: 1.6404\n",
            "Epoch 10/50\n",
            "\u001b[1m73/73\u001b[0m \u001b[32m━━━━━━━━━━━━━━━━━━━━\u001b[0m\u001b[37m\u001b[0m \u001b[1m21s\u001b[0m 218ms/step - accuracy: 0.7638 - loss: 1.3772 - val_accuracy: 0.7550 - val_loss: 1.6323\n",
            "Epoch 11/50\n",
            "\u001b[1m73/73\u001b[0m \u001b[32m━━━━━━━━━━━━━━━━━━━━\u001b[0m\u001b[37m\u001b[0m \u001b[1m20s\u001b[0m 216ms/step - accuracy: 0.7676 - loss: 1.3262 - val_accuracy: 0.7560 - val_loss: 1.6264\n",
            "Epoch 12/50\n",
            "\u001b[1m73/73\u001b[0m \u001b[32m━━━━━━━━━━━━━━━━━━━━\u001b[0m\u001b[37m\u001b[0m \u001b[1m20s\u001b[0m 216ms/step - accuracy: 0.7650 - loss: 1.3129 - val_accuracy: 0.7585 - val_loss: 1.6234\n",
            "Epoch 13/50\n",
            "\u001b[1m73/73\u001b[0m \u001b[32m━━━━━━━━━━━━━━━━━━━━\u001b[0m\u001b[37m\u001b[0m \u001b[1m16s\u001b[0m 217ms/step - accuracy: 0.7687 - loss: 1.2675 - val_accuracy: 0.7596 - val_loss: 1.6284\n",
            "Epoch 14/50\n",
            "\u001b[1m73/73\u001b[0m \u001b[32m━━━━━━━━━━━━━━━━━━━━\u001b[0m\u001b[37m\u001b[0m \u001b[1m20s\u001b[0m 215ms/step - accuracy: 0.7726 - loss: 1.2260 - val_accuracy: 0.7592 - val_loss: 1.6260\n",
            "Epoch 15/50\n",
            "\u001b[1m73/73\u001b[0m \u001b[32m━━━━━━━━━━━━━━━━━━━━\u001b[0m\u001b[37m\u001b[0m \u001b[1m21s\u001b[0m 217ms/step - accuracy: 0.7771 - loss: 1.1810 - val_accuracy: 0.7615 - val_loss: 1.6250\n",
            "Epoch 16/50\n",
            "\u001b[1m73/73\u001b[0m \u001b[32m━━━━━━━━━━━━━━━━━━━━\u001b[0m\u001b[37m\u001b[0m \u001b[1m21s\u001b[0m 225ms/step - accuracy: 0.7811 - loss: 1.1479 - val_accuracy: 0.7624 - val_loss: 1.6213\n",
            "Epoch 17/50\n",
            "\u001b[1m73/73\u001b[0m \u001b[32m━━━━━━━━━━━━━━━━━━━━\u001b[0m\u001b[37m\u001b[0m \u001b[1m20s\u001b[0m 213ms/step - accuracy: 0.7879 - loss: 1.0980 - val_accuracy: 0.7630 - val_loss: 1.6231\n",
            "Epoch 18/50\n",
            "\u001b[1m73/73\u001b[0m \u001b[32m━━━━━━━━━━━━━━━━━━━━\u001b[0m\u001b[37m\u001b[0m \u001b[1m20s\u001b[0m 212ms/step - accuracy: 0.7971 - loss: 1.0429 - val_accuracy: 0.7650 - val_loss: 1.6186\n",
            "Epoch 19/50\n",
            "\u001b[1m73/73\u001b[0m \u001b[32m━━━━━━━━━━━━━━━━━━━━\u001b[0m\u001b[37m\u001b[0m \u001b[1m21s\u001b[0m 216ms/step - accuracy: 0.8015 - loss: 1.0072 - val_accuracy: 0.7672 - val_loss: 1.6166\n",
            "Epoch 20/50\n",
            "\u001b[1m73/73\u001b[0m \u001b[32m━━━━━━━━━━━━━━━━━━━━\u001b[0m\u001b[37m\u001b[0m \u001b[1m21s\u001b[0m 224ms/step - accuracy: 0.8062 - loss: 0.9747 - val_accuracy: 0.7702 - val_loss: 1.6092\n",
            "Epoch 21/50\n",
            "\u001b[1m73/73\u001b[0m \u001b[32m━━━━━━━━━━━━━━━━━━━━\u001b[0m\u001b[37m\u001b[0m \u001b[1m20s\u001b[0m 213ms/step - accuracy: 0.8180 - loss: 0.9106 - val_accuracy: 0.7744 - val_loss: 1.5902\n",
            "Epoch 22/50\n",
            "\u001b[1m73/73\u001b[0m \u001b[32m━━━━━━━━━━━━━━━━━━━━\u001b[0m\u001b[37m\u001b[0m \u001b[1m20s\u001b[0m 211ms/step - accuracy: 0.8269 - loss: 0.8581 - val_accuracy: 0.7801 - val_loss: 1.5663\n",
            "Epoch 23/50\n",
            "\u001b[1m73/73\u001b[0m \u001b[32m━━━━━━━━━━━━━━━━━━━━\u001b[0m\u001b[37m\u001b[0m \u001b[1m15s\u001b[0m 212ms/step - accuracy: 0.8391 - loss: 0.7944 - val_accuracy: 0.7877 - val_loss: 1.5209\n",
            "Epoch 24/50\n",
            "\u001b[1m73/73\u001b[0m \u001b[32m━━━━━━━━━━━━━━━━━━━━\u001b[0m\u001b[37m\u001b[0m \u001b[1m16s\u001b[0m 221ms/step - accuracy: 0.8515 - loss: 0.7293 - val_accuracy: 0.7976 - val_loss: 1.4740\n",
            "Epoch 25/50\n",
            "\u001b[1m73/73\u001b[0m \u001b[32m━━━━━━━━━━━━━━━━━━━━\u001b[0m\u001b[37m\u001b[0m \u001b[1m20s\u001b[0m 211ms/step - accuracy: 0.8687 - loss: 0.6504 - val_accuracy: 0.8079 - val_loss: 1.4100\n",
            "Epoch 26/50\n",
            "\u001b[1m73/73\u001b[0m \u001b[32m━━━━━━━━━━━━━━━━━━━━\u001b[0m\u001b[37m\u001b[0m \u001b[1m21s\u001b[0m 215ms/step - accuracy: 0.8851 - loss: 0.5742 - val_accuracy: 0.8255 - val_loss: 1.3096\n",
            "Epoch 27/50\n",
            "\u001b[1m73/73\u001b[0m \u001b[32m━━━━━━━━━━━━━━━━━━━━\u001b[0m\u001b[37m\u001b[0m \u001b[1m21s\u001b[0m 225ms/step - accuracy: 0.9071 - loss: 0.4817 - val_accuracy: 0.8420 - val_loss: 1.2118\n",
            "Epoch 28/50\n",
            "\u001b[1m73/73\u001b[0m \u001b[32m━━━━━━━━━━━━━━━━━━━━\u001b[0m\u001b[37m\u001b[0m \u001b[1m19s\u001b[0m 213ms/step - accuracy: 0.9337 - loss: 0.3608 - val_accuracy: 0.8616 - val_loss: 1.1078\n",
            "Epoch 29/50\n",
            "\u001b[1m73/73\u001b[0m \u001b[32m━━━━━━━━━━━━━━━━━━━━\u001b[0m\u001b[37m\u001b[0m \u001b[1m20s\u001b[0m 212ms/step - accuracy: 0.9545 - loss: 0.2716 - val_accuracy: 0.8849 - val_loss: 0.9727\n",
            "Epoch 30/50\n",
            "\u001b[1m73/73\u001b[0m \u001b[32m━━━━━━━━━━━━━━━━━━━━\u001b[0m\u001b[37m\u001b[0m \u001b[1m21s\u001b[0m 213ms/step - accuracy: 0.9755 - loss: 0.1762 - val_accuracy: 0.9005 - val_loss: 0.8681\n",
            "Epoch 31/50\n",
            "\u001b[1m73/73\u001b[0m \u001b[32m━━━━━━━━━━━━━━━━━━━━\u001b[0m\u001b[37m\u001b[0m \u001b[1m21s\u001b[0m 222ms/step - accuracy: 0.9880 - loss: 0.1093 - val_accuracy: 0.9122 - val_loss: 0.7898\n",
            "Epoch 32/50\n",
            "\u001b[1m73/73\u001b[0m \u001b[32m━━━━━━━━━━━━━━━━━━━━\u001b[0m\u001b[37m\u001b[0m \u001b[1m20s\u001b[0m 212ms/step - accuracy: 0.9940 - loss: 0.0705 - val_accuracy: 0.9195 - val_loss: 0.7460\n",
            "Epoch 33/50\n",
            "\u001b[1m73/73\u001b[0m \u001b[32m━━━━━━━━━━━━━━━━━━━━\u001b[0m\u001b[37m\u001b[0m \u001b[1m21s\u001b[0m 216ms/step - accuracy: 0.9977 - loss: 0.0435 - val_accuracy: 0.9244 - val_loss: 0.7142\n",
            "Epoch 34/50\n",
            "\u001b[1m73/73\u001b[0m \u001b[32m━━━━━━━━━━━━━━━━━━━━\u001b[0m\u001b[37m\u001b[0m \u001b[1m21s\u001b[0m 221ms/step - accuracy: 0.9988 - loss: 0.0312 - val_accuracy: 0.9276 - val_loss: 0.6899\n",
            "Epoch 35/50\n",
            "\u001b[1m73/73\u001b[0m \u001b[32m━━━━━━━━━━━━━━━━━━━━\u001b[0m\u001b[37m\u001b[0m \u001b[1m20s\u001b[0m 217ms/step - accuracy: 0.9992 - loss: 0.0241 - val_accuracy: 0.9299 - val_loss: 0.6797\n",
            "Epoch 36/50\n",
            "\u001b[1m73/73\u001b[0m \u001b[32m━━━━━━━━━━━━━━━━━━━━\u001b[0m\u001b[37m\u001b[0m \u001b[1m16s\u001b[0m 224ms/step - accuracy: 0.9997 - loss: 0.0175 - val_accuracy: 0.9314 - val_loss: 0.6658\n",
            "Epoch 37/50\n",
            "\u001b[1m73/73\u001b[0m \u001b[32m━━━━━━━━━━━━━━━━━━━━\u001b[0m\u001b[37m\u001b[0m \u001b[1m16s\u001b[0m 213ms/step - accuracy: 0.9996 - loss: 0.0149 - val_accuracy: 0.9320 - val_loss: 0.6624\n",
            "Epoch 38/50\n",
            "\u001b[1m73/73\u001b[0m \u001b[32m━━━━━━━━━━━━━━━━━━━━\u001b[0m\u001b[37m\u001b[0m \u001b[1m21s\u001b[0m 214ms/step - accuracy: 0.9993 - loss: 0.0150 - val_accuracy: 0.9284 - val_loss: 0.6854\n",
            "Epoch 39/50\n",
            "\u001b[1m73/73\u001b[0m \u001b[32m━━━━━━━━━━━━━━━━━━━━\u001b[0m\u001b[37m\u001b[0m \u001b[1m21s\u001b[0m 217ms/step - accuracy: 0.9976 - loss: 0.0236 - val_accuracy: 0.9318 - val_loss: 0.6605\n",
            "Epoch 40/50\n",
            "\u001b[1m73/73\u001b[0m \u001b[32m━━━━━━━━━━━━━━━━━━━━\u001b[0m\u001b[37m\u001b[0m \u001b[1m20s\u001b[0m 217ms/step - accuracy: 0.9992 - loss: 0.0148 - val_accuracy: 0.9353 - val_loss: 0.6398\n",
            "Epoch 41/50\n",
            "\u001b[1m73/73\u001b[0m \u001b[32m━━━━━━━━━━━━━━━━━━━━\u001b[0m\u001b[37m\u001b[0m \u001b[1m16s\u001b[0m 213ms/step - accuracy: 0.9994 - loss: 0.0117 - val_accuracy: 0.9370 - val_loss: 0.6232\n",
            "Epoch 42/50\n",
            "\u001b[1m73/73\u001b[0m \u001b[32m━━━━━━━━━━━━━━━━━━━━\u001b[0m\u001b[37m\u001b[0m \u001b[1m21s\u001b[0m 213ms/step - accuracy: 0.9996 - loss: 0.0099 - val_accuracy: 0.9375 - val_loss: 0.6172\n",
            "Epoch 43/50\n",
            "\u001b[1m73/73\u001b[0m \u001b[32m━━━━━━━━━━━━━━━━━━━━\u001b[0m\u001b[37m\u001b[0m \u001b[1m16s\u001b[0m 214ms/step - accuracy: 0.9997 - loss: 0.0085 - val_accuracy: 0.9385 - val_loss: 0.6105\n",
            "Epoch 44/50\n",
            "\u001b[1m73/73\u001b[0m \u001b[32m━━━━━━━━━━━━━━━━━━━━\u001b[0m\u001b[37m\u001b[0m \u001b[1m21s\u001b[0m 215ms/step - accuracy: 0.9996 - loss: 0.0078 - val_accuracy: 0.9393 - val_loss: 0.6066\n",
            "Epoch 45/50\n",
            "\u001b[1m73/73\u001b[0m \u001b[32m━━━━━━━━━━━━━━━━━━━━\u001b[0m\u001b[37m\u001b[0m \u001b[1m16s\u001b[0m 218ms/step - accuracy: 0.9997 - loss: 0.0068 - val_accuracy: 0.9396 - val_loss: 0.6028\n",
            "Epoch 46/50\n",
            "\u001b[1m73/73\u001b[0m \u001b[32m━━━━━━━━━━━━━━━━━━━━\u001b[0m\u001b[37m\u001b[0m \u001b[1m16s\u001b[0m 213ms/step - accuracy: 0.9996 - loss: 0.0071 - val_accuracy: 0.9391 - val_loss: 0.6091\n",
            "Epoch 47/50\n",
            "\u001b[1m73/73\u001b[0m \u001b[32m━━━━━━━━━━━━━━━━━━━━\u001b[0m\u001b[37m\u001b[0m \u001b[1m21s\u001b[0m 217ms/step - accuracy: 0.9995 - loss: 0.0080 - val_accuracy: 0.9400 - val_loss: 0.5936\n",
            "Epoch 48/50\n",
            "\u001b[1m73/73\u001b[0m \u001b[32m━━━━━━━━━━━━━━━━━━━━\u001b[0m\u001b[37m\u001b[0m \u001b[1m16s\u001b[0m 218ms/step - accuracy: 0.9997 - loss: 0.0059 - val_accuracy: 0.9405 - val_loss: 0.5999\n",
            "Epoch 49/50\n",
            "\u001b[1m73/73\u001b[0m \u001b[32m━━━━━━━━━━━━━━━━━━━━\u001b[0m\u001b[37m\u001b[0m \u001b[1m20s\u001b[0m 219ms/step - accuracy: 0.9997 - loss: 0.0065 - val_accuracy: 0.9410 - val_loss: 0.5933\n",
            "Epoch 50/50\n",
            "\u001b[1m73/73\u001b[0m \u001b[32m━━━━━━━━━━━━━━━━━━━━\u001b[0m\u001b[37m\u001b[0m \u001b[1m20s\u001b[0m 212ms/step - accuracy: 0.9997 - loss: 0.0055 - val_accuracy: 0.9411 - val_loss: 0.5898\n",
            "Restoring model weights from the end of the best epoch: 50.\n"
          ]
        }
      ],
      "execution_count": 32
    },
    {
      "cell_type": "code",
      "source": [
        "# Extract training history\n",
        "sadness_loss = sadness_history.history['loss']\n",
        "sadness_val_loss = sadness_history.history['val_loss']\n",
        "sadness_accuracy = sadness_history.history['accuracy']\n",
        "sadness_val_accuracy = sadness_history.history['val_accuracy']\n",
        "\n",
        "# Create subplots\n",
        "plt.figure(figsize=(12, 5))\n",
        "\n",
        "# Plot Loss\n",
        "plt.subplot(1, 2, 1)\n",
        "plt.plot(sadness_loss, label='Training Loss')\n",
        "plt.plot(sadness_val_loss, label='Validation Loss')\n",
        "plt.title('Sadness Model - Loss')\n",
        "plt.xlabel('Epochs')\n",
        "plt.ylabel('Loss')\n",
        "plt.legend()\n",
        "\n",
        "# Plot Accuracy\n",
        "plt.subplot(1, 2, 2)\n",
        "plt.plot(sadness_accuracy, label='Training Accuracy')\n",
        "plt.plot(sadness_val_accuracy, label='Validation Accuracy')\n",
        "plt.title('Sadness Model - Accuracy')\n",
        "plt.xlabel('Epochs')\n",
        "plt.ylabel('Accuracy')\n",
        "plt.legend()\n",
        "\n",
        "plt.tight_layout()\n",
        "plt.show()\n"
      ],
      "metadata": {
        "trusted": true,
        "execution": {
          "iopub.status.busy": "2025-05-13T07:38:36.742326Z",
          "iopub.execute_input": "2025-05-13T07:38:36.742549Z",
          "iopub.status.idle": "2025-05-13T07:38:37.093159Z",
          "shell.execute_reply.started": "2025-05-13T07:38:36.742531Z",
          "shell.execute_reply": "2025-05-13T07:38:37.092348Z"
        },
        "colab": {
          "base_uri": "https://localhost:8080/",
          "height": 293
        },
        "id": "yfMKMHNKPuFD",
        "outputId": "c9d32d76-bfdc-47ba-9f7a-94a907e32661"
      },
      "outputs": [
        {
          "output_type": "display_data",
          "data": {
            "text/plain": [
              "<Figure size 1200x500 with 2 Axes>"
            ],
            "image/png": "[encoded data removed]"
          },
          "metadata": {}
        }
      ],
      "execution_count": 33
    },
    {
      "cell_type": "markdown",
      "source": [
        "## Inference"
      ],
      "metadata": {
        "id": "Lyz3rpi75sr2"
      }
    },
    {
      "cell_type": "code",
      "source": [
        "latent_dim = 256  # Define latent dimension\n",
        "\n",
        "# Encoder inference model\n",
        "sadness_encoder_model = Model(inputs=sadness_encoder_inputs, outputs=[sadness_encoder_out, sadness_state_h, sadness_state_c])\n",
        "\n",
        "# Decoder inference model\n",
        "sadness_decoder_state_input_h = Input(shape=(latent_dim,))\n",
        "sadness_decoder_state_input_c = Input(shape=(latent_dim,))\n",
        "sadness_decoder_hidden_state_input = Input(shape=(max_sentence_length - 1, latent_dim))\n",
        "\n",
        "sadness_dec_emb2 = sadness_dec_emb_layer(sadness_decoder_inputs)\n",
        "\n",
        "sadness_decoder_outputs2, state_h2, state_c2 = sadness_decoder_lstm(sadness_dec_emb2, initial_state=[sadness_decoder_state_input_h, sadness_decoder_state_input_c])\n",
        "\n",
        "sadness_attn_out_inf, _ = sadness_attn_layer([sadness_decoder_hidden_state_input, sadness_decoder_outputs2])\n",
        "sadness_decoder_inf_concat = Concatenate(axis=-1)([sadness_decoder_outputs2, sadness_attn_out_inf])\n",
        "\n",
        "sadness_decoder_outputs2 = sadness_decoder_dense(sadness_decoder_inf_concat)\n",
        "\n",
        "sadness_decoder_model = Model(\n",
        "    [sadness_decoder_inputs, sadness_decoder_hidden_state_input, sadness_decoder_state_input_h, sadness_decoder_state_input_c],\n",
        "    [sadness_decoder_outputs2, state_h2, state_c2]\n",
        ")\n",
        "\n"
      ],
      "metadata": {
        "id": "YcP-mHXUUXhb",
        "trusted": true,
        "execution": {
          "iopub.status.busy": "2025-05-13T07:38:37.094232Z",
          "iopub.execute_input": "2025-05-13T07:38:37.094705Z",
          "iopub.status.idle": "2025-05-13T07:38:37.107726Z",
          "shell.execute_reply.started": "2025-05-13T07:38:37.094678Z",
          "shell.execute_reply": "2025-05-13T07:38:37.107079Z"
        }
      },
      "outputs": [],
      "execution_count": 34
    },
    {
      "cell_type": "markdown",
      "source": [
        "## Top-p sampling"
      ],
      "metadata": {
        "id": "nQHp5wXTPuFD"
      }
    },
    {
      "cell_type": "markdown",
      "source": [
        "Instead of using argmax (which always picks the top prediction and can lead to repetitive or less diverse text), we use top-p (nucleus) sampling combined with temperature scaling to introduce randomness and control creativity, resulting in more natural, varied, and contextually rich text generation."
      ],
      "metadata": {
        "id": "xPtzoiP-uza5"
      }
    },
    {
      "cell_type": "code",
      "source": [
        "def sample_with_top_p_and_temperature(preds, top_p=0.9, temperature=1.0):\n",
        "    preds = np.asarray(preds).astype('float64')\n",
        "    preds = np.log(preds + 1e-10) / temperature  # temperature scaling\n",
        "    exp_preds = np.exp(preds)\n",
        "    preds = exp_preds / np.sum(exp_preds)\n",
        "\n",
        "    sorted_indices = np.argsort(preds)[::-1]\n",
        "    sorted_probs = preds[sorted_indices]\n",
        "    cumulative_probs = np.cumsum(sorted_probs)\n",
        "\n",
        "    # Cut off tokens with cumulative probability above top_p\n",
        "    cutoff_index = np.where(cumulative_probs > top_p)[0][0] + 1\n",
        "    filtered_indices = sorted_indices[:cutoff_index]\n",
        "    filtered_probs = sorted_probs[:cutoff_index]\n",
        "    filtered_probs = filtered_probs / np.sum(filtered_probs)  # Normalize\n",
        "\n",
        "    sampled_index = np.random.choice(filtered_indices, p=filtered_probs)\n",
        "    return sampled_index"
      ],
      "metadata": {
        "trusted": true,
        "execution": {
          "iopub.status.busy": "2025-05-14T09:20:13.486607Z",
          "iopub.execute_input": "2025-05-14T09:20:13.487289Z",
          "iopub.status.idle": "2025-05-14T09:20:13.492192Z",
          "shell.execute_reply.started": "2025-05-14T09:20:13.487266Z",
          "shell.execute_reply": "2025-05-14T09:20:13.491520Z"
        },
        "id": "S3XM28s0PuFE"
      },
      "outputs": [],
      "execution_count": 36
    },
    {
      "cell_type": "markdown",
      "source": [
        "## Post prepocessing"
      ],
      "metadata": {
        "id": "5xpc9JbyPuFE"
      }
    },
    {
      "cell_type": "code",
      "source": [
        "def post_process_sentence(sentence):\n",
        "    \"\"\"\n",
        "    Adds \"I\" to the beginning of the sentence if it starts with 'feel' or 'feeling'.\n",
        "    \"\"\"\n",
        "    if sentence.startswith(\"feel\") or sentence.startswith(\"feeling\"):\n",
        "        sentence = \"I am \" + sentence if sentence.startswith(\"feeling\") else \"I \" + sentence\n",
        "    return sentence"
      ],
      "metadata": {
        "trusted": true,
        "execution": {
          "iopub.status.busy": "2025-05-14T09:20:16.477979Z",
          "iopub.execute_input": "2025-05-14T09:20:16.478519Z",
          "iopub.status.idle": "2025-05-14T09:20:16.482507Z",
          "shell.execute_reply.started": "2025-05-14T09:20:16.478498Z",
          "shell.execute_reply": "2025-05-14T09:20:16.481813Z"
        },
        "id": "spSRzPrKPuFE"
      },
      "outputs": [],
      "execution_count": 37
    },
    {
      "cell_type": "markdown",
      "source": [
        "After training the model several times, we observed that despite its high accuracy, it struggled to generate coherent sentence beginnings. To address this, we added post-processing steps to enhance the fluency and meaningfulness of the generated text."
      ],
      "metadata": {
        "id": "YlnGBrapu5Oz"
      }
    },
    {
      "cell_type": "markdown",
      "source": [
        "## Grammer correction function"
      ],
      "metadata": {
        "id": "LFIOMYyCPuFE"
      }
    },
    {
      "cell_type": "code",
      "source": [
        "pip install language-tool-python"
      ],
      "metadata": {
        "trusted": true,
        "execution": {
          "iopub.status.busy": "2025-05-14T09:20:18.566448Z",
          "iopub.execute_input": "2025-05-14T09:20:18.567036Z",
          "iopub.status.idle": "2025-05-14T09:20:21.564970Z",
          "shell.execute_reply.started": "2025-05-14T09:20:18.567011Z",
          "shell.execute_reply": "2025-05-14T09:20:21.563929Z"
        },
        "colab": {
          "base_uri": "https://localhost:8080/"
        },
        "collapsed": true,
        "id": "kciEw8GvPuFE",
        "outputId": "eff99864-a6e7-478f-ac6f-a33803499d9f"
      },
      "outputs": [
        {
          "output_type": "stream",
          "name": "stdout",
          "text": [
            "Collecting language-tool-python\n",
            "  Downloading language_tool_python-2.9.3-py3-none-any.whl.metadata (54 kB)\n",
            "\u001b[?25l     \u001b[90m━━━━━━━━━━━━━━━━━━━━━━━━━━━━━━━━━━━━━━━━\u001b[0m \u001b[32m0.0/54.7 kB\u001b[0m \u001b[31m?\u001b[0m eta \u001b[36m-:--:--\u001b[0m\r\u001b[2K     \u001b[90m━━━━━━━━━━━━━━━━━━━━━━━━━━━━━━━━━━━━━━━━\u001b[0m \u001b[32m54.7/54.7 kB\u001b[0m \u001b[31m3.5 MB/s\u001b[0m eta \u001b[36m0:00:00\u001b[0m\n",
            "\u001b[?25hRequirement already satisfied: requests in /usr/local/lib/python3.11/dist-packages (from language-tool-python) (2.32.3)\n",
            "Requirement already satisfied: tqdm in /usr/local/lib/python3.11/dist-packages (from language-tool-python) (4.67.1)\n",
            "Requirement already satisfied: psutil in /usr/local/lib/python3.11/dist-packages (from language-tool-python) (5.9.5)\n",
            "Requirement already satisfied: toml in /usr/local/lib/python3.11/dist-packages (from language-tool-python) (0.10.2)\n",
            "Requirement already satisfied: charset-normalizer<4,>=2 in /usr/local/lib/python3.11/dist-packages (from requests->language-tool-python) (3.4.2)\n",
            "Requirement already satisfied: idna<4,>=2.5 in /usr/local/lib/python3.11/dist-packages (from requests->language-tool-python) (3.10)\n",
            "Requirement already satisfied: urllib3<3,>=1.21.1 in /usr/local/lib/python3.11/dist-packages (from requests->language-tool-python) (2.4.0)\n",
            "Requirement already satisfied: certifi>=2017.4.17 in /usr/local/lib/python3.11/dist-packages (from requests->language-tool-python) (2025.4.26)\n",
            "Downloading language_tool_python-2.9.3-py3-none-any.whl (55 kB)\n",
            "\u001b[?25l   \u001b[90m━━━━━━━━━━━━━━━━━━━━━━━━━━━━━━━━━━━━━━━━\u001b[0m \u001b[32m0.0/55.1 kB\u001b[0m \u001b[31m?\u001b[0m eta \u001b[36m-:--:--\u001b[0m\r\u001b[2K   \u001b[90m━━━━━━━━━━━━━━━━━━━━━━━━━━━━━━━━━━━━━━━━\u001b[0m \u001b[32m55.1/55.1 kB\u001b[0m \u001b[31m5.5 MB/s\u001b[0m eta \u001b[36m0:00:00\u001b[0m\n",
            "\u001b[?25hInstalling collected packages: language-tool-python\n",
            "Successfully installed language-tool-python-2.9.3\n"
          ]
        }
      ],
      "execution_count": 38
    },
    {
      "cell_type": "code",
      "source": [
        "# Step 1: Remove Java 11\n",
        "!sudo apt-get remove openjdk-11-* -y\n",
        "\n",
        "# Step 2: Install Java 17\n",
        "!sudo apt-get update\n",
        "!sudo apt-get install openjdk-17-jdk -y\n",
        "\n",
        "# Step 3: Set Java 17 as the default\n",
        "!sudo update-alternatives --install /usr/bin/java java /usr/lib/jvm/java-17-openjdk-amd64/bin/java 1\n",
        "!sudo update-alternatives --set java /usr/lib/jvm/java-17-openjdk-amd64/bin/java\n",
        "\n",
        "# Step 4: Verify the Java version\n",
        "!java -version\n"
      ],
      "metadata": {
        "trusted": true,
        "execution": {
          "iopub.status.busy": "2025-05-14T09:20:21.566789Z",
          "iopub.execute_input": "2025-05-14T09:20:21.567038Z",
          "iopub.status.idle": "2025-05-14T09:20:29.303303Z",
          "shell.execute_reply.started": "2025-05-14T09:20:21.567011Z",
          "shell.execute_reply": "2025-05-14T09:20:29.302564Z"
        },
        "colab": {
          "base_uri": "https://localhost:8080/"
        },
        "collapsed": true,
        "id": "VQRyXjZuPuFE",
        "outputId": "45e9b69d-4530-4a73-c6bb-e3c4564dcd90"
      },
      "outputs": [
        {
          "output_type": "stream",
          "name": "stdout",
          "text": [
            "Reading package lists... Done\n",
            "Building dependency tree... Done\n",
            "Reading state information... Done\n",
            "Note, selecting 'openjdk-11-jdk' for glob 'openjdk-11-*'\n",
            "Note, selecting 'openjdk-11-jre' for glob 'openjdk-11-*'\n",
            "Note, selecting 'openjdk-11-jre-headless' for glob 'openjdk-11-*'\n",
            "Note, selecting 'openjdk-11-jdk-headless' for glob 'openjdk-11-*'\n",
            "Note, selecting 'openjdk-11-demo' for glob 'openjdk-11-*'\n",
            "Note, selecting 'openjdk-11-source' for glob 'openjdk-11-*'\n",
            "Note, selecting 'openjdk-11-jre-zero' for glob 'openjdk-11-*'\n",
            "Note, selecting 'openjdk-11-dbg' for glob 'openjdk-11-*'\n",
            "Note, selecting 'openjdk-11-doc' for glob 'openjdk-11-*'\n",
            "Note, selecting 'openjdk-11-jre-dcevm' for glob 'openjdk-11-*'\n",
            "Package 'openjdk-11-jre-dcevm' is not installed, so not removed\n",
            "Package 'openjdk-11-dbg' is not installed, so not removed\n",
            "Package 'openjdk-11-doc' is not installed, so not removed\n",
            "Package 'openjdk-11-jdk' is not installed, so not removed\n",
            "Package 'openjdk-11-jre' is not installed, so not removed\n",
            "Package 'openjdk-11-source' is not installed, so not removed\n",
            "Package 'openjdk-11-demo' is not installed, so not removed\n",
            "Package 'openjdk-11-jre-zero' is not installed, so not removed\n",
            "The following packages were automatically installed and are no longer required:\n",
            "  java-common libpcsclite1\n",
            "Use 'sudo apt autoremove' to remove them.\n",
            "The following packages will be REMOVED:\n",
            "  ca-certificates-java openjdk-11-jdk-headless openjdk-11-jre-headless\n",
            "0 upgraded, 0 newly installed, 3 to remove and 34 not upgraded.\n",
            "After this operation, 258 MB disk space will be freed.\n",
            "(Reading database ... 126102 files and directories currently installed.)\n",
            "Removing openjdk-11-jdk-headless:amd64 (11.0.27+6~us1-0ubuntu1~22.04) ...\n",
            "Removing openjdk-11-jre-headless:amd64 (11.0.27+6~us1-0ubuntu1~22.04) ...\n",
            "Removing ca-certificates-java (20190909ubuntu1.2) ...\n",
            "Processing triggers for ca-certificates (20240203~22.04.1) ...\n",
            "Updating certificates in /etc/ssl/certs...\n",
            "0 added, 0 removed; done.\n",
            "Running hooks in /etc/ca-certificates/update.d...\n",
            "\n",
            "updates of cacerts keystore disabled.\n",
            "done.\n",
            "Get:1 https://cloud.r-project.org/bin/linux/ubuntu jammy-cran40/ InRelease [3,632 B]\n",
            "Get:2 https://developer.download.nvidia.com/compute/cuda/repos/ubuntu2204/x86_64  InRelease [1,581 B]\n",
            "Get:3 http://security.ubuntu.com/ubuntu jammy-security InRelease [129 kB]\n",
            "Hit:4 http://archive.ubuntu.com/ubuntu jammy InRelease\n",
            "Get:5 https://r2u.stat.illinois.edu/ubuntu jammy InRelease [6,555 B]\n",
            "Get:6 http://archive.ubuntu.com/ubuntu jammy-updates InRelease [128 kB]\n",
            "Get:7 https://developer.download.nvidia.com/compute/cuda/repos/ubuntu2204/x86_64  Packages [1,676 kB]\n",
            "Hit:8 https://ppa.launchpadcontent.net/deadsnakes/ppa/ubuntu jammy InRelease\n",
            "Hit:9 https://ppa.launchpadcontent.net/graphics-drivers/ppa/ubuntu jammy InRelease\n",
            "Hit:10 https://ppa.launchpadcontent.net/ubuntugis/ppa/ubuntu jammy InRelease\n",
            "Get:11 http://archive.ubuntu.com/ubuntu jammy-backports InRelease [127 kB]\n",
            "Get:12 https://r2u.stat.illinois.edu/ubuntu jammy/main amd64 Packages [2,723 kB]\n",
            "Get:13 https://r2u.stat.illinois.edu/ubuntu jammy/main all Packages [8,939 kB]\n",
            "Get:14 http://security.ubuntu.com/ubuntu jammy-security/restricted amd64 Packages [4,363 kB]\n",
            "Get:15 http://archive.ubuntu.com/ubuntu jammy-updates/main amd64 Packages [3,245 kB]\n",
            "Get:16 http://security.ubuntu.com/ubuntu jammy-security/main amd64 Packages [2,934 kB]\n",
            "Get:17 http://archive.ubuntu.com/ubuntu jammy-updates/universe amd64 Packages [1,546 kB]\n",
            "Get:18 http://archive.ubuntu.com/ubuntu jammy-updates/restricted amd64 Packages [4,517 kB]\n",
            "Get:19 http://archive.ubuntu.com/ubuntu jammy-backports/universe amd64 Packages [35.2 kB]\n",
            "Get:20 http://archive.ubuntu.com/ubuntu jammy-backports/main amd64 Packages [83.2 kB]\n",
            "Fetched 30.5 MB in 5s (5,741 kB/s)\n",
            "Reading package lists... Done\n",
            "W: Skipping acquire of configured file 'main/source/Sources' as repository 'https://r2u.stat.illinois.edu/ubuntu jammy InRelease' does not seem to provide it (sources.list entry misspelt?)\n",
            "Reading package lists... Done\n",
            "Building dependency tree... Done\n",
            "Reading state information... Done\n",
            "The following additional packages will be installed:\n",
            "  ca-certificates-java fonts-dejavu-core fonts-dejavu-extra\n",
            "  libatk-wrapper-java libatk-wrapper-java-jni libxt-dev libxtst6 libxxf86dga1\n",
            "  openjdk-17-jdk-headless openjdk-17-jre openjdk-17-jre-headless x11-utils\n",
            "Suggested packages:\n",
            "  libxt-doc openjdk-17-demo openjdk-17-source visualvm libnss-mdns\n",
            "  fonts-ipafont-gothic fonts-ipafont-mincho fonts-wqy-microhei\n",
            "  | fonts-wqy-zenhei fonts-indic mesa-utils\n",
            "The following NEW packages will be installed:\n",
            "  ca-certificates-java fonts-dejavu-core fonts-dejavu-extra\n",
            "  libatk-wrapper-java libatk-wrapper-java-jni libxt-dev libxtst6 libxxf86dga1\n",
            "  openjdk-17-jdk openjdk-17-jdk-headless openjdk-17-jre\n",
            "  openjdk-17-jre-headless x11-utils\n",
            "0 upgraded, 13 newly installed, 0 to remove and 35 not upgraded.\n",
            "Need to get 126 MB of archives.\n",
            "After this operation, 288 MB of additional disk space will be used.\n",
            "Get:1 http://archive.ubuntu.com/ubuntu jammy-updates/universe amd64 openjdk-17-jre-headless amd64 17.0.15+6~us1-0ubuntu1~22.04 [48.3 MB]\n",
            "Get:2 http://archive.ubuntu.com/ubuntu jammy-updates/main amd64 ca-certificates-java all 20190909ubuntu1.2 [12.1 kB]\n",
            "Get:3 http://archive.ubuntu.com/ubuntu jammy/main amd64 fonts-dejavu-core all 2.37-2build1 [1,041 kB]\n",
            "Get:4 http://archive.ubuntu.com/ubuntu jammy/main amd64 fonts-dejavu-extra all 2.37-2build1 [2,041 kB]\n",
            "Get:5 http://archive.ubuntu.com/ubuntu jammy/main amd64 libxtst6 amd64 2:1.2.3-1build4 [13.4 kB]\n",
            "Get:6 http://archive.ubuntu.com/ubuntu jammy/main amd64 libxxf86dga1 amd64 2:1.1.5-0ubuntu3 [12.6 kB]\n",
            "Get:7 http://archive.ubuntu.com/ubuntu jammy/main amd64 x11-utils amd64 7.7+5build2 [206 kB]\n",
            "Get:8 http://archive.ubuntu.com/ubuntu jammy/main amd64 libatk-wrapper-java all 0.38.0-5build1 [53.1 kB]\n",
            "Get:9 http://archive.ubuntu.com/ubuntu jammy/main amd64 libatk-wrapper-java-jni amd64 0.38.0-5build1 [49.0 kB]\n",
            "Get:10 http://archive.ubuntu.com/ubuntu jammy/main amd64 libxt-dev amd64 1:1.2.1-1 [396 kB]\n",
            "Get:11 http://archive.ubuntu.com/ubuntu jammy-updates/universe amd64 openjdk-17-jre amd64 17.0.15+6~us1-0ubuntu1~22.04 [232 kB]\n",
            "Get:12 http://archive.ubuntu.com/ubuntu jammy-updates/universe amd64 openjdk-17-jdk-headless amd64 17.0.15+6~us1-0ubuntu1~22.04 [71.3 MB]\n",
            "Get:13 http://archive.ubuntu.com/ubuntu jammy-updates/universe amd64 openjdk-17-jdk amd64 17.0.15+6~us1-0ubuntu1~22.04 [2,403 kB]\n",
            "Fetched 126 MB in 9s (14.7 MB/s)\n",
            "debconf: unable to initialize frontend: Dialog\n",
            "debconf: (No usable dialog-like program is installed, so the dialog based frontend cannot be used. at /usr/share/perl5/Debconf/FrontEnd/Dialog.pm line 78, <> line 13.)\n",
            "debconf: falling back to frontend: Readline\n",
            "debconf: unable to initialize frontend: Readline\n",
            "debconf: (This frontend requires a controlling tty.)\n",
            "debconf: falling back to frontend: Teletype\n",
            "dpkg-preconfigure: unable to re-open stdin: \n",
            "Selecting previously unselected package openjdk-17-jre-headless:amd64.\n",
            "(Reading database ... 125643 files and directories currently installed.)\n",
            "Preparing to unpack .../00-openjdk-17-jre-headless_17.0.15+6~us1-0ubuntu1~22.04_amd64.deb ...\n",
            "Unpacking openjdk-17-jre-headless:amd64 (17.0.15+6~us1-0ubuntu1~22.04) ...\n",
            "Selecting previously unselected package ca-certificates-java.\n",
            "Preparing to unpack .../01-ca-certificates-java_20190909ubuntu1.2_all.deb ...\n",
            "Unpacking ca-certificates-java (20190909ubuntu1.2) ...\n",
            "Selecting previously unselected package fonts-dejavu-core.\n",
            "Preparing to unpack .../02-fonts-dejavu-core_2.37-2build1_all.deb ...\n",
            "Unpacking fonts-dejavu-core (2.37-2build1) ...\n",
            "Selecting previously unselected package fonts-dejavu-extra.\n",
            "Preparing to unpack .../03-fonts-dejavu-extra_2.37-2build1_all.deb ...\n",
            "Unpacking fonts-dejavu-extra (2.37-2build1) ...\n",
            "Selecting previously unselected package libxtst6:amd64.\n",
            "Preparing to unpack .../04-libxtst6_2%3a1.2.3-1build4_amd64.deb ...\n",
            "Unpacking libxtst6:amd64 (2:1.2.3-1build4) ...\n",
            "Selecting previously unselected package libxxf86dga1:amd64.\n",
            "Preparing to unpack .../05-libxxf86dga1_2%3a1.1.5-0ubuntu3_amd64.deb ...\n",
            "Unpacking libxxf86dga1:amd64 (2:1.1.5-0ubuntu3) ...\n",
            "Selecting previously unselected package x11-utils.\n",
            "Preparing to unpack .../06-x11-utils_7.7+5build2_amd64.deb ...\n",
            "Unpacking x11-utils (7.7+5build2) ...\n",
            "Selecting previously unselected package libatk-wrapper-java.\n",
            "Preparing to unpack .../07-libatk-wrapper-java_0.38.0-5build1_all.deb ...\n",
            "Unpacking libatk-wrapper-java (0.38.0-5build1) ...\n",
            "Selecting previously unselected package libatk-wrapper-java-jni:amd64.\n",
            "Preparing to unpack .../08-libatk-wrapper-java-jni_0.38.0-5build1_amd64.deb ...\n",
            "Unpacking libatk-wrapper-java-jni:amd64 (0.38.0-5build1) ...\n",
            "Selecting previously unselected package libxt-dev:amd64.\n",
            "Preparing to unpack .../09-libxt-dev_1%3a1.2.1-1_amd64.deb ...\n",
            "Unpacking libxt-dev:amd64 (1:1.2.1-1) ...\n",
            "Selecting previously unselected package openjdk-17-jre:amd64.\n",
            "Preparing to unpack .../10-openjdk-17-jre_17.0.15+6~us1-0ubuntu1~22.04_amd64.deb ...\n",
            "Unpacking openjdk-17-jre:amd64 (17.0.15+6~us1-0ubuntu1~22.04) ...\n",
            "Selecting previously unselected package openjdk-17-jdk-headless:amd64.\n",
            "Preparing to unpack .../11-openjdk-17-jdk-headless_17.0.15+6~us1-0ubuntu1~22.04_amd64.deb ...\n",
            "Unpacking openjdk-17-jdk-headless:amd64 (17.0.15+6~us1-0ubuntu1~22.04) ...\n",
            "Selecting previously unselected package openjdk-17-jdk:amd64.\n",
            "Preparing to unpack .../12-openjdk-17-jdk_17.0.15+6~us1-0ubuntu1~22.04_amd64.deb ...\n",
            "Unpacking openjdk-17-jdk:amd64 (17.0.15+6~us1-0ubuntu1~22.04) ...\n",
            "Setting up libxtst6:amd64 (2:1.2.3-1build4) ...\n",
            "Setting up libxxf86dga1:amd64 (2:1.1.5-0ubuntu3) ...\n",
            "Setting up libxt-dev:amd64 (1:1.2.1-1) ...\n",
            "Setting up fonts-dejavu-core (2.37-2build1) ...\n",
            "Setting up fonts-dejavu-extra (2.37-2build1) ...\n",
            "Setting up x11-utils (7.7+5build2) ...\n",
            "Setting up libatk-wrapper-java (0.38.0-5build1) ...\n",
            "Setting up libatk-wrapper-java-jni:amd64 (0.38.0-5build1) ...\n",
            "Setting up ca-certificates-java (20190909ubuntu1.2) ...\n",
            "Processing triggers for libc-bin (2.35-0ubuntu3.8) ...\n",
            "/sbin/ldconfig.real: /usr/local/lib/libtbbmalloc.so.2 is not a symbolic link\n",
            "\n",
            "/sbin/ldconfig.real: /usr/local/lib/libtcm.so.1 is not a symbolic link\n",
            "\n",
            "/sbin/ldconfig.real: /usr/local/lib/libur_loader.so.0 is not a symbolic link\n",
            "\n",
            "/sbin/ldconfig.real: /usr/local/lib/libtbbbind_2_5.so.3 is not a symbolic link\n",
            "\n",
            "/sbin/ldconfig.real: /usr/local/lib/libumf.so.0 is not a symbolic link\n",
            "\n",
            "/sbin/ldconfig.real: /usr/local/lib/libtbbmalloc_proxy.so.2 is not a symbolic link\n",
            "\n",
            "/sbin/ldconfig.real: /usr/local/lib/libtbbbind_2_0.so.3 is not a symbolic link\n",
            "\n",
            "/sbin/ldconfig.real: /usr/local/lib/libhwloc.so.15 is not a symbolic link\n",
            "\n",
            "/sbin/ldconfig.real: /usr/local/lib/libur_adapter_level_zero.so.0 is not a symbolic link\n",
            "\n",
            "/sbin/ldconfig.real: /usr/local/lib/libtbb.so.12 is not a symbolic link\n",
            "\n",
            "/sbin/ldconfig.real: /usr/local/lib/libtbbbind.so.3 is not a symbolic link\n",
            "\n",
            "/sbin/ldconfig.real: /usr/local/lib/libur_adapter_opencl.so.0 is not a symbolic link\n",
            "\n",
            "/sbin/ldconfig.real: /usr/local/lib/libtcm_debug.so.1 is not a symbolic link\n",
            "\n",
            "Processing triggers for man-db (2.10.2-1) ...\n",
            "Processing triggers for ca-certificates (20240203~22.04.1) ...\n",
            "Updating certificates in /etc/ssl/certs...\n",
            "0 added, 0 removed; done.\n",
            "Running hooks in /etc/ca-certificates/update.d...\n",
            "\n",
            "done.\n",
            "done.\n",
            "Setting up openjdk-17-jre-headless:amd64 (17.0.15+6~us1-0ubuntu1~22.04) ...\n",
            "update-alternatives: using /usr/lib/jvm/java-17-openjdk-amd64/bin/java to provide /usr/bin/java (java) in auto mode\n",
            "update-alternatives: using /usr/lib/jvm/java-17-openjdk-amd64/bin/jpackage to provide /usr/bin/jpackage (jpackage) in auto mode\n",
            "update-alternatives: using /usr/lib/jvm/java-17-openjdk-amd64/bin/keytool to provide /usr/bin/keytool (keytool) in auto mode\n",
            "update-alternatives: using /usr/lib/jvm/java-17-openjdk-amd64/bin/rmiregistry to provide /usr/bin/rmiregistry (rmiregistry) in auto mode\n",
            "update-alternatives: using /usr/lib/jvm/java-17-openjdk-amd64/lib/jexec to provide /usr/bin/jexec (jexec) in auto mode\n",
            "Processing triggers for mailcap (3.70+nmu1ubuntu1) ...\n",
            "Processing triggers for fontconfig (2.13.1-4.2ubuntu5) ...\n",
            "Processing triggers for hicolor-icon-theme (0.17-2) ...\n",
            "Setting up openjdk-17-jre:amd64 (17.0.15+6~us1-0ubuntu1~22.04) ...\n",
            "Setting up openjdk-17-jdk-headless:amd64 (17.0.15+6~us1-0ubuntu1~22.04) ...\n",
            "update-alternatives: using /usr/lib/jvm/java-17-openjdk-amd64/bin/jar to provide /usr/bin/jar (jar) in auto mode\n",
            "update-alternatives: using /usr/lib/jvm/java-17-openjdk-amd64/bin/jarsigner to provide /usr/bin/jarsigner (jarsigner) in auto mode\n",
            "update-alternatives: using /usr/lib/jvm/java-17-openjdk-amd64/bin/javac to provide /usr/bin/javac (javac) in auto mode\n",
            "update-alternatives: using /usr/lib/jvm/java-17-openjdk-amd64/bin/javadoc to provide /usr/bin/javadoc (javadoc) in auto mode\n",
            "update-alternatives: using /usr/lib/jvm/java-17-openjdk-amd64/bin/javap to provide /usr/bin/javap (javap) in auto mode\n",
            "update-alternatives: using /usr/lib/jvm/java-17-openjdk-amd64/bin/jcmd to provide /usr/bin/jcmd (jcmd) in auto mode\n",
            "update-alternatives: using /usr/lib/jvm/java-17-openjdk-amd64/bin/jdb to provide /usr/bin/jdb (jdb) in auto mode\n",
            "update-alternatives: using /usr/lib/jvm/java-17-openjdk-amd64/bin/jdeprscan to provide /usr/bin/jdeprscan (jdeprscan) in auto mode\n",
            "update-alternatives: using /usr/lib/jvm/java-17-openjdk-amd64/bin/jdeps to provide /usr/bin/jdeps (jdeps) in auto mode\n",
            "update-alternatives: using /usr/lib/jvm/java-17-openjdk-amd64/bin/jfr to provide /usr/bin/jfr (jfr) in auto mode\n",
            "update-alternatives: using /usr/lib/jvm/java-17-openjdk-amd64/bin/jimage to provide /usr/bin/jimage (jimage) in auto mode\n",
            "update-alternatives: using /usr/lib/jvm/java-17-openjdk-amd64/bin/jinfo to provide /usr/bin/jinfo (jinfo) in auto mode\n",
            "update-alternatives: using /usr/lib/jvm/java-17-openjdk-amd64/bin/jlink to provide /usr/bin/jlink (jlink) in auto mode\n",
            "update-alternatives: using /usr/lib/jvm/java-17-openjdk-amd64/bin/jmap to provide /usr/bin/jmap (jmap) in auto mode\n",
            "update-alternatives: using /usr/lib/jvm/java-17-openjdk-amd64/bin/jmod to provide /usr/bin/jmod (jmod) in auto mode\n",
            "update-alternatives: using /usr/lib/jvm/java-17-openjdk-amd64/bin/jps to provide /usr/bin/jps (jps) in auto mode\n",
            "update-alternatives: using /usr/lib/jvm/java-17-openjdk-amd64/bin/jrunscript to provide /usr/bin/jrunscript (jrunscript) in auto mode\n",
            "update-alternatives: using /usr/lib/jvm/java-17-openjdk-amd64/bin/jshell to provide /usr/bin/jshell (jshell) in auto mode\n",
            "update-alternatives: using /usr/lib/jvm/java-17-openjdk-amd64/bin/jstack to provide /usr/bin/jstack (jstack) in auto mode\n",
            "update-alternatives: using /usr/lib/jvm/java-17-openjdk-amd64/bin/jstat to provide /usr/bin/jstat (jstat) in auto mode\n",
            "update-alternatives: using /usr/lib/jvm/java-17-openjdk-amd64/bin/jstatd to provide /usr/bin/jstatd (jstatd) in auto mode\n",
            "update-alternatives: using /usr/lib/jvm/java-17-openjdk-amd64/bin/serialver to provide /usr/bin/serialver (serialver) in auto mode\n",
            "update-alternatives: using /usr/lib/jvm/java-17-openjdk-amd64/bin/jhsdb to provide /usr/bin/jhsdb (jhsdb) in auto mode\n",
            "Setting up openjdk-17-jdk:amd64 (17.0.15+6~us1-0ubuntu1~22.04) ...\n",
            "update-alternatives: using /usr/lib/jvm/java-17-openjdk-amd64/bin/jconsole to provide /usr/bin/jconsole (jconsole) in auto mode\n",
            "update-alternatives: warning: forcing reinstallation of alternative /usr/lib/jvm/java-17-openjdk-amd64/bin/java because link group java is broken\n",
            "openjdk version \"17.0.15\" 2025-04-15\n",
            "OpenJDK Runtime Environment (build 17.0.15+6-Ubuntu-0ubuntu122.04)\n",
            "OpenJDK 64-Bit Server VM (build 17.0.15+6-Ubuntu-0ubuntu122.04, mixed mode, sharing)\n"
          ]
        }
      ],
      "execution_count": 39
    },
    {
      "cell_type": "code",
      "source": [
        "import language_tool_python\n",
        "\n",
        "# Initialize LanguageTool for grammar correction\n",
        "tool = language_tool_python.LanguageTool('en-US')\n",
        "\n",
        "def correct_grammar(text):\n",
        "    \"\"\"Corrects grammar in the input text using LanguageTool.\"\"\"\n",
        "    matches = tool.check(text)\n",
        "    return language_tool_python.utils.correct(text, matches)"
      ],
      "metadata": {
        "trusted": true,
        "execution": {
          "iopub.status.busy": "2025-05-14T09:20:31.932854Z",
          "iopub.execute_input": "2025-05-14T09:20:31.933598Z",
          "iopub.status.idle": "2025-05-14T09:20:38.810812Z",
          "shell.execute_reply.started": "2025-05-14T09:20:31.933566Z",
          "shell.execute_reply": "2025-05-14T09:20:38.809912Z"
        },
        "colab": {
          "base_uri": "https://localhost:8080/"
        },
        "collapsed": true,
        "id": "pDm_yBczPuFE",
        "outputId": "f63612df-6321-49a1-fbcf-edf7c8199f7b"
      },
      "outputs": [
        {
          "output_type": "stream",
          "name": "stderr",
          "text": [
            "Downloading LanguageTool latest: 100%|██████████| 252M/252M [00:17<00:00, 14.6MB/s]\n",
            "INFO:language_tool_python.download_lt:Unzipping /tmp/tmp57qq_yt3.zip to /root/.cache/language_tool_python.\n",
            "INFO:language_tool_python.download_lt:Downloaded https://internal1.languagetool.org/snapshots/LanguageTool-latest-snapshot.zip to /root/.cache/language_tool_python.\n"
          ]
        }
      ],
      "execution_count": 40
    },
    {
      "cell_type": "markdown",
      "source": [
        "Along with the post-processing steps, we incorporated a grammar correction function using language_tool_python to make the generated sentences more grammatically correct and readable."
      ],
      "metadata": {
        "id": "6S2HLO4hwRQh"
      }
    },
    {
      "cell_type": "markdown",
      "source": [
        "## Generating Text Function"
      ],
      "metadata": {
        "id": "f1_M_kYH5sr3"
      }
    },
    {
      "cell_type": "code",
      "source": [
        "max_sentence_length=15\n",
        "def generate_text_for_sadness(tokenizer, encoder_model, decoder_model, max_len=max_sentence_length-1):\n",
        "    prompt = \"Write a tweet expressing sadness.\"\n",
        "\n",
        "    # Convert prompt to sequence\n",
        "    input_seq_ids = tokenizer.texts_to_sequences([prompt])[0]\n",
        "    input_seq_padded = pad_sequences([input_seq_ids], maxlen=59, padding='post')\n",
        "\n",
        "    # Encode prompt\n",
        "    encoder_out, state_h, state_c = encoder_model.predict(input_seq_padded, verbose=0)\n",
        "    states = [state_h, state_c]\n",
        "\n",
        "    # Initialize decoder\n",
        "    sos_token_index = tokenizer.word_index['<sos>']\n",
        "    eos_token_index = tokenizer.word_index['<eos>']\n",
        "    target_seq = np.array([[sos_token_index]])\n",
        "\n",
        "    decoded_tokens = []\n",
        "\n",
        "    for _ in range(max_len):\n",
        "        output_tokens, h, c = decoder_model.predict(\n",
        "            [target_seq, encoder_out, state_h, state_c], verbose=0)\n",
        "        preds = output_tokens[0, 0, :]\n",
        "        sampled_token_index = sample_with_top_p_and_temperature(preds, top_p=0.9, temperature=0.7)\n",
        "\n",
        "        if sampled_token_index == eos_token_index:\n",
        "            break\n",
        "\n",
        "        decoded_tokens.append(sampled_token_index)\n",
        "        target_seq = np.array([[sampled_token_index]])\n",
        "        state_h, state_c = h, c\n",
        "\n",
        "    sentence = tokenizer.sequences_to_texts([decoded_tokens])[0]\n",
        "    sentence = post_process_sentence(sentence)\n",
        "    sentence = correct_grammar(sentence)\n",
        "\n",
        "    # Add quality checks\n",
        "    if not sentence or len(sentence.split()) < 3:\n",
        "        return generate_text_for_sadness(tokenizer, encoder_model, decoder_model, max_len)\n",
        "\n",
        "    return sentence"
      ],
      "metadata": {
        "id": "Fe-H2gBYVNDC",
        "trusted": true,
        "execution": {
          "iopub.status.busy": "2025-05-14T08:48:25.198735Z",
          "iopub.execute_input": "2025-05-14T08:48:25.199584Z",
          "iopub.status.idle": "2025-05-14T08:48:25.206731Z",
          "shell.execute_reply.started": "2025-05-14T08:48:25.199555Z",
          "shell.execute_reply": "2025-05-14T08:48:25.205870Z"
        }
      },
      "outputs": [],
      "execution_count": 41
    },
    {
      "cell_type": "markdown",
      "source": [
        "This function generates synthetic tweets that express **sadness** using a trained sequence-to-sequence (seq2seq) model. The generation starts with a predefined prompt (`\"Write a tweet expressing sadness.\"`) and uses an encoder-decoder architecture to generate tokens sequentially.\n",
        "\n",
        "- It leverages **Top-p (nucleus) sampling** combined with **temperature scaling** to introduce diversity and creativity in the output, avoiding repetitive or overly generic text.\n",
        "- The decoder starts from a `<sos>` token and generates words until the `<eos>` token is predicted or the maximum sentence length is reached.\n",
        "- **Post-processing** steps are applied to enhance readability.\n",
        "- **Grammar correction** is performed using `language_tool_python`.\n",
        "- **Quality checks** ensure only meaningful outputs (with at least 3 words) are returned.\n",
        "\n",
        "**Best results** were achieved with:\n",
        "- **Top-p** = `0.9`\n",
        "- **Temperature** = `0.7`\n",
        "\n",
        "This combination strikes a good balance between coherence and variation in generated sentences."
      ],
      "metadata": {
        "id": "1F8-6-irxRq8"
      }
    },
    {
      "cell_type": "code",
      "source": [
        "def generate_sadness_texts(n):\n",
        "    generated = []\n",
        "    for i in range(n):\n",
        "        sentence = generate_text_for_sadness(sadness_tokenizer, sadness_encoder_model, sadness_decoder_model, max_len=max_sentence_length - 1)\n",
        "        generated.append(sentence)\n",
        "    return generated"
      ],
      "metadata": {
        "trusted": true,
        "id": "w0uCB_6_5sr4",
        "execution": {
          "iopub.status.busy": "2025-05-14T08:40:49.728272Z",
          "iopub.status.idle": "2025-05-14T08:40:49.728519Z",
          "shell.execute_reply.started": "2025-05-14T08:40:49.728403Z",
          "shell.execute_reply": "2025-05-14T08:40:49.728418Z"
        }
      },
      "outputs": [],
      "execution_count": 42
    },
    {
      "cell_type": "code",
      "source": [
        "sadness_gentext = generate_sadness_texts(10)\n",
        "sadness_gentext"
      ],
      "metadata": {
        "colab": {
          "base_uri": "https://localhost:8080/"
        },
        "id": "2xNMHcqSU8K2",
        "outputId": "ebac7d99-329d-4735-81d7-4eb34dc85b76"
      },
      "execution_count": 43,
      "outputs": [
        {
          "output_type": "execute_result",
          "data": {
            "text/plain": [
              "['I am feeling so a little messy',\n",
              " 'I am feeling pretty like a hypocrite',\n",
              " 'I am feeling pretty so homesick',\n",
              " 'I am feeling so like a bit',\n",
              " 'I am feeling so like an unsuccessful',\n",
              " 'I am feeling pretty',\n",
              " 'I am feeling so like a lifestyle',\n",
              " 'I am feeling so, so lucky',\n",
              " 'I am feeling so',\n",
              " 'I am feeling so, so messy']"
            ]
          },
          "metadata": {},
          "execution_count": 43
        }
      ]
    },
    {
      "cell_type": "markdown",
      "source": [
        "Above are 10 synthetic tweets generated by the seq2seq model trained on the *sadness* emotion. The generation uses Top-p sampling with temperature to ensure diversity and emotional relevance."
      ],
      "metadata": {
        "id": "G6oMefRtxXJU"
      }
    },
    {
      "cell_type": "code",
      "source": [
        "sadness_gentext = generate_sadness_texts(964)\n",
        "sadness_gentext"
      ],
      "metadata": {
        "id": "-8X0UBMKXmR2",
        "trusted": true,
        "execution": {
          "iopub.status.busy": "2025-05-13T09:25:12.711735Z",
          "iopub.execute_input": "2025-05-13T09:25:12.712010Z",
          "execution_failed": "2025-05-13T13:27:44.964Z"
        }
      },
      "outputs": [],
      "execution_count": 44
    },
    {
      "cell_type": "markdown",
      "source": [
        "We then generated the required number of synthetic texts to balance the dataset across all emotion classes."
      ],
      "metadata": {
        "id": "2iHoUak1xyLN"
      }
    },
    {
      "cell_type": "code",
      "source": [
        "\n",
        "sadness_texts = {'text': sadness_gentext, 'emotions': ['sadness'] * len(sadness_gentext)}\n",
        "\n",
        "# Convert to DataFrame\n",
        "df_sadness_texts = pd.DataFrame(sadness_texts)"
      ],
      "metadata": {
        "id": "A7qjMyEgX2Xq",
        "trusted": true,
        "execution": {
          "iopub.status.busy": "2025-05-13T09:00:31.052865Z",
          "iopub.execute_input": "2025-05-13T09:00:31.053316Z",
          "iopub.status.idle": "2025-05-13T09:00:31.057919Z",
          "shell.execute_reply.started": "2025-05-13T09:00:31.053298Z",
          "shell.execute_reply": "2025-05-13T09:00:31.057173Z"
        },
        "colab": {
          "base_uri": "https://localhost:8080/",
          "height": 53
        },
        "outputId": "7cec762e-927f-4151-dc9f-75ead4b54695"
      },
      "outputs": [
        {
          "output_type": "execute_result",
          "data": {
            "text/plain": [
              "\"sadness_texts = {'text': sadness_gentext, 'emotions': ['sadness'] * len(sadness_gentext)}\\n\\n# Convert to DataFrame\\ndf_sadness_texts = pd.DataFrame(sadness_texts)\""
            ],
            "application/vnd.google.colaboratory.intrinsic+json": {
              "type": "string"
            }
          },
          "metadata": {},
          "execution_count": 45
        }
      ],
      "execution_count": 45
    },
    {
      "cell_type": "markdown",
      "source": [
        "later, we converted them into dataframe and saved as .csv file."
      ],
      "metadata": {
        "id": "AGBW96dByCSp"
      }
    },
    {
      "cell_type": "code",
      "source": [
        "df_sadness_texts.to_csv('sadness_texts.csv', index=False)\n"
      ],
      "metadata": {
        "trusted": true,
        "execution": {
          "iopub.status.busy": "2025-05-13T09:15:50.093220Z",
          "iopub.execute_input": "2025-05-13T09:15:50.093570Z",
          "iopub.status.idle": "2025-05-13T09:15:50.101610Z",
          "shell.execute_reply.started": "2025-05-13T09:15:50.093539Z",
          "shell.execute_reply": "2025-05-13T09:15:50.100666Z"
        },
        "id": "z-A0CqPlPuFF"
      },
      "outputs": [],
      "execution_count": 47
    },
    {
      "cell_type": "code",
      "source": [
        "# Check if file exists\n",
        "print(\"File exists:\", os.path.exists('sadness_texts.csv'))"
      ],
      "metadata": {
        "trusted": true,
        "execution": {
          "iopub.status.busy": "2025-05-13T09:18:08.388034Z",
          "iopub.execute_input": "2025-05-13T09:18:08.388359Z",
          "iopub.status.idle": "2025-05-13T09:18:08.392876Z",
          "shell.execute_reply.started": "2025-05-13T09:18:08.388338Z",
          "shell.execute_reply": "2025-05-13T09:18:08.392237Z"
        },
        "id": "mJ_ocfsKPuFG"
      },
      "outputs": [],
      "execution_count": 48
    },
    {
      "cell_type": "markdown",
      "source": [
        "**NOTE:** The same text generation process is applied for each emotion, with slight adjustments to the model and generation parameters (such as prompt, top-p, and temperature). To keep things concise, individual explanations for each emotion are omitted."
      ],
      "metadata": {
        "id": "tpms1CjxyJ7U"
      }
    },
    {
      "cell_type": "markdown",
      "source": [
        "## **2.Emotion-Specific Text Generation: *Surprise Class***"
      ],
      "metadata": {
        "id": "xRBFTjrKPuFG"
      }
    },
    {
      "cell_type": "code",
      "source": [
        "surprise_df.head()"
      ],
      "metadata": {
        "trusted": true,
        "execution": {
          "iopub.status.busy": "2025-05-14T08:45:47.178134Z",
          "iopub.execute_input": "2025-05-14T08:45:47.178413Z",
          "iopub.status.idle": "2025-05-14T08:45:47.187464Z",
          "shell.execute_reply.started": "2025-05-14T08:45:47.178391Z",
          "shell.execute_reply": "2025-05-14T08:45:47.186884Z"
        },
        "colab": {
          "base_uri": "https://localhost:8080/",
          "height": 206
        },
        "id": "aI7jccbZPuFG",
        "outputId": "9f31d4d4-dbfe-47c1-9336-f0a0c105e607"
      },
      "outputs": [
        {
          "output_type": "execute_result",
          "data": {
            "text/plain": [
              "     emotions                                               Text\n",
              "6    surprise  <sos> ive been taking or milligrams or times r...\n",
              "32   surprise  <sos> i have seen heard and read over the past...\n",
              "57   surprise  <sos> i keep feeling pleasantly surprised at h...\n",
              "64   surprise  <sos> i am now nearly finished the week detox ...\n",
              "129  surprise  <sos> i too feel as if i am a stranger in a st..."
            ],
            "text/html": [
              "\n",
              "  <div id=\"df-2920b3a5-ff8a-43b3-bfdb-46014c8ebd58\" class=\"colab-df-container\">\n",
              "    <div>\n",
              "<style scoped>\n",
              "    .dataframe tbody tr th:only-of-type {\n",
              "        vertical-align: middle;\n",
              "    }\n",
              "\n",
              "    .dataframe tbody tr th {\n",
              "        vertical-align: top;\n",
              "    }\n",
              "\n",
              "    .dataframe thead th {\n",
              "        text-align: right;\n",
              "    }\n",
              "</style>\n",
              "<table border=\"1\" class=\"dataframe\">\n",
              "  <thead>\n",
              "    <tr style=\"text-align: right;\">\n",
              "      <th></th>\n",
              "      <th>emotions</th>\n",
              "      <th>Text</th>\n",
              "    </tr>\n",
              "  </thead>\n",
              "  <tbody>\n",
              "    <tr>\n",
              "      <th>6</th>\n",
              "      <td>surprise</td>\n",
              "      <td>&lt;sos&gt; ive been taking or milligrams or times r...</td>\n",
              "    </tr>\n",
              "    <tr>\n",
              "      <th>32</th>\n",
              "      <td>surprise</td>\n",
              "      <td>&lt;sos&gt; i have seen heard and read over the past...</td>\n",
              "    </tr>\n",
              "    <tr>\n",
              "      <th>57</th>\n",
              "      <td>surprise</td>\n",
              "      <td>&lt;sos&gt; i keep feeling pleasantly surprised at h...</td>\n",
              "    </tr>\n",
              "    <tr>\n",
              "      <th>64</th>\n",
              "      <td>surprise</td>\n",
              "      <td>&lt;sos&gt; i am now nearly finished the week detox ...</td>\n",
              "    </tr>\n",
              "    <tr>\n",
              "      <th>129</th>\n",
              "      <td>surprise</td>\n",
              "      <td>&lt;sos&gt; i too feel as if i am a stranger in a st...</td>\n",
              "    </tr>\n",
              "  </tbody>\n",
              "</table>\n",
              "</div>\n",
              "    <div class=\"colab-df-buttons\">\n",
              "\n",
              "  <div class=\"colab-df-container\">\n",
              "    <button class=\"colab-df-convert\" onclick=\"convertToInteractive('df-2920b3a5-ff8a-43b3-bfdb-46014c8ebd58')\"\n",
              "            title=\"Convert this dataframe to an interactive table.\"\n",
              "            style=\"display:none;\">\n",
              "\n",
              "  <svg xmlns=\"http://www.w3.org/2000/svg\" height=\"24px\" viewBox=\"0 -960 960 960\">\n",
              "    <path d=\"M120-120v-720h720v720H120Zm60-500h600v-160H180v160Zm220 220h160v-160H400v160Zm0 220h160v-160H400v160ZM180-400h160v-160H180v160Zm440 0h160v-160H620v160ZM180-180h160v-160H180v160Zm440 0h160v-160H620v160Z\"/>\n",
              "  </svg>\n",
              "    </button>\n",
              "\n",
              "  <style>\n",
              "    .colab-df-container {\n",
              "      display:flex;\n",
              "      gap: 12px;\n",
              "    }\n",
              "\n",
              "    .colab-df-convert {\n",
              "      background-color: #E8F0FE;\n",
              "      border: none;\n",
              "      border-radius: 50%;\n",
              "      cursor: pointer;\n",
              "      display: none;\n",
              "      fill: #1967D2;\n",
              "      height: 32px;\n",
              "      padding: 0 0 0 0;\n",
              "      width: 32px;\n",
              "    }\n",
              "\n",
              "    .colab-df-convert:hover {\n",
              "      background-color: #E2EBFA;\n",
              "      box-shadow: 0px 1px 2px rgba(60, 64, 67, 0.3), 0px 1px 3px 1px rgba(60, 64, 67, 0.15);\n",
              "      fill: #174EA6;\n",
              "    }\n",
              "\n",
              "    .colab-df-buttons div {\n",
              "      margin-bottom: 4px;\n",
              "    }\n",
              "\n",
              "    [theme=dark] .colab-df-convert {\n",
              "      background-color: #3B4455;\n",
              "      fill: #D2E3FC;\n",
              "    }\n",
              "\n",
              "    [theme=dark] .colab-df-convert:hover {\n",
              "      background-color: #434B5C;\n",
              "      box-shadow: 0px 1px 3px 1px rgba(0, 0, 0, 0.15);\n",
              "      filter: drop-shadow(0px 1px 2px rgba(0, 0, 0, 0.3));\n",
              "      fill: #FFFFFF;\n",
              "    }\n",
              "  </style>\n",
              "\n",
              "    <script>\n",
              "      const buttonEl =\n",
              "        document.querySelector('#df-2920b3a5-ff8a-43b3-bfdb-46014c8ebd58 button.colab-df-convert');\n",
              "      buttonEl.style.display =\n",
              "        google.colab.kernel.accessAllowed ? 'block' : 'none';\n",
              "\n",
              "      async function convertToInteractive(key) {\n",
              "        const element = document.querySelector('#df-2920b3a5-ff8a-43b3-bfdb-46014c8ebd58');\n",
              "        const dataTable =\n",
              "          await google.colab.kernel.invokeFunction('convertToInteractive',\n",
              "                                                    [key], {});\n",
              "        if (!dataTable) return;\n",
              "\n",
              "        const docLinkHtml = 'Like what you see? Visit the ' +\n",
              "          '<a target=\"_blank\" href=https://colab.research.google.com/notebooks/data_table.ipynb>data table notebook</a>'\n",
              "          + ' to learn more about interactive tables.';\n",
              "        element.innerHTML = '';\n",
              "        dataTable['output_type'] = 'display_data';\n",
              "        await google.colab.output.renderOutput(dataTable, element);\n",
              "        const docLink = document.createElement('div');\n",
              "        docLink.innerHTML = docLinkHtml;\n",
              "        element.appendChild(docLink);\n",
              "      }\n",
              "    </script>\n",
              "  </div>\n",
              "\n",
              "\n",
              "    <div id=\"df-93e92bba-956d-4166-be18-22ecf3f7dc42\">\n",
              "      <button class=\"colab-df-quickchart\" onclick=\"quickchart('df-93e92bba-956d-4166-be18-22ecf3f7dc42')\"\n",
              "                title=\"Suggest charts\"\n",
              "                style=\"display:none;\">\n",
              "\n",
              "<svg xmlns=\"http://www.w3.org/2000/svg\" height=\"24px\"viewBox=\"0 0 24 24\"\n",
              "     width=\"24px\">\n",
              "    <g>\n",
              "        <path d=\"M19 3H5c-1.1 0-2 .9-2 2v14c0 1.1.9 2 2 2h14c1.1 0 2-.9 2-2V5c0-1.1-.9-2-2-2zM9 17H7v-7h2v7zm4 0h-2V7h2v10zm4 0h-2v-4h2v4z\"/>\n",
              "    </g>\n",
              "</svg>\n",
              "      </button>\n",
              "\n",
              "<style>\n",
              "  .colab-df-quickchart {\n",
              "      --bg-color: #E8F0FE;\n",
              "      --fill-color: #1967D2;\n",
              "      --hover-bg-color: #E2EBFA;\n",
              "      --hover-fill-color: #174EA6;\n",
              "      --disabled-fill-color: #AAA;\n",
              "      --disabled-bg-color: #DDD;\n",
              "  }\n",
              "\n",
              "  [theme=dark] .colab-df-quickchart {\n",
              "      --bg-color: #3B4455;\n",
              "      --fill-color: #D2E3FC;\n",
              "      --hover-bg-color: #434B5C;\n",
              "      --hover-fill-color: #FFFFFF;\n",
              "      --disabled-bg-color: #3B4455;\n",
              "      --disabled-fill-color: #666;\n",
              "  }\n",
              "\n",
              "  .colab-df-quickchart {\n",
              "    background-color: var(--bg-color);\n",
              "    border: none;\n",
              "    border-radius: 50%;\n",
              "    cursor: pointer;\n",
              "    display: none;\n",
              "    fill: var(--fill-color);\n",
              "    height: 32px;\n",
              "    padding: 0;\n",
              "    width: 32px;\n",
              "  }\n",
              "\n",
              "  .colab-df-quickchart:hover {\n",
              "    background-color: var(--hover-bg-color);\n",
              "    box-shadow: 0 1px 2px rgba(60, 64, 67, 0.3), 0 1px 3px 1px rgba(60, 64, 67, 0.15);\n",
              "    fill: var(--button-hover-fill-color);\n",
              "  }\n",
              "\n",
              "  .colab-df-quickchart-complete:disabled,\n",
              "  .colab-df-quickchart-complete:disabled:hover {\n",
              "    background-color: var(--disabled-bg-color);\n",
              "    fill: var(--disabled-fill-color);\n",
              "    box-shadow: none;\n",
              "  }\n",
              "\n",
              "  .colab-df-spinner {\n",
              "    border: 2px solid var(--fill-color);\n",
              "    border-color: transparent;\n",
              "    border-bottom-color: var(--fill-color);\n",
              "    animation:\n",
              "      spin 1s steps(1) infinite;\n",
              "  }\n",
              "\n",
              "  @keyframes spin {\n",
              "    0% {\n",
              "      border-color: transparent;\n",
              "      border-bottom-color: var(--fill-color);\n",
              "      border-left-color: var(--fill-color);\n",
              "    }\n",
              "    20% {\n",
              "      border-color: transparent;\n",
              "      border-left-color: var(--fill-color);\n",
              "      border-top-color: var(--fill-color);\n",
              "    }\n",
              "    30% {\n",
              "      border-color: transparent;\n",
              "      border-left-color: var(--fill-color);\n",
              "      border-top-color: var(--fill-color);\n",
              "      border-right-color: var(--fill-color);\n",
              "    }\n",
              "    40% {\n",
              "      border-color: transparent;\n",
              "      border-right-color: var(--fill-color);\n",
              "      border-top-color: var(--fill-color);\n",
              "    }\n",
              "    60% {\n",
              "      border-color: transparent;\n",
              "      border-right-color: var(--fill-color);\n",
              "    }\n",
              "    80% {\n",
              "      border-color: transparent;\n",
              "      border-right-color: var(--fill-color);\n",
              "      border-bottom-color: var(--fill-color);\n",
              "    }\n",
              "    90% {\n",
              "      border-color: transparent;\n",
              "      border-bottom-color: var(--fill-color);\n",
              "    }\n",
              "  }\n",
              "</style>\n",
              "\n",
              "      <script>\n",
              "        async function quickchart(key) {\n",
              "          const quickchartButtonEl =\n",
              "            document.querySelector('#' + key + ' button');\n",
              "          quickchartButtonEl.disabled = true;  // To prevent multiple clicks.\n",
              "          quickchartButtonEl.classList.add('colab-df-spinner');\n",
              "          try {\n",
              "            const charts = await google.colab.kernel.invokeFunction(\n",
              "                'suggestCharts', [key], {});\n",
              "          } catch (error) {\n",
              "            console.error('Error during call to suggestCharts:', error);\n",
              "          }\n",
              "          quickchartButtonEl.classList.remove('colab-df-spinner');\n",
              "          quickchartButtonEl.classList.add('colab-df-quickchart-complete');\n",
              "        }\n",
              "        (() => {\n",
              "          let quickchartButtonEl =\n",
              "            document.querySelector('#df-93e92bba-956d-4166-be18-22ecf3f7dc42 button');\n",
              "          quickchartButtonEl.style.display =\n",
              "            google.colab.kernel.accessAllowed ? 'block' : 'none';\n",
              "        })();\n",
              "      </script>\n",
              "    </div>\n",
              "\n",
              "    </div>\n",
              "  </div>\n"
            ],
            "application/vnd.google.colaboratory.intrinsic+json": {
              "type": "dataframe",
              "variable_name": "surprise_df",
              "summary": "{\n  \"name\": \"surprise_df\",\n  \"rows\": 719,\n  \"fields\": [\n    {\n      \"column\": \"emotions\",\n      \"properties\": {\n        \"dtype\": \"category\",\n        \"num_unique_values\": 1,\n        \"samples\": [\n          \"surprise\"\n        ],\n        \"semantic_type\": \"\",\n        \"description\": \"\"\n      }\n    },\n    {\n      \"column\": \"Text\",\n      \"properties\": {\n        \"dtype\": \"string\",\n        \"num_unique_values\": 719,\n        \"samples\": [\n          \"<sos> i woke up feeling dazed and confused <eos>\"\n        ],\n        \"semantic_type\": \"\",\n        \"description\": \"\"\n      }\n    }\n  ]\n}"
            }
          },
          "metadata": {},
          "execution_count": 49
        }
      ],
      "execution_count": 49
    },
    {
      "cell_type": "markdown",
      "source": [
        "### surprise tokenization"
      ],
      "metadata": {
        "id": "GoAlHjvyPuFG"
      }
    },
    {
      "cell_type": "code",
      "source": [
        "# let's create tokenizer for sadness_df\n",
        "\n",
        "surprise_tokenizer = Tokenizer(oov_token=\"<unk>\",filters='')\n",
        "surprise_tokenizer.fit_on_texts(surprise_df['Text'])\n",
        "surprise_sequences = surprise_tokenizer.texts_to_sequences(surprise_df['Text'])\n"
      ],
      "metadata": {
        "trusted": true,
        "execution": {
          "iopub.status.busy": "2025-05-14T09:21:26.431242Z",
          "iopub.execute_input": "2025-05-14T09:21:26.431594Z",
          "iopub.status.idle": "2025-05-14T09:21:26.459994Z",
          "shell.execute_reply.started": "2025-05-14T09:21:26.431570Z",
          "shell.execute_reply": "2025-05-14T09:21:26.459235Z"
        },
        "id": "R096B4jbPuFG"
      },
      "outputs": [],
      "execution_count": 50
    },
    {
      "cell_type": "markdown",
      "source": [
        "### surprise padding"
      ],
      "metadata": {
        "id": "JoQcDJ0hPuFG"
      }
    },
    {
      "cell_type": "code",
      "source": [
        "# create pad_sequence for sadness_df\n",
        "\n",
        "surprise_padded = pad_sequences(surprise_sequences, maxlen=60, padding='post', truncating='post')\n"
      ],
      "metadata": {
        "trusted": true,
        "execution": {
          "iopub.status.busy": "2025-05-14T09:21:29.871034Z",
          "iopub.execute_input": "2025-05-14T09:21:29.871835Z",
          "iopub.status.idle": "2025-05-14T09:21:29.878502Z",
          "shell.execute_reply.started": "2025-05-14T09:21:29.871812Z",
          "shell.execute_reply": "2025-05-14T09:21:29.877731Z"
        },
        "id": "_I1ShbNDPuFG"
      },
      "outputs": [],
      "execution_count": 51
    },
    {
      "cell_type": "code",
      "source": [
        "# create sequence splitting for sadness_df\n",
        "\n",
        "from sklearn.model_selection import train_test_split\n",
        "\n",
        "# Assuming sadness_padded is already defined as in your provided code\n",
        "surprise_encoder_input_data = surprise_padded[:, :-1]\n",
        "surprise_decoder_input_data = surprise_padded[:, 1:]\n",
        "surprise_decoder_target_data = np.zeros_like(surprise_decoder_input_data)\n",
        "\n",
        "\n",
        "#Shifting the decoder target data one step to the left.\n",
        "surprise_decoder_target_data[:, :-1] = surprise_decoder_input_data[:, 1:]\n",
        "surprise_decoder_target_data[:, -1] = surprise_tokenizer.word_index['<eos>']\n"
      ],
      "metadata": {
        "trusted": true,
        "execution": {
          "iopub.status.busy": "2025-05-14T09:21:31.366959Z",
          "iopub.execute_input": "2025-05-14T09:21:31.367241Z",
          "iopub.status.idle": "2025-05-14T09:21:31.372340Z",
          "shell.execute_reply.started": "2025-05-14T09:21:31.367219Z",
          "shell.execute_reply": "2025-05-14T09:21:31.371602Z"
        },
        "id": "h9nRm0nPPuFG"
      },
      "outputs": [],
      "execution_count": 52
    },
    {
      "cell_type": "markdown",
      "source": [
        "### train_test  split"
      ],
      "metadata": {
        "id": "SuVnJym6PuFH"
      }
    },
    {
      "cell_type": "code",
      "source": [
        "#Split data into training and validation sets.\n",
        "surprise_encoder_input_train, surprise_encoder_input_val, surprise_decoder_input_train, surprise_decoder_input_val,surprise_decoder_target_train, surprise_decoder_target_val = train_test_split(\n",
        "    surprise_encoder_input_data,\n",
        "    surprise_decoder_input_data,\n",
        "    surprise_decoder_target_data,\n",
        "    test_size=0.2,  # Adjust as needed\n",
        "    random_state=42  # For reproducibility\n",
        ")"
      ],
      "metadata": {
        "trusted": true,
        "execution": {
          "iopub.status.busy": "2025-05-14T09:21:34.772812Z",
          "iopub.execute_input": "2025-05-14T09:21:34.773555Z",
          "iopub.status.idle": "2025-05-14T09:21:34.779190Z",
          "shell.execute_reply.started": "2025-05-14T09:21:34.773509Z",
          "shell.execute_reply": "2025-05-14T09:21:34.778434Z"
        },
        "id": "g0hYt1z8PuFH"
      },
      "outputs": [],
      "execution_count": 53
    },
    {
      "cell_type": "markdown",
      "source": [
        "## seq2seq model for surprise emotion"
      ],
      "metadata": {
        "id": "b6_-YFCrPuFH"
      }
    },
    {
      "cell_type": "code",
      "source": [
        "vocab_size = len(surprise_tokenizer.word_index) + 1\n",
        "latent_dim = 256\n",
        "\n",
        "# Encoder\n",
        "surprise_encoder_inputs = Input(shape=(max_sentence_length - 1,))\n",
        "surprise_enc_emb = Embedding(vocab_size, latent_dim)(surprise_encoder_inputs)\n",
        "surprise_encoder_lstm = LSTM(latent_dim, return_sequences=True, return_state=True)\n",
        "surprise_encoder_out, surprise_state_h, surprise_state_c = surprise_encoder_lstm(surprise_enc_emb)\n",
        "surprise_encoder_states = [surprise_state_h, surprise_state_c]\n",
        "\n",
        "# Decoder\n",
        "surprise_decoder_inputs = Input(shape=(max_sentence_length - 1,))\n",
        "surprise_dec_emb_layer = Embedding(vocab_size, latent_dim)\n",
        "surprise_dec_emb = surprise_dec_emb_layer(surprise_decoder_inputs)\n",
        "surprise_decoder_lstm = LSTM(latent_dim, return_sequences=True, return_state=True)\n",
        "surprise_decoder_outputs,surpise_decoder_h,surprise_decoder_c = surprise_decoder_lstm(surprise_dec_emb, initial_state=surprise_encoder_states)\n",
        "\n",
        "# Attention Layer\n",
        "surprise_attn_layer = AttentionLayer()\n",
        "surprise_attn_out, surprise_attn_states = surprise_attn_layer([surprise_encoder_out, surprise_decoder_outputs])\n",
        "surprise_decoder_concat_input = Concatenate(axis=-1)([surprise_decoder_outputs, surprise_attn_out])\n",
        "\n",
        "# Dense layer\n",
        "surprise_decoder_dense = TimeDistributed(Dense(len(surprise_tokenizer.word_index) + 1, activation='softmax'))\n",
        "surprise_decoder_outputs = surprise_decoder_dense(surprise_decoder_concat_input)\n"
      ],
      "metadata": {
        "id": "xx2tmLj8W5zz"
      },
      "execution_count": 136,
      "outputs": []
    },
    {
      "cell_type": "code",
      "source": [
        "\n",
        "# Model\n",
        "surprise_model = Model([surprise_encoder_inputs, surprise_decoder_inputs], surprise_decoder_outputs)\n",
        "surprise_model.compile(optimizer='adam', loss='sparse_categorical_crossentropy', metrics=['accuracy'])\n",
        "surprise_model.summary()"
      ],
      "metadata": {
        "trusted": true,
        "execution": {
          "iopub.status.busy": "2025-05-14T09:21:39.589365Z",
          "iopub.execute_input": "2025-05-14T09:21:39.590135Z",
          "iopub.status.idle": "2025-05-14T09:21:39.616316Z",
          "shell.execute_reply.started": "2025-05-14T09:21:39.590109Z",
          "shell.execute_reply": "2025-05-14T09:21:39.615795Z"
        },
        "colab": {
          "base_uri": "https://localhost:8080/",
          "height": 593
        },
        "id": "FG4IO_CmPuFH",
        "outputId": "806a1094-676e-48d0-bd82-f6a2a8d474f5"
      },
      "outputs": [
        {
          "output_type": "display_data",
          "data": {
            "text/plain": [
              "\u001b[1mModel: \"functional_25\"\u001b[0m\n"
            ],
            "text/html": [
              "<pre style=\"white-space:pre;overflow-x:auto;line-height:normal;font-family:Menlo,'DejaVu Sans Mono',consolas,'Courier New',monospace\"><span style=\"font-weight: bold\">Model: \"functional_25\"</span>\n",
              "</pre>\n"
            ]
          },
          "metadata": {}
        },
        {
          "output_type": "display_data",
          "data": {
            "text/plain": [
              "┏━━━━━━━━━━━━━━━━━━━━━┳━━━━━━━━━━━━━━━━━━━┳━━━━━━━━━━━━┳━━━━━━━━━━━━━━━━━━━┓\n",
              "┃\u001b[1m \u001b[0m\u001b[1mLayer (type)       \u001b[0m\u001b[1m \u001b[0m┃\u001b[1m \u001b[0m\u001b[1mOutput Shape     \u001b[0m\u001b[1m \u001b[0m┃\u001b[1m \u001b[0m\u001b[1m   Param #\u001b[0m\u001b[1m \u001b[0m┃\u001b[1m \u001b[0m\u001b[1mConnected to     \u001b[0m\u001b[1m \u001b[0m┃\n",
              "┡━━━━━━━━━━━━━━━━━━━━━╇━━━━━━━━━━━━━━━━━━━╇━━━━━━━━━━━━╇━━━━━━━━━━━━━━━━━━━┩\n",
              "│ input_layer_42      │ (\u001b[38;5;45mNone\u001b[0m, \u001b[38;5;34m59\u001b[0m)        │          \u001b[38;5;34m0\u001b[0m │ -                 │\n",
              "│ (\u001b[38;5;33mInputLayer\u001b[0m)        │                   │            │                   │\n",
              "├─────────────────────┼───────────────────┼────────────┼───────────────────┤\n",
              "│ input_layer_43      │ (\u001b[38;5;45mNone\u001b[0m, \u001b[38;5;34m59\u001b[0m)        │          \u001b[38;5;34m0\u001b[0m │ -                 │\n",
              "│ (\u001b[38;5;33mInputLayer\u001b[0m)        │                   │            │                   │\n",
              "├─────────────────────┼───────────────────┼────────────┼───────────────────┤\n",
              "│ embedding_24        │ (\u001b[38;5;45mNone\u001b[0m, \u001b[38;5;34m59\u001b[0m, \u001b[38;5;34m256\u001b[0m)   │    \u001b[38;5;34m633,344\u001b[0m │ input_layer_42[\u001b[38;5;34m0\u001b[0m… │\n",
              "│ (\u001b[38;5;33mEmbedding\u001b[0m)         │                   │            │                   │\n",
              "├─────────────────────┼───────────────────┼────────────┼───────────────────┤\n",
              "│ embedding_25        │ (\u001b[38;5;45mNone\u001b[0m, \u001b[38;5;34m59\u001b[0m, \u001b[38;5;34m256\u001b[0m)   │    \u001b[38;5;34m633,344\u001b[0m │ input_layer_43[\u001b[38;5;34m0\u001b[0m… │\n",
              "│ (\u001b[38;5;33mEmbedding\u001b[0m)         │                   │            │                   │\n",
              "├─────────────────────┼───────────────────┼────────────┼───────────────────┤\n",
              "│ lstm_24 (\u001b[38;5;33mLSTM\u001b[0m)      │ [(\u001b[38;5;45mNone\u001b[0m, \u001b[38;5;34m59\u001b[0m, \u001b[38;5;34m256\u001b[0m), │    \u001b[38;5;34m525,312\u001b[0m │ embedding_24[\u001b[38;5;34m0\u001b[0m][\u001b[38;5;34m…\u001b[0m │\n",
              "│                     │ (\u001b[38;5;45mNone\u001b[0m, \u001b[38;5;34m256\u001b[0m),      │            │                   │\n",
              "│                     │ (\u001b[38;5;45mNone\u001b[0m, \u001b[38;5;34m256\u001b[0m)]      │            │                   │\n",
              "├─────────────────────┼───────────────────┼────────────┼───────────────────┤\n",
              "│ lstm_25 (\u001b[38;5;33mLSTM\u001b[0m)      │ [(\u001b[38;5;45mNone\u001b[0m, \u001b[38;5;34m59\u001b[0m, \u001b[38;5;34m256\u001b[0m), │    \u001b[38;5;34m525,312\u001b[0m │ embedding_25[\u001b[38;5;34m0\u001b[0m][\u001b[38;5;34m…\u001b[0m │\n",
              "│                     │ (\u001b[38;5;45mNone\u001b[0m, \u001b[38;5;34m256\u001b[0m),      │            │ lstm_24[\u001b[38;5;34m0\u001b[0m][\u001b[38;5;34m1\u001b[0m],    │\n",
              "│                     │ (\u001b[38;5;45mNone\u001b[0m, \u001b[38;5;34m256\u001b[0m)]      │            │ lstm_24[\u001b[38;5;34m0\u001b[0m][\u001b[38;5;34m2\u001b[0m]     │\n",
              "├─────────────────────┼───────────────────┼────────────┼───────────────────┤\n",
              "│ attention_layer_12  │ [(\u001b[38;5;45mNone\u001b[0m, \u001b[38;5;34m59\u001b[0m, \u001b[38;5;34m256\u001b[0m), │    \u001b[38;5;34m131,328\u001b[0m │ lstm_24[\u001b[38;5;34m0\u001b[0m][\u001b[38;5;34m0\u001b[0m],    │\n",
              "│ (\u001b[38;5;33mAttentionLayer\u001b[0m)    │ (\u001b[38;5;45mNone\u001b[0m, \u001b[38;5;34m59\u001b[0m, \u001b[38;5;34m59\u001b[0m)]   │            │ lstm_25[\u001b[38;5;34m0\u001b[0m][\u001b[38;5;34m0\u001b[0m]     │\n",
              "├─────────────────────┼───────────────────┼────────────┼───────────────────┤\n",
              "│ concatenate_18      │ (\u001b[38;5;45mNone\u001b[0m, \u001b[38;5;34m59\u001b[0m, \u001b[38;5;34m512\u001b[0m)   │          \u001b[38;5;34m0\u001b[0m │ lstm_25[\u001b[38;5;34m0\u001b[0m][\u001b[38;5;34m0\u001b[0m],    │\n",
              "│ (\u001b[38;5;33mConcatenate\u001b[0m)       │                   │            │ attention_layer_… │\n",
              "├─────────────────────┼───────────────────┼────────────┼───────────────────┤\n",
              "│ time_distributed_12 │ (\u001b[38;5;45mNone\u001b[0m, \u001b[38;5;34m59\u001b[0m, \u001b[38;5;34m2474\u001b[0m)  │  \u001b[38;5;34m1,269,162\u001b[0m │ concatenate_18[\u001b[38;5;34m0\u001b[0m… │\n",
              "│ (\u001b[38;5;33mTimeDistributed\u001b[0m)   │                   │            │                   │\n",
              "└─────────────────────┴───────────────────┴────────────┴───────────────────┘\n"
            ],
            "text/html": [
              "<pre style=\"white-space:pre;overflow-x:auto;line-height:normal;font-family:Menlo,'DejaVu Sans Mono',consolas,'Courier New',monospace\">┏━━━━━━━━━━━━━━━━━━━━━┳━━━━━━━━━━━━━━━━━━━┳━━━━━━━━━━━━┳━━━━━━━━━━━━━━━━━━━┓\n",
              "┃<span style=\"font-weight: bold\"> Layer (type)        </span>┃<span style=\"font-weight: bold\"> Output Shape      </span>┃<span style=\"font-weight: bold\">    Param # </span>┃<span style=\"font-weight: bold\"> Connected to      </span>┃\n",
              "┡━━━━━━━━━━━━━━━━━━━━━╇━━━━━━━━━━━━━━━━━━━╇━━━━━━━━━━━━╇━━━━━━━━━━━━━━━━━━━┩\n",
              "│ input_layer_42      │ (<span style=\"color: #00d7ff; text-decoration-color: #00d7ff\">None</span>, <span style=\"color: #00af00; text-decoration-color: #00af00\">59</span>)        │          <span style=\"color: #00af00; text-decoration-color: #00af00\">0</span> │ -                 │\n",
              "│ (<span style=\"color: #0087ff; text-decoration-color: #0087ff\">InputLayer</span>)        │                   │            │                   │\n",
              "├─────────────────────┼───────────────────┼────────────┼───────────────────┤\n",
              "│ input_layer_43      │ (<span style=\"color: #00d7ff; text-decoration-color: #00d7ff\">None</span>, <span style=\"color: #00af00; text-decoration-color: #00af00\">59</span>)        │          <span style=\"color: #00af00; text-decoration-color: #00af00\">0</span> │ -                 │\n",
              "│ (<span style=\"color: #0087ff; text-decoration-color: #0087ff\">InputLayer</span>)        │                   │            │                   │\n",
              "├─────────────────────┼───────────────────┼────────────┼───────────────────┤\n",
              "│ embedding_24        │ (<span style=\"color: #00d7ff; text-decoration-color: #00d7ff\">None</span>, <span style=\"color: #00af00; text-decoration-color: #00af00\">59</span>, <span style=\"color: #00af00; text-decoration-color: #00af00\">256</span>)   │    <span style=\"color: #00af00; text-decoration-color: #00af00\">633,344</span> │ input_layer_42[<span style=\"color: #00af00; text-decoration-color: #00af00\">0</span>… │\n",
              "│ (<span style=\"color: #0087ff; text-decoration-color: #0087ff\">Embedding</span>)         │                   │            │                   │\n",
              "├─────────────────────┼───────────────────┼────────────┼───────────────────┤\n",
              "│ embedding_25        │ (<span style=\"color: #00d7ff; text-decoration-color: #00d7ff\">None</span>, <span style=\"color: #00af00; text-decoration-color: #00af00\">59</span>, <span style=\"color: #00af00; text-decoration-color: #00af00\">256</span>)   │    <span style=\"color: #00af00; text-decoration-color: #00af00\">633,344</span> │ input_layer_43[<span style=\"color: #00af00; text-decoration-color: #00af00\">0</span>… │\n",
              "│ (<span style=\"color: #0087ff; text-decoration-color: #0087ff\">Embedding</span>)         │                   │            │                   │\n",
              "├─────────────────────┼───────────────────┼────────────┼───────────────────┤\n",
              "│ lstm_24 (<span style=\"color: #0087ff; text-decoration-color: #0087ff\">LSTM</span>)      │ [(<span style=\"color: #00d7ff; text-decoration-color: #00d7ff\">None</span>, <span style=\"color: #00af00; text-decoration-color: #00af00\">59</span>, <span style=\"color: #00af00; text-decoration-color: #00af00\">256</span>), │    <span style=\"color: #00af00; text-decoration-color: #00af00\">525,312</span> │ embedding_24[<span style=\"color: #00af00; text-decoration-color: #00af00\">0</span>][<span style=\"color: #00af00; text-decoration-color: #00af00\">…</span> │\n",
              "│                     │ (<span style=\"color: #00d7ff; text-decoration-color: #00d7ff\">None</span>, <span style=\"color: #00af00; text-decoration-color: #00af00\">256</span>),      │            │                   │\n",
              "│                     │ (<span style=\"color: #00d7ff; text-decoration-color: #00d7ff\">None</span>, <span style=\"color: #00af00; text-decoration-color: #00af00\">256</span>)]      │            │                   │\n",
              "├─────────────────────┼───────────────────┼────────────┼───────────────────┤\n",
              "│ lstm_25 (<span style=\"color: #0087ff; text-decoration-color: #0087ff\">LSTM</span>)      │ [(<span style=\"color: #00d7ff; text-decoration-color: #00d7ff\">None</span>, <span style=\"color: #00af00; text-decoration-color: #00af00\">59</span>, <span style=\"color: #00af00; text-decoration-color: #00af00\">256</span>), │    <span style=\"color: #00af00; text-decoration-color: #00af00\">525,312</span> │ embedding_25[<span style=\"color: #00af00; text-decoration-color: #00af00\">0</span>][<span style=\"color: #00af00; text-decoration-color: #00af00\">…</span> │\n",
              "│                     │ (<span style=\"color: #00d7ff; text-decoration-color: #00d7ff\">None</span>, <span style=\"color: #00af00; text-decoration-color: #00af00\">256</span>),      │            │ lstm_24[<span style=\"color: #00af00; text-decoration-color: #00af00\">0</span>][<span style=\"color: #00af00; text-decoration-color: #00af00\">1</span>],    │\n",
              "│                     │ (<span style=\"color: #00d7ff; text-decoration-color: #00d7ff\">None</span>, <span style=\"color: #00af00; text-decoration-color: #00af00\">256</span>)]      │            │ lstm_24[<span style=\"color: #00af00; text-decoration-color: #00af00\">0</span>][<span style=\"color: #00af00; text-decoration-color: #00af00\">2</span>]     │\n",
              "├─────────────────────┼───────────────────┼────────────┼───────────────────┤\n",
              "│ attention_layer_12  │ [(<span style=\"color: #00d7ff; text-decoration-color: #00d7ff\">None</span>, <span style=\"color: #00af00; text-decoration-color: #00af00\">59</span>, <span style=\"color: #00af00; text-decoration-color: #00af00\">256</span>), │    <span style=\"color: #00af00; text-decoration-color: #00af00\">131,328</span> │ lstm_24[<span style=\"color: #00af00; text-decoration-color: #00af00\">0</span>][<span style=\"color: #00af00; text-decoration-color: #00af00\">0</span>],    │\n",
              "│ (<span style=\"color: #0087ff; text-decoration-color: #0087ff\">AttentionLayer</span>)    │ (<span style=\"color: #00d7ff; text-decoration-color: #00d7ff\">None</span>, <span style=\"color: #00af00; text-decoration-color: #00af00\">59</span>, <span style=\"color: #00af00; text-decoration-color: #00af00\">59</span>)]   │            │ lstm_25[<span style=\"color: #00af00; text-decoration-color: #00af00\">0</span>][<span style=\"color: #00af00; text-decoration-color: #00af00\">0</span>]     │\n",
              "├─────────────────────┼───────────────────┼────────────┼───────────────────┤\n",
              "│ concatenate_18      │ (<span style=\"color: #00d7ff; text-decoration-color: #00d7ff\">None</span>, <span style=\"color: #00af00; text-decoration-color: #00af00\">59</span>, <span style=\"color: #00af00; text-decoration-color: #00af00\">512</span>)   │          <span style=\"color: #00af00; text-decoration-color: #00af00\">0</span> │ lstm_25[<span style=\"color: #00af00; text-decoration-color: #00af00\">0</span>][<span style=\"color: #00af00; text-decoration-color: #00af00\">0</span>],    │\n",
              "│ (<span style=\"color: #0087ff; text-decoration-color: #0087ff\">Concatenate</span>)       │                   │            │ attention_layer_… │\n",
              "├─────────────────────┼───────────────────┼────────────┼───────────────────┤\n",
              "│ time_distributed_12 │ (<span style=\"color: #00d7ff; text-decoration-color: #00d7ff\">None</span>, <span style=\"color: #00af00; text-decoration-color: #00af00\">59</span>, <span style=\"color: #00af00; text-decoration-color: #00af00\">2474</span>)  │  <span style=\"color: #00af00; text-decoration-color: #00af00\">1,269,162</span> │ concatenate_18[<span style=\"color: #00af00; text-decoration-color: #00af00\">0</span>… │\n",
              "│ (<span style=\"color: #0087ff; text-decoration-color: #0087ff\">TimeDistributed</span>)   │                   │            │                   │\n",
              "└─────────────────────┴───────────────────┴────────────┴───────────────────┘\n",
              "</pre>\n"
            ]
          },
          "metadata": {}
        },
        {
          "output_type": "display_data",
          "data": {
            "text/plain": [
              "\u001b[1m Total params: \u001b[0m\u001b[38;5;34m3,717,802\u001b[0m (14.18 MB)\n"
            ],
            "text/html": [
              "<pre style=\"white-space:pre;overflow-x:auto;line-height:normal;font-family:Menlo,'DejaVu Sans Mono',consolas,'Courier New',monospace\"><span style=\"font-weight: bold\"> Total params: </span><span style=\"color: #00af00; text-decoration-color: #00af00\">3,717,802</span> (14.18 MB)\n",
              "</pre>\n"
            ]
          },
          "metadata": {}
        },
        {
          "output_type": "display_data",
          "data": {
            "text/plain": [
              "\u001b[1m Trainable params: \u001b[0m\u001b[38;5;34m3,717,802\u001b[0m (14.18 MB)\n"
            ],
            "text/html": [
              "<pre style=\"white-space:pre;overflow-x:auto;line-height:normal;font-family:Menlo,'DejaVu Sans Mono',consolas,'Courier New',monospace\"><span style=\"font-weight: bold\"> Trainable params: </span><span style=\"color: #00af00; text-decoration-color: #00af00\">3,717,802</span> (14.18 MB)\n",
              "</pre>\n"
            ]
          },
          "metadata": {}
        },
        {
          "output_type": "display_data",
          "data": {
            "text/plain": [
              "\u001b[1m Non-trainable params: \u001b[0m\u001b[38;5;34m0\u001b[0m (0.00 B)\n"
            ],
            "text/html": [
              "<pre style=\"white-space:pre;overflow-x:auto;line-height:normal;font-family:Menlo,'DejaVu Sans Mono',consolas,'Courier New',monospace\"><span style=\"font-weight: bold\"> Non-trainable params: </span><span style=\"color: #00af00; text-decoration-color: #00af00\">0</span> (0.00 B)\n",
              "</pre>\n"
            ]
          },
          "metadata": {}
        }
      ],
      "execution_count": 137
    },
    {
      "cell_type": "code",
      "source": [
        "# Training with Early Stopping\n",
        "epochs = 50\n",
        "batch_size = 64\n",
        "es = EarlyStopping(monitor='val_accuracy', mode='max', verbose=1, patience=5, restore_best_weights=True)\n",
        "surprise_history = surprise_model.fit(\n",
        "    [surprise_encoder_input_train, surprise_decoder_input_train],\n",
        "    surprise_decoder_target_train,\n",
        "    batch_size=batch_size,\n",
        "    epochs=epochs,\n",
        "    validation_data=([surprise_encoder_input_val, surprise_decoder_input_val], surprise_decoder_target_val),\n",
        "    callbacks=[es]\n",
        ")"
      ],
      "metadata": {
        "colab": {
          "base_uri": "https://localhost:8080/"
        },
        "id": "EAfj_-vfgZjV",
        "outputId": "ab201ed3-ffb5-4085-fbfc-d0b9153ccef6"
      },
      "execution_count": 138,
      "outputs": [
        {
          "output_type": "stream",
          "name": "stdout",
          "text": [
            "Epoch 1/50\n",
            "\u001b[1m9/9\u001b[0m \u001b[32m━━━━━━━━━━━━━━━━━━━━\u001b[0m\u001b[37m\u001b[0m \u001b[1m9s\u001b[0m 318ms/step - accuracy: 0.4564 - loss: 6.5617 - val_accuracy: 0.6567 - val_loss: 2.5881\n",
            "Epoch 2/50\n",
            "\u001b[1m9/9\u001b[0m \u001b[32m━━━━━━━━━━━━━━━━━━━━\u001b[0m\u001b[37m\u001b[0m \u001b[1m3s\u001b[0m 339ms/step - accuracy: 0.6454 - loss: 2.5203 - val_accuracy: 0.6503 - val_loss: 2.1907\n",
            "Epoch 3/50\n",
            "\u001b[1m9/9\u001b[0m \u001b[32m━━━━━━━━━━━━━━━━━━━━\u001b[0m\u001b[37m\u001b[0m \u001b[1m1s\u001b[0m 163ms/step - accuracy: 0.6590 - loss: 2.1228 - val_accuracy: 0.6617 - val_loss: 2.1270\n",
            "Epoch 4/50\n",
            "\u001b[1m9/9\u001b[0m \u001b[32m━━━━━━━━━━━━━━━━━━━━\u001b[0m\u001b[37m\u001b[0m \u001b[1m1s\u001b[0m 155ms/step - accuracy: 0.6491 - loss: 2.1364 - val_accuracy: 0.6616 - val_loss: 2.1217\n",
            "Epoch 5/50\n",
            "\u001b[1m9/9\u001b[0m \u001b[32m━━━━━━━━━━━━━━━━━━━━\u001b[0m\u001b[37m\u001b[0m \u001b[1m3s\u001b[0m 229ms/step - accuracy: 0.6520 - loss: 2.0966 - val_accuracy: 0.6650 - val_loss: 2.1112\n",
            "Epoch 6/50\n",
            "\u001b[1m9/9\u001b[0m \u001b[32m━━━━━━━━━━━━━━━━━━━━\u001b[0m\u001b[37m\u001b[0m \u001b[1m1s\u001b[0m 163ms/step - accuracy: 0.6529 - loss: 2.0963 - val_accuracy: 0.6700 - val_loss: 2.1038\n",
            "Epoch 7/50\n",
            "\u001b[1m9/9\u001b[0m \u001b[32m━━━━━━━━━━━━━━━━━━━━\u001b[0m\u001b[37m\u001b[0m \u001b[1m3s\u001b[0m 214ms/step - accuracy: 0.6581 - loss: 2.0684 - val_accuracy: 0.6809 - val_loss: 2.1003\n",
            "Epoch 8/50\n",
            "\u001b[1m9/9\u001b[0m \u001b[32m━━━━━━━━━━━━━━━━━━━━\u001b[0m\u001b[37m\u001b[0m \u001b[1m2s\u001b[0m 225ms/step - accuracy: 0.6771 - loss: 1.9973 - val_accuracy: 0.6808 - val_loss: 2.1005\n",
            "Epoch 9/50\n",
            "\u001b[1m9/9\u001b[0m \u001b[32m━━━━━━━━━━━━━━━━━━━━\u001b[0m\u001b[37m\u001b[0m \u001b[1m2s\u001b[0m 162ms/step - accuracy: 0.6724 - loss: 2.0000 - val_accuracy: 0.6810 - val_loss: 2.1040\n",
            "Epoch 10/50\n",
            "\u001b[1m9/9\u001b[0m \u001b[32m━━━━━━━━━━━━━━━━━━━━\u001b[0m\u001b[37m\u001b[0m \u001b[1m1s\u001b[0m 158ms/step - accuracy: 0.6745 - loss: 1.9850 - val_accuracy: 0.6815 - val_loss: 2.1053\n",
            "Epoch 11/50\n",
            "\u001b[1m9/9\u001b[0m \u001b[32m━━━━━━━━━━━━━━━━━━━━\u001b[0m\u001b[37m\u001b[0m \u001b[1m1s\u001b[0m 156ms/step - accuracy: 0.6645 - loss: 2.0488 - val_accuracy: 0.6813 - val_loss: 2.1082\n",
            "Epoch 12/50\n",
            "\u001b[1m9/9\u001b[0m \u001b[32m━━━━━━━━━━━━━━━━━━━━\u001b[0m\u001b[37m\u001b[0m \u001b[1m3s\u001b[0m 179ms/step - accuracy: 0.6731 - loss: 1.9717 - val_accuracy: 0.6829 - val_loss: 2.1106\n",
            "Epoch 13/50\n",
            "\u001b[1m9/9\u001b[0m \u001b[32m━━━━━━━━━━━━━━━━━━━━\u001b[0m\u001b[37m\u001b[0m \u001b[1m1s\u001b[0m 165ms/step - accuracy: 0.6815 - loss: 1.9184 - val_accuracy: 0.6840 - val_loss: 2.1058\n",
            "Epoch 14/50\n",
            "\u001b[1m9/9\u001b[0m \u001b[32m━━━━━━━━━━━━━━━━━━━━\u001b[0m\u001b[37m\u001b[0m \u001b[1m3s\u001b[0m 399ms/step - accuracy: 0.6695 - loss: 1.9879 - val_accuracy: 0.6849 - val_loss: 2.1049\n",
            "Epoch 15/50\n",
            "\u001b[1m9/9\u001b[0m \u001b[32m━━━━━━━━━━━━━━━━━━━━\u001b[0m\u001b[37m\u001b[0m \u001b[1m4s\u001b[0m 198ms/step - accuracy: 0.6801 - loss: 1.9183 - val_accuracy: 0.6856 - val_loss: 2.1047\n",
            "Epoch 16/50\n",
            "\u001b[1m9/9\u001b[0m \u001b[32m━━━━━━━━━━━━━━━━━━━━\u001b[0m\u001b[37m\u001b[0m \u001b[1m2s\u001b[0m 157ms/step - accuracy: 0.6779 - loss: 1.9257 - val_accuracy: 0.6866 - val_loss: 2.1052\n",
            "Epoch 17/50\n",
            "\u001b[1m9/9\u001b[0m \u001b[32m━━━━━━━━━━━━━━━━━━━━\u001b[0m\u001b[37m\u001b[0m \u001b[1m3s\u001b[0m 156ms/step - accuracy: 0.6692 - loss: 1.9667 - val_accuracy: 0.6884 - val_loss: 2.1020\n",
            "Epoch 18/50\n",
            "\u001b[1m9/9\u001b[0m \u001b[32m━━━━━━━━━━━━━━━━━━━━\u001b[0m\u001b[37m\u001b[0m \u001b[1m2s\u001b[0m 224ms/step - accuracy: 0.6902 - loss: 1.8167 - val_accuracy: 0.6882 - val_loss: 2.0971\n",
            "Epoch 19/50\n",
            "\u001b[1m9/9\u001b[0m \u001b[32m━━━━━━━━━━━━━━━━━━━━\u001b[0m\u001b[37m\u001b[0m \u001b[1m2s\u001b[0m 213ms/step - accuracy: 0.6663 - loss: 1.9631 - val_accuracy: 0.6889 - val_loss: 2.1018\n",
            "Epoch 20/50\n",
            "\u001b[1m9/9\u001b[0m \u001b[32m━━━━━━━━━━━━━━━━━━━━\u001b[0m\u001b[37m\u001b[0m \u001b[1m2s\u001b[0m 157ms/step - accuracy: 0.6769 - loss: 1.8874 - val_accuracy: 0.6896 - val_loss: 2.0893\n",
            "Epoch 21/50\n",
            "\u001b[1m9/9\u001b[0m \u001b[32m━━━━━━━━━━━━━━━━━━━━\u001b[0m\u001b[37m\u001b[0m \u001b[1m1s\u001b[0m 165ms/step - accuracy: 0.6794 - loss: 1.8675 - val_accuracy: 0.6921 - val_loss: 2.0903\n",
            "Epoch 22/50\n",
            "\u001b[1m9/9\u001b[0m \u001b[32m━━━━━━━━━━━━━━━━━━━━\u001b[0m\u001b[37m\u001b[0m \u001b[1m1s\u001b[0m 160ms/step - accuracy: 0.6958 - loss: 1.7563 - val_accuracy: 0.6914 - val_loss: 2.0793\n",
            "Epoch 23/50\n",
            "\u001b[1m9/9\u001b[0m \u001b[32m━━━━━━━━━━━━━━━━━━━━\u001b[0m\u001b[37m\u001b[0m \u001b[1m2s\u001b[0m 173ms/step - accuracy: 0.6808 - loss: 1.8299 - val_accuracy: 0.6934 - val_loss: 2.0738\n",
            "Epoch 24/50\n",
            "\u001b[1m9/9\u001b[0m \u001b[32m━━━━━━━━━━━━━━━━━━━━\u001b[0m\u001b[37m\u001b[0m \u001b[1m1s\u001b[0m 162ms/step - accuracy: 0.6910 - loss: 1.7598 - val_accuracy: 0.6933 - val_loss: 2.0661\n",
            "Epoch 25/50\n",
            "\u001b[1m9/9\u001b[0m \u001b[32m━━━━━━━━━━━━━━━━━━━━\u001b[0m\u001b[37m\u001b[0m \u001b[1m2s\u001b[0m 171ms/step - accuracy: 0.6901 - loss: 1.7424 - val_accuracy: 0.6944 - val_loss: 2.0841\n",
            "Epoch 26/50\n",
            "\u001b[1m9/9\u001b[0m \u001b[32m━━━━━━━━━━━━━━━━━━━━\u001b[0m\u001b[37m\u001b[0m \u001b[1m2s\u001b[0m 263ms/step - accuracy: 0.6861 - loss: 1.7754 - val_accuracy: 0.6947 - val_loss: 2.0643\n",
            "Epoch 27/50\n",
            "\u001b[1m9/9\u001b[0m \u001b[32m━━━━━━━━━━━━━━━━━━━━\u001b[0m\u001b[37m\u001b[0m \u001b[1m2s\u001b[0m 159ms/step - accuracy: 0.6942 - loss: 1.6940 - val_accuracy: 0.6904 - val_loss: 2.0531\n",
            "Epoch 28/50\n",
            "\u001b[1m9/9\u001b[0m \u001b[32m━━━━━━━━━━━━━━━━━━━━\u001b[0m\u001b[37m\u001b[0m \u001b[1m3s\u001b[0m 165ms/step - accuracy: 0.6953 - loss: 1.6808 - val_accuracy: 0.6967 - val_loss: 2.0362\n",
            "Epoch 29/50\n",
            "\u001b[1m9/9\u001b[0m \u001b[32m━━━━━━━━━━━━━━━━━━━━\u001b[0m\u001b[37m\u001b[0m \u001b[1m3s\u001b[0m 160ms/step - accuracy: 0.7069 - loss: 1.6116 - val_accuracy: 0.6990 - val_loss: 2.0287\n",
            "Epoch 30/50\n",
            "\u001b[1m9/9\u001b[0m \u001b[32m━━━━━━━━━━━━━━━━━━━━\u001b[0m\u001b[37m\u001b[0m \u001b[1m1s\u001b[0m 161ms/step - accuracy: 0.7047 - loss: 1.6124 - val_accuracy: 0.7002 - val_loss: 2.0287\n",
            "Epoch 31/50\n",
            "\u001b[1m9/9\u001b[0m \u001b[32m━━━━━━━━━━━━━━━━━━━━\u001b[0m\u001b[37m\u001b[0m \u001b[1m4s\u001b[0m 282ms/step - accuracy: 0.7041 - loss: 1.5945 - val_accuracy: 0.6975 - val_loss: 2.0302\n",
            "Epoch 32/50\n",
            "\u001b[1m9/9\u001b[0m \u001b[32m━━━━━━━━━━━━━━━━━━━━\u001b[0m\u001b[37m\u001b[0m \u001b[1m2s\u001b[0m 161ms/step - accuracy: 0.7018 - loss: 1.5859 - val_accuracy: 0.7015 - val_loss: 2.0334\n",
            "Epoch 33/50\n",
            "\u001b[1m9/9\u001b[0m \u001b[32m━━━━━━━━━━━━━━━━━━━━\u001b[0m\u001b[37m\u001b[0m \u001b[1m1s\u001b[0m 168ms/step - accuracy: 0.7028 - loss: 1.5803 - val_accuracy: 0.7090 - val_loss: 2.0196\n",
            "Epoch 34/50\n",
            "\u001b[1m9/9\u001b[0m \u001b[32m━━━━━━━━━━━━━━━━━━━━\u001b[0m\u001b[37m\u001b[0m \u001b[1m3s\u001b[0m 177ms/step - accuracy: 0.7127 - loss: 1.5043 - val_accuracy: 0.7021 - val_loss: 2.0187\n",
            "Epoch 35/50\n",
            "\u001b[1m9/9\u001b[0m \u001b[32m━━━━━━━━━━━━━━━━━━━━\u001b[0m\u001b[37m\u001b[0m \u001b[1m4s\u001b[0m 285ms/step - accuracy: 0.7188 - loss: 1.4447 - val_accuracy: 0.7030 - val_loss: 2.0207\n",
            "Epoch 36/50\n",
            "\u001b[1m9/9\u001b[0m \u001b[32m━━━━━━━━━━━━━━━━━━━━\u001b[0m\u001b[37m\u001b[0m \u001b[1m4s\u001b[0m 168ms/step - accuracy: 0.7118 - loss: 1.4641 - val_accuracy: 0.7037 - val_loss: 2.0272\n",
            "Epoch 37/50\n",
            "\u001b[1m9/9\u001b[0m \u001b[32m━━━━━━━━━━━━━━━━━━━━\u001b[0m\u001b[37m\u001b[0m \u001b[1m1s\u001b[0m 162ms/step - accuracy: 0.7214 - loss: 1.4093 - val_accuracy: 0.7120 - val_loss: 2.0184\n",
            "Epoch 38/50\n",
            "\u001b[1m9/9\u001b[0m \u001b[32m━━━━━━━━━━━━━━━━━━━━\u001b[0m\u001b[37m\u001b[0m \u001b[1m1s\u001b[0m 162ms/step - accuracy: 0.7293 - loss: 1.3652 - val_accuracy: 0.7073 - val_loss: 2.0239\n",
            "Epoch 39/50\n",
            "\u001b[1m9/9\u001b[0m \u001b[32m━━━━━━━━━━━━━━━━━━━━\u001b[0m\u001b[37m\u001b[0m \u001b[1m2s\u001b[0m 201ms/step - accuracy: 0.7319 - loss: 1.3372 - val_accuracy: 0.7115 - val_loss: 2.0238\n",
            "Epoch 40/50\n",
            "\u001b[1m9/9\u001b[0m \u001b[32m━━━━━━━━━━━━━━━━━━━━\u001b[0m\u001b[37m\u001b[0m \u001b[1m1s\u001b[0m 167ms/step - accuracy: 0.7425 - loss: 1.2743 - val_accuracy: 0.7077 - val_loss: 2.0265\n",
            "Epoch 41/50\n",
            "\u001b[1m9/9\u001b[0m \u001b[32m━━━━━━━━━━━━━━━━━━━━\u001b[0m\u001b[37m\u001b[0m \u001b[1m5s\u001b[0m 401ms/step - accuracy: 0.7342 - loss: 1.3045 - val_accuracy: 0.7042 - val_loss: 2.0415\n",
            "Epoch 42/50\n",
            "\u001b[1m9/9\u001b[0m \u001b[32m━━━━━━━━━━━━━━━━━━━━\u001b[0m\u001b[37m\u001b[0m \u001b[1m4s\u001b[0m 298ms/step - accuracy: 0.7404 - loss: 1.2576 - val_accuracy: 0.7123 - val_loss: 2.0405\n",
            "Epoch 43/50\n",
            "\u001b[1m9/9\u001b[0m \u001b[32m━━━━━━━━━━━━━━━━━━━━\u001b[0m\u001b[37m\u001b[0m \u001b[1m2s\u001b[0m 265ms/step - accuracy: 0.7469 - loss: 1.2290 - val_accuracy: 0.7093 - val_loss: 2.0444\n",
            "Epoch 44/50\n",
            "\u001b[1m9/9\u001b[0m \u001b[32m━━━━━━━━━━━━━━━━━━━━\u001b[0m\u001b[37m\u001b[0m \u001b[1m3s\u001b[0m 258ms/step - accuracy: 0.7679 - loss: 1.1379 - val_accuracy: 0.7122 - val_loss: 2.0418\n",
            "Epoch 45/50\n",
            "\u001b[1m9/9\u001b[0m \u001b[32m━━━━━━━━━━━━━━━━━━━━\u001b[0m\u001b[37m\u001b[0m \u001b[1m2s\u001b[0m 210ms/step - accuracy: 0.7597 - loss: 1.1684 - val_accuracy: 0.7108 - val_loss: 2.0605\n",
            "Epoch 46/50\n",
            "\u001b[1m9/9\u001b[0m \u001b[32m━━━━━━━━━━━━━━━━━━━━\u001b[0m\u001b[37m\u001b[0m \u001b[1m2s\u001b[0m 218ms/step - accuracy: 0.7688 - loss: 1.1271 - val_accuracy: 0.6994 - val_loss: 2.0762\n",
            "Epoch 47/50\n",
            "\u001b[1m9/9\u001b[0m \u001b[32m━━━━━━━━━━━━━━━━━━━━\u001b[0m\u001b[37m\u001b[0m \u001b[1m2s\u001b[0m 160ms/step - accuracy: 0.7560 - loss: 1.1473 - val_accuracy: 0.7125 - val_loss: 2.0687\n",
            "Epoch 48/50\n",
            "\u001b[1m9/9\u001b[0m \u001b[32m━━━━━━━━━━━━━━━━━━━━\u001b[0m\u001b[37m\u001b[0m \u001b[1m1s\u001b[0m 158ms/step - accuracy: 0.7814 - loss: 1.0496 - val_accuracy: 0.7122 - val_loss: 2.0705\n",
            "Epoch 49/50\n",
            "\u001b[1m9/9\u001b[0m \u001b[32m━━━━━━━━━━━━━━━━━━━━\u001b[0m\u001b[37m\u001b[0m \u001b[1m3s\u001b[0m 170ms/step - accuracy: 0.7840 - loss: 1.0390 - val_accuracy: 0.7130 - val_loss: 2.0738\n",
            "Epoch 50/50\n",
            "\u001b[1m9/9\u001b[0m \u001b[32m━━━━━━━━━━━━━━━━━━━━\u001b[0m\u001b[37m\u001b[0m \u001b[1m2s\u001b[0m 163ms/step - accuracy: 0.7953 - loss: 0.9978 - val_accuracy: 0.7134 - val_loss: 2.0814\n",
            "Restoring model weights from the end of the best epoch: 50.\n"
          ]
        }
      ]
    },
    {
      "cell_type": "code",
      "source": [
        "# Extract training history\n",
        "surprise_loss = surprise_history.history['loss']\n",
        "surprise_val_loss = surprise_history.history['val_loss']\n",
        "surprise_accuracy = surprise_history.history['accuracy']\n",
        "surprise_val_accuracy = surprise_history.history['val_accuracy']\n",
        "\n",
        "# Create subplots\n",
        "plt.figure(figsize=(12, 5))\n",
        "\n",
        "# Plot Loss\n",
        "plt.subplot(1, 2, 1)\n",
        "plt.plot(surprise_loss, label='Training Loss')\n",
        "plt.plot(surprise_val_loss, label='Validation Loss')\n",
        "plt.title('surprise Model - Loss')\n",
        "plt.xlabel('Epochs')\n",
        "plt.ylabel('Loss')\n",
        "plt.legend()\n",
        "\n",
        "# Plot Accuracy\n",
        "plt.subplot(1, 2, 2)\n",
        "plt.plot(surprise_accuracy, label='Training Accuracy')\n",
        "plt.plot(surprise_val_accuracy, label='Validation Accuracy')\n",
        "plt.title('surprise Model - Accuracy')\n",
        "plt.xlabel('Epochs')\n",
        "plt.ylabel('Accuracy')\n",
        "plt.legend()\n",
        "\n",
        "plt.tight_layout()\n",
        "plt.show()\n"
      ],
      "metadata": {
        "trusted": true,
        "execution": {
          "iopub.status.busy": "2025-05-14T09:23:26.337967Z",
          "iopub.execute_input": "2025-05-14T09:23:26.338174Z",
          "iopub.status.idle": "2025-05-14T09:23:26.682629Z",
          "shell.execute_reply.started": "2025-05-14T09:23:26.338158Z",
          "shell.execute_reply": "2025-05-14T09:23:26.681936Z"
        },
        "colab": {
          "base_uri": "https://localhost:8080/",
          "height": 293
        },
        "id": "zligDUmJPuFH",
        "outputId": "38aac7b1-21c2-4086-b4cb-19094958523d"
      },
      "outputs": [
        {
          "output_type": "display_data",
          "data": {
            "text/plain": [
              "<Figure size 1200x500 with 2 Axes>"
            ],
            "image/png": "[encoded data removed]"
          },
          "metadata": {}
        }
      ],
      "execution_count": 129
    },
    {
      "cell_type": "markdown",
      "source": [
        "### surprise inference"
      ],
      "metadata": {
        "id": "awjxevMtPuFH"
      }
    },
    {
      "cell_type": "code",
      "source": [
        "\n",
        "latent_dim = 256  # Define latent dimension\n",
        "\n",
        "# Encoder inference model\n",
        "surprise_encoder_model = Model(inputs=surprise_encoder_inputs, outputs=[surprise_encoder_out, surprise_state_h, surprise_state_c])\n",
        "\n",
        "# Decoder inference model\n",
        "surprise_decoder_state_input_h = Input(shape=(latent_dim,))\n",
        "surprise_decoder_state_input_c = Input(shape=(latent_dim,))\n",
        "surprise_decoder_hidden_state_input = Input(shape=(max_sentence_length - 1, latent_dim))\n",
        "\n",
        "surprise_dec_emb2 = surprise_dec_emb_layer(surprise_decoder_inputs)\n",
        "\n",
        "surprise_decoder_outputs2, state_h2, state_c2 = surprise_decoder_lstm(surprise_dec_emb2, initial_state=[surprise_decoder_state_input_h, surprise_decoder_state_input_c])\n",
        "\n",
        "surprise_attn_out_inf, _ = surprise_attn_layer([surprise_decoder_hidden_state_input, surprise_decoder_outputs2])\n",
        "surprise_decoder_inf_concat = Concatenate(axis=-1)([surprise_decoder_outputs2, surprise_attn_out_inf])\n",
        "\n",
        "surprise_decoder_outputs2 = surprise_decoder_dense(surprise_decoder_inf_concat)\n",
        "\n",
        "surprise_decoder_model = Model(\n",
        "    [surprise_decoder_inputs, surprise_decoder_hidden_state_input, surprise_decoder_state_input_h, surprise_decoder_state_input_c],\n",
        "    [surprise_decoder_outputs2, state_h2, state_c2]\n",
        ")\n",
        "\n"
      ],
      "metadata": {
        "trusted": true,
        "execution": {
          "iopub.status.busy": "2025-05-14T09:23:26.683908Z",
          "iopub.execute_input": "2025-05-14T09:23:26.684427Z",
          "iopub.status.idle": "2025-05-14T09:23:26.697920Z",
          "shell.execute_reply.started": "2025-05-14T09:23:26.684408Z",
          "shell.execute_reply": "2025-05-14T09:23:26.697315Z"
        },
        "id": "mkhz5214PuFH"
      },
      "outputs": [],
      "execution_count": 130
    },
    {
      "cell_type": "code",
      "source": [
        "def is_sentence_valid(sentence):\n",
        "    if sentence.count(\" a \") > 2 or (sentence.count(\"of a\") > 1):\n",
        "        return False\n",
        "    if len(sentence.split()) < 3 or len(sentence.split()) > max_sentence_length:\n",
        "        return False\n",
        "    if sentence.lower().startswith(\"on feeling like\") or sentence.lower().startswith(\"on a feeling\") or sentence.lower().startswith(\"on a\") or sentence.lower().startswith(\"on\"):\n",
        "        return False\n",
        "    return True\n"
      ],
      "metadata": {
        "trusted": true,
        "execution": {
          "iopub.status.busy": "2025-05-14T09:23:30.832691Z",
          "iopub.execute_input": "2025-05-14T09:23:30.832979Z",
          "iopub.status.idle": "2025-05-14T09:23:30.838247Z",
          "shell.execute_reply.started": "2025-05-14T09:23:30.832958Z",
          "shell.execute_reply": "2025-05-14T09:23:30.837492Z"
        },
        "id": "zBfVIhP1PuFI"
      },
      "outputs": [],
      "execution_count": 131
    },
    {
      "cell_type": "markdown",
      "source": [
        "## generate text for surprise"
      ],
      "metadata": {
        "id": "p75Plcc8PuFI"
      }
    },
    {
      "cell_type": "code",
      "source": [
        "\n",
        "max_sentence_length=60\n",
        "# Generator function for one surprise sentence\n",
        "def generate_text_for_surprise(tokenizer, encoder_model, decoder_model, max_len=max_sentence_length-1):\n",
        "    prompt = \"Generate a tweet expressing surprise\"\n",
        "\n",
        "    input_seq_ids = tokenizer.texts_to_sequences([prompt])[0]\n",
        "    input_seq_padded = pad_sequences([input_seq_ids], maxlen=max_len, padding='post')\n",
        "\n",
        "    encoder_out, state_h, state_c = encoder_model.predict(input_seq_padded, verbose=0)\n",
        "    states = [state_h, state_c]\n",
        "\n",
        "    sos_token_index = tokenizer.word_index['<sos>']\n",
        "    eos_token_index = tokenizer.word_index['<eos>']\n",
        "    target_seq = np.array([[sos_token_index]])\n",
        "\n",
        "    decoded_tokens = []\n",
        "\n",
        "    for _ in range(15):\n",
        "        output_tokens, h, c = decoder_model.predict(\n",
        "            [target_seq, encoder_out, state_h, state_c], verbose=0\n",
        "        )\n",
        "        preds = output_tokens[0, 0, :]\n",
        "        sampled_token_index = sample_with_top_p_and_temperature(preds, top_p=0.9, temperature=0.5)\n",
        "\n",
        "        if sampled_token_index == eos_token_index:\n",
        "            break\n",
        "\n",
        "        decoded_tokens.append(sampled_token_index)\n",
        "        target_seq = np.array([[sampled_token_index]])\n",
        "        state_h, state_c = h, c\n",
        "\n",
        "    sentence = tokenizer.sequences_to_texts([decoded_tokens])[0]\n",
        "    sentence = post_process_sentence(sentence)\n",
        "    sentence = correct_grammar(sentence)\n",
        "\n",
        "    if not is_sentence_valid(sentence):\n",
        "        return generate_text_for_surprise(tokenizer, encoder_model, decoder_model, max_len)\n",
        "\n",
        "    return sentence"
      ],
      "metadata": {
        "trusted": true,
        "execution": {
          "iopub.status.busy": "2025-05-14T09:50:15.625892Z",
          "iopub.execute_input": "2025-05-14T09:50:15.626393Z",
          "iopub.status.idle": "2025-05-14T09:50:15.633457Z",
          "shell.execute_reply.started": "2025-05-14T09:50:15.626364Z",
          "shell.execute_reply": "2025-05-14T09:50:15.632661Z"
        },
        "id": "weDb1CUOPuFI"
      },
      "outputs": [],
      "execution_count": 132
    },
    {
      "cell_type": "code",
      "source": [
        "def generate_surprise_texts(n):\n",
        "    generated = []\n",
        "    for i in range(n):\n",
        "        sentence = generate_text_for_surprise(surprise_tokenizer, surprise_encoder_model, surprise_decoder_model, max_len=max_sentence_length - 1)\n",
        "        generated.append(sentence)\n",
        "    return generated"
      ],
      "metadata": {
        "trusted": true,
        "execution": {
          "iopub.status.busy": "2025-05-14T09:50:17.957274Z",
          "iopub.execute_input": "2025-05-14T09:50:17.957873Z",
          "iopub.status.idle": "2025-05-14T09:50:17.961766Z",
          "shell.execute_reply.started": "2025-05-14T09:50:17.957848Z",
          "shell.execute_reply": "2025-05-14T09:50:17.960989Z"
        },
        "id": "_W6vJSFIPuFI"
      },
      "outputs": [],
      "execution_count": 133
    },
    {
      "cell_type": "code",
      "source": [
        "surprise_gentext = generate_surprise_texts(10)\n",
        "surprise_gentext"
      ],
      "metadata": {
        "trusted": true,
        "execution": {
          "iopub.status.busy": "2025-05-14T09:50:18.961259Z",
          "iopub.execute_input": "2025-05-14T09:50:18.961837Z",
          "iopub.status.idle": "2025-05-14T09:50:32.391022Z",
          "shell.execute_reply.started": "2025-05-14T09:50:18.961812Z",
          "shell.execute_reply": "2025-05-14T09:50:32.390395Z"
        },
        "colab": {
          "base_uri": "https://localhost:8080/"
        },
        "id": "vrv0eSIjPuFI",
        "outputId": "ea17b17f-dd47-4884-d96c-8cedb67e70a3"
      },
      "outputs": [
        {
          "output_type": "execute_result",
          "data": {
            "text/plain": [
              "['I am feeling curious',\n",
              " 'I am feeling a little strange',\n",
              " 'I feel so funny',\n",
              " 'I am feeling absolutely overwhelmed',\n",
              " 'I feel so overwhelmed',\n",
              " 'I am feeling strange brew',\n",
              " 'I am feeling absolutely amazing',\n",
              " 'I am feeling so dazed',\n",
              " 'I feel so a bit dazed',\n",
              " 'I am feeling funny']"
            ]
          },
          "metadata": {},
          "execution_count": 134
        }
      ],
      "execution_count": 134
    },
    {
      "cell_type": "markdown",
      "source": [
        "Above are 10 synthetic tweets generated by the seq2seq model trained on the *surprise* emotion. The generation uses Top-p sampling with temperature to ensure diversity and emotional relevance."
      ],
      "metadata": {
        "id": "2s24NHJa1ukQ"
      }
    },
    {
      "cell_type": "code",
      "source": [
        "surprise_gentext = generate_surprise_texts(6042) #we need 6042 texts to balance the data.\n",
        "surprise_gentext"
      ],
      "metadata": {
        "trusted": true,
        "execution": {
          "iopub.status.busy": "2025-05-14T08:29:40.275249Z",
          "iopub.execute_input": "2025-05-14T08:29:40.275494Z",
          "iopub.status.idle": "2025-05-14T08:40:49.719579Z",
          "shell.execute_reply.started": "2025-05-14T08:29:40.275480Z",
          "shell.execute_reply": "2025-05-14T08:40:49.718300Z"
        },
        "colab": {
          "base_uri": "https://localhost:8080/",
          "height": 36
        },
        "id": "I4fBmrrZPuFI",
        "outputId": "24fb9cda-aef3-414b-9a2a-afaec603d218"
      },
      "outputs": [
        {
          "output_type": "execute_result",
          "data": {
            "text/plain": [
              "'surprise_gentext = generate_surprise_texts(6042)\\nsurprise_gentext'"
            ],
            "application/vnd.google.colaboratory.intrinsic+json": {
              "type": "string"
            }
          },
          "metadata": {},
          "execution_count": 64
        }
      ],
      "execution_count": 64
    },
    {
      "cell_type": "code",
      "source": [
        "\n",
        "surprise_texts = {'text': surprise_gentext, 'emotions': ['surprise'] * len(surprise_gentext)}\n",
        "\n",
        "# Convert to DataFrame\n",
        "df_surprise_texts = pd.DataFrame(surprise_texts)"
      ],
      "metadata": {
        "trusted": true,
        "execution": {
          "iopub.status.busy": "2025-05-14T08:40:49.720188Z",
          "iopub.status.idle": "2025-05-14T08:40:49.720494Z",
          "shell.execute_reply.started": "2025-05-14T08:40:49.720329Z",
          "shell.execute_reply": "2025-05-14T08:40:49.720346Z"
        },
        "colab": {
          "base_uri": "https://localhost:8080/",
          "height": 70
        },
        "id": "LkuPh8b6PuFI",
        "outputId": "99b15cfc-7363-4470-bce6-135b549745db"
      },
      "outputs": [
        {
          "output_type": "execute_result",
          "data": {
            "text/plain": [
              "\"surprise_texts = {'text': surprise_gentext, 'emotions': ['surprise'] * len(surprise_gentext)}\\n\\n# Convert to DataFrame\\ndf_surprise_texts = pd.DataFrame(surprise_texts)\""
            ],
            "application/vnd.google.colaboratory.intrinsic+json": {
              "type": "string"
            }
          },
          "metadata": {},
          "execution_count": 65
        }
      ],
      "execution_count": 65
    },
    {
      "cell_type": "code",
      "source": [
        "df_surprise_texts.to_csv('/kaggle/working/surprise_texts.csv', index=False)\n"
      ],
      "metadata": {
        "trusted": true,
        "execution": {
          "iopub.status.busy": "2025-05-14T08:40:49.723094Z",
          "iopub.status.idle": "2025-05-14T08:40:49.723406Z",
          "shell.execute_reply.started": "2025-05-14T08:40:49.723249Z",
          "shell.execute_reply": "2025-05-14T08:40:49.723263Z"
        },
        "id": "yHz4eaTyPuFI"
      },
      "outputs": [],
      "execution_count": 67
    },
    {
      "cell_type": "markdown",
      "source": [
        "## **3.Emotion-Specific Text Generation: *Love Class***"
      ],
      "metadata": {
        "id": "EAEyqel6PuFI"
      }
    },
    {
      "cell_type": "code",
      "source": [
        "love_df"
      ],
      "metadata": {
        "trusted": true,
        "execution": {
          "iopub.status.busy": "2025-05-14T09:29:47.315386Z",
          "iopub.execute_input": "2025-05-14T09:29:47.316263Z",
          "iopub.status.idle": "2025-05-14T09:29:47.325077Z",
          "shell.execute_reply.started": "2025-05-14T09:29:47.316228Z",
          "shell.execute_reply": "2025-05-14T09:29:47.324489Z"
        },
        "colab": {
          "base_uri": "https://localhost:8080/",
          "height": 423
        },
        "id": "ajRtJR5ZPuFJ",
        "outputId": "419402ba-cfb3-4c92-ae94-5aee46892774"
      },
      "outputs": [
        {
          "output_type": "execute_result",
          "data": {
            "text/plain": [
              "      emotions                                               Text\n",
              "3         love  <sos> i am ever feeling nostalgic about the fi...\n",
              "9         love                    <sos> i feel romantic too <eos>\n",
              "47        love  <sos> i can t let go of that sad feeling that ...\n",
              "61        love  <sos> i ate i could feel a gentle tingle throu...\n",
              "68        love  <sos> i suppose my own truth needs to be share...\n",
              "...        ...                                                ...\n",
              "19961     love  <sos> i remember wanting to fit in so bad and ...\n",
              "19969     love  <sos> i can feel the warmth of the gentle sun ...\n",
              "19970     love  <sos> i guess as long as the table in the abov...\n",
              "19990     love  <sos> i really feel like they were gentle remi...\n",
              "19991     love  <sos> i dont blame it all to them and im not a...\n",
              "\n",
              "[1641 rows x 2 columns]"
            ],
            "text/html": [
              "\n",
              "  <div id=\"df-599d2fb9-89a9-4f11-8351-c346f1133dc7\" class=\"colab-df-container\">\n",
              "    <div>\n",
              "<style scoped>\n",
              "    .dataframe tbody tr th:only-of-type {\n",
              "        vertical-align: middle;\n",
              "    }\n",
              "\n",
              "    .dataframe tbody tr th {\n",
              "        vertical-align: top;\n",
              "    }\n",
              "\n",
              "    .dataframe thead th {\n",
              "        text-align: right;\n",
              "    }\n",
              "</style>\n",
              "<table border=\"1\" class=\"dataframe\">\n",
              "  <thead>\n",
              "    <tr style=\"text-align: right;\">\n",
              "      <th></th>\n",
              "      <th>emotions</th>\n",
              "      <th>Text</th>\n",
              "    </tr>\n",
              "  </thead>\n",
              "  <tbody>\n",
              "    <tr>\n",
              "      <th>3</th>\n",
              "      <td>love</td>\n",
              "      <td>&lt;sos&gt; i am ever feeling nostalgic about the fi...</td>\n",
              "    </tr>\n",
              "    <tr>\n",
              "      <th>9</th>\n",
              "      <td>love</td>\n",
              "      <td>&lt;sos&gt; i feel romantic too &lt;eos&gt;</td>\n",
              "    </tr>\n",
              "    <tr>\n",
              "      <th>47</th>\n",
              "      <td>love</td>\n",
              "      <td>&lt;sos&gt; i can t let go of that sad feeling that ...</td>\n",
              "    </tr>\n",
              "    <tr>\n",
              "      <th>61</th>\n",
              "      <td>love</td>\n",
              "      <td>&lt;sos&gt; i ate i could feel a gentle tingle throu...</td>\n",
              "    </tr>\n",
              "    <tr>\n",
              "      <th>68</th>\n",
              "      <td>love</td>\n",
              "      <td>&lt;sos&gt; i suppose my own truth needs to be share...</td>\n",
              "    </tr>\n",
              "    <tr>\n",
              "      <th>...</th>\n",
              "      <td>...</td>\n",
              "      <td>...</td>\n",
              "    </tr>\n",
              "    <tr>\n",
              "      <th>19961</th>\n",
              "      <td>love</td>\n",
              "      <td>&lt;sos&gt; i remember wanting to fit in so bad and ...</td>\n",
              "    </tr>\n",
              "    <tr>\n",
              "      <th>19969</th>\n",
              "      <td>love</td>\n",
              "      <td>&lt;sos&gt; i can feel the warmth of the gentle sun ...</td>\n",
              "    </tr>\n",
              "    <tr>\n",
              "      <th>19970</th>\n",
              "      <td>love</td>\n",
              "      <td>&lt;sos&gt; i guess as long as the table in the abov...</td>\n",
              "    </tr>\n",
              "    <tr>\n",
              "      <th>19990</th>\n",
              "      <td>love</td>\n",
              "      <td>&lt;sos&gt; i really feel like they were gentle remi...</td>\n",
              "    </tr>\n",
              "    <tr>\n",
              "      <th>19991</th>\n",
              "      <td>love</td>\n",
              "      <td>&lt;sos&gt; i dont blame it all to them and im not a...</td>\n",
              "    </tr>\n",
              "  </tbody>\n",
              "</table>\n",
              "<p>1641 rows × 2 columns</p>\n",
              "</div>\n",
              "    <div class=\"colab-df-buttons\">\n",
              "\n",
              "  <div class=\"colab-df-container\">\n",
              "    <button class=\"colab-df-convert\" onclick=\"convertToInteractive('df-599d2fb9-89a9-4f11-8351-c346f1133dc7')\"\n",
              "            title=\"Convert this dataframe to an interactive table.\"\n",
              "            style=\"display:none;\">\n",
              "\n",
              "  <svg xmlns=\"http://www.w3.org/2000/svg\" height=\"24px\" viewBox=\"0 -960 960 960\">\n",
              "    <path d=\"M120-120v-720h720v720H120Zm60-500h600v-160H180v160Zm220 220h160v-160H400v160Zm0 220h160v-160H400v160ZM180-400h160v-160H180v160Zm440 0h160v-160H620v160ZM180-180h160v-160H180v160Zm440 0h160v-160H620v160Z\"/>\n",
              "  </svg>\n",
              "    </button>\n",
              "\n",
              "  <style>\n",
              "    .colab-df-container {\n",
              "      display:flex;\n",
              "      gap: 12px;\n",
              "    }\n",
              "\n",
              "    .colab-df-convert {\n",
              "      background-color: #E8F0FE;\n",
              "      border: none;\n",
              "      border-radius: 50%;\n",
              "      cursor: pointer;\n",
              "      display: none;\n",
              "      fill: #1967D2;\n",
              "      height: 32px;\n",
              "      padding: 0 0 0 0;\n",
              "      width: 32px;\n",
              "    }\n",
              "\n",
              "    .colab-df-convert:hover {\n",
              "      background-color: #E2EBFA;\n",
              "      box-shadow: 0px 1px 2px rgba(60, 64, 67, 0.3), 0px 1px 3px 1px rgba(60, 64, 67, 0.15);\n",
              "      fill: #174EA6;\n",
              "    }\n",
              "\n",
              "    .colab-df-buttons div {\n",
              "      margin-bottom: 4px;\n",
              "    }\n",
              "\n",
              "    [theme=dark] .colab-df-convert {\n",
              "      background-color: #3B4455;\n",
              "      fill: #D2E3FC;\n",
              "    }\n",
              "\n",
              "    [theme=dark] .colab-df-convert:hover {\n",
              "      background-color: #434B5C;\n",
              "      box-shadow: 0px 1px 3px 1px rgba(0, 0, 0, 0.15);\n",
              "      filter: drop-shadow(0px 1px 2px rgba(0, 0, 0, 0.3));\n",
              "      fill: #FFFFFF;\n",
              "    }\n",
              "  </style>\n",
              "\n",
              "    <script>\n",
              "      const buttonEl =\n",
              "        document.querySelector('#df-599d2fb9-89a9-4f11-8351-c346f1133dc7 button.colab-df-convert');\n",
              "      buttonEl.style.display =\n",
              "        google.colab.kernel.accessAllowed ? 'block' : 'none';\n",
              "\n",
              "      async function convertToInteractive(key) {\n",
              "        const element = document.querySelector('#df-599d2fb9-89a9-4f11-8351-c346f1133dc7');\n",
              "        const dataTable =\n",
              "          await google.colab.kernel.invokeFunction('convertToInteractive',\n",
              "                                                    [key], {});\n",
              "        if (!dataTable) return;\n",
              "\n",
              "        const docLinkHtml = 'Like what you see? Visit the ' +\n",
              "          '<a target=\"_blank\" href=https://colab.research.google.com/notebooks/data_table.ipynb>data table notebook</a>'\n",
              "          + ' to learn more about interactive tables.';\n",
              "        element.innerHTML = '';\n",
              "        dataTable['output_type'] = 'display_data';\n",
              "        await google.colab.output.renderOutput(dataTable, element);\n",
              "        const docLink = document.createElement('div');\n",
              "        docLink.innerHTML = docLinkHtml;\n",
              "        element.appendChild(docLink);\n",
              "      }\n",
              "    </script>\n",
              "  </div>\n",
              "\n",
              "\n",
              "    <div id=\"df-83cef4ae-5613-44e6-8282-5c4aa5322c63\">\n",
              "      <button class=\"colab-df-quickchart\" onclick=\"quickchart('df-83cef4ae-5613-44e6-8282-5c4aa5322c63')\"\n",
              "                title=\"Suggest charts\"\n",
              "                style=\"display:none;\">\n",
              "\n",
              "<svg xmlns=\"http://www.w3.org/2000/svg\" height=\"24px\"viewBox=\"0 0 24 24\"\n",
              "     width=\"24px\">\n",
              "    <g>\n",
              "        <path d=\"M19 3H5c-1.1 0-2 .9-2 2v14c0 1.1.9 2 2 2h14c1.1 0 2-.9 2-2V5c0-1.1-.9-2-2-2zM9 17H7v-7h2v7zm4 0h-2V7h2v10zm4 0h-2v-4h2v4z\"/>\n",
              "    </g>\n",
              "</svg>\n",
              "      </button>\n",
              "\n",
              "<style>\n",
              "  .colab-df-quickchart {\n",
              "      --bg-color: #E8F0FE;\n",
              "      --fill-color: #1967D2;\n",
              "      --hover-bg-color: #E2EBFA;\n",
              "      --hover-fill-color: #174EA6;\n",
              "      --disabled-fill-color: #AAA;\n",
              "      --disabled-bg-color: #DDD;\n",
              "  }\n",
              "\n",
              "  [theme=dark] .colab-df-quickchart {\n",
              "      --bg-color: #3B4455;\n",
              "      --fill-color: #D2E3FC;\n",
              "      --hover-bg-color: #434B5C;\n",
              "      --hover-fill-color: #FFFFFF;\n",
              "      --disabled-bg-color: #3B4455;\n",
              "      --disabled-fill-color: #666;\n",
              "  }\n",
              "\n",
              "  .colab-df-quickchart {\n",
              "    background-color: var(--bg-color);\n",
              "    border: none;\n",
              "    border-radius: 50%;\n",
              "    cursor: pointer;\n",
              "    display: none;\n",
              "    fill: var(--fill-color);\n",
              "    height: 32px;\n",
              "    padding: 0;\n",
              "    width: 32px;\n",
              "  }\n",
              "\n",
              "  .colab-df-quickchart:hover {\n",
              "    background-color: var(--hover-bg-color);\n",
              "    box-shadow: 0 1px 2px rgba(60, 64, 67, 0.3), 0 1px 3px 1px rgba(60, 64, 67, 0.15);\n",
              "    fill: var(--button-hover-fill-color);\n",
              "  }\n",
              "\n",
              "  .colab-df-quickchart-complete:disabled,\n",
              "  .colab-df-quickchart-complete:disabled:hover {\n",
              "    background-color: var(--disabled-bg-color);\n",
              "    fill: var(--disabled-fill-color);\n",
              "    box-shadow: none;\n",
              "  }\n",
              "\n",
              "  .colab-df-spinner {\n",
              "    border: 2px solid var(--fill-color);\n",
              "    border-color: transparent;\n",
              "    border-bottom-color: var(--fill-color);\n",
              "    animation:\n",
              "      spin 1s steps(1) infinite;\n",
              "  }\n",
              "\n",
              "  @keyframes spin {\n",
              "    0% {\n",
              "      border-color: transparent;\n",
              "      border-bottom-color: var(--fill-color);\n",
              "      border-left-color: var(--fill-color);\n",
              "    }\n",
              "    20% {\n",
              "      border-color: transparent;\n",
              "      border-left-color: var(--fill-color);\n",
              "      border-top-color: var(--fill-color);\n",
              "    }\n",
              "    30% {\n",
              "      border-color: transparent;\n",
              "      border-left-color: var(--fill-color);\n",
              "      border-top-color: var(--fill-color);\n",
              "      border-right-color: var(--fill-color);\n",
              "    }\n",
              "    40% {\n",
              "      border-color: transparent;\n",
              "      border-right-color: var(--fill-color);\n",
              "      border-top-color: var(--fill-color);\n",
              "    }\n",
              "    60% {\n",
              "      border-color: transparent;\n",
              "      border-right-color: var(--fill-color);\n",
              "    }\n",
              "    80% {\n",
              "      border-color: transparent;\n",
              "      border-right-color: var(--fill-color);\n",
              "      border-bottom-color: var(--fill-color);\n",
              "    }\n",
              "    90% {\n",
              "      border-color: transparent;\n",
              "      border-bottom-color: var(--fill-color);\n",
              "    }\n",
              "  }\n",
              "</style>\n",
              "\n",
              "      <script>\n",
              "        async function quickchart(key) {\n",
              "          const quickchartButtonEl =\n",
              "            document.querySelector('#' + key + ' button');\n",
              "          quickchartButtonEl.disabled = true;  // To prevent multiple clicks.\n",
              "          quickchartButtonEl.classList.add('colab-df-spinner');\n",
              "          try {\n",
              "            const charts = await google.colab.kernel.invokeFunction(\n",
              "                'suggestCharts', [key], {});\n",
              "          } catch (error) {\n",
              "            console.error('Error during call to suggestCharts:', error);\n",
              "          }\n",
              "          quickchartButtonEl.classList.remove('colab-df-spinner');\n",
              "          quickchartButtonEl.classList.add('colab-df-quickchart-complete');\n",
              "        }\n",
              "        (() => {\n",
              "          let quickchartButtonEl =\n",
              "            document.querySelector('#df-83cef4ae-5613-44e6-8282-5c4aa5322c63 button');\n",
              "          quickchartButtonEl.style.display =\n",
              "            google.colab.kernel.accessAllowed ? 'block' : 'none';\n",
              "        })();\n",
              "      </script>\n",
              "    </div>\n",
              "\n",
              "  <div id=\"id_a694812d-76ad-461b-8714-ac800b2d7c70\">\n",
              "    <style>\n",
              "      .colab-df-generate {\n",
              "        background-color: #E8F0FE;\n",
              "        border: none;\n",
              "        border-radius: 50%;\n",
              "        cursor: pointer;\n",
              "        display: none;\n",
              "        fill: #1967D2;\n",
              "        height: 32px;\n",
              "        padding: 0 0 0 0;\n",
              "        width: 32px;\n",
              "      }\n",
              "\n",
              "      .colab-df-generate:hover {\n",
              "        background-color: #E2EBFA;\n",
              "        box-shadow: 0px 1px 2px rgba(60, 64, 67, 0.3), 0px 1px 3px 1px rgba(60, 64, 67, 0.15);\n",
              "        fill: #174EA6;\n",
              "      }\n",
              "\n",
              "      [theme=dark] .colab-df-generate {\n",
              "        background-color: #3B4455;\n",
              "        fill: #D2E3FC;\n",
              "      }\n",
              "\n",
              "      [theme=dark] .colab-df-generate:hover {\n",
              "        background-color: #434B5C;\n",
              "        box-shadow: 0px 1px 3px 1px rgba(0, 0, 0, 0.15);\n",
              "        filter: drop-shadow(0px 1px 2px rgba(0, 0, 0, 0.3));\n",
              "        fill: #FFFFFF;\n",
              "      }\n",
              "    </style>\n",
              "    <button class=\"colab-df-generate\" onclick=\"generateWithVariable('love_df')\"\n",
              "            title=\"Generate code using this dataframe.\"\n",
              "            style=\"display:none;\">\n",
              "\n",
              "  <svg xmlns=\"http://www.w3.org/2000/svg\" height=\"24px\"viewBox=\"0 0 24 24\"\n",
              "       width=\"24px\">\n",
              "    <path d=\"M7,19H8.4L18.45,9,17,7.55,7,17.6ZM5,21V16.75L18.45,3.32a2,2,0,0,1,2.83,0l1.4,1.43a1.91,1.91,0,0,1,.58,1.4,1.91,1.91,0,0,1-.58,1.4L9.25,21ZM18.45,9,17,7.55Zm-12,3A5.31,5.31,0,0,0,4.9,8.1,5.31,5.31,0,0,0,1,6.5,5.31,5.31,0,0,0,4.9,4.9,5.31,5.31,0,0,0,6.5,1,5.31,5.31,0,0,0,8.1,4.9,5.31,5.31,0,0,0,12,6.5,5.46,5.46,0,0,0,6.5,12Z\"/>\n",
              "  </svg>\n",
              "    </button>\n",
              "    <script>\n",
              "      (() => {\n",
              "      const buttonEl =\n",
              "        document.querySelector('#id_a694812d-76ad-461b-8714-ac800b2d7c70 button.colab-df-generate');\n",
              "      buttonEl.style.display =\n",
              "        google.colab.kernel.accessAllowed ? 'block' : 'none';\n",
              "\n",
              "      buttonEl.onclick = () => {\n",
              "        google.colab.notebook.generateWithVariable('love_df');\n",
              "      }\n",
              "      })();\n",
              "    </script>\n",
              "  </div>\n",
              "\n",
              "    </div>\n",
              "  </div>\n"
            ],
            "application/vnd.google.colaboratory.intrinsic+json": {
              "type": "dataframe",
              "variable_name": "love_df",
              "summary": "{\n  \"name\": \"love_df\",\n  \"rows\": 1641,\n  \"fields\": [\n    {\n      \"column\": \"emotions\",\n      \"properties\": {\n        \"dtype\": \"category\",\n        \"num_unique_values\": 1,\n        \"samples\": [\n          \"love\"\n        ],\n        \"semantic_type\": \"\",\n        \"description\": \"\"\n      }\n    },\n    {\n      \"column\": \"Text\",\n      \"properties\": {\n        \"dtype\": \"string\",\n        \"num_unique_values\": 1641,\n        \"samples\": [\n          \"<sos> i feel like hes trying to be the one to comfort me and help me get over yash which is sooo sweet of him but at the same time it makes me love yash more because he cant compare to yash i feel like i cant trust fateh <eos>\"\n        ],\n        \"semantic_type\": \"\",\n        \"description\": \"\"\n      }\n    }\n  ]\n}"
            }
          },
          "metadata": {},
          "execution_count": 69
        }
      ],
      "execution_count": 69
    },
    {
      "cell_type": "markdown",
      "source": [
        "### Tokenization for love emotion"
      ],
      "metadata": {
        "id": "5ro8jB5hPuFJ"
      }
    },
    {
      "cell_type": "code",
      "source": [
        "# let's create tokenizer for love_df\n",
        "\n",
        "love_tokenizer = Tokenizer(oov_token=\"<unk>\",filters='')\n",
        "love_tokenizer.fit_on_texts(love_df['Text'])\n",
        "love_sequences = love_tokenizer.texts_to_sequences(love_df['Text'])"
      ],
      "metadata": {
        "trusted": true,
        "execution": {
          "iopub.status.busy": "2025-05-14T09:29:51.543379Z",
          "iopub.execute_input": "2025-05-14T09:29:51.543933Z",
          "iopub.status.idle": "2025-05-14T09:29:51.593273Z",
          "shell.execute_reply.started": "2025-05-14T09:29:51.543906Z",
          "shell.execute_reply": "2025-05-14T09:29:51.592779Z"
        },
        "id": "m15yDgjvPuFJ"
      },
      "outputs": [],
      "execution_count": 70
    },
    {
      "cell_type": "code",
      "source": [
        "# create pad_sequence for love_df\n",
        "\n",
        "love_padded = pad_sequences(love_sequences, maxlen=max_sentence_length, padding='post', truncating='post')"
      ],
      "metadata": {
        "trusted": true,
        "execution": {
          "iopub.status.busy": "2025-05-14T09:29:52.387870Z",
          "iopub.execute_input": "2025-05-14T09:29:52.388591Z",
          "iopub.status.idle": "2025-05-14T09:29:52.400212Z",
          "shell.execute_reply.started": "2025-05-14T09:29:52.388566Z",
          "shell.execute_reply": "2025-05-14T09:29:52.399587Z"
        },
        "id": "gAOi9hkEPuFJ"
      },
      "outputs": [],
      "execution_count": 71
    },
    {
      "cell_type": "markdown",
      "source": [
        "### encoder decoder inputs"
      ],
      "metadata": {
        "id": "HfnVDrO0PuFJ"
      }
    },
    {
      "cell_type": "code",
      "source": [
        "# create sequence splitting for love_df\n",
        "\n",
        "from sklearn.model_selection import train_test_split\n",
        "\n",
        "# Assuming love_padded is already defined as in your provided code\n",
        "love_encoder_input_data = love_padded[:, :-1]\n",
        "love_decoder_input_data = love_padded[:, 1:]\n",
        "love_decoder_target_data = np.zeros_like(love_decoder_input_data)\n",
        "\n",
        "\n",
        "#Shifting the decoder target data one step to the left.\n",
        "love_decoder_target_data[:, :-1] =love_decoder_input_data[:, 1:]\n",
        "love_decoder_target_data[:, -1] = love_tokenizer.word_index['<eos>']"
      ],
      "metadata": {
        "trusted": true,
        "execution": {
          "iopub.status.busy": "2025-05-14T09:29:54.743653Z",
          "iopub.execute_input": "2025-05-14T09:29:54.744227Z",
          "iopub.status.idle": "2025-05-14T09:29:54.748951Z",
          "shell.execute_reply.started": "2025-05-14T09:29:54.744205Z",
          "shell.execute_reply": "2025-05-14T09:29:54.748161Z"
        },
        "id": "cqEMU7bLPuFJ"
      },
      "outputs": [],
      "execution_count": 72
    },
    {
      "cell_type": "markdown",
      "source": [
        "### Train test split\n"
      ],
      "metadata": {
        "id": "TuJ0bDYkPuFJ"
      }
    },
    {
      "cell_type": "code",
      "source": [
        "#Split data into training and validation sets.\n",
        "love_encoder_input_train, love_encoder_input_val, love_decoder_input_train, love_decoder_input_val, love_decoder_target_train, love_decoder_target_val = train_test_split(\n",
        "    love_encoder_input_data,\n",
        "    love_decoder_input_data,\n",
        "    love_decoder_target_data,\n",
        "    test_size=0.2,  # Adjust as needed\n",
        "    random_state=42  # For reproducibility\n",
        ")"
      ],
      "metadata": {
        "trusted": true,
        "execution": {
          "iopub.status.busy": "2025-05-14T09:29:56.306915Z",
          "iopub.execute_input": "2025-05-14T09:29:56.307183Z",
          "iopub.status.idle": "2025-05-14T09:29:56.312618Z",
          "shell.execute_reply.started": "2025-05-14T09:29:56.307162Z",
          "shell.execute_reply": "2025-05-14T09:29:56.311924Z"
        },
        "id": "fnNWI6NiPuFJ"
      },
      "outputs": [],
      "execution_count": 73
    },
    {
      "cell_type": "markdown",
      "source": [
        "### model building for love emotion"
      ],
      "metadata": {
        "id": "1uJ7KIEtPuFJ"
      }
    },
    {
      "cell_type": "code",
      "source": [
        "vocab_size = len(love_tokenizer.word_index) + 1\n",
        "latent_dim = 256\n",
        "\n",
        "# Encoder\n",
        "love_encoder_inputs = Input(shape=(max_sentence_length - 1,))\n",
        "love_enc_emb = Embedding(vocab_size, latent_dim)(love_encoder_inputs)\n",
        "love_encoder_lstm = LSTM(latent_dim, return_sequences=True, return_state=True)\n",
        "love_encoder_out, love_state_h, love_state_c = love_encoder_lstm(love_enc_emb)\n",
        "love_encoder_states = [love_state_h, love_state_c]\n",
        "\n",
        "# Decoder\n",
        "love_decoder_inputs = Input(shape=(max_sentence_length - 1,))\n",
        "love_dec_emb_layer = Embedding(vocab_size, latent_dim)\n",
        "love_dec_emb = love_dec_emb_layer(love_decoder_inputs)\n",
        "love_decoder_lstm = LSTM(latent_dim, return_sequences=True, return_state=True)\n",
        "love_decoder_outputs,love_decoder_h,love_decoder_c = love_decoder_lstm(love_dec_emb, initial_state=love_encoder_states)\n",
        "\n",
        "# Attention Layer\n",
        "love_attn_layer = AttentionLayer()\n",
        "love_attn_out, love_attn_states = love_attn_layer([love_encoder_out, love_decoder_outputs])\n",
        "love_decoder_concat_input = Concatenate(axis=-1)([love_decoder_outputs, love_attn_out])\n",
        "\n",
        "# Dense layer\n",
        "love_decoder_dense = TimeDistributed(Dense(len(love_tokenizer.word_index) + 1, activation='softmax'))\n",
        "love_decoder_outputs = love_decoder_dense(love_decoder_concat_input)"
      ],
      "metadata": {
        "id": "B5GaSEuugtkq"
      },
      "execution_count": 139,
      "outputs": []
    },
    {
      "cell_type": "code",
      "source": [
        "\n",
        "# Model\n",
        "love_model = Model([love_encoder_inputs, love_decoder_inputs], love_decoder_outputs)\n",
        "love_model.compile(optimizer='adam', loss='sparse_categorical_crossentropy', metrics=['accuracy'])\n",
        "love_model.summary()"
      ],
      "metadata": {
        "colab": {
          "base_uri": "https://localhost:8080/",
          "height": 593
        },
        "id": "Wuiqt4Hyg8ob",
        "outputId": "67cfc640-2f81-4af4-b413-44df98e8c750"
      },
      "execution_count": 140,
      "outputs": [
        {
          "output_type": "display_data",
          "data": {
            "text/plain": [
              "\u001b[1mModel: \"functional_26\"\u001b[0m\n"
            ],
            "text/html": [
              "<pre style=\"white-space:pre;overflow-x:auto;line-height:normal;font-family:Menlo,'DejaVu Sans Mono',consolas,'Courier New',monospace\"><span style=\"font-weight: bold\">Model: \"functional_26\"</span>\n",
              "</pre>\n"
            ]
          },
          "metadata": {}
        },
        {
          "output_type": "display_data",
          "data": {
            "text/plain": [
              "┏━━━━━━━━━━━━━━━━━━━━━┳━━━━━━━━━━━━━━━━━━━┳━━━━━━━━━━━━┳━━━━━━━━━━━━━━━━━━━┓\n",
              "┃\u001b[1m \u001b[0m\u001b[1mLayer (type)       \u001b[0m\u001b[1m \u001b[0m┃\u001b[1m \u001b[0m\u001b[1mOutput Shape     \u001b[0m\u001b[1m \u001b[0m┃\u001b[1m \u001b[0m\u001b[1m   Param #\u001b[0m\u001b[1m \u001b[0m┃\u001b[1m \u001b[0m\u001b[1mConnected to     \u001b[0m\u001b[1m \u001b[0m┃\n",
              "┡━━━━━━━━━━━━━━━━━━━━━╇━━━━━━━━━━━━━━━━━━━╇━━━━━━━━━━━━╇━━━━━━━━━━━━━━━━━━━┩\n",
              "│ input_layer_44      │ (\u001b[38;5;45mNone\u001b[0m, \u001b[38;5;34m59\u001b[0m)        │          \u001b[38;5;34m0\u001b[0m │ -                 │\n",
              "│ (\u001b[38;5;33mInputLayer\u001b[0m)        │                   │            │                   │\n",
              "├─────────────────────┼───────────────────┼────────────┼───────────────────┤\n",
              "│ input_layer_45      │ (\u001b[38;5;45mNone\u001b[0m, \u001b[38;5;34m59\u001b[0m)        │          \u001b[38;5;34m0\u001b[0m │ -                 │\n",
              "│ (\u001b[38;5;33mInputLayer\u001b[0m)        │                   │            │                   │\n",
              "├─────────────────────┼───────────────────┼────────────┼───────────────────┤\n",
              "│ embedding_26        │ (\u001b[38;5;45mNone\u001b[0m, \u001b[38;5;34m59\u001b[0m, \u001b[38;5;34m256\u001b[0m)   │  \u001b[38;5;34m1,130,752\u001b[0m │ input_layer_44[\u001b[38;5;34m0\u001b[0m… │\n",
              "│ (\u001b[38;5;33mEmbedding\u001b[0m)         │                   │            │                   │\n",
              "├─────────────────────┼───────────────────┼────────────┼───────────────────┤\n",
              "│ embedding_27        │ (\u001b[38;5;45mNone\u001b[0m, \u001b[38;5;34m59\u001b[0m, \u001b[38;5;34m256\u001b[0m)   │  \u001b[38;5;34m1,130,752\u001b[0m │ input_layer_45[\u001b[38;5;34m0\u001b[0m… │\n",
              "│ (\u001b[38;5;33mEmbedding\u001b[0m)         │                   │            │                   │\n",
              "├─────────────────────┼───────────────────┼────────────┼───────────────────┤\n",
              "│ lstm_26 (\u001b[38;5;33mLSTM\u001b[0m)      │ [(\u001b[38;5;45mNone\u001b[0m, \u001b[38;5;34m59\u001b[0m, \u001b[38;5;34m256\u001b[0m), │    \u001b[38;5;34m525,312\u001b[0m │ embedding_26[\u001b[38;5;34m0\u001b[0m][\u001b[38;5;34m…\u001b[0m │\n",
              "│                     │ (\u001b[38;5;45mNone\u001b[0m, \u001b[38;5;34m256\u001b[0m),      │            │                   │\n",
              "│                     │ (\u001b[38;5;45mNone\u001b[0m, \u001b[38;5;34m256\u001b[0m)]      │            │                   │\n",
              "├─────────────────────┼───────────────────┼────────────┼───────────────────┤\n",
              "│ lstm_27 (\u001b[38;5;33mLSTM\u001b[0m)      │ [(\u001b[38;5;45mNone\u001b[0m, \u001b[38;5;34m59\u001b[0m, \u001b[38;5;34m256\u001b[0m), │    \u001b[38;5;34m525,312\u001b[0m │ embedding_27[\u001b[38;5;34m0\u001b[0m][\u001b[38;5;34m…\u001b[0m │\n",
              "│                     │ (\u001b[38;5;45mNone\u001b[0m, \u001b[38;5;34m256\u001b[0m),      │            │ lstm_26[\u001b[38;5;34m0\u001b[0m][\u001b[38;5;34m1\u001b[0m],    │\n",
              "│                     │ (\u001b[38;5;45mNone\u001b[0m, \u001b[38;5;34m256\u001b[0m)]      │            │ lstm_26[\u001b[38;5;34m0\u001b[0m][\u001b[38;5;34m2\u001b[0m]     │\n",
              "├─────────────────────┼───────────────────┼────────────┼───────────────────┤\n",
              "│ attention_layer_13  │ [(\u001b[38;5;45mNone\u001b[0m, \u001b[38;5;34m59\u001b[0m, \u001b[38;5;34m256\u001b[0m), │    \u001b[38;5;34m131,328\u001b[0m │ lstm_26[\u001b[38;5;34m0\u001b[0m][\u001b[38;5;34m0\u001b[0m],    │\n",
              "│ (\u001b[38;5;33mAttentionLayer\u001b[0m)    │ (\u001b[38;5;45mNone\u001b[0m, \u001b[38;5;34m59\u001b[0m, \u001b[38;5;34m59\u001b[0m)]   │            │ lstm_27[\u001b[38;5;34m0\u001b[0m][\u001b[38;5;34m0\u001b[0m]     │\n",
              "├─────────────────────┼───────────────────┼────────────┼───────────────────┤\n",
              "│ concatenate_19      │ (\u001b[38;5;45mNone\u001b[0m, \u001b[38;5;34m59\u001b[0m, \u001b[38;5;34m512\u001b[0m)   │          \u001b[38;5;34m0\u001b[0m │ lstm_27[\u001b[38;5;34m0\u001b[0m][\u001b[38;5;34m0\u001b[0m],    │\n",
              "│ (\u001b[38;5;33mConcatenate\u001b[0m)       │                   │            │ attention_layer_… │\n",
              "├─────────────────────┼───────────────────┼────────────┼───────────────────┤\n",
              "│ time_distributed_13 │ (\u001b[38;5;45mNone\u001b[0m, \u001b[38;5;34m59\u001b[0m, \u001b[38;5;34m4417\u001b[0m)  │  \u001b[38;5;34m2,265,921\u001b[0m │ concatenate_19[\u001b[38;5;34m0\u001b[0m… │\n",
              "│ (\u001b[38;5;33mTimeDistributed\u001b[0m)   │                   │            │                   │\n",
              "└─────────────────────┴───────────────────┴────────────┴───────────────────┘\n"
            ],
            "text/html": [
              "<pre style=\"white-space:pre;overflow-x:auto;line-height:normal;font-family:Menlo,'DejaVu Sans Mono',consolas,'Courier New',monospace\">┏━━━━━━━━━━━━━━━━━━━━━┳━━━━━━━━━━━━━━━━━━━┳━━━━━━━━━━━━┳━━━━━━━━━━━━━━━━━━━┓\n",
              "┃<span style=\"font-weight: bold\"> Layer (type)        </span>┃<span style=\"font-weight: bold\"> Output Shape      </span>┃<span style=\"font-weight: bold\">    Param # </span>┃<span style=\"font-weight: bold\"> Connected to      </span>┃\n",
              "┡━━━━━━━━━━━━━━━━━━━━━╇━━━━━━━━━━━━━━━━━━━╇━━━━━━━━━━━━╇━━━━━━━━━━━━━━━━━━━┩\n",
              "│ input_layer_44      │ (<span style=\"color: #00d7ff; text-decoration-color: #00d7ff\">None</span>, <span style=\"color: #00af00; text-decoration-color: #00af00\">59</span>)        │          <span style=\"color: #00af00; text-decoration-color: #00af00\">0</span> │ -                 │\n",
              "│ (<span style=\"color: #0087ff; text-decoration-color: #0087ff\">InputLayer</span>)        │                   │            │                   │\n",
              "├─────────────────────┼───────────────────┼────────────┼───────────────────┤\n",
              "│ input_layer_45      │ (<span style=\"color: #00d7ff; text-decoration-color: #00d7ff\">None</span>, <span style=\"color: #00af00; text-decoration-color: #00af00\">59</span>)        │          <span style=\"color: #00af00; text-decoration-color: #00af00\">0</span> │ -                 │\n",
              "│ (<span style=\"color: #0087ff; text-decoration-color: #0087ff\">InputLayer</span>)        │                   │            │                   │\n",
              "├─────────────────────┼───────────────────┼────────────┼───────────────────┤\n",
              "│ embedding_26        │ (<span style=\"color: #00d7ff; text-decoration-color: #00d7ff\">None</span>, <span style=\"color: #00af00; text-decoration-color: #00af00\">59</span>, <span style=\"color: #00af00; text-decoration-color: #00af00\">256</span>)   │  <span style=\"color: #00af00; text-decoration-color: #00af00\">1,130,752</span> │ input_layer_44[<span style=\"color: #00af00; text-decoration-color: #00af00\">0</span>… │\n",
              "│ (<span style=\"color: #0087ff; text-decoration-color: #0087ff\">Embedding</span>)         │                   │            │                   │\n",
              "├─────────────────────┼───────────────────┼────────────┼───────────────────┤\n",
              "│ embedding_27        │ (<span style=\"color: #00d7ff; text-decoration-color: #00d7ff\">None</span>, <span style=\"color: #00af00; text-decoration-color: #00af00\">59</span>, <span style=\"color: #00af00; text-decoration-color: #00af00\">256</span>)   │  <span style=\"color: #00af00; text-decoration-color: #00af00\">1,130,752</span> │ input_layer_45[<span style=\"color: #00af00; text-decoration-color: #00af00\">0</span>… │\n",
              "│ (<span style=\"color: #0087ff; text-decoration-color: #0087ff\">Embedding</span>)         │                   │            │                   │\n",
              "├─────────────────────┼───────────────────┼────────────┼───────────────────┤\n",
              "│ lstm_26 (<span style=\"color: #0087ff; text-decoration-color: #0087ff\">LSTM</span>)      │ [(<span style=\"color: #00d7ff; text-decoration-color: #00d7ff\">None</span>, <span style=\"color: #00af00; text-decoration-color: #00af00\">59</span>, <span style=\"color: #00af00; text-decoration-color: #00af00\">256</span>), │    <span style=\"color: #00af00; text-decoration-color: #00af00\">525,312</span> │ embedding_26[<span style=\"color: #00af00; text-decoration-color: #00af00\">0</span>][<span style=\"color: #00af00; text-decoration-color: #00af00\">…</span> │\n",
              "│                     │ (<span style=\"color: #00d7ff; text-decoration-color: #00d7ff\">None</span>, <span style=\"color: #00af00; text-decoration-color: #00af00\">256</span>),      │            │                   │\n",
              "│                     │ (<span style=\"color: #00d7ff; text-decoration-color: #00d7ff\">None</span>, <span style=\"color: #00af00; text-decoration-color: #00af00\">256</span>)]      │            │                   │\n",
              "├─────────────────────┼───────────────────┼────────────┼───────────────────┤\n",
              "│ lstm_27 (<span style=\"color: #0087ff; text-decoration-color: #0087ff\">LSTM</span>)      │ [(<span style=\"color: #00d7ff; text-decoration-color: #00d7ff\">None</span>, <span style=\"color: #00af00; text-decoration-color: #00af00\">59</span>, <span style=\"color: #00af00; text-decoration-color: #00af00\">256</span>), │    <span style=\"color: #00af00; text-decoration-color: #00af00\">525,312</span> │ embedding_27[<span style=\"color: #00af00; text-decoration-color: #00af00\">0</span>][<span style=\"color: #00af00; text-decoration-color: #00af00\">…</span> │\n",
              "│                     │ (<span style=\"color: #00d7ff; text-decoration-color: #00d7ff\">None</span>, <span style=\"color: #00af00; text-decoration-color: #00af00\">256</span>),      │            │ lstm_26[<span style=\"color: #00af00; text-decoration-color: #00af00\">0</span>][<span style=\"color: #00af00; text-decoration-color: #00af00\">1</span>],    │\n",
              "│                     │ (<span style=\"color: #00d7ff; text-decoration-color: #00d7ff\">None</span>, <span style=\"color: #00af00; text-decoration-color: #00af00\">256</span>)]      │            │ lstm_26[<span style=\"color: #00af00; text-decoration-color: #00af00\">0</span>][<span style=\"color: #00af00; text-decoration-color: #00af00\">2</span>]     │\n",
              "├─────────────────────┼───────────────────┼────────────┼───────────────────┤\n",
              "│ attention_layer_13  │ [(<span style=\"color: #00d7ff; text-decoration-color: #00d7ff\">None</span>, <span style=\"color: #00af00; text-decoration-color: #00af00\">59</span>, <span style=\"color: #00af00; text-decoration-color: #00af00\">256</span>), │    <span style=\"color: #00af00; text-decoration-color: #00af00\">131,328</span> │ lstm_26[<span style=\"color: #00af00; text-decoration-color: #00af00\">0</span>][<span style=\"color: #00af00; text-decoration-color: #00af00\">0</span>],    │\n",
              "│ (<span style=\"color: #0087ff; text-decoration-color: #0087ff\">AttentionLayer</span>)    │ (<span style=\"color: #00d7ff; text-decoration-color: #00d7ff\">None</span>, <span style=\"color: #00af00; text-decoration-color: #00af00\">59</span>, <span style=\"color: #00af00; text-decoration-color: #00af00\">59</span>)]   │            │ lstm_27[<span style=\"color: #00af00; text-decoration-color: #00af00\">0</span>][<span style=\"color: #00af00; text-decoration-color: #00af00\">0</span>]     │\n",
              "├─────────────────────┼───────────────────┼────────────┼───────────────────┤\n",
              "│ concatenate_19      │ (<span style=\"color: #00d7ff; text-decoration-color: #00d7ff\">None</span>, <span style=\"color: #00af00; text-decoration-color: #00af00\">59</span>, <span style=\"color: #00af00; text-decoration-color: #00af00\">512</span>)   │          <span style=\"color: #00af00; text-decoration-color: #00af00\">0</span> │ lstm_27[<span style=\"color: #00af00; text-decoration-color: #00af00\">0</span>][<span style=\"color: #00af00; text-decoration-color: #00af00\">0</span>],    │\n",
              "│ (<span style=\"color: #0087ff; text-decoration-color: #0087ff\">Concatenate</span>)       │                   │            │ attention_layer_… │\n",
              "├─────────────────────┼───────────────────┼────────────┼───────────────────┤\n",
              "│ time_distributed_13 │ (<span style=\"color: #00d7ff; text-decoration-color: #00d7ff\">None</span>, <span style=\"color: #00af00; text-decoration-color: #00af00\">59</span>, <span style=\"color: #00af00; text-decoration-color: #00af00\">4417</span>)  │  <span style=\"color: #00af00; text-decoration-color: #00af00\">2,265,921</span> │ concatenate_19[<span style=\"color: #00af00; text-decoration-color: #00af00\">0</span>… │\n",
              "│ (<span style=\"color: #0087ff; text-decoration-color: #0087ff\">TimeDistributed</span>)   │                   │            │                   │\n",
              "└─────────────────────┴───────────────────┴────────────┴───────────────────┘\n",
              "</pre>\n"
            ]
          },
          "metadata": {}
        },
        {
          "output_type": "display_data",
          "data": {
            "text/plain": [
              "\u001b[1m Total params: \u001b[0m\u001b[38;5;34m5,709,377\u001b[0m (21.78 MB)\n"
            ],
            "text/html": [
              "<pre style=\"white-space:pre;overflow-x:auto;line-height:normal;font-family:Menlo,'DejaVu Sans Mono',consolas,'Courier New',monospace\"><span style=\"font-weight: bold\"> Total params: </span><span style=\"color: #00af00; text-decoration-color: #00af00\">5,709,377</span> (21.78 MB)\n",
              "</pre>\n"
            ]
          },
          "metadata": {}
        },
        {
          "output_type": "display_data",
          "data": {
            "text/plain": [
              "\u001b[1m Trainable params: \u001b[0m\u001b[38;5;34m5,709,377\u001b[0m (21.78 MB)\n"
            ],
            "text/html": [
              "<pre style=\"white-space:pre;overflow-x:auto;line-height:normal;font-family:Menlo,'DejaVu Sans Mono',consolas,'Courier New',monospace\"><span style=\"font-weight: bold\"> Trainable params: </span><span style=\"color: #00af00; text-decoration-color: #00af00\">5,709,377</span> (21.78 MB)\n",
              "</pre>\n"
            ]
          },
          "metadata": {}
        },
        {
          "output_type": "display_data",
          "data": {
            "text/plain": [
              "\u001b[1m Non-trainable params: \u001b[0m\u001b[38;5;34m0\u001b[0m (0.00 B)\n"
            ],
            "text/html": [
              "<pre style=\"white-space:pre;overflow-x:auto;line-height:normal;font-family:Menlo,'DejaVu Sans Mono',consolas,'Courier New',monospace\"><span style=\"font-weight: bold\"> Non-trainable params: </span><span style=\"color: #00af00; text-decoration-color: #00af00\">0</span> (0.00 B)\n",
              "</pre>\n"
            ]
          },
          "metadata": {}
        }
      ]
    },
    {
      "cell_type": "code",
      "source": [
        "# Training with Early Stopping\n",
        "epochs = 50\n",
        "batch_size = 64\n",
        "es = EarlyStopping(monitor='val_accuracy', mode='max', verbose=1, patience=5, restore_best_weights=True)\n",
        "love_history = love_model.fit(\n",
        "    [love_encoder_input_train, love_decoder_input_train],\n",
        "    love_decoder_target_train,\n",
        "    batch_size=batch_size,\n",
        "    epochs=epochs,\n",
        "    validation_data=([love_encoder_input_val, love_decoder_input_val], love_decoder_target_val),\n",
        "    callbacks=[es]\n",
        ")"
      ],
      "metadata": {
        "colab": {
          "base_uri": "https://localhost:8080/"
        },
        "id": "jSZxZWcig41P",
        "outputId": "7aa09e64-f59f-403e-c42f-9c62f4081428"
      },
      "execution_count": 141,
      "outputs": [
        {
          "output_type": "stream",
          "name": "stdout",
          "text": [
            "Epoch 1/50\n",
            "\u001b[1m21/21\u001b[0m \u001b[32m━━━━━━━━━━━━━━━━━━━━\u001b[0m\u001b[37m\u001b[0m \u001b[1m12s\u001b[0m 237ms/step - accuracy: 0.5255 - loss: 5.8314 - val_accuracy: 0.6196 - val_loss: 2.4785\n",
            "Epoch 2/50\n",
            "\u001b[1m21/21\u001b[0m \u001b[32m━━━━━━━━━━━━━━━━━━━━\u001b[0m\u001b[37m\u001b[0m \u001b[1m5s\u001b[0m 220ms/step - accuracy: 0.6304 - loss: 2.3825 - val_accuracy: 0.6455 - val_loss: 2.2682\n",
            "Epoch 3/50\n",
            "\u001b[1m21/21\u001b[0m \u001b[32m━━━━━━━━━━━━━━━━━━━━\u001b[0m\u001b[37m\u001b[0m \u001b[1m4s\u001b[0m 174ms/step - accuracy: 0.6462 - loss: 2.2295 - val_accuracy: 0.6482 - val_loss: 2.2412\n",
            "Epoch 4/50\n",
            "\u001b[1m21/21\u001b[0m \u001b[32m━━━━━━━━━━━━━━━━━━━━\u001b[0m\u001b[37m\u001b[0m \u001b[1m4s\u001b[0m 176ms/step - accuracy: 0.6482 - loss: 2.2263 - val_accuracy: 0.6624 - val_loss: 2.2306\n",
            "Epoch 5/50\n",
            "\u001b[1m21/21\u001b[0m \u001b[32m━━━━━━━━━━━━━━━━━━━━\u001b[0m\u001b[37m\u001b[0m \u001b[1m6s\u001b[0m 198ms/step - accuracy: 0.6626 - loss: 2.1529 - val_accuracy: 0.6636 - val_loss: 2.2235\n",
            "Epoch 6/50\n",
            "\u001b[1m21/21\u001b[0m \u001b[32m━━━━━━━━━━━━━━━━━━━━\u001b[0m\u001b[37m\u001b[0m \u001b[1m4s\u001b[0m 169ms/step - accuracy: 0.6666 - loss: 2.1002 - val_accuracy: 0.6637 - val_loss: 2.2207\n",
            "Epoch 7/50\n",
            "\u001b[1m21/21\u001b[0m \u001b[32m━━━━━━━━━━━━━━━━━━━━\u001b[0m\u001b[37m\u001b[0m \u001b[1m4s\u001b[0m 176ms/step - accuracy: 0.6619 - loss: 2.1291 - val_accuracy: 0.6656 - val_loss: 2.2146\n",
            "Epoch 8/50\n",
            "\u001b[1m21/21\u001b[0m \u001b[32m━━━━━━━━━━━━━━━━━━━━\u001b[0m\u001b[37m\u001b[0m \u001b[1m5s\u001b[0m 217ms/step - accuracy: 0.6545 - loss: 2.1522 - val_accuracy: 0.6661 - val_loss: 2.2100\n",
            "Epoch 9/50\n",
            "\u001b[1m21/21\u001b[0m \u001b[32m━━━━━━━━━━━━━━━━━━━━\u001b[0m\u001b[37m\u001b[0m \u001b[1m4s\u001b[0m 171ms/step - accuracy: 0.6620 - loss: 2.0958 - val_accuracy: 0.6688 - val_loss: 2.1890\n",
            "Epoch 10/50\n",
            "\u001b[1m21/21\u001b[0m \u001b[32m━━━━━━━━━━━━━━━━━━━━\u001b[0m\u001b[37m\u001b[0m \u001b[1m6s\u001b[0m 199ms/step - accuracy: 0.6672 - loss: 2.0555 - val_accuracy: 0.6720 - val_loss: 2.1832\n",
            "Epoch 11/50\n",
            "\u001b[1m21/21\u001b[0m \u001b[32m━━━━━━━━━━━━━━━━━━━━\u001b[0m\u001b[37m\u001b[0m \u001b[1m5s\u001b[0m 171ms/step - accuracy: 0.6627 - loss: 2.0653 - val_accuracy: 0.6758 - val_loss: 2.1612\n",
            "Epoch 12/50\n",
            "\u001b[1m21/21\u001b[0m \u001b[32m━━━━━━━━━━━━━━━━━━━━\u001b[0m\u001b[37m\u001b[0m \u001b[1m6s\u001b[0m 203ms/step - accuracy: 0.6693 - loss: 2.0079 - val_accuracy: 0.6792 - val_loss: 2.1363\n",
            "Epoch 13/50\n",
            "\u001b[1m21/21\u001b[0m \u001b[32m━━━━━━━━━━━━━━━━━━━━\u001b[0m\u001b[37m\u001b[0m \u001b[1m5s\u001b[0m 216ms/step - accuracy: 0.6813 - loss: 1.9226 - val_accuracy: 0.6814 - val_loss: 2.1188\n",
            "Epoch 14/50\n",
            "\u001b[1m21/21\u001b[0m \u001b[32m━━━━━━━━━━━━━━━━━━━━\u001b[0m\u001b[37m\u001b[0m \u001b[1m4s\u001b[0m 175ms/step - accuracy: 0.6794 - loss: 1.9051 - val_accuracy: 0.6890 - val_loss: 2.0973\n",
            "Epoch 15/50\n",
            "\u001b[1m21/21\u001b[0m \u001b[32m━━━━━━━━━━━━━━━━━━━━\u001b[0m\u001b[37m\u001b[0m \u001b[1m6s\u001b[0m 205ms/step - accuracy: 0.6874 - loss: 1.8540 - val_accuracy: 0.6862 - val_loss: 2.0780\n",
            "Epoch 16/50\n",
            "\u001b[1m21/21\u001b[0m \u001b[32m━━━━━━━━━━━━━━━━━━━━\u001b[0m\u001b[37m\u001b[0m \u001b[1m4s\u001b[0m 174ms/step - accuracy: 0.6915 - loss: 1.7947 - val_accuracy: 0.6925 - val_loss: 2.0619\n",
            "Epoch 17/50\n",
            "\u001b[1m21/21\u001b[0m \u001b[32m━━━━━━━━━━━━━━━━━━━━\u001b[0m\u001b[37m\u001b[0m \u001b[1m4s\u001b[0m 176ms/step - accuracy: 0.6950 - loss: 1.7693 - val_accuracy: 0.7038 - val_loss: 2.0477\n",
            "Epoch 18/50\n",
            "\u001b[1m21/21\u001b[0m \u001b[32m━━━━━━━━━━━━━━━━━━━━\u001b[0m\u001b[37m\u001b[0m \u001b[1m6s\u001b[0m 239ms/step - accuracy: 0.7072 - loss: 1.6863 - val_accuracy: 0.7040 - val_loss: 2.0454\n",
            "Epoch 19/50\n",
            "\u001b[1m21/21\u001b[0m \u001b[32m━━━━━━━━━━━━━━━━━━━━\u001b[0m\u001b[37m\u001b[0m \u001b[1m4s\u001b[0m 170ms/step - accuracy: 0.7033 - loss: 1.6788 - val_accuracy: 0.7050 - val_loss: 2.0442\n",
            "Epoch 20/50\n",
            "\u001b[1m21/21\u001b[0m \u001b[32m━━━━━━━━━━━━━━━━━━━━\u001b[0m\u001b[37m\u001b[0m \u001b[1m4s\u001b[0m 173ms/step - accuracy: 0.7174 - loss: 1.5772 - val_accuracy: 0.7065 - val_loss: 2.0398\n",
            "Epoch 21/50\n",
            "\u001b[1m21/21\u001b[0m \u001b[32m━━━━━━━━━━━━━━━━━━━━\u001b[0m\u001b[37m\u001b[0m \u001b[1m5s\u001b[0m 218ms/step - accuracy: 0.7225 - loss: 1.5179 - val_accuracy: 0.7073 - val_loss: 2.0386\n",
            "Epoch 22/50\n",
            "\u001b[1m21/21\u001b[0m \u001b[32m━━━━━━━━━━━━━━━━━━━━\u001b[0m\u001b[37m\u001b[0m \u001b[1m4s\u001b[0m 173ms/step - accuracy: 0.7189 - loss: 1.5156 - val_accuracy: 0.7123 - val_loss: 2.0398\n",
            "Epoch 23/50\n",
            "\u001b[1m21/21\u001b[0m \u001b[32m━━━━━━━━━━━━━━━━━━━━\u001b[0m\u001b[37m\u001b[0m \u001b[1m4s\u001b[0m 169ms/step - accuracy: 0.7260 - loss: 1.4616 - val_accuracy: 0.7131 - val_loss: 2.0372\n",
            "Epoch 24/50\n",
            "\u001b[1m21/21\u001b[0m \u001b[32m━━━━━━━━━━━━━━━━━━━━\u001b[0m\u001b[37m\u001b[0m \u001b[1m4s\u001b[0m 214ms/step - accuracy: 0.7349 - loss: 1.3958 - val_accuracy: 0.7130 - val_loss: 2.0393\n",
            "Epoch 25/50\n",
            "\u001b[1m21/21\u001b[0m \u001b[32m━━━━━━━━━━━━━━━━━━━━\u001b[0m\u001b[37m\u001b[0m \u001b[1m4s\u001b[0m 170ms/step - accuracy: 0.7429 - loss: 1.3413 - val_accuracy: 0.7146 - val_loss: 2.0428\n",
            "Epoch 26/50\n",
            "\u001b[1m21/21\u001b[0m \u001b[32m━━━━━━━━━━━━━━━━━━━━\u001b[0m\u001b[37m\u001b[0m \u001b[1m4s\u001b[0m 168ms/step - accuracy: 0.7353 - loss: 1.3583 - val_accuracy: 0.7111 - val_loss: 2.0610\n",
            "Epoch 27/50\n",
            "\u001b[1m21/21\u001b[0m \u001b[32m━━━━━━━━━━━━━━━━━━━━\u001b[0m\u001b[37m\u001b[0m \u001b[1m6s\u001b[0m 220ms/step - accuracy: 0.7443 - loss: 1.3031 - val_accuracy: 0.7149 - val_loss: 2.0578\n",
            "Epoch 28/50\n",
            "\u001b[1m21/21\u001b[0m \u001b[32m━━━━━━━━━━━━━━━━━━━━\u001b[0m\u001b[37m\u001b[0m \u001b[1m4s\u001b[0m 173ms/step - accuracy: 0.7425 - loss: 1.3064 - val_accuracy: 0.7147 - val_loss: 2.0631\n",
            "Epoch 29/50\n",
            "\u001b[1m21/21\u001b[0m \u001b[32m━━━━━━━━━━━━━━━━━━━━\u001b[0m\u001b[37m\u001b[0m \u001b[1m5s\u001b[0m 170ms/step - accuracy: 0.7519 - loss: 1.2486 - val_accuracy: 0.7168 - val_loss: 2.0696\n",
            "Epoch 30/50\n",
            "\u001b[1m21/21\u001b[0m \u001b[32m━━━━━━━━━━━━━━━━━━━━\u001b[0m\u001b[37m\u001b[0m \u001b[1m5s\u001b[0m 169ms/step - accuracy: 0.7603 - loss: 1.1945 - val_accuracy: 0.7123 - val_loss: 2.0849\n",
            "Epoch 31/50\n",
            "\u001b[1m21/21\u001b[0m \u001b[32m━━━━━━━━━━━━━━━━━━━━\u001b[0m\u001b[37m\u001b[0m \u001b[1m4s\u001b[0m 172ms/step - accuracy: 0.7631 - loss: 1.1777 - val_accuracy: 0.7140 - val_loss: 2.0838\n",
            "Epoch 32/50\n",
            "\u001b[1m21/21\u001b[0m \u001b[32m━━━━━━━━━━━━━━━━━━━━\u001b[0m\u001b[37m\u001b[0m \u001b[1m6s\u001b[0m 216ms/step - accuracy: 0.7744 - loss: 1.1140 - val_accuracy: 0.7130 - val_loss: 2.0924\n",
            "Epoch 33/50\n",
            "\u001b[1m21/21\u001b[0m \u001b[32m━━━━━━━━━━━━━━━━━━━━\u001b[0m\u001b[37m\u001b[0m \u001b[1m4s\u001b[0m 174ms/step - accuracy: 0.7766 - loss: 1.0865 - val_accuracy: 0.7138 - val_loss: 2.1011\n",
            "Epoch 34/50\n",
            "\u001b[1m21/21\u001b[0m \u001b[32m━━━━━━━━━━━━━━━━━━━━\u001b[0m\u001b[37m\u001b[0m \u001b[1m4s\u001b[0m 168ms/step - accuracy: 0.7797 - loss: 1.0660 - val_accuracy: 0.7137 - val_loss: 2.1073\n",
            "Epoch 34: early stopping\n",
            "Restoring model weights from the end of the best epoch: 29.\n"
          ]
        }
      ]
    },
    {
      "cell_type": "code",
      "source": [
        "# Extract training history\n",
        "love_loss = love_history.history['loss']\n",
        "love_val_loss = love_history.history['val_loss']\n",
        "love_accuracy = love_history.history['accuracy']\n",
        "love_val_accuracy = love_history.history['val_accuracy']\n",
        "\n",
        "# Create subplots\n",
        "plt.figure(figsize=(12, 5))\n",
        "\n",
        "# Plot Loss\n",
        "plt.subplot(1, 2, 1)\n",
        "plt.plot(surprise_loss, label='Training Loss')\n",
        "plt.plot(surprise_val_loss, label='Validation Loss')\n",
        "plt.title('love Model - Loss')\n",
        "plt.xlabel('Epochs')\n",
        "plt.ylabel('Loss')\n",
        "plt.legend()\n",
        "\n",
        "# Plot Accuracy\n",
        "plt.subplot(1, 2, 2)\n",
        "plt.plot(surprise_accuracy, label='Training Accuracy')\n",
        "plt.plot(surprise_val_accuracy, label='Validation Accuracy')\n",
        "plt.title('love Model - Accuracy')\n",
        "plt.xlabel('Epochs')\n",
        "plt.ylabel('Accuracy')\n",
        "plt.legend()\n",
        "\n",
        "plt.tight_layout()\n",
        "plt.show()\n"
      ],
      "metadata": {
        "trusted": true,
        "execution": {
          "iopub.status.busy": "2025-05-14T09:37:17.156888Z",
          "iopub.execute_input": "2025-05-14T09:37:17.157164Z",
          "iopub.status.idle": "2025-05-14T09:37:17.488337Z",
          "shell.execute_reply.started": "2025-05-14T09:37:17.157145Z",
          "shell.execute_reply": "2025-05-14T09:37:17.487550Z"
        },
        "colab": {
          "base_uri": "https://localhost:8080/",
          "height": 293
        },
        "id": "y0h7dvRbPuFK",
        "outputId": "5f89f287-34f3-41aa-b7ba-83accb6f3a6a"
      },
      "outputs": [
        {
          "output_type": "display_data",
          "data": {
            "text/plain": [
              "<Figure size 1200x500 with 2 Axes>"
            ],
            "image/png": "[encoded data removed]"
          },
          "metadata": {}
        }
      ],
      "execution_count": 142
    },
    {
      "cell_type": "markdown",
      "source": [
        "### Inference for love"
      ],
      "metadata": {
        "id": "oAQf_SE6PuFK"
      }
    },
    {
      "cell_type": "code",
      "source": [
        "\n",
        "latent_dim = 256  # Define latent dimension\n",
        "\n",
        "# Encoder inference model\n",
        "love_encoder_model = Model(inputs=love_encoder_inputs, outputs=[love_encoder_out, love_state_h, love_state_c])\n",
        "\n",
        "# Decoder inference model\n",
        "love_decoder_state_input_h = Input(shape=(latent_dim,))\n",
        "love_decoder_state_input_c = Input(shape=(latent_dim,))\n",
        "love_decoder_hidden_state_input = Input(shape=(max_sentence_length - 1, latent_dim))\n",
        "\n",
        "love_dec_emb2 = love_dec_emb_layer(love_decoder_inputs)\n",
        "\n",
        "love_decoder_outputs2, state_h2, state_c2 = love_decoder_lstm(love_dec_emb2, initial_state=[love_decoder_state_input_h, love_decoder_state_input_c])\n",
        "\n",
        "love_attn_out_inf, _ = love_attn_layer([love_decoder_hidden_state_input, love_decoder_outputs2])\n",
        "love_decoder_inf_concat = Concatenate(axis=-1)([love_decoder_outputs2, love_attn_out_inf])\n",
        "\n",
        "love_decoder_outputs2 = love_decoder_dense(love_decoder_inf_concat)\n",
        "\n",
        "love_decoder_model = Model(\n",
        "    [love_decoder_inputs, love_decoder_hidden_state_input, love_decoder_state_input_h, love_decoder_state_input_c],\n",
        "    [love_decoder_outputs2, state_h2, state_c2]\n",
        ")\n",
        "\n"
      ],
      "metadata": {
        "trusted": true,
        "execution": {
          "iopub.status.busy": "2025-05-14T09:37:17.488983Z",
          "iopub.execute_input": "2025-05-14T09:37:17.489186Z",
          "iopub.status.idle": "2025-05-14T09:37:17.502228Z",
          "shell.execute_reply.started": "2025-05-14T09:37:17.489169Z",
          "shell.execute_reply": "2025-05-14T09:37:17.501677Z"
        },
        "id": "WxXXFTD0PuFK"
      },
      "outputs": [],
      "execution_count": 143
    },
    {
      "cell_type": "markdown",
      "source": [
        "## generate text fuction for love"
      ],
      "metadata": {
        "id": "iWo09dqlPuFK"
      }
    },
    {
      "cell_type": "code",
      "source": [
        "\n",
        "def generate_text_for_love(tokenizer, encoder_model, decoder_model, max_len=max_sentence_length-1):\n",
        "    prompt = \"Describe a beautiful moment of love\"\n",
        "\n",
        "    # Convert prompt to sequence\n",
        "    input_seq_ids = tokenizer.texts_to_sequences([prompt])[0]\n",
        "    input_seq_padded = pad_sequences([input_seq_ids], maxlen=max_len, padding='post')\n",
        "\n",
        "    # Encode prompt\n",
        "    encoder_out, state_h, state_c = encoder_model.predict(input_seq_padded, verbose=0)\n",
        "    states = [state_h, state_c]\n",
        "\n",
        "    # Initialize decoder\n",
        "    sos_token_index = tokenizer.word_index['<sos>']\n",
        "    eos_token_index = tokenizer.word_index['<eos>']\n",
        "    target_seq = np.array([[sos_token_index]])\n",
        "\n",
        "    decoded_tokens = []\n",
        "\n",
        "    for _ in range(20):\n",
        "        output_tokens, h, c = decoder_model.predict(\n",
        "            [target_seq, encoder_out, state_h, state_c], verbose=0)\n",
        "        preds = output_tokens[0, 0, :]\n",
        "        sampled_token_index = sample_with_top_p_and_temperature(preds, top_p=0.9, temperature=0.7)\n",
        "\n",
        "        if sampled_token_index == eos_token_index:\n",
        "            break\n",
        "\n",
        "        decoded_tokens.append(sampled_token_index)\n",
        "        target_seq = np.array([[sampled_token_index]])\n",
        "        state_h, state_c = h, c\n",
        "\n",
        "    sentence = tokenizer.sequences_to_texts([decoded_tokens])[0]\n",
        "    sentence = post_process_sentence(sentence)\n",
        "    sentence = correct_grammar(sentence)\n",
        "\n",
        "    # Add quality checks\n",
        "    if not sentence or len(sentence.split()) < 3:\n",
        "        return generate_text_for_love(tokenizer, encoder_model, decoder_model, max_lenght)\n",
        "\n",
        "    return sentence\n"
      ],
      "metadata": {
        "trusted": true,
        "execution": {
          "iopub.status.busy": "2025-05-14T09:54:38.603933Z",
          "iopub.execute_input": "2025-05-14T09:54:38.604612Z",
          "iopub.status.idle": "2025-05-14T09:54:38.611467Z",
          "shell.execute_reply.started": "2025-05-14T09:54:38.604583Z",
          "shell.execute_reply": "2025-05-14T09:54:38.610730Z"
        },
        "id": "dmjKHoqJPuFK"
      },
      "outputs": [],
      "execution_count": 144
    },
    {
      "cell_type": "code",
      "source": [
        "def generate_love_texts(n):\n",
        "    generated = []\n",
        "    for i in range(n):\n",
        "        sentence = generate_text_for_love(love_tokenizer, love_encoder_model, love_decoder_model, max_len=max_sentence_length - 1)\n",
        "        generated.append(sentence)\n",
        "    return generated"
      ],
      "metadata": {
        "trusted": true,
        "execution": {
          "iopub.status.busy": "2025-05-14T09:54:41.503743Z",
          "iopub.execute_input": "2025-05-14T09:54:41.503997Z",
          "iopub.status.idle": "2025-05-14T09:54:41.508120Z",
          "shell.execute_reply.started": "2025-05-14T09:54:41.503980Z",
          "shell.execute_reply": "2025-05-14T09:54:41.507452Z"
        },
        "id": "ycdFc3MJPuFK"
      },
      "outputs": [],
      "execution_count": 145
    },
    {
      "cell_type": "code",
      "source": [
        "love_gentext = generate_love_texts(10)\n",
        "love_gentext"
      ],
      "metadata": {
        "trusted": true,
        "execution": {
          "iopub.status.busy": "2025-05-14T09:54:42.551069Z",
          "iopub.execute_input": "2025-05-14T09:54:42.551677Z",
          "iopub.status.idle": "2025-05-14T09:59:57.287714Z",
          "shell.execute_reply.started": "2025-05-14T09:54:42.551652Z",
          "shell.execute_reply": "2025-05-14T09:59:57.286893Z"
        },
        "colab": {
          "base_uri": "https://localhost:8080/"
        },
        "id": "VN1z9nmQPuFK",
        "outputId": "f2598c14-8068-4238-9d09-6f464f19b2bb"
      },
      "outputs": [
        {
          "output_type": "execute_result",
          "data": {
            "text/plain": [
              "['To feeling accepted and hot',\n",
              " 'I am feeling the naughty feelings for the story',\n",
              " 'I am feeling very nostalgic and IMG hand',\n",
              " 'I am feeling generous when I feel so hot',\n",
              " 'I am feeling hot and somewhat so hot',\n",
              " 'To feel very nostalgic to be her',\n",
              " 'I am feeling the longing to grow of a gentle kid',\n",
              " 'I am feeling that completely not t share',\n",
              " 'To feeling nostalgic',\n",
              " 'To feel horny']"
            ]
          },
          "metadata": {},
          "execution_count": 146
        }
      ],
      "execution_count": 146
    },
    {
      "cell_type": "markdown",
      "source": [
        "Above are 10 synthetic tweets generated by the seq2seq model trained on the *Love* emotion. The generation uses Top-p sampling with temperature to ensure diversity and emotional relevance."
      ],
      "metadata": {
        "id": "iYTGNMZH2N1i"
      }
    },
    {
      "cell_type": "code",
      "source": [
        "love_gentext = love_surprise_texts(5120) #we need 5120 texts to balance the data\n",
        "love_gentext"
      ],
      "metadata": {
        "trusted": true,
        "colab": {
          "base_uri": "https://localhost:8080/",
          "height": 36
        },
        "id": "3EBn_U8NPuFK",
        "outputId": "9131d833-c6ae-4895-9ddb-520d505c28a5"
      },
      "outputs": [
        {
          "output_type": "execute_result",
          "data": {
            "text/plain": [
              "'love_gentext = love_surprise_texts(5120)\\nlove_gentext'"
            ],
            "application/vnd.google.colaboratory.intrinsic+json": {
              "type": "string"
            }
          },
          "metadata": {},
          "execution_count": 82
        }
      ],
      "execution_count": 82
    },
    {
      "cell_type": "code",
      "source": [
        "love_texts = {'text': love_gentext, 'emotions': ['love'] * len(love_gentext)}\n",
        "\n",
        "# Convert to DataFrame\n",
        "df_love_texts = pd.DataFrame(love_texts)"
      ],
      "metadata": {
        "trusted": true,
        "colab": {
          "base_uri": "https://localhost:8080/",
          "height": 53
        },
        "id": "HlyYcSM9PuFL",
        "outputId": "8626b6ce-be80-4df1-8e1b-6a84d4367a6f"
      },
      "outputs": [
        {
          "output_type": "execute_result",
          "data": {
            "text/plain": [
              "\"love_texts = {'text': love_gentext, 'emotions': ['love'] * len(love_gentext)}\\n\\n# Convert to DataFrame\\ndf_love_texts = pd.DataFrame(love_texts)\""
            ],
            "application/vnd.google.colaboratory.intrinsic+json": {
              "type": "string"
            }
          },
          "metadata": {},
          "execution_count": 83
        }
      ],
      "execution_count": 83
    },
    {
      "cell_type": "code",
      "source": [
        "df_love_texts.to_csv('/kaggle/working/love_texts.csv', index=False)"
      ],
      "metadata": {
        "trusted": true,
        "id": "pVkZGF4gPuFL"
      },
      "outputs": [],
      "execution_count": 85
    },
    {
      "cell_type": "markdown",
      "source": [
        "## **4.Emotion-Specific Text Generation: *Fear Class***"
      ],
      "metadata": {
        "id": "lSVQ4h8DPuFL"
      }
    },
    {
      "cell_type": "code",
      "source": [
        "fear_df.head()"
      ],
      "metadata": {
        "trusted": true,
        "execution": {
          "iopub.status.busy": "2025-05-14T10:06:12.518513Z",
          "iopub.execute_input": "2025-05-14T10:06:12.518887Z",
          "iopub.status.idle": "2025-05-14T10:06:12.527595Z",
          "shell.execute_reply.started": "2025-05-14T10:06:12.518861Z",
          "shell.execute_reply": "2025-05-14T10:06:12.526866Z"
        },
        "colab": {
          "base_uri": "https://localhost:8080/",
          "height": 206
        },
        "id": "X3GgNuVOPuFL",
        "outputId": "916d8fb0-c0f2-4396-b096-f54fe372c8cb"
      },
      "outputs": [
        {
          "output_type": "execute_result",
          "data": {
            "text/plain": [
              "   emotions                                               Text\n",
              "7      fear  <sos> i feel as confused about life as a teena...\n",
              "19     fear  <sos> i now feel compromised and skeptical of ...\n",
              "21     fear  <sos> i am feeling completely overwhelmed i ha...\n",
              "31     fear  <sos> i remember feeling acutely distressed fo...\n",
              "53     fear  <sos> i was stymied a little bit as i wrote fe..."
            ],
            "text/html": [
              "\n",
              "  <div id=\"df-3c0f9fea-c320-48f7-8a71-42650506426b\" class=\"colab-df-container\">\n",
              "    <div>\n",
              "<style scoped>\n",
              "    .dataframe tbody tr th:only-of-type {\n",
              "        vertical-align: middle;\n",
              "    }\n",
              "\n",
              "    .dataframe tbody tr th {\n",
              "        vertical-align: top;\n",
              "    }\n",
              "\n",
              "    .dataframe thead th {\n",
              "        text-align: right;\n",
              "    }\n",
              "</style>\n",
              "<table border=\"1\" class=\"dataframe\">\n",
              "  <thead>\n",
              "    <tr style=\"text-align: right;\">\n",
              "      <th></th>\n",
              "      <th>emotions</th>\n",
              "      <th>Text</th>\n",
              "    </tr>\n",
              "  </thead>\n",
              "  <tbody>\n",
              "    <tr>\n",
              "      <th>7</th>\n",
              "      <td>fear</td>\n",
              "      <td>&lt;sos&gt; i feel as confused about life as a teena...</td>\n",
              "    </tr>\n",
              "    <tr>\n",
              "      <th>19</th>\n",
              "      <td>fear</td>\n",
              "      <td>&lt;sos&gt; i now feel compromised and skeptical of ...</td>\n",
              "    </tr>\n",
              "    <tr>\n",
              "      <th>21</th>\n",
              "      <td>fear</td>\n",
              "      <td>&lt;sos&gt; i am feeling completely overwhelmed i ha...</td>\n",
              "    </tr>\n",
              "    <tr>\n",
              "      <th>31</th>\n",
              "      <td>fear</td>\n",
              "      <td>&lt;sos&gt; i remember feeling acutely distressed fo...</td>\n",
              "    </tr>\n",
              "    <tr>\n",
              "      <th>53</th>\n",
              "      <td>fear</td>\n",
              "      <td>&lt;sos&gt; i was stymied a little bit as i wrote fe...</td>\n",
              "    </tr>\n",
              "  </tbody>\n",
              "</table>\n",
              "</div>\n",
              "    <div class=\"colab-df-buttons\">\n",
              "\n",
              "  <div class=\"colab-df-container\">\n",
              "    <button class=\"colab-df-convert\" onclick=\"convertToInteractive('df-3c0f9fea-c320-48f7-8a71-42650506426b')\"\n",
              "            title=\"Convert this dataframe to an interactive table.\"\n",
              "            style=\"display:none;\">\n",
              "\n",
              "  <svg xmlns=\"http://www.w3.org/2000/svg\" height=\"24px\" viewBox=\"0 -960 960 960\">\n",
              "    <path d=\"M120-120v-720h720v720H120Zm60-500h600v-160H180v160Zm220 220h160v-160H400v160Zm0 220h160v-160H400v160ZM180-400h160v-160H180v160Zm440 0h160v-160H620v160ZM180-180h160v-160H180v160Zm440 0h160v-160H620v160Z\"/>\n",
              "  </svg>\n",
              "    </button>\n",
              "\n",
              "  <style>\n",
              "    .colab-df-container {\n",
              "      display:flex;\n",
              "      gap: 12px;\n",
              "    }\n",
              "\n",
              "    .colab-df-convert {\n",
              "      background-color: #E8F0FE;\n",
              "      border: none;\n",
              "      border-radius: 50%;\n",
              "      cursor: pointer;\n",
              "      display: none;\n",
              "      fill: #1967D2;\n",
              "      height: 32px;\n",
              "      padding: 0 0 0 0;\n",
              "      width: 32px;\n",
              "    }\n",
              "\n",
              "    .colab-df-convert:hover {\n",
              "      background-color: #E2EBFA;\n",
              "      box-shadow: 0px 1px 2px rgba(60, 64, 67, 0.3), 0px 1px 3px 1px rgba(60, 64, 67, 0.15);\n",
              "      fill: #174EA6;\n",
              "    }\n",
              "\n",
              "    .colab-df-buttons div {\n",
              "      margin-bottom: 4px;\n",
              "    }\n",
              "\n",
              "    [theme=dark] .colab-df-convert {\n",
              "      background-color: #3B4455;\n",
              "      fill: #D2E3FC;\n",
              "    }\n",
              "\n",
              "    [theme=dark] .colab-df-convert:hover {\n",
              "      background-color: #434B5C;\n",
              "      box-shadow: 0px 1px 3px 1px rgba(0, 0, 0, 0.15);\n",
              "      filter: drop-shadow(0px 1px 2px rgba(0, 0, 0, 0.3));\n",
              "      fill: #FFFFFF;\n",
              "    }\n",
              "  </style>\n",
              "\n",
              "    <script>\n",
              "      const buttonEl =\n",
              "        document.querySelector('#df-3c0f9fea-c320-48f7-8a71-42650506426b button.colab-df-convert');\n",
              "      buttonEl.style.display =\n",
              "        google.colab.kernel.accessAllowed ? 'block' : 'none';\n",
              "\n",
              "      async function convertToInteractive(key) {\n",
              "        const element = document.querySelector('#df-3c0f9fea-c320-48f7-8a71-42650506426b');\n",
              "        const dataTable =\n",
              "          await google.colab.kernel.invokeFunction('convertToInteractive',\n",
              "                                                    [key], {});\n",
              "        if (!dataTable) return;\n",
              "\n",
              "        const docLinkHtml = 'Like what you see? Visit the ' +\n",
              "          '<a target=\"_blank\" href=https://colab.research.google.com/notebooks/data_table.ipynb>data table notebook</a>'\n",
              "          + ' to learn more about interactive tables.';\n",
              "        element.innerHTML = '';\n",
              "        dataTable['output_type'] = 'display_data';\n",
              "        await google.colab.output.renderOutput(dataTable, element);\n",
              "        const docLink = document.createElement('div');\n",
              "        docLink.innerHTML = docLinkHtml;\n",
              "        element.appendChild(docLink);\n",
              "      }\n",
              "    </script>\n",
              "  </div>\n",
              "\n",
              "\n",
              "    <div id=\"df-c562af64-500e-468d-b8ed-b2513cf49696\">\n",
              "      <button class=\"colab-df-quickchart\" onclick=\"quickchart('df-c562af64-500e-468d-b8ed-b2513cf49696')\"\n",
              "                title=\"Suggest charts\"\n",
              "                style=\"display:none;\">\n",
              "\n",
              "<svg xmlns=\"http://www.w3.org/2000/svg\" height=\"24px\"viewBox=\"0 0 24 24\"\n",
              "     width=\"24px\">\n",
              "    <g>\n",
              "        <path d=\"M19 3H5c-1.1 0-2 .9-2 2v14c0 1.1.9 2 2 2h14c1.1 0 2-.9 2-2V5c0-1.1-.9-2-2-2zM9 17H7v-7h2v7zm4 0h-2V7h2v10zm4 0h-2v-4h2v4z\"/>\n",
              "    </g>\n",
              "</svg>\n",
              "      </button>\n",
              "\n",
              "<style>\n",
              "  .colab-df-quickchart {\n",
              "      --bg-color: #E8F0FE;\n",
              "      --fill-color: #1967D2;\n",
              "      --hover-bg-color: #E2EBFA;\n",
              "      --hover-fill-color: #174EA6;\n",
              "      --disabled-fill-color: #AAA;\n",
              "      --disabled-bg-color: #DDD;\n",
              "  }\n",
              "\n",
              "  [theme=dark] .colab-df-quickchart {\n",
              "      --bg-color: #3B4455;\n",
              "      --fill-color: #D2E3FC;\n",
              "      --hover-bg-color: #434B5C;\n",
              "      --hover-fill-color: #FFFFFF;\n",
              "      --disabled-bg-color: #3B4455;\n",
              "      --disabled-fill-color: #666;\n",
              "  }\n",
              "\n",
              "  .colab-df-quickchart {\n",
              "    background-color: var(--bg-color);\n",
              "    border: none;\n",
              "    border-radius: 50%;\n",
              "    cursor: pointer;\n",
              "    display: none;\n",
              "    fill: var(--fill-color);\n",
              "    height: 32px;\n",
              "    padding: 0;\n",
              "    width: 32px;\n",
              "  }\n",
              "\n",
              "  .colab-df-quickchart:hover {\n",
              "    background-color: var(--hover-bg-color);\n",
              "    box-shadow: 0 1px 2px rgba(60, 64, 67, 0.3), 0 1px 3px 1px rgba(60, 64, 67, 0.15);\n",
              "    fill: var(--button-hover-fill-color);\n",
              "  }\n",
              "\n",
              "  .colab-df-quickchart-complete:disabled,\n",
              "  .colab-df-quickchart-complete:disabled:hover {\n",
              "    background-color: var(--disabled-bg-color);\n",
              "    fill: var(--disabled-fill-color);\n",
              "    box-shadow: none;\n",
              "  }\n",
              "\n",
              "  .colab-df-spinner {\n",
              "    border: 2px solid var(--fill-color);\n",
              "    border-color: transparent;\n",
              "    border-bottom-color: var(--fill-color);\n",
              "    animation:\n",
              "      spin 1s steps(1) infinite;\n",
              "  }\n",
              "\n",
              "  @keyframes spin {\n",
              "    0% {\n",
              "      border-color: transparent;\n",
              "      border-bottom-color: var(--fill-color);\n",
              "      border-left-color: var(--fill-color);\n",
              "    }\n",
              "    20% {\n",
              "      border-color: transparent;\n",
              "      border-left-color: var(--fill-color);\n",
              "      border-top-color: var(--fill-color);\n",
              "    }\n",
              "    30% {\n",
              "      border-color: transparent;\n",
              "      border-left-color: var(--fill-color);\n",
              "      border-top-color: var(--fill-color);\n",
              "      border-right-color: var(--fill-color);\n",
              "    }\n",
              "    40% {\n",
              "      border-color: transparent;\n",
              "      border-right-color: var(--fill-color);\n",
              "      border-top-color: var(--fill-color);\n",
              "    }\n",
              "    60% {\n",
              "      border-color: transparent;\n",
              "      border-right-color: var(--fill-color);\n",
              "    }\n",
              "    80% {\n",
              "      border-color: transparent;\n",
              "      border-right-color: var(--fill-color);\n",
              "      border-bottom-color: var(--fill-color);\n",
              "    }\n",
              "    90% {\n",
              "      border-color: transparent;\n",
              "      border-bottom-color: var(--fill-color);\n",
              "    }\n",
              "  }\n",
              "</style>\n",
              "\n",
              "      <script>\n",
              "        async function quickchart(key) {\n",
              "          const quickchartButtonEl =\n",
              "            document.querySelector('#' + key + ' button');\n",
              "          quickchartButtonEl.disabled = true;  // To prevent multiple clicks.\n",
              "          quickchartButtonEl.classList.add('colab-df-spinner');\n",
              "          try {\n",
              "            const charts = await google.colab.kernel.invokeFunction(\n",
              "                'suggestCharts', [key], {});\n",
              "          } catch (error) {\n",
              "            console.error('Error during call to suggestCharts:', error);\n",
              "          }\n",
              "          quickchartButtonEl.classList.remove('colab-df-spinner');\n",
              "          quickchartButtonEl.classList.add('colab-df-quickchart-complete');\n",
              "        }\n",
              "        (() => {\n",
              "          let quickchartButtonEl =\n",
              "            document.querySelector('#df-c562af64-500e-468d-b8ed-b2513cf49696 button');\n",
              "          quickchartButtonEl.style.display =\n",
              "            google.colab.kernel.accessAllowed ? 'block' : 'none';\n",
              "        })();\n",
              "      </script>\n",
              "    </div>\n",
              "\n",
              "    </div>\n",
              "  </div>\n"
            ],
            "application/vnd.google.colaboratory.intrinsic+json": {
              "type": "dataframe",
              "variable_name": "fear_df",
              "summary": "{\n  \"name\": \"fear_df\",\n  \"rows\": 2373,\n  \"fields\": [\n    {\n      \"column\": \"emotions\",\n      \"properties\": {\n        \"dtype\": \"category\",\n        \"num_unique_values\": 1,\n        \"samples\": [\n          \"fear\"\n        ],\n        \"semantic_type\": \"\",\n        \"description\": \"\"\n      }\n    },\n    {\n      \"column\": \"Text\",\n      \"properties\": {\n        \"dtype\": \"string\",\n        \"num_unique_values\": 2373,\n        \"samples\": [\n          \"<sos> i feeling distressed <eos>\"\n        ],\n        \"semantic_type\": \"\",\n        \"description\": \"\"\n      }\n    }\n  ]\n}"
            }
          },
          "metadata": {},
          "execution_count": 86
        }
      ],
      "execution_count": 86
    },
    {
      "cell_type": "markdown",
      "source": [
        "### Tokenization"
      ],
      "metadata": {
        "id": "L3vcimiSPuFL"
      }
    },
    {
      "cell_type": "code",
      "source": [
        "# let's create tokenizer for fear_df\n",
        "fear_tokenizer = Tokenizer(num_words=5000,oov_token=\"<unk>\",filters='')\n",
        "fear_tokenizer.fit_on_texts(fear_df['Text'])\n",
        "fear_sequences = fear_tokenizer.texts_to_sequences(fear_df['Text'])"
      ],
      "metadata": {
        "trusted": true,
        "execution": {
          "iopub.status.busy": "2025-05-14T10:40:21.501459Z",
          "iopub.execute_input": "2025-05-14T10:40:21.502223Z",
          "iopub.status.idle": "2025-05-14T10:40:21.561659Z",
          "shell.execute_reply.started": "2025-05-14T10:40:21.502200Z",
          "shell.execute_reply": "2025-05-14T10:40:21.560880Z"
        },
        "id": "vn-P8L8JPuFL"
      },
      "outputs": [],
      "execution_count": 87
    },
    {
      "cell_type": "markdown",
      "source": [
        "### padding"
      ],
      "metadata": {
        "id": "v0ygjBBFPuFL"
      }
    },
    {
      "cell_type": "code",
      "source": [
        "# create pad_sequence for fear_df\n",
        "\n",
        "fear_padded = pad_sequences(fear_sequences, maxlen=max_sentence_length, padding='post', truncating='post')"
      ],
      "metadata": {
        "trusted": true,
        "execution": {
          "iopub.status.busy": "2025-05-14T10:40:30.317995Z",
          "iopub.execute_input": "2025-05-14T10:40:30.318266Z",
          "iopub.status.idle": "2025-05-14T10:40:30.332181Z",
          "shell.execute_reply.started": "2025-05-14T10:40:30.318245Z",
          "shell.execute_reply": "2025-05-14T10:40:30.331576Z"
        },
        "id": "yt8PSCs8PuFL"
      },
      "outputs": [],
      "execution_count": 88
    },
    {
      "cell_type": "markdown",
      "source": [
        "### Encoder decoder inputs"
      ],
      "metadata": {
        "id": "ZIJlEQaKPuFM"
      }
    },
    {
      "cell_type": "code",
      "source": [
        "# create sequence splitting for love_df\n",
        "\n",
        "from sklearn.model_selection import train_test_split\n",
        "\n",
        "# Assuming love_padded is already defined as in your provided code\n",
        "fear_encoder_input_data = fear_padded[:, :-1]\n",
        "fear_decoder_input_data = fear_padded[:, 1:]\n",
        "fear_decoder_target_data = np.zeros_like(fear_decoder_input_data)\n",
        "\n",
        "\n",
        "#Shifting the decoder target data one step to the left.\n",
        "fear_decoder_target_data[:, :-1] =fear_decoder_input_data[:, 1:]\n",
        "fear_decoder_target_data[:, -1] = fear_tokenizer.word_index['<eos>']"
      ],
      "metadata": {
        "trusted": true,
        "execution": {
          "iopub.status.busy": "2025-05-14T10:40:36.116065Z",
          "iopub.execute_input": "2025-05-14T10:40:36.116754Z",
          "iopub.status.idle": "2025-05-14T10:40:36.121287Z",
          "shell.execute_reply.started": "2025-05-14T10:40:36.116730Z",
          "shell.execute_reply": "2025-05-14T10:40:36.120553Z"
        },
        "id": "VNZMFfFZPuFM"
      },
      "outputs": [],
      "execution_count": 89
    },
    {
      "cell_type": "markdown",
      "source": [
        "### Train-Test split"
      ],
      "metadata": {
        "id": "OZvLyjLlPuFM"
      }
    },
    {
      "cell_type": "code",
      "source": [
        "#Split data into training and validation sets.\n",
        "fear_encoder_input_train, fear_encoder_input_val, fear_decoder_input_train, fear_decoder_input_val, fear_decoder_target_train, fear_decoder_target_val = train_test_split(\n",
        "    fear_encoder_input_data,\n",
        "    fear_decoder_input_data,\n",
        "    fear_decoder_target_data,\n",
        "    test_size=0.2,  # Adjust as needed\n",
        "    random_state=1  # For reproducibility\n",
        ")"
      ],
      "metadata": {
        "trusted": true,
        "execution": {
          "iopub.status.busy": "2025-05-14T10:40:40.553073Z",
          "iopub.execute_input": "2025-05-14T10:40:40.553787Z",
          "iopub.status.idle": "2025-05-14T10:40:40.559185Z",
          "shell.execute_reply.started": "2025-05-14T10:40:40.553763Z",
          "shell.execute_reply": "2025-05-14T10:40:40.558340Z"
        },
        "id": "km024APTPuFM"
      },
      "outputs": [],
      "execution_count": 90
    },
    {
      "cell_type": "markdown",
      "source": [
        "### Model Buliding"
      ],
      "metadata": {
        "id": "JBIHkyv1PuFM"
      }
    },
    {
      "cell_type": "code",
      "source": [
        "vocab_size = len(fear_tokenizer.word_index) + 1\n",
        "latent_dim = 256\n",
        "\n",
        "# Encoder\n",
        "fear_encoder_inputs = Input(shape=(max_sentence_length - 1,))\n",
        "fear_enc_emb = Embedding(vocab_size, latent_dim)(fear_encoder_inputs)\n",
        "fear_encoder_lstm = LSTM(latent_dim, return_sequences=True, return_state=True)\n",
        "fear_encoder_out, fear_state_h, fear_state_c = fear_encoder_lstm(fear_enc_emb)\n",
        "fear_encoder_states = [fear_state_h, fear_state_c]\n",
        "\n",
        "# Decoder\n",
        "fear_decoder_inputs = Input(shape=(max_sentence_length - 1,))\n",
        "fear_dec_emb_layer = Embedding(vocab_size, latent_dim)\n",
        "fear_dec_emb = fear_dec_emb_layer(fear_decoder_inputs)\n",
        "fear_decoder_lstm = LSTM(latent_dim, return_sequences=True, return_state=True)\n",
        "fear_decoder_outputs,fear_decode_h,fear_decoder_c = fear_decoder_lstm(fear_dec_emb, initial_state=fear_encoder_states)\n",
        "\n",
        "# Attention Layer\n",
        "fear_attn_layer = AttentionLayer()\n",
        "fear_attn_out, fear_attn_states = fear_attn_layer([fear_encoder_out, fear_decoder_outputs])\n",
        "fear_decoder_concat_input = Concatenate(axis=-1)([fear_decoder_outputs, fear_attn_out])\n",
        "\n",
        "# Dense layer\n",
        "fear_decoder_dense = TimeDistributed(Dense(vocab_size, activation='softmax'))\n",
        "fear_decoder_outputs = fear_decoder_dense(fear_decoder_concat_input)\n"
      ],
      "metadata": {
        "id": "QH3561x_ishK"
      },
      "execution_count": 147,
      "outputs": []
    },
    {
      "cell_type": "code",
      "source": [
        "# Model\n",
        "fear_model = Model([fear_encoder_inputs, fear_decoder_inputs], fear_decoder_outputs)\n",
        "fear_model.compile(optimizer='adam', loss='sparse_categorical_crossentropy', metrics=['accuracy'])\n",
        "fear_model.summary()"
      ],
      "metadata": {
        "colab": {
          "base_uri": "https://localhost:8080/",
          "height": 593
        },
        "id": "BqgZ8ucWi2rI",
        "outputId": "30a8e111-23fa-4d11-9996-ffa60eb3e9e8"
      },
      "execution_count": 148,
      "outputs": [
        {
          "output_type": "display_data",
          "data": {
            "text/plain": [
              "\u001b[1mModel: \"functional_29\"\u001b[0m\n"
            ],
            "text/html": [
              "<pre style=\"white-space:pre;overflow-x:auto;line-height:normal;font-family:Menlo,'DejaVu Sans Mono',consolas,'Courier New',monospace\"><span style=\"font-weight: bold\">Model: \"functional_29\"</span>\n",
              "</pre>\n"
            ]
          },
          "metadata": {}
        },
        {
          "output_type": "display_data",
          "data": {
            "text/plain": [
              "┏━━━━━━━━━━━━━━━━━━━━━┳━━━━━━━━━━━━━━━━━━━┳━━━━━━━━━━━━┳━━━━━━━━━━━━━━━━━━━┓\n",
              "┃\u001b[1m \u001b[0m\u001b[1mLayer (type)       \u001b[0m\u001b[1m \u001b[0m┃\u001b[1m \u001b[0m\u001b[1mOutput Shape     \u001b[0m\u001b[1m \u001b[0m┃\u001b[1m \u001b[0m\u001b[1m   Param #\u001b[0m\u001b[1m \u001b[0m┃\u001b[1m \u001b[0m\u001b[1mConnected to     \u001b[0m\u001b[1m \u001b[0m┃\n",
              "┡━━━━━━━━━━━━━━━━━━━━━╇━━━━━━━━━━━━━━━━━━━╇━━━━━━━━━━━━╇━━━━━━━━━━━━━━━━━━━┩\n",
              "│ input_layer_49      │ (\u001b[38;5;45mNone\u001b[0m, \u001b[38;5;34m59\u001b[0m)        │          \u001b[38;5;34m0\u001b[0m │ -                 │\n",
              "│ (\u001b[38;5;33mInputLayer\u001b[0m)        │                   │            │                   │\n",
              "├─────────────────────┼───────────────────┼────────────┼───────────────────┤\n",
              "│ input_layer_50      │ (\u001b[38;5;45mNone\u001b[0m, \u001b[38;5;34m59\u001b[0m)        │          \u001b[38;5;34m0\u001b[0m │ -                 │\n",
              "│ (\u001b[38;5;33mInputLayer\u001b[0m)        │                   │            │                   │\n",
              "├─────────────────────┼───────────────────┼────────────┼───────────────────┤\n",
              "│ embedding_28        │ (\u001b[38;5;45mNone\u001b[0m, \u001b[38;5;34m59\u001b[0m, \u001b[38;5;34m256\u001b[0m)   │  \u001b[38;5;34m1,266,944\u001b[0m │ input_layer_49[\u001b[38;5;34m0\u001b[0m… │\n",
              "│ (\u001b[38;5;33mEmbedding\u001b[0m)         │                   │            │                   │\n",
              "├─────────────────────┼───────────────────┼────────────┼───────────────────┤\n",
              "│ embedding_29        │ (\u001b[38;5;45mNone\u001b[0m, \u001b[38;5;34m59\u001b[0m, \u001b[38;5;34m256\u001b[0m)   │  \u001b[38;5;34m1,266,944\u001b[0m │ input_layer_50[\u001b[38;5;34m0\u001b[0m… │\n",
              "│ (\u001b[38;5;33mEmbedding\u001b[0m)         │                   │            │                   │\n",
              "├─────────────────────┼───────────────────┼────────────┼───────────────────┤\n",
              "│ lstm_28 (\u001b[38;5;33mLSTM\u001b[0m)      │ [(\u001b[38;5;45mNone\u001b[0m, \u001b[38;5;34m59\u001b[0m, \u001b[38;5;34m256\u001b[0m), │    \u001b[38;5;34m525,312\u001b[0m │ embedding_28[\u001b[38;5;34m0\u001b[0m][\u001b[38;5;34m…\u001b[0m │\n",
              "│                     │ (\u001b[38;5;45mNone\u001b[0m, \u001b[38;5;34m256\u001b[0m),      │            │                   │\n",
              "│                     │ (\u001b[38;5;45mNone\u001b[0m, \u001b[38;5;34m256\u001b[0m)]      │            │                   │\n",
              "├─────────────────────┼───────────────────┼────────────┼───────────────────┤\n",
              "│ lstm_29 (\u001b[38;5;33mLSTM\u001b[0m)      │ [(\u001b[38;5;45mNone\u001b[0m, \u001b[38;5;34m59\u001b[0m, \u001b[38;5;34m256\u001b[0m), │    \u001b[38;5;34m525,312\u001b[0m │ embedding_29[\u001b[38;5;34m0\u001b[0m][\u001b[38;5;34m…\u001b[0m │\n",
              "│                     │ (\u001b[38;5;45mNone\u001b[0m, \u001b[38;5;34m256\u001b[0m),      │            │ lstm_28[\u001b[38;5;34m0\u001b[0m][\u001b[38;5;34m1\u001b[0m],    │\n",
              "│                     │ (\u001b[38;5;45mNone\u001b[0m, \u001b[38;5;34m256\u001b[0m)]      │            │ lstm_28[\u001b[38;5;34m0\u001b[0m][\u001b[38;5;34m2\u001b[0m]     │\n",
              "├─────────────────────┼───────────────────┼────────────┼───────────────────┤\n",
              "│ attention_layer_14  │ [(\u001b[38;5;45mNone\u001b[0m, \u001b[38;5;34m59\u001b[0m, \u001b[38;5;34m256\u001b[0m), │    \u001b[38;5;34m131,328\u001b[0m │ lstm_28[\u001b[38;5;34m0\u001b[0m][\u001b[38;5;34m0\u001b[0m],    │\n",
              "│ (\u001b[38;5;33mAttentionLayer\u001b[0m)    │ (\u001b[38;5;45mNone\u001b[0m, \u001b[38;5;34m59\u001b[0m, \u001b[38;5;34m59\u001b[0m)]   │            │ lstm_29[\u001b[38;5;34m0\u001b[0m][\u001b[38;5;34m0\u001b[0m]     │\n",
              "├─────────────────────┼───────────────────┼────────────┼───────────────────┤\n",
              "│ concatenate_21      │ (\u001b[38;5;45mNone\u001b[0m, \u001b[38;5;34m59\u001b[0m, \u001b[38;5;34m512\u001b[0m)   │          \u001b[38;5;34m0\u001b[0m │ lstm_29[\u001b[38;5;34m0\u001b[0m][\u001b[38;5;34m0\u001b[0m],    │\n",
              "│ (\u001b[38;5;33mConcatenate\u001b[0m)       │                   │            │ attention_layer_… │\n",
              "├─────────────────────┼───────────────────┼────────────┼───────────────────┤\n",
              "│ time_distributed_14 │ (\u001b[38;5;45mNone\u001b[0m, \u001b[38;5;34m59\u001b[0m, \u001b[38;5;34m4949\u001b[0m)  │  \u001b[38;5;34m2,538,837\u001b[0m │ concatenate_21[\u001b[38;5;34m0\u001b[0m… │\n",
              "│ (\u001b[38;5;33mTimeDistributed\u001b[0m)   │                   │            │                   │\n",
              "└─────────────────────┴───────────────────┴────────────┴───────────────────┘\n"
            ],
            "text/html": [
              "<pre style=\"white-space:pre;overflow-x:auto;line-height:normal;font-family:Menlo,'DejaVu Sans Mono',consolas,'Courier New',monospace\">┏━━━━━━━━━━━━━━━━━━━━━┳━━━━━━━━━━━━━━━━━━━┳━━━━━━━━━━━━┳━━━━━━━━━━━━━━━━━━━┓\n",
              "┃<span style=\"font-weight: bold\"> Layer (type)        </span>┃<span style=\"font-weight: bold\"> Output Shape      </span>┃<span style=\"font-weight: bold\">    Param # </span>┃<span style=\"font-weight: bold\"> Connected to      </span>┃\n",
              "┡━━━━━━━━━━━━━━━━━━━━━╇━━━━━━━━━━━━━━━━━━━╇━━━━━━━━━━━━╇━━━━━━━━━━━━━━━━━━━┩\n",
              "│ input_layer_49      │ (<span style=\"color: #00d7ff; text-decoration-color: #00d7ff\">None</span>, <span style=\"color: #00af00; text-decoration-color: #00af00\">59</span>)        │          <span style=\"color: #00af00; text-decoration-color: #00af00\">0</span> │ -                 │\n",
              "│ (<span style=\"color: #0087ff; text-decoration-color: #0087ff\">InputLayer</span>)        │                   │            │                   │\n",
              "├─────────────────────┼───────────────────┼────────────┼───────────────────┤\n",
              "│ input_layer_50      │ (<span style=\"color: #00d7ff; text-decoration-color: #00d7ff\">None</span>, <span style=\"color: #00af00; text-decoration-color: #00af00\">59</span>)        │          <span style=\"color: #00af00; text-decoration-color: #00af00\">0</span> │ -                 │\n",
              "│ (<span style=\"color: #0087ff; text-decoration-color: #0087ff\">InputLayer</span>)        │                   │            │                   │\n",
              "├─────────────────────┼───────────────────┼────────────┼───────────────────┤\n",
              "│ embedding_28        │ (<span style=\"color: #00d7ff; text-decoration-color: #00d7ff\">None</span>, <span style=\"color: #00af00; text-decoration-color: #00af00\">59</span>, <span style=\"color: #00af00; text-decoration-color: #00af00\">256</span>)   │  <span style=\"color: #00af00; text-decoration-color: #00af00\">1,266,944</span> │ input_layer_49[<span style=\"color: #00af00; text-decoration-color: #00af00\">0</span>… │\n",
              "│ (<span style=\"color: #0087ff; text-decoration-color: #0087ff\">Embedding</span>)         │                   │            │                   │\n",
              "├─────────────────────┼───────────────────┼────────────┼───────────────────┤\n",
              "│ embedding_29        │ (<span style=\"color: #00d7ff; text-decoration-color: #00d7ff\">None</span>, <span style=\"color: #00af00; text-decoration-color: #00af00\">59</span>, <span style=\"color: #00af00; text-decoration-color: #00af00\">256</span>)   │  <span style=\"color: #00af00; text-decoration-color: #00af00\">1,266,944</span> │ input_layer_50[<span style=\"color: #00af00; text-decoration-color: #00af00\">0</span>… │\n",
              "│ (<span style=\"color: #0087ff; text-decoration-color: #0087ff\">Embedding</span>)         │                   │            │                   │\n",
              "├─────────────────────┼───────────────────┼────────────┼───────────────────┤\n",
              "│ lstm_28 (<span style=\"color: #0087ff; text-decoration-color: #0087ff\">LSTM</span>)      │ [(<span style=\"color: #00d7ff; text-decoration-color: #00d7ff\">None</span>, <span style=\"color: #00af00; text-decoration-color: #00af00\">59</span>, <span style=\"color: #00af00; text-decoration-color: #00af00\">256</span>), │    <span style=\"color: #00af00; text-decoration-color: #00af00\">525,312</span> │ embedding_28[<span style=\"color: #00af00; text-decoration-color: #00af00\">0</span>][<span style=\"color: #00af00; text-decoration-color: #00af00\">…</span> │\n",
              "│                     │ (<span style=\"color: #00d7ff; text-decoration-color: #00d7ff\">None</span>, <span style=\"color: #00af00; text-decoration-color: #00af00\">256</span>),      │            │                   │\n",
              "│                     │ (<span style=\"color: #00d7ff; text-decoration-color: #00d7ff\">None</span>, <span style=\"color: #00af00; text-decoration-color: #00af00\">256</span>)]      │            │                   │\n",
              "├─────────────────────┼───────────────────┼────────────┼───────────────────┤\n",
              "│ lstm_29 (<span style=\"color: #0087ff; text-decoration-color: #0087ff\">LSTM</span>)      │ [(<span style=\"color: #00d7ff; text-decoration-color: #00d7ff\">None</span>, <span style=\"color: #00af00; text-decoration-color: #00af00\">59</span>, <span style=\"color: #00af00; text-decoration-color: #00af00\">256</span>), │    <span style=\"color: #00af00; text-decoration-color: #00af00\">525,312</span> │ embedding_29[<span style=\"color: #00af00; text-decoration-color: #00af00\">0</span>][<span style=\"color: #00af00; text-decoration-color: #00af00\">…</span> │\n",
              "│                     │ (<span style=\"color: #00d7ff; text-decoration-color: #00d7ff\">None</span>, <span style=\"color: #00af00; text-decoration-color: #00af00\">256</span>),      │            │ lstm_28[<span style=\"color: #00af00; text-decoration-color: #00af00\">0</span>][<span style=\"color: #00af00; text-decoration-color: #00af00\">1</span>],    │\n",
              "│                     │ (<span style=\"color: #00d7ff; text-decoration-color: #00d7ff\">None</span>, <span style=\"color: #00af00; text-decoration-color: #00af00\">256</span>)]      │            │ lstm_28[<span style=\"color: #00af00; text-decoration-color: #00af00\">0</span>][<span style=\"color: #00af00; text-decoration-color: #00af00\">2</span>]     │\n",
              "├─────────────────────┼───────────────────┼────────────┼───────────────────┤\n",
              "│ attention_layer_14  │ [(<span style=\"color: #00d7ff; text-decoration-color: #00d7ff\">None</span>, <span style=\"color: #00af00; text-decoration-color: #00af00\">59</span>, <span style=\"color: #00af00; text-decoration-color: #00af00\">256</span>), │    <span style=\"color: #00af00; text-decoration-color: #00af00\">131,328</span> │ lstm_28[<span style=\"color: #00af00; text-decoration-color: #00af00\">0</span>][<span style=\"color: #00af00; text-decoration-color: #00af00\">0</span>],    │\n",
              "│ (<span style=\"color: #0087ff; text-decoration-color: #0087ff\">AttentionLayer</span>)    │ (<span style=\"color: #00d7ff; text-decoration-color: #00d7ff\">None</span>, <span style=\"color: #00af00; text-decoration-color: #00af00\">59</span>, <span style=\"color: #00af00; text-decoration-color: #00af00\">59</span>)]   │            │ lstm_29[<span style=\"color: #00af00; text-decoration-color: #00af00\">0</span>][<span style=\"color: #00af00; text-decoration-color: #00af00\">0</span>]     │\n",
              "├─────────────────────┼───────────────────┼────────────┼───────────────────┤\n",
              "│ concatenate_21      │ (<span style=\"color: #00d7ff; text-decoration-color: #00d7ff\">None</span>, <span style=\"color: #00af00; text-decoration-color: #00af00\">59</span>, <span style=\"color: #00af00; text-decoration-color: #00af00\">512</span>)   │          <span style=\"color: #00af00; text-decoration-color: #00af00\">0</span> │ lstm_29[<span style=\"color: #00af00; text-decoration-color: #00af00\">0</span>][<span style=\"color: #00af00; text-decoration-color: #00af00\">0</span>],    │\n",
              "│ (<span style=\"color: #0087ff; text-decoration-color: #0087ff\">Concatenate</span>)       │                   │            │ attention_layer_… │\n",
              "├─────────────────────┼───────────────────┼────────────┼───────────────────┤\n",
              "│ time_distributed_14 │ (<span style=\"color: #00d7ff; text-decoration-color: #00d7ff\">None</span>, <span style=\"color: #00af00; text-decoration-color: #00af00\">59</span>, <span style=\"color: #00af00; text-decoration-color: #00af00\">4949</span>)  │  <span style=\"color: #00af00; text-decoration-color: #00af00\">2,538,837</span> │ concatenate_21[<span style=\"color: #00af00; text-decoration-color: #00af00\">0</span>… │\n",
              "│ (<span style=\"color: #0087ff; text-decoration-color: #0087ff\">TimeDistributed</span>)   │                   │            │                   │\n",
              "└─────────────────────┴───────────────────┴────────────┴───────────────────┘\n",
              "</pre>\n"
            ]
          },
          "metadata": {}
        },
        {
          "output_type": "display_data",
          "data": {
            "text/plain": [
              "\u001b[1m Total params: \u001b[0m\u001b[38;5;34m6,254,677\u001b[0m (23.86 MB)\n"
            ],
            "text/html": [
              "<pre style=\"white-space:pre;overflow-x:auto;line-height:normal;font-family:Menlo,'DejaVu Sans Mono',consolas,'Courier New',monospace\"><span style=\"font-weight: bold\"> Total params: </span><span style=\"color: #00af00; text-decoration-color: #00af00\">6,254,677</span> (23.86 MB)\n",
              "</pre>\n"
            ]
          },
          "metadata": {}
        },
        {
          "output_type": "display_data",
          "data": {
            "text/plain": [
              "\u001b[1m Trainable params: \u001b[0m\u001b[38;5;34m6,254,677\u001b[0m (23.86 MB)\n"
            ],
            "text/html": [
              "<pre style=\"white-space:pre;overflow-x:auto;line-height:normal;font-family:Menlo,'DejaVu Sans Mono',consolas,'Courier New',monospace\"><span style=\"font-weight: bold\"> Trainable params: </span><span style=\"color: #00af00; text-decoration-color: #00af00\">6,254,677</span> (23.86 MB)\n",
              "</pre>\n"
            ]
          },
          "metadata": {}
        },
        {
          "output_type": "display_data",
          "data": {
            "text/plain": [
              "\u001b[1m Non-trainable params: \u001b[0m\u001b[38;5;34m0\u001b[0m (0.00 B)\n"
            ],
            "text/html": [
              "<pre style=\"white-space:pre;overflow-x:auto;line-height:normal;font-family:Menlo,'DejaVu Sans Mono',consolas,'Courier New',monospace\"><span style=\"font-weight: bold\"> Non-trainable params: </span><span style=\"color: #00af00; text-decoration-color: #00af00\">0</span> (0.00 B)\n",
              "</pre>\n"
            ]
          },
          "metadata": {}
        }
      ]
    },
    {
      "cell_type": "code",
      "source": [
        "# Training with Early Stopping\n",
        "epochs = 50\n",
        "batch_size = 64\n",
        "es = EarlyStopping(monitor='val_accuracy', mode='max', verbose=1, patience=5, restore_best_weights=True)\n",
        "fear_history = fear_model.fit(\n",
        "    [fear_encoder_input_train, fear_decoder_input_train],\n",
        "    fear_decoder_target_train,\n",
        "    batch_size=batch_size,\n",
        "    epochs=epochs,\n",
        "    validation_data=([fear_encoder_input_val, fear_decoder_input_val], fear_decoder_target_val),\n",
        "    callbacks=[es]\n",
        ")"
      ],
      "metadata": {
        "colab": {
          "base_uri": "https://localhost:8080/"
        },
        "id": "pqqar60Gi1zx",
        "outputId": "8b1ea0ca-d1a1-4db8-baa2-50b552336ae0"
      },
      "execution_count": 150,
      "outputs": [
        {
          "output_type": "stream",
          "name": "stdout",
          "text": [
            "Epoch 1/50\n",
            "\u001b[1m30/30\u001b[0m \u001b[32m━━━━━━━━━━━━━━━━━━━━\u001b[0m\u001b[37m\u001b[0m \u001b[1m10s\u001b[0m 335ms/step - accuracy: 0.8247 - loss: 0.8380 - val_accuracy: 0.7394 - val_loss: 1.9091\n",
            "Epoch 2/50\n",
            "\u001b[1m30/30\u001b[0m \u001b[32m━━━━━━━━━━━━━━━━━━━━\u001b[0m\u001b[37m\u001b[0m \u001b[1m6s\u001b[0m 201ms/step - accuracy: 0.8303 - loss: 0.8048 - val_accuracy: 0.7395 - val_loss: 1.9111\n",
            "Epoch 3/50\n",
            "\u001b[1m30/30\u001b[0m \u001b[32m━━━━━━━━━━━━━━━━━━━━\u001b[0m\u001b[37m\u001b[0m \u001b[1m10s\u001b[0m 186ms/step - accuracy: 0.8377 - loss: 0.7662 - val_accuracy: 0.7377 - val_loss: 1.9287\n",
            "Epoch 4/50\n",
            "\u001b[1m30/30\u001b[0m \u001b[32m━━━━━━━━━━━━━━━━━━━━\u001b[0m\u001b[37m\u001b[0m \u001b[1m10s\u001b[0m 187ms/step - accuracy: 0.8400 - loss: 0.7477 - val_accuracy: 0.7392 - val_loss: 1.9405\n",
            "Epoch 5/50\n",
            "\u001b[1m30/30\u001b[0m \u001b[32m━━━━━━━━━━━━━━━━━━━━\u001b[0m\u001b[37m\u001b[0m \u001b[1m10s\u001b[0m 176ms/step - accuracy: 0.8491 - loss: 0.7030 - val_accuracy: 0.7391 - val_loss: 1.9461\n",
            "Epoch 6/50\n",
            "\u001b[1m30/30\u001b[0m \u001b[32m━━━━━━━━━━━━━━━━━━━━\u001b[0m\u001b[37m\u001b[0m \u001b[1m11s\u001b[0m 186ms/step - accuracy: 0.8532 - loss: 0.6784 - val_accuracy: 0.7386 - val_loss: 1.9562\n",
            "Epoch 7/50\n",
            "\u001b[1m30/30\u001b[0m \u001b[32m━━━━━━━━━━━━━━━━━━━━\u001b[0m\u001b[37m\u001b[0m \u001b[1m11s\u001b[0m 196ms/step - accuracy: 0.8534 - loss: 0.6775 - val_accuracy: 0.7401 - val_loss: 1.9558\n",
            "Epoch 8/50\n",
            "\u001b[1m30/30\u001b[0m \u001b[32m━━━━━━━━━━━━━━━━━━━━\u001b[0m\u001b[37m\u001b[0m \u001b[1m11s\u001b[0m 217ms/step - accuracy: 0.8642 - loss: 0.6332 - val_accuracy: 0.7396 - val_loss: 1.9638\n",
            "Epoch 9/50\n",
            "\u001b[1m30/30\u001b[0m \u001b[32m━━━━━━━━━━━━━━━━━━━━\u001b[0m\u001b[37m\u001b[0m \u001b[1m6s\u001b[0m 199ms/step - accuracy: 0.8671 - loss: 0.6114 - val_accuracy: 0.7418 - val_loss: 1.9734\n",
            "Epoch 10/50\n",
            "\u001b[1m30/30\u001b[0m \u001b[32m━━━━━━━━━━━━━━━━━━━━\u001b[0m\u001b[37m\u001b[0m \u001b[1m10s\u001b[0m 200ms/step - accuracy: 0.8683 - loss: 0.6005 - val_accuracy: 0.7398 - val_loss: 1.9811\n",
            "Epoch 11/50\n",
            "\u001b[1m30/30\u001b[0m \u001b[32m━━━━━━━━━━━━━━━━━━━━\u001b[0m\u001b[37m\u001b[0m \u001b[1m9s\u001b[0m 175ms/step - accuracy: 0.8756 - loss: 0.5799 - val_accuracy: 0.7411 - val_loss: 1.9931\n",
            "Epoch 12/50\n",
            "\u001b[1m30/30\u001b[0m \u001b[32m━━━━━━━━━━━━━━━━━━━━\u001b[0m\u001b[37m\u001b[0m \u001b[1m6s\u001b[0m 200ms/step - accuracy: 0.8823 - loss: 0.5447 - val_accuracy: 0.7423 - val_loss: 1.9900\n",
            "Epoch 13/50\n",
            "\u001b[1m30/30\u001b[0m \u001b[32m━━━━━━━━━━━━━━━━━━━━\u001b[0m\u001b[37m\u001b[0m \u001b[1m10s\u001b[0m 175ms/step - accuracy: 0.8873 - loss: 0.5202 - val_accuracy: 0.7413 - val_loss: 2.0048\n",
            "Epoch 14/50\n",
            "\u001b[1m30/30\u001b[0m \u001b[32m━━━━━━━━━━━━━━━━━━━━\u001b[0m\u001b[37m\u001b[0m \u001b[1m11s\u001b[0m 187ms/step - accuracy: 0.8922 - loss: 0.5040 - val_accuracy: 0.7429 - val_loss: 1.9945\n",
            "Epoch 15/50\n",
            "\u001b[1m30/30\u001b[0m \u001b[32m━━━━━━━━━━━━━━━━━━━━\u001b[0m\u001b[37m\u001b[0m \u001b[1m10s\u001b[0m 175ms/step - accuracy: 0.8996 - loss: 0.4679 - val_accuracy: 0.7421 - val_loss: 2.0137\n",
            "Epoch 16/50\n",
            "\u001b[1m30/30\u001b[0m \u001b[32m━━━━━━━━━━━━━━━━━━━━\u001b[0m\u001b[37m\u001b[0m \u001b[1m10s\u001b[0m 176ms/step - accuracy: 0.9088 - loss: 0.4339 - val_accuracy: 0.7437 - val_loss: 2.0165\n",
            "Epoch 17/50\n",
            "\u001b[1m30/30\u001b[0m \u001b[32m━━━━━━━━━━━━━━━━━━━━\u001b[0m\u001b[37m\u001b[0m \u001b[1m6s\u001b[0m 203ms/step - accuracy: 0.9106 - loss: 0.4278 - val_accuracy: 0.7433 - val_loss: 2.0287\n",
            "Epoch 18/50\n",
            "\u001b[1m30/30\u001b[0m \u001b[32m━━━━━━━━━━━━━━━━━━━━\u001b[0m\u001b[37m\u001b[0m \u001b[1m5s\u001b[0m 177ms/step - accuracy: 0.9197 - loss: 0.3876 - val_accuracy: 0.7443 - val_loss: 2.0383\n",
            "Epoch 19/50\n",
            "\u001b[1m30/30\u001b[0m \u001b[32m━━━━━━━━━━━━━━━━━━━━\u001b[0m\u001b[37m\u001b[0m \u001b[1m11s\u001b[0m 200ms/step - accuracy: 0.9207 - loss: 0.3886 - val_accuracy: 0.7450 - val_loss: 2.0397\n",
            "Epoch 20/50\n",
            "\u001b[1m30/30\u001b[0m \u001b[32m━━━━━━━━━━━━━━━━━━━━\u001b[0m\u001b[37m\u001b[0m \u001b[1m11s\u001b[0m 218ms/step - accuracy: 0.9262 - loss: 0.3628 - val_accuracy: 0.7453 - val_loss: 2.0481\n",
            "Epoch 21/50\n",
            "\u001b[1m30/30\u001b[0m \u001b[32m━━━━━━━━━━━━━━━━━━━━\u001b[0m\u001b[37m\u001b[0m \u001b[1m10s\u001b[0m 216ms/step - accuracy: 0.9338 - loss: 0.3333 - val_accuracy: 0.7457 - val_loss: 2.0478\n",
            "Epoch 22/50\n",
            "\u001b[1m30/30\u001b[0m \u001b[32m━━━━━━━━━━━━━━━━━━━━\u001b[0m\u001b[37m\u001b[0m \u001b[1m10s\u001b[0m 205ms/step - accuracy: 0.9388 - loss: 0.3140 - val_accuracy: 0.7462 - val_loss: 2.0583\n",
            "Epoch 23/50\n",
            "\u001b[1m30/30\u001b[0m \u001b[32m━━━━━━━━━━━━━━━━━━━━\u001b[0m\u001b[37m\u001b[0m \u001b[1m10s\u001b[0m 186ms/step - accuracy: 0.9407 - loss: 0.3021 - val_accuracy: 0.7460 - val_loss: 2.0671\n",
            "Epoch 24/50\n",
            "\u001b[1m30/30\u001b[0m \u001b[32m━━━━━━━━━━━━━━━━━━━━\u001b[0m\u001b[37m\u001b[0m \u001b[1m7s\u001b[0m 218ms/step - accuracy: 0.9457 - loss: 0.2807 - val_accuracy: 0.7470 - val_loss: 2.0724\n",
            "Epoch 25/50\n",
            "\u001b[1m30/30\u001b[0m \u001b[32m━━━━━━━━━━━━━━━━━━━━\u001b[0m\u001b[37m\u001b[0m \u001b[1m10s\u001b[0m 206ms/step - accuracy: 0.9500 - loss: 0.2687 - val_accuracy: 0.7484 - val_loss: 2.0676\n",
            "Epoch 26/50\n",
            "\u001b[1m30/30\u001b[0m \u001b[32m━━━━━━━━━━━━━━━━━━━━\u001b[0m\u001b[37m\u001b[0m \u001b[1m10s\u001b[0m 187ms/step - accuracy: 0.9547 - loss: 0.2504 - val_accuracy: 0.7472 - val_loss: 2.0888\n",
            "Epoch 27/50\n",
            "\u001b[1m30/30\u001b[0m \u001b[32m━━━━━━━━━━━━━━━━━━━━\u001b[0m\u001b[37m\u001b[0m \u001b[1m10s\u001b[0m 187ms/step - accuracy: 0.9606 - loss: 0.2264 - val_accuracy: 0.7485 - val_loss: 2.0933\n",
            "Epoch 28/50\n",
            "\u001b[1m30/30\u001b[0m \u001b[32m━━━━━━━━━━━━━━━━━━━━\u001b[0m\u001b[37m\u001b[0m \u001b[1m10s\u001b[0m 187ms/step - accuracy: 0.9639 - loss: 0.2102 - val_accuracy: 0.7510 - val_loss: 2.0925\n",
            "Epoch 29/50\n",
            "\u001b[1m30/30\u001b[0m \u001b[32m━━━━━━━━━━━━━━━━━━━━\u001b[0m\u001b[37m\u001b[0m \u001b[1m10s\u001b[0m 176ms/step - accuracy: 0.9684 - loss: 0.1920 - val_accuracy: 0.7502 - val_loss: 2.1008\n",
            "Epoch 30/50\n",
            "\u001b[1m30/30\u001b[0m \u001b[32m━━━━━━━━━━━━━━━━━━━━\u001b[0m\u001b[37m\u001b[0m \u001b[1m6s\u001b[0m 208ms/step - accuracy: 0.9704 - loss: 0.1863 - val_accuracy: 0.7502 - val_loss: 2.1179\n",
            "Epoch 31/50\n",
            "\u001b[1m30/30\u001b[0m \u001b[32m━━━━━━━━━━━━━━━━━━━━\u001b[0m\u001b[37m\u001b[0m \u001b[1m10s\u001b[0m 187ms/step - accuracy: 0.9720 - loss: 0.1803 - val_accuracy: 0.7514 - val_loss: 2.1097\n",
            "Epoch 32/50\n",
            "\u001b[1m30/30\u001b[0m \u001b[32m━━━━━━━━━━━━━━━━━━━━\u001b[0m\u001b[37m\u001b[0m \u001b[1m10s\u001b[0m 187ms/step - accuracy: 0.9771 - loss: 0.1611 - val_accuracy: 0.7508 - val_loss: 2.1333\n",
            "Epoch 33/50\n",
            "\u001b[1m30/30\u001b[0m \u001b[32m━━━━━━━━━━━━━━━━━━━━\u001b[0m\u001b[37m\u001b[0m \u001b[1m10s\u001b[0m 186ms/step - accuracy: 0.9788 - loss: 0.1536 - val_accuracy: 0.7511 - val_loss: 2.1297\n",
            "Epoch 34/50\n",
            "\u001b[1m30/30\u001b[0m \u001b[32m━━━━━━━━━━━━━━━━━━━━\u001b[0m\u001b[37m\u001b[0m \u001b[1m10s\u001b[0m 187ms/step - accuracy: 0.9831 - loss: 0.1326 - val_accuracy: 0.7527 - val_loss: 2.1283\n",
            "Epoch 35/50\n",
            "\u001b[1m30/30\u001b[0m \u001b[32m━━━━━━━━━━━━━━━━━━━━\u001b[0m\u001b[37m\u001b[0m \u001b[1m10s\u001b[0m 188ms/step - accuracy: 0.9844 - loss: 0.1267 - val_accuracy: 0.7520 - val_loss: 2.1367\n",
            "Epoch 36/50\n",
            "\u001b[1m30/30\u001b[0m \u001b[32m━━━━━━━━━━━━━━━━━━━━\u001b[0m\u001b[37m\u001b[0m \u001b[1m11s\u001b[0m 216ms/step - accuracy: 0.9835 - loss: 0.1282 - val_accuracy: 0.7530 - val_loss: 2.1344\n",
            "Epoch 37/50\n",
            "\u001b[1m30/30\u001b[0m \u001b[32m━━━━━━━━━━━━━━━━━━━━\u001b[0m\u001b[37m\u001b[0m \u001b[1m5s\u001b[0m 176ms/step - accuracy: 0.9853 - loss: 0.1203 - val_accuracy: 0.7523 - val_loss: 2.1509\n",
            "Epoch 38/50\n",
            "\u001b[1m30/30\u001b[0m \u001b[32m━━━━━━━━━━━━━━━━━━━━\u001b[0m\u001b[37m\u001b[0m \u001b[1m7s\u001b[0m 219ms/step - accuracy: 0.9890 - loss: 0.1061 - val_accuracy: 0.7543 - val_loss: 2.1461\n",
            "Epoch 39/50\n",
            "\u001b[1m30/30\u001b[0m \u001b[32m━━━━━━━━━━━━━━━━━━━━\u001b[0m\u001b[37m\u001b[0m \u001b[1m10s\u001b[0m 204ms/step - accuracy: 0.9907 - loss: 0.0973 - val_accuracy: 0.7543 - val_loss: 2.1612\n",
            "Epoch 40/50\n",
            "\u001b[1m30/30\u001b[0m \u001b[32m━━━━━━━━━━━━━━━━━━━━\u001b[0m\u001b[37m\u001b[0m \u001b[1m10s\u001b[0m 179ms/step - accuracy: 0.9928 - loss: 0.0872 - val_accuracy: 0.7526 - val_loss: 2.1711\n",
            "Epoch 41/50\n",
            "\u001b[1m30/30\u001b[0m \u001b[32m━━━━━━━━━━━━━━━━━━━━\u001b[0m\u001b[37m\u001b[0m \u001b[1m7s\u001b[0m 219ms/step - accuracy: 0.9942 - loss: 0.0795 - val_accuracy: 0.7548 - val_loss: 2.1683\n",
            "Epoch 42/50\n",
            "\u001b[1m30/30\u001b[0m \u001b[32m━━━━━━━━━━━━━━━━━━━━\u001b[0m\u001b[37m\u001b[0m \u001b[1m10s\u001b[0m 219ms/step - accuracy: 0.9955 - loss: 0.0744 - val_accuracy: 0.7538 - val_loss: 2.1858\n",
            "Epoch 43/50\n",
            "\u001b[1m30/30\u001b[0m \u001b[32m━━━━━━━━━━━━━━━━━━━━\u001b[0m\u001b[37m\u001b[0m \u001b[1m10s\u001b[0m 195ms/step - accuracy: 0.9966 - loss: 0.0672 - val_accuracy: 0.7539 - val_loss: 2.1979\n",
            "Epoch 44/50\n",
            "\u001b[1m30/30\u001b[0m \u001b[32m━━━━━━━━━━━━━━━━━━━━\u001b[0m\u001b[37m\u001b[0m \u001b[1m10s\u001b[0m 177ms/step - accuracy: 0.9969 - loss: 0.0624 - val_accuracy: 0.7540 - val_loss: 2.2009\n",
            "Epoch 45/50\n",
            "\u001b[1m30/30\u001b[0m \u001b[32m━━━━━━━━━━━━━━━━━━━━\u001b[0m\u001b[37m\u001b[0m \u001b[1m13s\u001b[0m 280ms/step - accuracy: 0.9975 - loss: 0.0578 - val_accuracy: 0.7555 - val_loss: 2.1996\n",
            "Epoch 46/50\n",
            "\u001b[1m30/30\u001b[0m \u001b[32m━━━━━━━━━━━━━━━━━━━━\u001b[0m\u001b[37m\u001b[0m \u001b[1m7s\u001b[0m 186ms/step - accuracy: 0.9978 - loss: 0.0545 - val_accuracy: 0.7548 - val_loss: 2.2118\n",
            "Epoch 47/50\n",
            "\u001b[1m30/30\u001b[0m \u001b[32m━━━━━━━━━━━━━━━━━━━━\u001b[0m\u001b[37m\u001b[0m \u001b[1m8s\u001b[0m 267ms/step - accuracy: 0.9978 - loss: 0.0523 - val_accuracy: 0.7548 - val_loss: 2.2160\n",
            "Epoch 48/50\n",
            "\u001b[1m30/30\u001b[0m \u001b[32m━━━━━━━━━━━━━━━━━━━━\u001b[0m\u001b[37m\u001b[0m \u001b[1m6s\u001b[0m 185ms/step - accuracy: 0.9982 - loss: 0.0510 - val_accuracy: 0.7540 - val_loss: 2.2185\n",
            "Epoch 49/50\n",
            "\u001b[1m30/30\u001b[0m \u001b[32m━━━━━━━━━━━━━━━━━━━━\u001b[0m\u001b[37m\u001b[0m \u001b[1m10s\u001b[0m 185ms/step - accuracy: 0.9985 - loss: 0.0483 - val_accuracy: 0.7539 - val_loss: 2.2394\n",
            "Epoch 50/50\n",
            "\u001b[1m30/30\u001b[0m \u001b[32m━━━━━━━━━━━━━━━━━━━━\u001b[0m\u001b[37m\u001b[0m \u001b[1m10s\u001b[0m 178ms/step - accuracy: 0.9985 - loss: 0.0457 - val_accuracy: 0.7540 - val_loss: 2.2445\n",
            "Epoch 50: early stopping\n",
            "Restoring model weights from the end of the best epoch: 45.\n"
          ]
        }
      ]
    },
    {
      "cell_type": "code",
      "source": [
        "# Model\n",
        "fear_model = Model([fear_encoder_inputs, fear_decoder_inputs], fear_decoder_outputs)\n",
        "fear_model.compile(optimizer='adam', loss='sparse_categorical_crossentropy', metrics=['accuracy'])\n",
        "fear_model.summary()"
      ],
      "metadata": {
        "trusted": true,
        "execution": {
          "iopub.status.busy": "2025-05-14T10:40:52.757051Z",
          "iopub.execute_input": "2025-05-14T10:40:52.757315Z",
          "iopub.status.idle": "2025-05-14T10:40:52.783448Z",
          "shell.execute_reply.started": "2025-05-14T10:40:52.757296Z",
          "shell.execute_reply": "2025-05-14T10:40:52.782921Z"
        },
        "colab": {
          "base_uri": "https://localhost:8080/",
          "height": 593
        },
        "id": "qn44yVvYPuFM",
        "outputId": "6978ba06-efb3-4699-8abc-e9e7f43c8d0b"
      },
      "outputs": [
        {
          "output_type": "display_data",
          "data": {
            "text/plain": [
              "\u001b[1mModel: \"functional_10\"\u001b[0m\n"
            ],
            "text/html": [
              "<pre style=\"white-space:pre;overflow-x:auto;line-height:normal;font-family:Menlo,'DejaVu Sans Mono',consolas,'Courier New',monospace\"><span style=\"font-weight: bold\">Model: \"functional_10\"</span>\n",
              "</pre>\n"
            ]
          },
          "metadata": {}
        },
        {
          "output_type": "display_data",
          "data": {
            "text/plain": [
              "┏━━━━━━━━━━━━━━━━━━━━━┳━━━━━━━━━━━━━━━━━━━┳━━━━━━━━━━━━┳━━━━━━━━━━━━━━━━━━━┓\n",
              "┃\u001b[1m \u001b[0m\u001b[1mLayer (type)       \u001b[0m\u001b[1m \u001b[0m┃\u001b[1m \u001b[0m\u001b[1mOutput Shape     \u001b[0m\u001b[1m \u001b[0m┃\u001b[1m \u001b[0m\u001b[1m   Param #\u001b[0m\u001b[1m \u001b[0m┃\u001b[1m \u001b[0m\u001b[1mConnected to     \u001b[0m\u001b[1m \u001b[0m┃\n",
              "┡━━━━━━━━━━━━━━━━━━━━━╇━━━━━━━━━━━━━━━━━━━╇━━━━━━━━━━━━╇━━━━━━━━━━━━━━━━━━━┩\n",
              "│ input_layer_17      │ (\u001b[38;5;45mNone\u001b[0m, \u001b[38;5;34m59\u001b[0m)        │          \u001b[38;5;34m0\u001b[0m │ -                 │\n",
              "│ (\u001b[38;5;33mInputLayer\u001b[0m)        │                   │            │                   │\n",
              "├─────────────────────┼───────────────────┼────────────┼───────────────────┤\n",
              "│ input_layer_18      │ (\u001b[38;5;45mNone\u001b[0m, \u001b[38;5;34m59\u001b[0m)        │          \u001b[38;5;34m0\u001b[0m │ -                 │\n",
              "│ (\u001b[38;5;33mInputLayer\u001b[0m)        │                   │            │                   │\n",
              "├─────────────────────┼───────────────────┼────────────┼───────────────────┤\n",
              "│ embedding_8         │ (\u001b[38;5;45mNone\u001b[0m, \u001b[38;5;34m59\u001b[0m, \u001b[38;5;34m256\u001b[0m)   │  \u001b[38;5;34m1,266,944\u001b[0m │ input_layer_17[\u001b[38;5;34m0\u001b[0m… │\n",
              "│ (\u001b[38;5;33mEmbedding\u001b[0m)         │                   │            │                   │\n",
              "├─────────────────────┼───────────────────┼────────────┼───────────────────┤\n",
              "│ embedding_9         │ (\u001b[38;5;45mNone\u001b[0m, \u001b[38;5;34m59\u001b[0m, \u001b[38;5;34m256\u001b[0m)   │  \u001b[38;5;34m1,266,944\u001b[0m │ input_layer_18[\u001b[38;5;34m0\u001b[0m… │\n",
              "│ (\u001b[38;5;33mEmbedding\u001b[0m)         │                   │            │                   │\n",
              "├─────────────────────┼───────────────────┼────────────┼───────────────────┤\n",
              "│ lstm_8 (\u001b[38;5;33mLSTM\u001b[0m)       │ [(\u001b[38;5;45mNone\u001b[0m, \u001b[38;5;34m59\u001b[0m, \u001b[38;5;34m256\u001b[0m), │    \u001b[38;5;34m525,312\u001b[0m │ embedding_8[\u001b[38;5;34m0\u001b[0m][\u001b[38;5;34m0\u001b[0m] │\n",
              "│                     │ (\u001b[38;5;45mNone\u001b[0m, \u001b[38;5;34m256\u001b[0m),      │            │                   │\n",
              "│                     │ (\u001b[38;5;45mNone\u001b[0m, \u001b[38;5;34m256\u001b[0m)]      │            │                   │\n",
              "├─────────────────────┼───────────────────┼────────────┼───────────────────┤\n",
              "│ lstm_9 (\u001b[38;5;33mLSTM\u001b[0m)       │ [(\u001b[38;5;45mNone\u001b[0m, \u001b[38;5;34m59\u001b[0m, \u001b[38;5;34m256\u001b[0m), │    \u001b[38;5;34m525,312\u001b[0m │ embedding_9[\u001b[38;5;34m0\u001b[0m][\u001b[38;5;34m0\u001b[0m… │\n",
              "│                     │ (\u001b[38;5;45mNone\u001b[0m, \u001b[38;5;34m256\u001b[0m),      │            │ lstm_8[\u001b[38;5;34m0\u001b[0m][\u001b[38;5;34m1\u001b[0m],     │\n",
              "│                     │ (\u001b[38;5;45mNone\u001b[0m, \u001b[38;5;34m256\u001b[0m)]      │            │ lstm_8[\u001b[38;5;34m0\u001b[0m][\u001b[38;5;34m2\u001b[0m]      │\n",
              "├─────────────────────┼───────────────────┼────────────┼───────────────────┤\n",
              "│ attention_layer_4   │ [(\u001b[38;5;45mNone\u001b[0m, \u001b[38;5;34m59\u001b[0m, \u001b[38;5;34m256\u001b[0m), │    \u001b[38;5;34m131,328\u001b[0m │ lstm_8[\u001b[38;5;34m0\u001b[0m][\u001b[38;5;34m0\u001b[0m],     │\n",
              "│ (\u001b[38;5;33mAttentionLayer\u001b[0m)    │ (\u001b[38;5;45mNone\u001b[0m, \u001b[38;5;34m59\u001b[0m, \u001b[38;5;34m59\u001b[0m)]   │            │ lstm_9[\u001b[38;5;34m0\u001b[0m][\u001b[38;5;34m0\u001b[0m]      │\n",
              "├─────────────────────┼───────────────────┼────────────┼───────────────────┤\n",
              "│ concatenate_7       │ (\u001b[38;5;45mNone\u001b[0m, \u001b[38;5;34m59\u001b[0m, \u001b[38;5;34m512\u001b[0m)   │          \u001b[38;5;34m0\u001b[0m │ lstm_9[\u001b[38;5;34m0\u001b[0m][\u001b[38;5;34m0\u001b[0m],     │\n",
              "│ (\u001b[38;5;33mConcatenate\u001b[0m)       │                   │            │ attention_layer_… │\n",
              "├─────────────────────┼───────────────────┼────────────┼───────────────────┤\n",
              "│ time_distributed_4  │ (\u001b[38;5;45mNone\u001b[0m, \u001b[38;5;34m59\u001b[0m, \u001b[38;5;34m4949\u001b[0m)  │  \u001b[38;5;34m2,538,837\u001b[0m │ concatenate_7[\u001b[38;5;34m0\u001b[0m]… │\n",
              "│ (\u001b[38;5;33mTimeDistributed\u001b[0m)   │                   │            │                   │\n",
              "└─────────────────────┴───────────────────┴────────────┴───────────────────┘\n"
            ],
            "text/html": [
              "<pre style=\"white-space:pre;overflow-x:auto;line-height:normal;font-family:Menlo,'DejaVu Sans Mono',consolas,'Courier New',monospace\">┏━━━━━━━━━━━━━━━━━━━━━┳━━━━━━━━━━━━━━━━━━━┳━━━━━━━━━━━━┳━━━━━━━━━━━━━━━━━━━┓\n",
              "┃<span style=\"font-weight: bold\"> Layer (type)        </span>┃<span style=\"font-weight: bold\"> Output Shape      </span>┃<span style=\"font-weight: bold\">    Param # </span>┃<span style=\"font-weight: bold\"> Connected to      </span>┃\n",
              "┡━━━━━━━━━━━━━━━━━━━━━╇━━━━━━━━━━━━━━━━━━━╇━━━━━━━━━━━━╇━━━━━━━━━━━━━━━━━━━┩\n",
              "│ input_layer_17      │ (<span style=\"color: #00d7ff; text-decoration-color: #00d7ff\">None</span>, <span style=\"color: #00af00; text-decoration-color: #00af00\">59</span>)        │          <span style=\"color: #00af00; text-decoration-color: #00af00\">0</span> │ -                 │\n",
              "│ (<span style=\"color: #0087ff; text-decoration-color: #0087ff\">InputLayer</span>)        │                   │            │                   │\n",
              "├─────────────────────┼───────────────────┼────────────┼───────────────────┤\n",
              "│ input_layer_18      │ (<span style=\"color: #00d7ff; text-decoration-color: #00d7ff\">None</span>, <span style=\"color: #00af00; text-decoration-color: #00af00\">59</span>)        │          <span style=\"color: #00af00; text-decoration-color: #00af00\">0</span> │ -                 │\n",
              "│ (<span style=\"color: #0087ff; text-decoration-color: #0087ff\">InputLayer</span>)        │                   │            │                   │\n",
              "├─────────────────────┼───────────────────┼────────────┼───────────────────┤\n",
              "│ embedding_8         │ (<span style=\"color: #00d7ff; text-decoration-color: #00d7ff\">None</span>, <span style=\"color: #00af00; text-decoration-color: #00af00\">59</span>, <span style=\"color: #00af00; text-decoration-color: #00af00\">256</span>)   │  <span style=\"color: #00af00; text-decoration-color: #00af00\">1,266,944</span> │ input_layer_17[<span style=\"color: #00af00; text-decoration-color: #00af00\">0</span>… │\n",
              "│ (<span style=\"color: #0087ff; text-decoration-color: #0087ff\">Embedding</span>)         │                   │            │                   │\n",
              "├─────────────────────┼───────────────────┼────────────┼───────────────────┤\n",
              "│ embedding_9         │ (<span style=\"color: #00d7ff; text-decoration-color: #00d7ff\">None</span>, <span style=\"color: #00af00; text-decoration-color: #00af00\">59</span>, <span style=\"color: #00af00; text-decoration-color: #00af00\">256</span>)   │  <span style=\"color: #00af00; text-decoration-color: #00af00\">1,266,944</span> │ input_layer_18[<span style=\"color: #00af00; text-decoration-color: #00af00\">0</span>… │\n",
              "│ (<span style=\"color: #0087ff; text-decoration-color: #0087ff\">Embedding</span>)         │                   │            │                   │\n",
              "├─────────────────────┼───────────────────┼────────────┼───────────────────┤\n",
              "│ lstm_8 (<span style=\"color: #0087ff; text-decoration-color: #0087ff\">LSTM</span>)       │ [(<span style=\"color: #00d7ff; text-decoration-color: #00d7ff\">None</span>, <span style=\"color: #00af00; text-decoration-color: #00af00\">59</span>, <span style=\"color: #00af00; text-decoration-color: #00af00\">256</span>), │    <span style=\"color: #00af00; text-decoration-color: #00af00\">525,312</span> │ embedding_8[<span style=\"color: #00af00; text-decoration-color: #00af00\">0</span>][<span style=\"color: #00af00; text-decoration-color: #00af00\">0</span>] │\n",
              "│                     │ (<span style=\"color: #00d7ff; text-decoration-color: #00d7ff\">None</span>, <span style=\"color: #00af00; text-decoration-color: #00af00\">256</span>),      │            │                   │\n",
              "│                     │ (<span style=\"color: #00d7ff; text-decoration-color: #00d7ff\">None</span>, <span style=\"color: #00af00; text-decoration-color: #00af00\">256</span>)]      │            │                   │\n",
              "├─────────────────────┼───────────────────┼────────────┼───────────────────┤\n",
              "│ lstm_9 (<span style=\"color: #0087ff; text-decoration-color: #0087ff\">LSTM</span>)       │ [(<span style=\"color: #00d7ff; text-decoration-color: #00d7ff\">None</span>, <span style=\"color: #00af00; text-decoration-color: #00af00\">59</span>, <span style=\"color: #00af00; text-decoration-color: #00af00\">256</span>), │    <span style=\"color: #00af00; text-decoration-color: #00af00\">525,312</span> │ embedding_9[<span style=\"color: #00af00; text-decoration-color: #00af00\">0</span>][<span style=\"color: #00af00; text-decoration-color: #00af00\">0</span>… │\n",
              "│                     │ (<span style=\"color: #00d7ff; text-decoration-color: #00d7ff\">None</span>, <span style=\"color: #00af00; text-decoration-color: #00af00\">256</span>),      │            │ lstm_8[<span style=\"color: #00af00; text-decoration-color: #00af00\">0</span>][<span style=\"color: #00af00; text-decoration-color: #00af00\">1</span>],     │\n",
              "│                     │ (<span style=\"color: #00d7ff; text-decoration-color: #00d7ff\">None</span>, <span style=\"color: #00af00; text-decoration-color: #00af00\">256</span>)]      │            │ lstm_8[<span style=\"color: #00af00; text-decoration-color: #00af00\">0</span>][<span style=\"color: #00af00; text-decoration-color: #00af00\">2</span>]      │\n",
              "├─────────────────────┼───────────────────┼────────────┼───────────────────┤\n",
              "│ attention_layer_4   │ [(<span style=\"color: #00d7ff; text-decoration-color: #00d7ff\">None</span>, <span style=\"color: #00af00; text-decoration-color: #00af00\">59</span>, <span style=\"color: #00af00; text-decoration-color: #00af00\">256</span>), │    <span style=\"color: #00af00; text-decoration-color: #00af00\">131,328</span> │ lstm_8[<span style=\"color: #00af00; text-decoration-color: #00af00\">0</span>][<span style=\"color: #00af00; text-decoration-color: #00af00\">0</span>],     │\n",
              "│ (<span style=\"color: #0087ff; text-decoration-color: #0087ff\">AttentionLayer</span>)    │ (<span style=\"color: #00d7ff; text-decoration-color: #00d7ff\">None</span>, <span style=\"color: #00af00; text-decoration-color: #00af00\">59</span>, <span style=\"color: #00af00; text-decoration-color: #00af00\">59</span>)]   │            │ lstm_9[<span style=\"color: #00af00; text-decoration-color: #00af00\">0</span>][<span style=\"color: #00af00; text-decoration-color: #00af00\">0</span>]      │\n",
              "├─────────────────────┼───────────────────┼────────────┼───────────────────┤\n",
              "│ concatenate_7       │ (<span style=\"color: #00d7ff; text-decoration-color: #00d7ff\">None</span>, <span style=\"color: #00af00; text-decoration-color: #00af00\">59</span>, <span style=\"color: #00af00; text-decoration-color: #00af00\">512</span>)   │          <span style=\"color: #00af00; text-decoration-color: #00af00\">0</span> │ lstm_9[<span style=\"color: #00af00; text-decoration-color: #00af00\">0</span>][<span style=\"color: #00af00; text-decoration-color: #00af00\">0</span>],     │\n",
              "│ (<span style=\"color: #0087ff; text-decoration-color: #0087ff\">Concatenate</span>)       │                   │            │ attention_layer_… │\n",
              "├─────────────────────┼───────────────────┼────────────┼───────────────────┤\n",
              "│ time_distributed_4  │ (<span style=\"color: #00d7ff; text-decoration-color: #00d7ff\">None</span>, <span style=\"color: #00af00; text-decoration-color: #00af00\">59</span>, <span style=\"color: #00af00; text-decoration-color: #00af00\">4949</span>)  │  <span style=\"color: #00af00; text-decoration-color: #00af00\">2,538,837</span> │ concatenate_7[<span style=\"color: #00af00; text-decoration-color: #00af00\">0</span>]… │\n",
              "│ (<span style=\"color: #0087ff; text-decoration-color: #0087ff\">TimeDistributed</span>)   │                   │            │                   │\n",
              "└─────────────────────┴───────────────────┴────────────┴───────────────────┘\n",
              "</pre>\n"
            ]
          },
          "metadata": {}
        },
        {
          "output_type": "display_data",
          "data": {
            "text/plain": [
              "\u001b[1m Total params: \u001b[0m\u001b[38;5;34m6,254,677\u001b[0m (23.86 MB)\n"
            ],
            "text/html": [
              "<pre style=\"white-space:pre;overflow-x:auto;line-height:normal;font-family:Menlo,'DejaVu Sans Mono',consolas,'Courier New',monospace\"><span style=\"font-weight: bold\"> Total params: </span><span style=\"color: #00af00; text-decoration-color: #00af00\">6,254,677</span> (23.86 MB)\n",
              "</pre>\n"
            ]
          },
          "metadata": {}
        },
        {
          "output_type": "display_data",
          "data": {
            "text/plain": [
              "\u001b[1m Trainable params: \u001b[0m\u001b[38;5;34m6,254,677\u001b[0m (23.86 MB)\n"
            ],
            "text/html": [
              "<pre style=\"white-space:pre;overflow-x:auto;line-height:normal;font-family:Menlo,'DejaVu Sans Mono',consolas,'Courier New',monospace\"><span style=\"font-weight: bold\"> Trainable params: </span><span style=\"color: #00af00; text-decoration-color: #00af00\">6,254,677</span> (23.86 MB)\n",
              "</pre>\n"
            ]
          },
          "metadata": {}
        },
        {
          "output_type": "display_data",
          "data": {
            "text/plain": [
              "\u001b[1m Non-trainable params: \u001b[0m\u001b[38;5;34m0\u001b[0m (0.00 B)\n"
            ],
            "text/html": [
              "<pre style=\"white-space:pre;overflow-x:auto;line-height:normal;font-family:Menlo,'DejaVu Sans Mono',consolas,'Courier New',monospace\"><span style=\"font-weight: bold\"> Non-trainable params: </span><span style=\"color: #00af00; text-decoration-color: #00af00\">0</span> (0.00 B)\n",
              "</pre>\n"
            ]
          },
          "metadata": {}
        }
      ],
      "execution_count": 92
    },
    {
      "cell_type": "code",
      "source": [
        "# Training with Early Stopping\n",
        "epochs = 50\n",
        "batch_size = 64\n",
        "es = EarlyStopping(monitor='val_loss', mode='max', verbose=1, patience=5, restore_best_weights=True)\n",
        "fear_history = fear_model.fit(\n",
        "    [fear_encoder_input_train, fear_decoder_input_train],\n",
        "    fear_decoder_target_train,\n",
        "    batch_size=batch_size,\n",
        "    epochs=epochs,\n",
        "    validation_data=([fear_encoder_input_val, fear_decoder_input_val], fear_decoder_target_val),\n",
        "    callbacks=[es]\n",
        ")"
      ],
      "metadata": {
        "trusted": true,
        "execution": {
          "iopub.status.busy": "2025-05-14T10:40:55.944642Z",
          "iopub.execute_input": "2025-05-14T10:40:55.944888Z",
          "iopub.status.idle": "2025-05-14T10:41:39.464926Z",
          "shell.execute_reply.started": "2025-05-14T10:40:55.944872Z",
          "shell.execute_reply": "2025-05-14T10:41:39.464173Z"
        },
        "colab": {
          "base_uri": "https://localhost:8080/"
        },
        "id": "EcUO0W0DPuFM",
        "outputId": "9f6761ec-293e-4df0-f2ad-539b162c135f"
      },
      "outputs": [
        {
          "output_type": "stream",
          "name": "stdout",
          "text": [
            "Epoch 1/50\n",
            "\u001b[1m30/30\u001b[0m \u001b[32m━━━━━━━━━━━━━━━━━━━━\u001b[0m\u001b[37m\u001b[0m \u001b[1m14s\u001b[0m 243ms/step - accuracy: 0.5853 - loss: 5.0959 - val_accuracy: 0.6556 - val_loss: 2.2071\n",
            "Epoch 2/50\n",
            "\u001b[1m30/30\u001b[0m \u001b[32m━━━━━━━━━━━━━━━━━━━━\u001b[0m\u001b[37m\u001b[0m \u001b[1m8s\u001b[0m 185ms/step - accuracy: 0.6656 - loss: 2.0957 - val_accuracy: 0.6689 - val_loss: 2.1277\n",
            "Epoch 3/50\n",
            "\u001b[1m30/30\u001b[0m \u001b[32m━━━━━━━━━━━━━━━━━━━━\u001b[0m\u001b[37m\u001b[0m \u001b[1m5s\u001b[0m 179ms/step - accuracy: 0.6853 - loss: 2.0135 - val_accuracy: 0.6798 - val_loss: 2.1058\n",
            "Epoch 4/50\n",
            "\u001b[1m30/30\u001b[0m \u001b[32m━━━━━━━━━━━━━━━━━━━━\u001b[0m\u001b[37m\u001b[0m \u001b[1m5s\u001b[0m 182ms/step - accuracy: 0.6971 - loss: 1.9155 - val_accuracy: 0.6807 - val_loss: 2.0829\n",
            "Epoch 5/50\n",
            "\u001b[1m30/30\u001b[0m \u001b[32m━━━━━━━━━━━━━━━━━━━━\u001b[0m\u001b[37m\u001b[0m \u001b[1m6s\u001b[0m 208ms/step - accuracy: 0.6920 - loss: 1.9275 - val_accuracy: 0.6830 - val_loss: 2.0479\n",
            "Epoch 6/50\n",
            "\u001b[1m30/30\u001b[0m \u001b[32m━━━━━━━━━━━━━━━━━━━━\u001b[0m\u001b[37m\u001b[0m \u001b[1m10s\u001b[0m 201ms/step - accuracy: 0.6992 - loss: 1.8591 - val_accuracy: 0.6870 - val_loss: 2.0131\n",
            "Epoch 6: early stopping\n",
            "Restoring model weights from the end of the best epoch: 1.\n"
          ]
        }
      ],
      "execution_count": 93
    },
    {
      "cell_type": "code",
      "source": [
        "# Extract training history\n",
        "fear_loss = fear_history.history['loss']\n",
        "fear_val_loss = fear_history.history['val_loss']\n",
        "fear_accuracy = fear_history.history['accuracy']\n",
        "fear_val_accuracy = fear_history.history['val_accuracy']\n",
        "\n",
        "# Create subplots\n",
        "plt.figure(figsize=(12, 5))\n",
        "\n",
        "# Plot Loss\n",
        "plt.subplot(1, 2, 1)\n",
        "plt.plot(fear_loss, label='Training Loss')\n",
        "plt.plot(fear_val_loss, label='Validation Loss')\n",
        "plt.title('fear Model - Loss')\n",
        "plt.xlabel('Epochs')\n",
        "plt.ylabel('Loss')\n",
        "plt.legend()\n",
        "\n",
        "# Plot Accuracy\n",
        "plt.subplot(1, 2, 2)\n",
        "plt.plot(fear_accuracy, label='Training Accuracy')\n",
        "plt.plot(fear_val_accuracy, label='Validation Accuracy')\n",
        "plt.title('fear Model - Accuracy')\n",
        "plt.xlabel('Epochs')\n",
        "plt.ylabel('Accuracy')\n",
        "plt.legend()\n",
        "\n",
        "plt.tight_layout()\n",
        "plt.show()\n"
      ],
      "metadata": {
        "trusted": true,
        "execution": {
          "iopub.status.busy": "2025-05-14T10:41:39.466374Z",
          "iopub.execute_input": "2025-05-14T10:41:39.466613Z",
          "iopub.status.idle": "2025-05-14T10:41:39.816075Z",
          "shell.execute_reply.started": "2025-05-14T10:41:39.466596Z",
          "shell.execute_reply": "2025-05-14T10:41:39.815378Z"
        },
        "colab": {
          "base_uri": "https://localhost:8080/",
          "height": 293
        },
        "id": "at7eyL7mPuFM",
        "outputId": "6cdb6cd5-fcf9-4d52-8824-0ead51b616b9"
      },
      "outputs": [
        {
          "output_type": "display_data",
          "data": {
            "text/plain": [
              "<Figure size 1200x500 with 2 Axes>"
            ],
            "image/png": "[encoded data removed]"
          },
          "metadata": {}
        }
      ],
      "execution_count": 151
    },
    {
      "cell_type": "markdown",
      "source": [
        "### Inference"
      ],
      "metadata": {
        "id": "mOa_kyaHPuFM"
      }
    },
    {
      "cell_type": "code",
      "source": [
        "\n",
        "latent_dim = 256\n",
        "\n",
        "# Encoder inference model\n",
        "fear_encoder_model = Model(inputs=fear_encoder_inputs, outputs=[fear_encoder_out, fear_state_h, fear_state_c])\n",
        "\n",
        "# Decoder inference model\n",
        "fear_decoder_state_input_h = Input(shape=(latent_dim,))\n",
        "fear_decoder_state_input_c = Input(shape=(latent_dim,))\n",
        "fear_decoder_hidden_state_input = Input(shape=(max_sentence_length - 1, latent_dim))\n",
        "\n",
        "fear_dec_emb2 = fear_dec_emb_layer(fear_decoder_inputs)\n",
        "\n",
        "fear_decoder_outputs2, state_h2, state_c2 = fear_decoder_lstm(fear_dec_emb2, initial_state=[fear_decoder_state_input_h, fear_decoder_state_input_c])\n",
        "\n",
        "fear_attn_out_inf, _ = fear_attn_layer([fear_decoder_hidden_state_input,fear_decoder_outputs2])\n",
        "fear_decoder_inf_concat = Concatenate(axis=-1)([fear_decoder_outputs2, fear_attn_out_inf])\n",
        "\n",
        "fear_decoder_outputs2 = fear_decoder_dense(fear_decoder_inf_concat)\n",
        "\n",
        "fear_decoder_model = Model(\n",
        "    [fear_decoder_inputs, fear_decoder_hidden_state_input, fear_decoder_state_input_h, fear_decoder_state_input_c],\n",
        "    [fear_decoder_outputs2, state_h2, state_c2]\n",
        ")\n",
        "\n"
      ],
      "metadata": {
        "trusted": true,
        "execution": {
          "iopub.status.busy": "2025-05-14T10:41:39.816878Z",
          "iopub.execute_input": "2025-05-14T10:41:39.817134Z",
          "iopub.status.idle": "2025-05-14T10:41:39.829638Z",
          "shell.execute_reply.started": "2025-05-14T10:41:39.817111Z",
          "shell.execute_reply": "2025-05-14T10:41:39.829111Z"
        },
        "id": "2-aIZ8rRPuFN"
      },
      "outputs": [],
      "execution_count": 152
    },
    {
      "cell_type": "markdown",
      "source": [
        "### Generate text function for fear"
      ],
      "metadata": {
        "id": "9VNNhmw2PuFN"
      }
    },
    {
      "cell_type": "code",
      "source": [
        "\n",
        "def generate_text_for_fear(tokenizer, encoder_model, decoder_model, max_len=max_sentence_length-1):\n",
        "    prompt = \"Generate a tweet expressing fear\"\n",
        "\n",
        "    # Convert prompt to sequence\n",
        "    input_seq_ids = tokenizer.texts_to_sequences([prompt])[0]\n",
        "    input_seq_padded = pad_sequences([input_seq_ids], maxlen=max_len, padding='post')\n",
        "\n",
        "    # Encode prompt\n",
        "    encoder_out, state_h, state_c = encoder_model.predict(input_seq_padded, verbose=0)\n",
        "    states = [state_h, state_c]\n",
        "\n",
        "    # Initialize decoder\n",
        "    sos_token_index = tokenizer.word_index['<sos>']\n",
        "    eos_token_index = tokenizer.word_index['<eos>']\n",
        "    target_seq = np.array([[sos_token_index]])\n",
        "\n",
        "    decoded_tokens = []\n",
        "\n",
        "    for _ in range(15):\n",
        "        output_tokens, h, c = decoder_model.predict(\n",
        "            [target_seq, encoder_out, state_h, state_c], verbose=0)\n",
        "        preds = output_tokens[0, 0, :]\n",
        "        sampled_token_index = sample_with_top_p_and_temperature(preds, top_p=0.9, temperature=0.7)\n",
        "\n",
        "        if sampled_token_index == eos_token_index:\n",
        "            break\n",
        "\n",
        "        decoded_tokens.append(sampled_token_index)\n",
        "        target_seq = np.array([[sampled_token_index]])\n",
        "        state_h, state_c = h, c\n",
        "\n",
        "    sentence = tokenizer.sequences_to_texts([decoded_tokens])[0]\n",
        "    sentence = post_process_sentence(sentence)\n",
        "    sentence = correct_grammar(sentence)\n",
        "\n",
        "    # Add quality checks\n",
        "    if not sentence or len(sentence.split()) < 3:\n",
        "        return generate_text_for_fear(tokenizer, encoder_model, decoder_model, max_sentence_length)\n",
        "\n",
        "    return sentence\n"
      ],
      "metadata": {
        "trusted": true,
        "execution": {
          "iopub.status.busy": "2025-05-14T10:41:39.831139Z",
          "iopub.execute_input": "2025-05-14T10:41:39.831675Z",
          "iopub.status.idle": "2025-05-14T10:41:39.845736Z",
          "shell.execute_reply.started": "2025-05-14T10:41:39.831653Z",
          "shell.execute_reply": "2025-05-14T10:41:39.845074Z"
        },
        "id": "-Trp84H6PuFN"
      },
      "outputs": [],
      "execution_count": 153
    },
    {
      "cell_type": "code",
      "source": [
        "def generate_fear_texts(n):\n",
        "    generated = []\n",
        "    for i in range(n):\n",
        "        sentence = generate_text_for_fear(fear_tokenizer, fear_encoder_model, fear_decoder_model, max_len=max_sentence_length - 1)\n",
        "        generated.append(sentence)\n",
        "    return generated"
      ],
      "metadata": {
        "trusted": true,
        "execution": {
          "iopub.status.busy": "2025-05-14T10:41:39.846321Z",
          "iopub.execute_input": "2025-05-14T10:41:39.846580Z",
          "iopub.status.idle": "2025-05-14T10:41:39.861465Z",
          "shell.execute_reply.started": "2025-05-14T10:41:39.846555Z",
          "shell.execute_reply": "2025-05-14T10:41:39.860805Z"
        },
        "id": "htXIXaa-PuFN"
      },
      "outputs": [],
      "execution_count": 154
    },
    {
      "cell_type": "code",
      "source": [
        "fear_gentext = generate_fear_texts(10)\n",
        "fear_gentext"
      ],
      "metadata": {
        "trusted": true,
        "execution": {
          "iopub.status.busy": "2025-05-14T10:41:56.530793Z",
          "iopub.execute_input": "2025-05-14T10:41:56.531437Z",
          "iopub.status.idle": "2025-05-14T10:42:10.541132Z",
          "shell.execute_reply.started": "2025-05-14T10:41:56.531417Z",
          "shell.execute_reply": "2025-05-14T10:42:10.540360Z"
        },
        "colab": {
          "base_uri": "https://localhost:8080/"
        },
        "id": "UEYTSXNAPuFN",
        "outputId": "2effe328-1128-4f58-b964-663ea823949b"
      },
      "outputs": [
        {
          "output_type": "execute_result",
          "data": {
            "text/plain": [
              "['A feeling a bit paranoid',\n",
              " 'A feeling a bit uptight',\n",
              " 'A feeling so I suffered from nightmares',\n",
              " 'A feeling a little girl blubbering fool old girl',\n",
              " 'A feeling a little girl old',\n",
              " 'A feeling a bit skeptical',\n",
              " 'A feeling a bit tortured',\n",
              " 'A feeling so I suffered from trying to make',\n",
              " 'a feeling a bit shaken',\n",
              " 'A feeling so a bit nervous']"
            ]
          },
          "metadata": {},
          "execution_count": 155
        }
      ],
      "execution_count": 155
    },
    {
      "cell_type": "markdown",
      "source": [
        "Above are 10 synthetic tweets generated by the seq2seq model trained on the *fear* emotion. The generation uses Top-p sampling with temperature to ensure diversity and emotional relevance."
      ],
      "metadata": {
        "id": "WepTcjRH2ZGX"
      }
    },
    {
      "cell_type": "code",
      "source": [
        "fear_gentext = fear_surprise_texts(5120)\n",
        "fear_gentext"
      ],
      "metadata": {
        "trusted": true,
        "colab": {
          "base_uri": "https://localhost:8080/",
          "height": 36
        },
        "id": "-J8gSOfbPuFN",
        "outputId": "e7799332-16b9-412a-e3dc-8d103349f316"
      },
      "outputs": [
        {
          "output_type": "execute_result",
          "data": {
            "text/plain": [
              "'fear_gentext = fear_surprise_texts(5120)\\nfear_gentext'"
            ],
            "application/vnd.google.colaboratory.intrinsic+json": {
              "type": "string"
            }
          },
          "metadata": {},
          "execution_count": 99
        }
      ],
      "execution_count": 99
    },
    {
      "cell_type": "code",
      "source": [
        "fear_texts = {'text': fear_gentext, 'emotions': ['fear'] * len(fear_gentext)}\n",
        "\n",
        "# Convert to DataFrame\n",
        "df_fear_texts = pd.DataFrame(fear_texts)"
      ],
      "metadata": {
        "trusted": true,
        "colab": {
          "base_uri": "https://localhost:8080/",
          "height": 53
        },
        "id": "1X1HTnj9PuFN",
        "outputId": "ccfe673e-5ca5-47dd-cb36-bb8e42da40fc"
      },
      "outputs": [
        {
          "output_type": "execute_result",
          "data": {
            "text/plain": [
              "\"fear_texts = {'text': fear_gentext, 'emotions': ['fear'] * len(fear_gentext)}\\n\\n# Convert to DataFrame\\ndf_fear_texts = pd.DataFrame(fear_texts)\""
            ],
            "application/vnd.google.colaboratory.intrinsic+json": {
              "type": "string"
            }
          },
          "metadata": {},
          "execution_count": 100
        }
      ],
      "execution_count": 100
    },
    {
      "cell_type": "code",
      "source": [
        "df_fear_texts.to_csv('/kaggle/working/fear_texts.csv', index=False)"
      ],
      "metadata": {
        "trusted": true,
        "id": "l59o4T1sPuFN"
      },
      "outputs": [],
      "execution_count": 102
    },
    {
      "cell_type": "markdown",
      "source": [
        "## **5.Emotion-Specific Text Generation: *Anger Class***"
      ],
      "metadata": {
        "id": "OzEBPCxxPuFO"
      }
    },
    {
      "cell_type": "code",
      "source": [
        "anger_df"
      ],
      "metadata": {
        "trusted": true,
        "execution": {
          "iopub.status.busy": "2025-05-14T10:38:55.268136Z",
          "iopub.execute_input": "2025-05-14T10:38:55.268376Z",
          "iopub.status.idle": "2025-05-14T10:38:55.276984Z",
          "shell.execute_reply.started": "2025-05-14T10:38:55.268358Z",
          "shell.execute_reply": "2025-05-14T10:38:55.276087Z"
        },
        "colab": {
          "base_uri": "https://localhost:8080/",
          "height": 423
        },
        "id": "gl7Ji9qZPuFO",
        "outputId": "6314db9f-77af-4f38-f576-e551c8f9c495"
      },
      "outputs": [
        {
          "output_type": "execute_result",
          "data": {
            "text/plain": [
              "      emotions                                               Text\n",
              "2        anger  <sos> im grabbing a minute to post i feel gree...\n",
              "4        anger                   <sos> i am feeling grouchy <eos>\n",
              "12       anger  <sos> i think it s the easiest time of year to...\n",
              "20       anger  <sos> i feel irritated and rejected without an...\n",
              "24       anger  <sos> i already feel like i fucked up though b...\n",
              "...        ...                                                ...\n",
              "19984    anger  <sos> i came out of the airport that makes me ...\n",
              "19992    anger  <sos> i feel tortured delilahlwl am considerin...\n",
              "19993    anger  <sos> i told my fiance how i am feeling so ang...\n",
              "19995    anger  <sos> i just keep feeling like someone is bein...\n",
              "19996    anger  <sos> im feeling a little cranky negative afte...\n",
              "\n",
              "[2709 rows x 2 columns]"
            ],
            "text/html": [
              "\n",
              "  <div id=\"df-0cde16d3-b912-44cc-8640-070b898cca0c\" class=\"colab-df-container\">\n",
              "    <div>\n",
              "<style scoped>\n",
              "    .dataframe tbody tr th:only-of-type {\n",
              "        vertical-align: middle;\n",
              "    }\n",
              "\n",
              "    .dataframe tbody tr th {\n",
              "        vertical-align: top;\n",
              "    }\n",
              "\n",
              "    .dataframe thead th {\n",
              "        text-align: right;\n",
              "    }\n",
              "</style>\n",
              "<table border=\"1\" class=\"dataframe\">\n",
              "  <thead>\n",
              "    <tr style=\"text-align: right;\">\n",
              "      <th></th>\n",
              "      <th>emotions</th>\n",
              "      <th>Text</th>\n",
              "    </tr>\n",
              "  </thead>\n",
              "  <tbody>\n",
              "    <tr>\n",
              "      <th>2</th>\n",
              "      <td>anger</td>\n",
              "      <td>&lt;sos&gt; im grabbing a minute to post i feel gree...</td>\n",
              "    </tr>\n",
              "    <tr>\n",
              "      <th>4</th>\n",
              "      <td>anger</td>\n",
              "      <td>&lt;sos&gt; i am feeling grouchy &lt;eos&gt;</td>\n",
              "    </tr>\n",
              "    <tr>\n",
              "      <th>12</th>\n",
              "      <td>anger</td>\n",
              "      <td>&lt;sos&gt; i think it s the easiest time of year to...</td>\n",
              "    </tr>\n",
              "    <tr>\n",
              "      <th>20</th>\n",
              "      <td>anger</td>\n",
              "      <td>&lt;sos&gt; i feel irritated and rejected without an...</td>\n",
              "    </tr>\n",
              "    <tr>\n",
              "      <th>24</th>\n",
              "      <td>anger</td>\n",
              "      <td>&lt;sos&gt; i already feel like i fucked up though b...</td>\n",
              "    </tr>\n",
              "    <tr>\n",
              "      <th>...</th>\n",
              "      <td>...</td>\n",
              "      <td>...</td>\n",
              "    </tr>\n",
              "    <tr>\n",
              "      <th>19984</th>\n",
              "      <td>anger</td>\n",
              "      <td>&lt;sos&gt; i came out of the airport that makes me ...</td>\n",
              "    </tr>\n",
              "    <tr>\n",
              "      <th>19992</th>\n",
              "      <td>anger</td>\n",
              "      <td>&lt;sos&gt; i feel tortured delilahlwl am considerin...</td>\n",
              "    </tr>\n",
              "    <tr>\n",
              "      <th>19993</th>\n",
              "      <td>anger</td>\n",
              "      <td>&lt;sos&gt; i told my fiance how i am feeling so ang...</td>\n",
              "    </tr>\n",
              "    <tr>\n",
              "      <th>19995</th>\n",
              "      <td>anger</td>\n",
              "      <td>&lt;sos&gt; i just keep feeling like someone is bein...</td>\n",
              "    </tr>\n",
              "    <tr>\n",
              "      <th>19996</th>\n",
              "      <td>anger</td>\n",
              "      <td>&lt;sos&gt; im feeling a little cranky negative afte...</td>\n",
              "    </tr>\n",
              "  </tbody>\n",
              "</table>\n",
              "<p>2709 rows × 2 columns</p>\n",
              "</div>\n",
              "    <div class=\"colab-df-buttons\">\n",
              "\n",
              "  <div class=\"colab-df-container\">\n",
              "    <button class=\"colab-df-convert\" onclick=\"convertToInteractive('df-0cde16d3-b912-44cc-8640-070b898cca0c')\"\n",
              "            title=\"Convert this dataframe to an interactive table.\"\n",
              "            style=\"display:none;\">\n",
              "\n",
              "  <svg xmlns=\"http://www.w3.org/2000/svg\" height=\"24px\" viewBox=\"0 -960 960 960\">\n",
              "    <path d=\"M120-120v-720h720v720H120Zm60-500h600v-160H180v160Zm220 220h160v-160H400v160Zm0 220h160v-160H400v160ZM180-400h160v-160H180v160Zm440 0h160v-160H620v160ZM180-180h160v-160H180v160Zm440 0h160v-160H620v160Z\"/>\n",
              "  </svg>\n",
              "    </button>\n",
              "\n",
              "  <style>\n",
              "    .colab-df-container {\n",
              "      display:flex;\n",
              "      gap: 12px;\n",
              "    }\n",
              "\n",
              "    .colab-df-convert {\n",
              "      background-color: #E8F0FE;\n",
              "      border: none;\n",
              "      border-radius: 50%;\n",
              "      cursor: pointer;\n",
              "      display: none;\n",
              "      fill: #1967D2;\n",
              "      height: 32px;\n",
              "      padding: 0 0 0 0;\n",
              "      width: 32px;\n",
              "    }\n",
              "\n",
              "    .colab-df-convert:hover {\n",
              "      background-color: #E2EBFA;\n",
              "      box-shadow: 0px 1px 2px rgba(60, 64, 67, 0.3), 0px 1px 3px 1px rgba(60, 64, 67, 0.15);\n",
              "      fill: #174EA6;\n",
              "    }\n",
              "\n",
              "    .colab-df-buttons div {\n",
              "      margin-bottom: 4px;\n",
              "    }\n",
              "\n",
              "    [theme=dark] .colab-df-convert {\n",
              "      background-color: #3B4455;\n",
              "      fill: #D2E3FC;\n",
              "    }\n",
              "\n",
              "    [theme=dark] .colab-df-convert:hover {\n",
              "      background-color: #434B5C;\n",
              "      box-shadow: 0px 1px 3px 1px rgba(0, 0, 0, 0.15);\n",
              "      filter: drop-shadow(0px 1px 2px rgba(0, 0, 0, 0.3));\n",
              "      fill: #FFFFFF;\n",
              "    }\n",
              "  </style>\n",
              "\n",
              "    <script>\n",
              "      const buttonEl =\n",
              "        document.querySelector('#df-0cde16d3-b912-44cc-8640-070b898cca0c button.colab-df-convert');\n",
              "      buttonEl.style.display =\n",
              "        google.colab.kernel.accessAllowed ? 'block' : 'none';\n",
              "\n",
              "      async function convertToInteractive(key) {\n",
              "        const element = document.querySelector('#df-0cde16d3-b912-44cc-8640-070b898cca0c');\n",
              "        const dataTable =\n",
              "          await google.colab.kernel.invokeFunction('convertToInteractive',\n",
              "                                                    [key], {});\n",
              "        if (!dataTable) return;\n",
              "\n",
              "        const docLinkHtml = 'Like what you see? Visit the ' +\n",
              "          '<a target=\"_blank\" href=https://colab.research.google.com/notebooks/data_table.ipynb>data table notebook</a>'\n",
              "          + ' to learn more about interactive tables.';\n",
              "        element.innerHTML = '';\n",
              "        dataTable['output_type'] = 'display_data';\n",
              "        await google.colab.output.renderOutput(dataTable, element);\n",
              "        const docLink = document.createElement('div');\n",
              "        docLink.innerHTML = docLinkHtml;\n",
              "        element.appendChild(docLink);\n",
              "      }\n",
              "    </script>\n",
              "  </div>\n",
              "\n",
              "\n",
              "    <div id=\"df-0fb870f1-10ad-425b-a581-03fe2a338631\">\n",
              "      <button class=\"colab-df-quickchart\" onclick=\"quickchart('df-0fb870f1-10ad-425b-a581-03fe2a338631')\"\n",
              "                title=\"Suggest charts\"\n",
              "                style=\"display:none;\">\n",
              "\n",
              "<svg xmlns=\"http://www.w3.org/2000/svg\" height=\"24px\"viewBox=\"0 0 24 24\"\n",
              "     width=\"24px\">\n",
              "    <g>\n",
              "        <path d=\"M19 3H5c-1.1 0-2 .9-2 2v14c0 1.1.9 2 2 2h14c1.1 0 2-.9 2-2V5c0-1.1-.9-2-2-2zM9 17H7v-7h2v7zm4 0h-2V7h2v10zm4 0h-2v-4h2v4z\"/>\n",
              "    </g>\n",
              "</svg>\n",
              "      </button>\n",
              "\n",
              "<style>\n",
              "  .colab-df-quickchart {\n",
              "      --bg-color: #E8F0FE;\n",
              "      --fill-color: #1967D2;\n",
              "      --hover-bg-color: #E2EBFA;\n",
              "      --hover-fill-color: #174EA6;\n",
              "      --disabled-fill-color: #AAA;\n",
              "      --disabled-bg-color: #DDD;\n",
              "  }\n",
              "\n",
              "  [theme=dark] .colab-df-quickchart {\n",
              "      --bg-color: #3B4455;\n",
              "      --fill-color: #D2E3FC;\n",
              "      --hover-bg-color: #434B5C;\n",
              "      --hover-fill-color: #FFFFFF;\n",
              "      --disabled-bg-color: #3B4455;\n",
              "      --disabled-fill-color: #666;\n",
              "  }\n",
              "\n",
              "  .colab-df-quickchart {\n",
              "    background-color: var(--bg-color);\n",
              "    border: none;\n",
              "    border-radius: 50%;\n",
              "    cursor: pointer;\n",
              "    display: none;\n",
              "    fill: var(--fill-color);\n",
              "    height: 32px;\n",
              "    padding: 0;\n",
              "    width: 32px;\n",
              "  }\n",
              "\n",
              "  .colab-df-quickchart:hover {\n",
              "    background-color: var(--hover-bg-color);\n",
              "    box-shadow: 0 1px 2px rgba(60, 64, 67, 0.3), 0 1px 3px 1px rgba(60, 64, 67, 0.15);\n",
              "    fill: var(--button-hover-fill-color);\n",
              "  }\n",
              "\n",
              "  .colab-df-quickchart-complete:disabled,\n",
              "  .colab-df-quickchart-complete:disabled:hover {\n",
              "    background-color: var(--disabled-bg-color);\n",
              "    fill: var(--disabled-fill-color);\n",
              "    box-shadow: none;\n",
              "  }\n",
              "\n",
              "  .colab-df-spinner {\n",
              "    border: 2px solid var(--fill-color);\n",
              "    border-color: transparent;\n",
              "    border-bottom-color: var(--fill-color);\n",
              "    animation:\n",
              "      spin 1s steps(1) infinite;\n",
              "  }\n",
              "\n",
              "  @keyframes spin {\n",
              "    0% {\n",
              "      border-color: transparent;\n",
              "      border-bottom-color: var(--fill-color);\n",
              "      border-left-color: var(--fill-color);\n",
              "    }\n",
              "    20% {\n",
              "      border-color: transparent;\n",
              "      border-left-color: var(--fill-color);\n",
              "      border-top-color: var(--fill-color);\n",
              "    }\n",
              "    30% {\n",
              "      border-color: transparent;\n",
              "      border-left-color: var(--fill-color);\n",
              "      border-top-color: var(--fill-color);\n",
              "      border-right-color: var(--fill-color);\n",
              "    }\n",
              "    40% {\n",
              "      border-color: transparent;\n",
              "      border-right-color: var(--fill-color);\n",
              "      border-top-color: var(--fill-color);\n",
              "    }\n",
              "    60% {\n",
              "      border-color: transparent;\n",
              "      border-right-color: var(--fill-color);\n",
              "    }\n",
              "    80% {\n",
              "      border-color: transparent;\n",
              "      border-right-color: var(--fill-color);\n",
              "      border-bottom-color: var(--fill-color);\n",
              "    }\n",
              "    90% {\n",
              "      border-color: transparent;\n",
              "      border-bottom-color: var(--fill-color);\n",
              "    }\n",
              "  }\n",
              "</style>\n",
              "\n",
              "      <script>\n",
              "        async function quickchart(key) {\n",
              "          const quickchartButtonEl =\n",
              "            document.querySelector('#' + key + ' button');\n",
              "          quickchartButtonEl.disabled = true;  // To prevent multiple clicks.\n",
              "          quickchartButtonEl.classList.add('colab-df-spinner');\n",
              "          try {\n",
              "            const charts = await google.colab.kernel.invokeFunction(\n",
              "                'suggestCharts', [key], {});\n",
              "          } catch (error) {\n",
              "            console.error('Error during call to suggestCharts:', error);\n",
              "          }\n",
              "          quickchartButtonEl.classList.remove('colab-df-spinner');\n",
              "          quickchartButtonEl.classList.add('colab-df-quickchart-complete');\n",
              "        }\n",
              "        (() => {\n",
              "          let quickchartButtonEl =\n",
              "            document.querySelector('#df-0fb870f1-10ad-425b-a581-03fe2a338631 button');\n",
              "          quickchartButtonEl.style.display =\n",
              "            google.colab.kernel.accessAllowed ? 'block' : 'none';\n",
              "        })();\n",
              "      </script>\n",
              "    </div>\n",
              "\n",
              "  <div id=\"id_70642d73-fddf-40bd-b403-3c943b31d6ea\">\n",
              "    <style>\n",
              "      .colab-df-generate {\n",
              "        background-color: #E8F0FE;\n",
              "        border: none;\n",
              "        border-radius: 50%;\n",
              "        cursor: pointer;\n",
              "        display: none;\n",
              "        fill: #1967D2;\n",
              "        height: 32px;\n",
              "        padding: 0 0 0 0;\n",
              "        width: 32px;\n",
              "      }\n",
              "\n",
              "      .colab-df-generate:hover {\n",
              "        background-color: #E2EBFA;\n",
              "        box-shadow: 0px 1px 2px rgba(60, 64, 67, 0.3), 0px 1px 3px 1px rgba(60, 64, 67, 0.15);\n",
              "        fill: #174EA6;\n",
              "      }\n",
              "\n",
              "      [theme=dark] .colab-df-generate {\n",
              "        background-color: #3B4455;\n",
              "        fill: #D2E3FC;\n",
              "      }\n",
              "\n",
              "      [theme=dark] .colab-df-generate:hover {\n",
              "        background-color: #434B5C;\n",
              "        box-shadow: 0px 1px 3px 1px rgba(0, 0, 0, 0.15);\n",
              "        filter: drop-shadow(0px 1px 2px rgba(0, 0, 0, 0.3));\n",
              "        fill: #FFFFFF;\n",
              "      }\n",
              "    </style>\n",
              "    <button class=\"colab-df-generate\" onclick=\"generateWithVariable('anger_df')\"\n",
              "            title=\"Generate code using this dataframe.\"\n",
              "            style=\"display:none;\">\n",
              "\n",
              "  <svg xmlns=\"http://www.w3.org/2000/svg\" height=\"24px\"viewBox=\"0 0 24 24\"\n",
              "       width=\"24px\">\n",
              "    <path d=\"M7,19H8.4L18.45,9,17,7.55,7,17.6ZM5,21V16.75L18.45,3.32a2,2,0,0,1,2.83,0l1.4,1.43a1.91,1.91,0,0,1,.58,1.4,1.91,1.91,0,0,1-.58,1.4L9.25,21ZM18.45,9,17,7.55Zm-12,3A5.31,5.31,0,0,0,4.9,8.1,5.31,5.31,0,0,0,1,6.5,5.31,5.31,0,0,0,4.9,4.9,5.31,5.31,0,0,0,6.5,1,5.31,5.31,0,0,0,8.1,4.9,5.31,5.31,0,0,0,12,6.5,5.46,5.46,0,0,0,6.5,12Z\"/>\n",
              "  </svg>\n",
              "    </button>\n",
              "    <script>\n",
              "      (() => {\n",
              "      const buttonEl =\n",
              "        document.querySelector('#id_70642d73-fddf-40bd-b403-3c943b31d6ea button.colab-df-generate');\n",
              "      buttonEl.style.display =\n",
              "        google.colab.kernel.accessAllowed ? 'block' : 'none';\n",
              "\n",
              "      buttonEl.onclick = () => {\n",
              "        google.colab.notebook.generateWithVariable('anger_df');\n",
              "      }\n",
              "      })();\n",
              "    </script>\n",
              "  </div>\n",
              "\n",
              "    </div>\n",
              "  </div>\n"
            ],
            "application/vnd.google.colaboratory.intrinsic+json": {
              "type": "dataframe",
              "variable_name": "anger_df",
              "summary": "{\n  \"name\": \"anger_df\",\n  \"rows\": 2709,\n  \"fields\": [\n    {\n      \"column\": \"emotions\",\n      \"properties\": {\n        \"dtype\": \"category\",\n        \"num_unique_values\": 1,\n        \"samples\": [\n          \"anger\"\n        ],\n        \"semantic_type\": \"\",\n        \"description\": \"\"\n      }\n    },\n    {\n      \"column\": \"Text\",\n      \"properties\": {\n        \"dtype\": \"string\",\n        \"num_unique_values\": 2709,\n        \"samples\": [\n          \"<sos> i feel so frustrated because i had a long weekday and i dont really have plenty of rest and right now he keeps on coming in the room <eos>\"\n        ],\n        \"semantic_type\": \"\",\n        \"description\": \"\"\n      }\n    }\n  ]\n}"
            }
          },
          "metadata": {},
          "execution_count": 104
        }
      ],
      "execution_count": 104
    },
    {
      "cell_type": "markdown",
      "source": [
        "### Tokenization"
      ],
      "metadata": {
        "id": "mi0NbsPvPuFO"
      }
    },
    {
      "cell_type": "code",
      "source": [
        "# let's create tokenizer for anger_df\n",
        "anger_tokenizer = Tokenizer(oov_token=\"<unk>\",filters='')\n",
        "anger_tokenizer.fit_on_texts(anger_df['Text'])\n",
        "anger_sequences = fear_tokenizer.texts_to_sequences(anger_df['Text'])"
      ],
      "metadata": {
        "trusted": true,
        "execution": {
          "iopub.status.busy": "2025-05-14T11:09:27.180811Z",
          "iopub.execute_input": "2025-05-14T11:09:27.181128Z",
          "iopub.status.idle": "2025-05-14T11:09:27.250324Z",
          "shell.execute_reply.started": "2025-05-14T11:09:27.181103Z",
          "shell.execute_reply": "2025-05-14T11:09:27.249825Z"
        },
        "id": "ySLEVrDtPuFO"
      },
      "outputs": [],
      "execution_count": 105
    },
    {
      "cell_type": "markdown",
      "source": [
        "### padding"
      ],
      "metadata": {
        "id": "6E1bziZKPuFO"
      }
    },
    {
      "cell_type": "code",
      "source": [
        "# create pad_sequence for anger_df\n",
        "\n",
        "anger_padded = pad_sequences(anger_sequences, maxlen=max_sentence_length, padding='post', truncating='post')"
      ],
      "metadata": {
        "trusted": true,
        "execution": {
          "iopub.status.busy": "2025-05-14T11:09:31.582304Z",
          "iopub.execute_input": "2025-05-14T11:09:31.583042Z",
          "iopub.status.idle": "2025-05-14T11:09:31.596015Z",
          "shell.execute_reply.started": "2025-05-14T11:09:31.583017Z",
          "shell.execute_reply": "2025-05-14T11:09:31.595252Z"
        },
        "id": "z8-S-JXuPuFO"
      },
      "outputs": [],
      "execution_count": 106
    },
    {
      "cell_type": "markdown",
      "source": [
        "### Encoder-Decoder inputs"
      ],
      "metadata": {
        "id": "AGeaZxbcPuFO"
      }
    },
    {
      "cell_type": "code",
      "source": [
        "# create sequence splitting for anger_df\n",
        "\n",
        "from sklearn.model_selection import train_test_split\n",
        "\n",
        "# Assuming love_padded is already defined as in your provided code\n",
        "anger_encoder_input_data = anger_padded[:, :-1]\n",
        "anger_decoder_input_data = anger_padded[:, 1:]\n",
        "anger_decoder_target_data = np.zeros_like(anger_decoder_input_data)\n",
        "\n",
        "\n",
        "#Shifting the decoder target data one step to the left.\n",
        "anger_decoder_target_data[:, :-1] =anger_decoder_input_data[:, 1:]\n",
        "anger_decoder_target_data[:, -1] = anger_tokenizer.word_index['<eos>']"
      ],
      "metadata": {
        "trusted": true,
        "execution": {
          "iopub.status.busy": "2025-05-14T11:09:34.461259Z",
          "iopub.execute_input": "2025-05-14T11:09:34.461560Z",
          "iopub.status.idle": "2025-05-14T11:09:34.467238Z",
          "shell.execute_reply.started": "2025-05-14T11:09:34.461521Z",
          "shell.execute_reply": "2025-05-14T11:09:34.466521Z"
        },
        "id": "TvttgC5UPuFO"
      },
      "outputs": [],
      "execution_count": 107
    },
    {
      "cell_type": "markdown",
      "source": [
        "### Train_Test_Split"
      ],
      "metadata": {
        "id": "u9Yw3k_8PuFO"
      }
    },
    {
      "cell_type": "code",
      "source": [
        "#Split data into training and validation sets.\n",
        "anger_encoder_input_train, anger_encoder_input_val, anger_decoder_input_train, anger_decoder_input_val, anger_decoder_target_train, anger_decoder_target_val = train_test_split(\n",
        "    anger_encoder_input_data,\n",
        "    anger_decoder_input_data,\n",
        "    anger_decoder_target_data,\n",
        "    test_size=0.2,  # Adjust as needed\n",
        "    random_state=1  # For reproducibility\n",
        ")"
      ],
      "metadata": {
        "trusted": true,
        "execution": {
          "iopub.status.busy": "2025-05-14T11:09:38.248940Z",
          "iopub.execute_input": "2025-05-14T11:09:38.249433Z",
          "iopub.status.idle": "2025-05-14T11:09:38.254930Z",
          "shell.execute_reply.started": "2025-05-14T11:09:38.249411Z",
          "shell.execute_reply": "2025-05-14T11:09:38.254182Z"
        },
        "id": "SN15tWljPuFO"
      },
      "outputs": [],
      "execution_count": 108
    },
    {
      "cell_type": "markdown",
      "source": [
        "### model building"
      ],
      "metadata": {
        "id": "F6_bTUWIPuFP"
      }
    },
    {
      "cell_type": "code",
      "source": [
        "vocab_size = len(anger_tokenizer.word_index) + 1\n",
        "latent_dim = 256\n",
        "\n",
        "# Encoder\n",
        "anger_encoder_inputs = Input(shape=(max_sentence_length - 1,))\n",
        "anger_enc_emb = Embedding(vocab_size, latent_dim)(anger_encoder_inputs)\n",
        "anger_encoder_lstm = LSTM(latent_dim, return_sequences=True, return_state=True)\n",
        "anger_encoder_out, anger_state_h, anger_state_c = anger_encoder_lstm(anger_enc_emb)\n",
        "anger_encoder_states = [anger_state_h, anger_state_c]\n",
        "\n",
        "# Decoder\n",
        "anger_decoder_inputs = Input(shape=(max_sentence_length - 1,))\n",
        "anger_dec_emb_layer = Embedding(vocab_size, latent_dim)\n",
        "anger_dec_emb = anger_dec_emb_layer(anger_decoder_inputs)\n",
        "anger_decoder_lstm = LSTM(latent_dim, return_sequences=True, return_state=True)\n",
        "anger_decoder_outputs,anger_decoder_h,anger_decoder_c = anger_decoder_lstm(anger_dec_emb, initial_state=anger_encoder_states)\n",
        "\n",
        "# Attention Layer\n",
        "anger_attn_layer = AttentionLayer()\n",
        "anger_attn_out, anger_attn_states = anger_attn_layer([anger_encoder_out, anger_decoder_outputs])\n",
        "anger_decoder_concat_input = Concatenate(axis=-1)([anger_decoder_outputs, anger_attn_out])\n",
        "\n",
        "# Dense layer\n",
        "anger_decoder_dense = TimeDistributed(Dense(vocab_size, activation='softmax'))\n",
        "anger_decoder_outputs = anger_decoder_dense(anger_decoder_concat_input)\n"
      ],
      "metadata": {
        "id": "nfcLpXI7msOj"
      },
      "execution_count": 156,
      "outputs": []
    },
    {
      "cell_type": "code",
      "source": [
        "# Model\n",
        "anger_model = Model([anger_encoder_inputs, anger_decoder_inputs], anger_decoder_outputs)\n",
        "anger_model.compile(optimizer='adam', loss='sparse_categorical_crossentropy', metrics=['accuracy'])\n",
        "anger_model.summary()\n"
      ],
      "metadata": {
        "colab": {
          "base_uri": "https://localhost:8080/",
          "height": 593
        },
        "id": "B72gBkrKm0p-",
        "outputId": "865b4b3e-5a62-4f0a-ae9a-8617ae86c1ad"
      },
      "execution_count": 157,
      "outputs": [
        {
          "output_type": "display_data",
          "data": {
            "text/plain": [
              "\u001b[1mModel: \"functional_32\"\u001b[0m\n"
            ],
            "text/html": [
              "<pre style=\"white-space:pre;overflow-x:auto;line-height:normal;font-family:Menlo,'DejaVu Sans Mono',consolas,'Courier New',monospace\"><span style=\"font-weight: bold\">Model: \"functional_32\"</span>\n",
              "</pre>\n"
            ]
          },
          "metadata": {}
        },
        {
          "output_type": "display_data",
          "data": {
            "text/plain": [
              "┏━━━━━━━━━━━━━━━━━━━━━┳━━━━━━━━━━━━━━━━━━━┳━━━━━━━━━━━━┳━━━━━━━━━━━━━━━━━━━┓\n",
              "┃\u001b[1m \u001b[0m\u001b[1mLayer (type)       \u001b[0m\u001b[1m \u001b[0m┃\u001b[1m \u001b[0m\u001b[1mOutput Shape     \u001b[0m\u001b[1m \u001b[0m┃\u001b[1m \u001b[0m\u001b[1m   Param #\u001b[0m\u001b[1m \u001b[0m┃\u001b[1m \u001b[0m\u001b[1mConnected to     \u001b[0m\u001b[1m \u001b[0m┃\n",
              "┡━━━━━━━━━━━━━━━━━━━━━╇━━━━━━━━━━━━━━━━━━━╇━━━━━━━━━━━━╇━━━━━━━━━━━━━━━━━━━┩\n",
              "│ input_layer_54      │ (\u001b[38;5;45mNone\u001b[0m, \u001b[38;5;34m59\u001b[0m)        │          \u001b[38;5;34m0\u001b[0m │ -                 │\n",
              "│ (\u001b[38;5;33mInputLayer\u001b[0m)        │                   │            │                   │\n",
              "├─────────────────────┼───────────────────┼────────────┼───────────────────┤\n",
              "│ input_layer_55      │ (\u001b[38;5;45mNone\u001b[0m, \u001b[38;5;34m59\u001b[0m)        │          \u001b[38;5;34m0\u001b[0m │ -                 │\n",
              "│ (\u001b[38;5;33mInputLayer\u001b[0m)        │                   │            │                   │\n",
              "├─────────────────────┼───────────────────┼────────────┼───────────────────┤\n",
              "│ embedding_30        │ (\u001b[38;5;45mNone\u001b[0m, \u001b[38;5;34m59\u001b[0m, \u001b[38;5;34m256\u001b[0m)   │  \u001b[38;5;34m1,408,768\u001b[0m │ input_layer_54[\u001b[38;5;34m0\u001b[0m… │\n",
              "│ (\u001b[38;5;33mEmbedding\u001b[0m)         │                   │            │                   │\n",
              "├─────────────────────┼───────────────────┼────────────┼───────────────────┤\n",
              "│ embedding_31        │ (\u001b[38;5;45mNone\u001b[0m, \u001b[38;5;34m59\u001b[0m, \u001b[38;5;34m256\u001b[0m)   │  \u001b[38;5;34m1,408,768\u001b[0m │ input_layer_55[\u001b[38;5;34m0\u001b[0m… │\n",
              "│ (\u001b[38;5;33mEmbedding\u001b[0m)         │                   │            │                   │\n",
              "├─────────────────────┼───────────────────┼────────────┼───────────────────┤\n",
              "│ lstm_30 (\u001b[38;5;33mLSTM\u001b[0m)      │ [(\u001b[38;5;45mNone\u001b[0m, \u001b[38;5;34m59\u001b[0m, \u001b[38;5;34m256\u001b[0m), │    \u001b[38;5;34m525,312\u001b[0m │ embedding_30[\u001b[38;5;34m0\u001b[0m][\u001b[38;5;34m…\u001b[0m │\n",
              "│                     │ (\u001b[38;5;45mNone\u001b[0m, \u001b[38;5;34m256\u001b[0m),      │            │                   │\n",
              "│                     │ (\u001b[38;5;45mNone\u001b[0m, \u001b[38;5;34m256\u001b[0m)]      │            │                   │\n",
              "├─────────────────────┼───────────────────┼────────────┼───────────────────┤\n",
              "│ lstm_31 (\u001b[38;5;33mLSTM\u001b[0m)      │ [(\u001b[38;5;45mNone\u001b[0m, \u001b[38;5;34m59\u001b[0m, \u001b[38;5;34m256\u001b[0m), │    \u001b[38;5;34m525,312\u001b[0m │ embedding_31[\u001b[38;5;34m0\u001b[0m][\u001b[38;5;34m…\u001b[0m │\n",
              "│                     │ (\u001b[38;5;45mNone\u001b[0m, \u001b[38;5;34m256\u001b[0m),      │            │ lstm_30[\u001b[38;5;34m0\u001b[0m][\u001b[38;5;34m1\u001b[0m],    │\n",
              "│                     │ (\u001b[38;5;45mNone\u001b[0m, \u001b[38;5;34m256\u001b[0m)]      │            │ lstm_30[\u001b[38;5;34m0\u001b[0m][\u001b[38;5;34m2\u001b[0m]     │\n",
              "├─────────────────────┼───────────────────┼────────────┼───────────────────┤\n",
              "│ attention_layer_15  │ [(\u001b[38;5;45mNone\u001b[0m, \u001b[38;5;34m59\u001b[0m, \u001b[38;5;34m256\u001b[0m), │    \u001b[38;5;34m131,328\u001b[0m │ lstm_30[\u001b[38;5;34m0\u001b[0m][\u001b[38;5;34m0\u001b[0m],    │\n",
              "│ (\u001b[38;5;33mAttentionLayer\u001b[0m)    │ (\u001b[38;5;45mNone\u001b[0m, \u001b[38;5;34m59\u001b[0m, \u001b[38;5;34m59\u001b[0m)]   │            │ lstm_31[\u001b[38;5;34m0\u001b[0m][\u001b[38;5;34m0\u001b[0m]     │\n",
              "├─────────────────────┼───────────────────┼────────────┼───────────────────┤\n",
              "│ concatenate_23      │ (\u001b[38;5;45mNone\u001b[0m, \u001b[38;5;34m59\u001b[0m, \u001b[38;5;34m512\u001b[0m)   │          \u001b[38;5;34m0\u001b[0m │ lstm_31[\u001b[38;5;34m0\u001b[0m][\u001b[38;5;34m0\u001b[0m],    │\n",
              "│ (\u001b[38;5;33mConcatenate\u001b[0m)       │                   │            │ attention_layer_… │\n",
              "├─────────────────────┼───────────────────┼────────────┼───────────────────┤\n",
              "│ time_distributed_15 │ (\u001b[38;5;45mNone\u001b[0m, \u001b[38;5;34m59\u001b[0m, \u001b[38;5;34m5503\u001b[0m)  │  \u001b[38;5;34m2,823,039\u001b[0m │ concatenate_23[\u001b[38;5;34m0\u001b[0m… │\n",
              "│ (\u001b[38;5;33mTimeDistributed\u001b[0m)   │                   │            │                   │\n",
              "└─────────────────────┴───────────────────┴────────────┴───────────────────┘\n"
            ],
            "text/html": [
              "<pre style=\"white-space:pre;overflow-x:auto;line-height:normal;font-family:Menlo,'DejaVu Sans Mono',consolas,'Courier New',monospace\">┏━━━━━━━━━━━━━━━━━━━━━┳━━━━━━━━━━━━━━━━━━━┳━━━━━━━━━━━━┳━━━━━━━━━━━━━━━━━━━┓\n",
              "┃<span style=\"font-weight: bold\"> Layer (type)        </span>┃<span style=\"font-weight: bold\"> Output Shape      </span>┃<span style=\"font-weight: bold\">    Param # </span>┃<span style=\"font-weight: bold\"> Connected to      </span>┃\n",
              "┡━━━━━━━━━━━━━━━━━━━━━╇━━━━━━━━━━━━━━━━━━━╇━━━━━━━━━━━━╇━━━━━━━━━━━━━━━━━━━┩\n",
              "│ input_layer_54      │ (<span style=\"color: #00d7ff; text-decoration-color: #00d7ff\">None</span>, <span style=\"color: #00af00; text-decoration-color: #00af00\">59</span>)        │          <span style=\"color: #00af00; text-decoration-color: #00af00\">0</span> │ -                 │\n",
              "│ (<span style=\"color: #0087ff; text-decoration-color: #0087ff\">InputLayer</span>)        │                   │            │                   │\n",
              "├─────────────────────┼───────────────────┼────────────┼───────────────────┤\n",
              "│ input_layer_55      │ (<span style=\"color: #00d7ff; text-decoration-color: #00d7ff\">None</span>, <span style=\"color: #00af00; text-decoration-color: #00af00\">59</span>)        │          <span style=\"color: #00af00; text-decoration-color: #00af00\">0</span> │ -                 │\n",
              "│ (<span style=\"color: #0087ff; text-decoration-color: #0087ff\">InputLayer</span>)        │                   │            │                   │\n",
              "├─────────────────────┼───────────────────┼────────────┼───────────────────┤\n",
              "│ embedding_30        │ (<span style=\"color: #00d7ff; text-decoration-color: #00d7ff\">None</span>, <span style=\"color: #00af00; text-decoration-color: #00af00\">59</span>, <span style=\"color: #00af00; text-decoration-color: #00af00\">256</span>)   │  <span style=\"color: #00af00; text-decoration-color: #00af00\">1,408,768</span> │ input_layer_54[<span style=\"color: #00af00; text-decoration-color: #00af00\">0</span>… │\n",
              "│ (<span style=\"color: #0087ff; text-decoration-color: #0087ff\">Embedding</span>)         │                   │            │                   │\n",
              "├─────────────────────┼───────────────────┼────────────┼───────────────────┤\n",
              "│ embedding_31        │ (<span style=\"color: #00d7ff; text-decoration-color: #00d7ff\">None</span>, <span style=\"color: #00af00; text-decoration-color: #00af00\">59</span>, <span style=\"color: #00af00; text-decoration-color: #00af00\">256</span>)   │  <span style=\"color: #00af00; text-decoration-color: #00af00\">1,408,768</span> │ input_layer_55[<span style=\"color: #00af00; text-decoration-color: #00af00\">0</span>… │\n",
              "│ (<span style=\"color: #0087ff; text-decoration-color: #0087ff\">Embedding</span>)         │                   │            │                   │\n",
              "├─────────────────────┼───────────────────┼────────────┼───────────────────┤\n",
              "│ lstm_30 (<span style=\"color: #0087ff; text-decoration-color: #0087ff\">LSTM</span>)      │ [(<span style=\"color: #00d7ff; text-decoration-color: #00d7ff\">None</span>, <span style=\"color: #00af00; text-decoration-color: #00af00\">59</span>, <span style=\"color: #00af00; text-decoration-color: #00af00\">256</span>), │    <span style=\"color: #00af00; text-decoration-color: #00af00\">525,312</span> │ embedding_30[<span style=\"color: #00af00; text-decoration-color: #00af00\">0</span>][<span style=\"color: #00af00; text-decoration-color: #00af00\">…</span> │\n",
              "│                     │ (<span style=\"color: #00d7ff; text-decoration-color: #00d7ff\">None</span>, <span style=\"color: #00af00; text-decoration-color: #00af00\">256</span>),      │            │                   │\n",
              "│                     │ (<span style=\"color: #00d7ff; text-decoration-color: #00d7ff\">None</span>, <span style=\"color: #00af00; text-decoration-color: #00af00\">256</span>)]      │            │                   │\n",
              "├─────────────────────┼───────────────────┼────────────┼───────────────────┤\n",
              "│ lstm_31 (<span style=\"color: #0087ff; text-decoration-color: #0087ff\">LSTM</span>)      │ [(<span style=\"color: #00d7ff; text-decoration-color: #00d7ff\">None</span>, <span style=\"color: #00af00; text-decoration-color: #00af00\">59</span>, <span style=\"color: #00af00; text-decoration-color: #00af00\">256</span>), │    <span style=\"color: #00af00; text-decoration-color: #00af00\">525,312</span> │ embedding_31[<span style=\"color: #00af00; text-decoration-color: #00af00\">0</span>][<span style=\"color: #00af00; text-decoration-color: #00af00\">…</span> │\n",
              "│                     │ (<span style=\"color: #00d7ff; text-decoration-color: #00d7ff\">None</span>, <span style=\"color: #00af00; text-decoration-color: #00af00\">256</span>),      │            │ lstm_30[<span style=\"color: #00af00; text-decoration-color: #00af00\">0</span>][<span style=\"color: #00af00; text-decoration-color: #00af00\">1</span>],    │\n",
              "│                     │ (<span style=\"color: #00d7ff; text-decoration-color: #00d7ff\">None</span>, <span style=\"color: #00af00; text-decoration-color: #00af00\">256</span>)]      │            │ lstm_30[<span style=\"color: #00af00; text-decoration-color: #00af00\">0</span>][<span style=\"color: #00af00; text-decoration-color: #00af00\">2</span>]     │\n",
              "├─────────────────────┼───────────────────┼────────────┼───────────────────┤\n",
              "│ attention_layer_15  │ [(<span style=\"color: #00d7ff; text-decoration-color: #00d7ff\">None</span>, <span style=\"color: #00af00; text-decoration-color: #00af00\">59</span>, <span style=\"color: #00af00; text-decoration-color: #00af00\">256</span>), │    <span style=\"color: #00af00; text-decoration-color: #00af00\">131,328</span> │ lstm_30[<span style=\"color: #00af00; text-decoration-color: #00af00\">0</span>][<span style=\"color: #00af00; text-decoration-color: #00af00\">0</span>],    │\n",
              "│ (<span style=\"color: #0087ff; text-decoration-color: #0087ff\">AttentionLayer</span>)    │ (<span style=\"color: #00d7ff; text-decoration-color: #00d7ff\">None</span>, <span style=\"color: #00af00; text-decoration-color: #00af00\">59</span>, <span style=\"color: #00af00; text-decoration-color: #00af00\">59</span>)]   │            │ lstm_31[<span style=\"color: #00af00; text-decoration-color: #00af00\">0</span>][<span style=\"color: #00af00; text-decoration-color: #00af00\">0</span>]     │\n",
              "├─────────────────────┼───────────────────┼────────────┼───────────────────┤\n",
              "│ concatenate_23      │ (<span style=\"color: #00d7ff; text-decoration-color: #00d7ff\">None</span>, <span style=\"color: #00af00; text-decoration-color: #00af00\">59</span>, <span style=\"color: #00af00; text-decoration-color: #00af00\">512</span>)   │          <span style=\"color: #00af00; text-decoration-color: #00af00\">0</span> │ lstm_31[<span style=\"color: #00af00; text-decoration-color: #00af00\">0</span>][<span style=\"color: #00af00; text-decoration-color: #00af00\">0</span>],    │\n",
              "│ (<span style=\"color: #0087ff; text-decoration-color: #0087ff\">Concatenate</span>)       │                   │            │ attention_layer_… │\n",
              "├─────────────────────┼───────────────────┼────────────┼───────────────────┤\n",
              "│ time_distributed_15 │ (<span style=\"color: #00d7ff; text-decoration-color: #00d7ff\">None</span>, <span style=\"color: #00af00; text-decoration-color: #00af00\">59</span>, <span style=\"color: #00af00; text-decoration-color: #00af00\">5503</span>)  │  <span style=\"color: #00af00; text-decoration-color: #00af00\">2,823,039</span> │ concatenate_23[<span style=\"color: #00af00; text-decoration-color: #00af00\">0</span>… │\n",
              "│ (<span style=\"color: #0087ff; text-decoration-color: #0087ff\">TimeDistributed</span>)   │                   │            │                   │\n",
              "└─────────────────────┴───────────────────┴────────────┴───────────────────┘\n",
              "</pre>\n"
            ]
          },
          "metadata": {}
        },
        {
          "output_type": "display_data",
          "data": {
            "text/plain": [
              "\u001b[1m Total params: \u001b[0m\u001b[38;5;34m6,822,527\u001b[0m (26.03 MB)\n"
            ],
            "text/html": [
              "<pre style=\"white-space:pre;overflow-x:auto;line-height:normal;font-family:Menlo,'DejaVu Sans Mono',consolas,'Courier New',monospace\"><span style=\"font-weight: bold\"> Total params: </span><span style=\"color: #00af00; text-decoration-color: #00af00\">6,822,527</span> (26.03 MB)\n",
              "</pre>\n"
            ]
          },
          "metadata": {}
        },
        {
          "output_type": "display_data",
          "data": {
            "text/plain": [
              "\u001b[1m Trainable params: \u001b[0m\u001b[38;5;34m6,822,527\u001b[0m (26.03 MB)\n"
            ],
            "text/html": [
              "<pre style=\"white-space:pre;overflow-x:auto;line-height:normal;font-family:Menlo,'DejaVu Sans Mono',consolas,'Courier New',monospace\"><span style=\"font-weight: bold\"> Trainable params: </span><span style=\"color: #00af00; text-decoration-color: #00af00\">6,822,527</span> (26.03 MB)\n",
              "</pre>\n"
            ]
          },
          "metadata": {}
        },
        {
          "output_type": "display_data",
          "data": {
            "text/plain": [
              "\u001b[1m Non-trainable params: \u001b[0m\u001b[38;5;34m0\u001b[0m (0.00 B)\n"
            ],
            "text/html": [
              "<pre style=\"white-space:pre;overflow-x:auto;line-height:normal;font-family:Menlo,'DejaVu Sans Mono',consolas,'Courier New',monospace\"><span style=\"font-weight: bold\"> Non-trainable params: </span><span style=\"color: #00af00; text-decoration-color: #00af00\">0</span> (0.00 B)\n",
              "</pre>\n"
            ]
          },
          "metadata": {}
        }
      ]
    },
    {
      "cell_type": "code",
      "source": [
        "# Training with Early Stopping and increased epochs for higher accuracy\n",
        "epochs = 50  # Increased epochs\n",
        "batch_size = 64\n",
        "es = EarlyStopping(monitor='val_accuracy', mode='max', verbose=1, patience=5, restore_best_weights=True)\n",
        "anger_history = anger_model.fit(\n",
        "    [anger_encoder_input_train, anger_decoder_input_train],\n",
        "    anger_decoder_target_train,\n",
        "    batch_size=batch_size,\n",
        "    epochs=epochs,\n",
        "    validation_data=([anger_encoder_input_val, anger_decoder_input_val], anger_decoder_target_val),\n",
        "    callbacks=[es]\n",
        ")"
      ],
      "metadata": {
        "colab": {
          "base_uri": "https://localhost:8080/"
        },
        "id": "a-hW5TKQm2tb",
        "outputId": "5594b919-ab7d-4967-9879-14ba43263d4d"
      },
      "execution_count": 158,
      "outputs": [
        {
          "output_type": "stream",
          "name": "stdout",
          "text": [
            "Epoch 1/50\n",
            "\u001b[1m34/34\u001b[0m \u001b[32m━━━━━━━━━━━━━━━━━━━━\u001b[0m\u001b[37m\u001b[0m \u001b[1m15s\u001b[0m 252ms/step - accuracy: 0.5842 - loss: 4.9834 - val_accuracy: 0.6580 - val_loss: 1.9859\n",
            "Epoch 2/50\n",
            "\u001b[1m34/34\u001b[0m \u001b[32m━━━━━━━━━━━━━━━━━━━━\u001b[0m\u001b[37m\u001b[0m \u001b[1m9s\u001b[0m 207ms/step - accuracy: 0.6811 - loss: 1.8878 - val_accuracy: 0.6873 - val_loss: 1.8892\n",
            "Epoch 3/50\n",
            "\u001b[1m34/34\u001b[0m \u001b[32m━━━━━━━━━━━━━━━━━━━━\u001b[0m\u001b[37m\u001b[0m \u001b[1m6s\u001b[0m 191ms/step - accuracy: 0.6949 - loss: 1.8128 - val_accuracy: 0.6899 - val_loss: 1.8572\n",
            "Epoch 4/50\n",
            "\u001b[1m34/34\u001b[0m \u001b[32m━━━━━━━━━━━━━━━━━━━━\u001b[0m\u001b[37m\u001b[0m \u001b[1m10s\u001b[0m 196ms/step - accuracy: 0.6969 - loss: 1.7871 - val_accuracy: 0.6903 - val_loss: 1.8289\n",
            "Epoch 5/50\n",
            "\u001b[1m34/34\u001b[0m \u001b[32m━━━━━━━━━━━━━━━━━━━━\u001b[0m\u001b[37m\u001b[0m \u001b[1m10s\u001b[0m 196ms/step - accuracy: 0.6970 - loss: 1.7626 - val_accuracy: 0.6979 - val_loss: 1.7944\n",
            "Epoch 6/50\n",
            "\u001b[1m34/34\u001b[0m \u001b[32m━━━━━━━━━━━━━━━━━━━━\u001b[0m\u001b[37m\u001b[0m \u001b[1m10s\u001b[0m 204ms/step - accuracy: 0.7066 - loss: 1.7227 - val_accuracy: 0.7110 - val_loss: 1.7578\n",
            "Epoch 7/50\n",
            "\u001b[1m34/34\u001b[0m \u001b[32m━━━━━━━━━━━━━━━━━━━━\u001b[0m\u001b[37m\u001b[0m \u001b[1m11s\u001b[0m 213ms/step - accuracy: 0.7148 - loss: 1.6884 - val_accuracy: 0.7077 - val_loss: 1.7280\n",
            "Epoch 8/50\n",
            "\u001b[1m34/34\u001b[0m \u001b[32m━━━━━━━━━━━━━━━━━━━━\u001b[0m\u001b[37m\u001b[0m \u001b[1m6s\u001b[0m 181ms/step - accuracy: 0.7202 - loss: 1.6308 - val_accuracy: 0.7154 - val_loss: 1.7006\n",
            "Epoch 9/50\n",
            "\u001b[1m34/34\u001b[0m \u001b[32m━━━━━━━━━━━━━━━━━━━━\u001b[0m\u001b[37m\u001b[0m \u001b[1m7s\u001b[0m 215ms/step - accuracy: 0.7308 - loss: 1.5518 - val_accuracy: 0.7196 - val_loss: 1.6657\n",
            "Epoch 10/50\n",
            "\u001b[1m34/34\u001b[0m \u001b[32m━━━━━━━━━━━━━━━━━━━━\u001b[0m\u001b[37m\u001b[0m \u001b[1m10s\u001b[0m 215ms/step - accuracy: 0.7301 - loss: 1.5585 - val_accuracy: 0.7301 - val_loss: 1.6294\n",
            "Epoch 11/50\n",
            "\u001b[1m34/34\u001b[0m \u001b[32m━━━━━━━━━━━━━━━━━━━━\u001b[0m\u001b[37m\u001b[0m \u001b[1m9s\u001b[0m 188ms/step - accuracy: 0.7359 - loss: 1.5246 - val_accuracy: 0.7340 - val_loss: 1.6067\n",
            "Epoch 12/50\n",
            "\u001b[1m34/34\u001b[0m \u001b[32m━━━━━━━━━━━━━━━━━━━━\u001b[0m\u001b[37m\u001b[0m \u001b[1m7s\u001b[0m 206ms/step - accuracy: 0.7400 - loss: 1.4836 - val_accuracy: 0.7370 - val_loss: 1.5835\n",
            "Epoch 13/50\n",
            "\u001b[1m34/34\u001b[0m \u001b[32m━━━━━━━━━━━━━━━━━━━━\u001b[0m\u001b[37m\u001b[0m \u001b[1m10s\u001b[0m 209ms/step - accuracy: 0.7505 - loss: 1.4118 - val_accuracy: 0.7388 - val_loss: 1.5637\n",
            "Epoch 14/50\n",
            "\u001b[1m34/34\u001b[0m \u001b[32m━━━━━━━━━━━━━━━━━━━━\u001b[0m\u001b[37m\u001b[0m \u001b[1m10s\u001b[0m 215ms/step - accuracy: 0.7450 - loss: 1.4262 - val_accuracy: 0.7414 - val_loss: 1.5470\n",
            "Epoch 15/50\n",
            "\u001b[1m34/34\u001b[0m \u001b[32m━━━━━━━━━━━━━━━━━━━━\u001b[0m\u001b[37m\u001b[0m \u001b[1m9s\u001b[0m 182ms/step - accuracy: 0.7510 - loss: 1.3817 - val_accuracy: 0.7414 - val_loss: 1.5434\n",
            "Epoch 16/50\n",
            "\u001b[1m34/34\u001b[0m \u001b[32m━━━━━━━━━━━━━━━━━━━━\u001b[0m\u001b[37m\u001b[0m \u001b[1m7s\u001b[0m 210ms/step - accuracy: 0.7516 - loss: 1.3608 - val_accuracy: 0.7439 - val_loss: 1.5267\n",
            "Epoch 17/50\n",
            "\u001b[1m34/34\u001b[0m \u001b[32m━━━━━━━━━━━━━━━━━━━━\u001b[0m\u001b[37m\u001b[0m \u001b[1m10s\u001b[0m 214ms/step - accuracy: 0.7533 - loss: 1.3352 - val_accuracy: 0.7447 - val_loss: 1.5203\n",
            "Epoch 18/50\n",
            "\u001b[1m34/34\u001b[0m \u001b[32m━━━━━━━━━━━━━━━━━━━━\u001b[0m\u001b[37m\u001b[0m \u001b[1m10s\u001b[0m 218ms/step - accuracy: 0.7623 - loss: 1.2701 - val_accuracy: 0.7466 - val_loss: 1.5165\n",
            "Epoch 19/50\n",
            "\u001b[1m34/34\u001b[0m \u001b[32m━━━━━━━━━━━━━━━━━━━━\u001b[0m\u001b[37m\u001b[0m \u001b[1m9s\u001b[0m 188ms/step - accuracy: 0.7604 - loss: 1.2715 - val_accuracy: 0.7477 - val_loss: 1.5066\n",
            "Epoch 20/50\n",
            "\u001b[1m34/34\u001b[0m \u001b[32m━━━━━━━━━━━━━━━━━━━━\u001b[0m\u001b[37m\u001b[0m \u001b[1m10s\u001b[0m 189ms/step - accuracy: 0.7643 - loss: 1.2350 - val_accuracy: 0.7499 - val_loss: 1.5006\n",
            "Epoch 21/50\n",
            "\u001b[1m34/34\u001b[0m \u001b[32m━━━━━━━━━━━━━━━━━━━━\u001b[0m\u001b[37m\u001b[0m \u001b[1m10s\u001b[0m 183ms/step - accuracy: 0.7634 - loss: 1.2306 - val_accuracy: 0.7501 - val_loss: 1.5027\n",
            "Epoch 22/50\n",
            "\u001b[1m34/34\u001b[0m \u001b[32m━━━━━━━━━━━━━━━━━━━━\u001b[0m\u001b[37m\u001b[0m \u001b[1m10s\u001b[0m 187ms/step - accuracy: 0.7675 - loss: 1.1952 - val_accuracy: 0.7516 - val_loss: 1.4943\n",
            "Epoch 23/50\n",
            "\u001b[1m34/34\u001b[0m \u001b[32m━━━━━━━━━━━━━━━━━━━━\u001b[0m\u001b[37m\u001b[0m \u001b[1m7s\u001b[0m 208ms/step - accuracy: 0.7723 - loss: 1.1657 - val_accuracy: 0.7534 - val_loss: 1.4892\n",
            "Epoch 24/50\n",
            "\u001b[1m34/34\u001b[0m \u001b[32m━━━━━━━━━━━━━━━━━━━━\u001b[0m\u001b[37m\u001b[0m \u001b[1m10s\u001b[0m 195ms/step - accuracy: 0.7734 - loss: 1.1450 - val_accuracy: 0.7560 - val_loss: 1.4829\n",
            "Epoch 25/50\n",
            "\u001b[1m34/34\u001b[0m \u001b[32m━━━━━━━━━━━━━━━━━━━━\u001b[0m\u001b[37m\u001b[0m \u001b[1m10s\u001b[0m 188ms/step - accuracy: 0.7772 - loss: 1.1064 - val_accuracy: 0.7580 - val_loss: 1.4765\n",
            "Epoch 26/50\n",
            "\u001b[1m34/34\u001b[0m \u001b[32m━━━━━━━━━━━━━━━━━━━━\u001b[0m\u001b[37m\u001b[0m \u001b[1m7s\u001b[0m 212ms/step - accuracy: 0.7806 - loss: 1.0886 - val_accuracy: 0.7604 - val_loss: 1.4687\n",
            "Epoch 27/50\n",
            "\u001b[1m34/34\u001b[0m \u001b[32m━━━━━━━━━━━━━━━━━━━━\u001b[0m\u001b[37m\u001b[0m \u001b[1m10s\u001b[0m 209ms/step - accuracy: 0.7829 - loss: 1.0658 - val_accuracy: 0.7633 - val_loss: 1.4544\n",
            "Epoch 28/50\n",
            "\u001b[1m34/34\u001b[0m \u001b[32m━━━━━━━━━━━━━━━━━━━━\u001b[0m\u001b[37m\u001b[0m \u001b[1m6s\u001b[0m 182ms/step - accuracy: 0.7943 - loss: 0.9977 - val_accuracy: 0.7672 - val_loss: 1.4436\n",
            "Epoch 29/50\n",
            "\u001b[1m34/34\u001b[0m \u001b[32m━━━━━━━━━━━━━━━━━━━━\u001b[0m\u001b[37m\u001b[0m \u001b[1m7s\u001b[0m 207ms/step - accuracy: 0.7908 - loss: 1.0072 - val_accuracy: 0.7686 - val_loss: 1.4299\n",
            "Epoch 30/50\n",
            "\u001b[1m34/34\u001b[0m \u001b[32m━━━━━━━━━━━━━━━━━━━━\u001b[0m\u001b[37m\u001b[0m \u001b[1m10s\u001b[0m 207ms/step - accuracy: 0.7996 - loss: 0.9542 - val_accuracy: 0.7727 - val_loss: 1.4152\n",
            "Epoch 31/50\n",
            "\u001b[1m34/34\u001b[0m \u001b[32m━━━━━━━━━━━━━━━━━━━━\u001b[0m\u001b[37m\u001b[0m \u001b[1m6s\u001b[0m 182ms/step - accuracy: 0.8036 - loss: 0.9340 - val_accuracy: 0.7776 - val_loss: 1.3974\n",
            "Epoch 32/50\n",
            "\u001b[1m34/34\u001b[0m \u001b[32m━━━━━━━━━━━━━━━━━━━━\u001b[0m\u001b[37m\u001b[0m \u001b[1m7s\u001b[0m 215ms/step - accuracy: 0.8150 - loss: 0.8781 - val_accuracy: 0.7864 - val_loss: 1.3550\n",
            "Epoch 33/50\n",
            "\u001b[1m34/34\u001b[0m \u001b[32m━━━━━━━━━━━━━━━━━━━━\u001b[0m\u001b[37m\u001b[0m \u001b[1m10s\u001b[0m 202ms/step - accuracy: 0.8302 - loss: 0.8101 - val_accuracy: 0.7909 - val_loss: 1.3190\n",
            "Epoch 34/50\n",
            "\u001b[1m34/34\u001b[0m \u001b[32m━━━━━━━━━━━━━━━━━━━━\u001b[0m\u001b[37m\u001b[0m \u001b[1m10s\u001b[0m 201ms/step - accuracy: 0.8341 - loss: 0.7812 - val_accuracy: 0.7972 - val_loss: 1.2909\n",
            "Epoch 35/50\n",
            "\u001b[1m34/34\u001b[0m \u001b[32m━━━━━━━━━━━━━━━━━━━━\u001b[0m\u001b[37m\u001b[0m \u001b[1m10s\u001b[0m 181ms/step - accuracy: 0.8503 - loss: 0.7131 - val_accuracy: 0.8116 - val_loss: 1.2129\n",
            "Epoch 36/50\n",
            "\u001b[1m34/34\u001b[0m \u001b[32m━━━━━━━━━━━━━━━━━━━━\u001b[0m\u001b[37m\u001b[0m \u001b[1m10s\u001b[0m 180ms/step - accuracy: 0.8646 - loss: 0.6501 - val_accuracy: 0.8182 - val_loss: 1.1777\n",
            "Epoch 37/50\n",
            "\u001b[1m34/34\u001b[0m \u001b[32m━━━━━━━━━━━━━━━━━━━━\u001b[0m\u001b[37m\u001b[0m \u001b[1m11s\u001b[0m 187ms/step - accuracy: 0.8801 - loss: 0.5766 - val_accuracy: 0.8271 - val_loss: 1.1262\n",
            "Epoch 38/50\n",
            "\u001b[1m34/34\u001b[0m \u001b[32m━━━━━━━━━━━━━━━━━━━━\u001b[0m\u001b[37m\u001b[0m \u001b[1m11s\u001b[0m 212ms/step - accuracy: 0.8923 - loss: 0.5210 - val_accuracy: 0.8412 - val_loss: 1.0570\n",
            "Epoch 39/50\n",
            "\u001b[1m34/34\u001b[0m \u001b[32m━━━━━━━━━━━━━━━━━━━━\u001b[0m\u001b[37m\u001b[0m \u001b[1m7s\u001b[0m 194ms/step - accuracy: 0.9082 - loss: 0.4544 - val_accuracy: 0.8518 - val_loss: 0.9813\n",
            "Epoch 40/50\n",
            "\u001b[1m34/34\u001b[0m \u001b[32m━━━━━━━━━━━━━━━━━━━━\u001b[0m\u001b[37m\u001b[0m \u001b[1m10s\u001b[0m 188ms/step - accuracy: 0.9230 - loss: 0.3967 - val_accuracy: 0.8694 - val_loss: 0.9006\n",
            "Epoch 41/50\n",
            "\u001b[1m34/34\u001b[0m \u001b[32m━━━━━━━━━━━━━━━━━━━━\u001b[0m\u001b[37m\u001b[0m \u001b[1m7s\u001b[0m 215ms/step - accuracy: 0.9442 - loss: 0.3121 - val_accuracy: 0.8824 - val_loss: 0.8243\n",
            "Epoch 42/50\n",
            "\u001b[1m34/34\u001b[0m \u001b[32m━━━━━━━━━━━━━━━━━━━━\u001b[0m\u001b[37m\u001b[0m \u001b[1m6s\u001b[0m 188ms/step - accuracy: 0.9602 - loss: 0.2444 - val_accuracy: 0.8978 - val_loss: 0.7410\n",
            "Epoch 43/50\n",
            "\u001b[1m34/34\u001b[0m \u001b[32m━━━━━━━━━━━━━━━━━━━━\u001b[0m\u001b[37m\u001b[0m \u001b[1m10s\u001b[0m 180ms/step - accuracy: 0.9741 - loss: 0.1852 - val_accuracy: 0.9051 - val_loss: 0.6958\n",
            "Epoch 44/50\n",
            "\u001b[1m34/34\u001b[0m \u001b[32m━━━━━━━━━━━━━━━━━━━━\u001b[0m\u001b[37m\u001b[0m \u001b[1m10s\u001b[0m 186ms/step - accuracy: 0.9821 - loss: 0.1451 - val_accuracy: 0.9146 - val_loss: 0.6362\n",
            "Epoch 45/50\n",
            "\u001b[1m34/34\u001b[0m \u001b[32m━━━━━━━━━━━━━━━━━━━━\u001b[0m\u001b[37m\u001b[0m \u001b[1m10s\u001b[0m 188ms/step - accuracy: 0.9883 - loss: 0.1114 - val_accuracy: 0.9198 - val_loss: 0.6046\n",
            "Epoch 46/50\n",
            "\u001b[1m34/34\u001b[0m \u001b[32m━━━━━━━━━━━━━━━━━━━━\u001b[0m\u001b[37m\u001b[0m \u001b[1m10s\u001b[0m 185ms/step - accuracy: 0.9937 - loss: 0.0804 - val_accuracy: 0.9259 - val_loss: 0.5700\n",
            "Epoch 47/50\n",
            "\u001b[1m34/34\u001b[0m \u001b[32m━━━━━━━━━━━━━━━━━━━━\u001b[0m\u001b[37m\u001b[0m \u001b[1m11s\u001b[0m 213ms/step - accuracy: 0.9961 - loss: 0.0624 - val_accuracy: 0.9298 - val_loss: 0.5472\n",
            "Epoch 48/50\n",
            "\u001b[1m34/34\u001b[0m \u001b[32m━━━━━━━━━━━━━━━━━━━━\u001b[0m\u001b[37m\u001b[0m \u001b[1m10s\u001b[0m 206ms/step - accuracy: 0.9977 - loss: 0.0474 - val_accuracy: 0.9329 - val_loss: 0.5297\n",
            "Epoch 49/50\n",
            "\u001b[1m34/34\u001b[0m \u001b[32m━━━━━━━━━━━━━━━━━━━━\u001b[0m\u001b[37m\u001b[0m \u001b[1m10s\u001b[0m 209ms/step - accuracy: 0.9981 - loss: 0.0415 - val_accuracy: 0.9334 - val_loss: 0.5245\n",
            "Epoch 50/50\n",
            "\u001b[1m34/34\u001b[0m \u001b[32m━━━━━━━━━━━━━━━━━━━━\u001b[0m\u001b[37m\u001b[0m \u001b[1m6s\u001b[0m 187ms/step - accuracy: 0.9989 - loss: 0.0335 - val_accuracy: 0.9359 - val_loss: 0.5101\n",
            "Restoring model weights from the end of the best epoch: 50.\n"
          ]
        }
      ]
    },
    {
      "cell_type": "code",
      "source": [
        "# Model\n",
        "anger_model = Model([anger_encoder_inputs,anger_decoder_inputs], anger_decoder_outputs)\n",
        "anger_model.compile(optimizer='adam', loss='sparse_categorical_crossentropy', metrics=['accuracy'])\n",
        "anger_model.summary()"
      ],
      "metadata": {
        "trusted": true,
        "execution": {
          "iopub.status.busy": "2025-05-14T11:09:44.336333Z",
          "iopub.execute_input": "2025-05-14T11:09:44.336914Z",
          "iopub.status.idle": "2025-05-14T11:09:44.364073Z",
          "shell.execute_reply.started": "2025-05-14T11:09:44.336890Z",
          "shell.execute_reply": "2025-05-14T11:09:44.363528Z"
        },
        "colab": {
          "base_uri": "https://localhost:8080/",
          "height": 593
        },
        "id": "UH3IsnxOPuFP",
        "outputId": "48c50f1a-d74b-4261-ac00-ccdddf68e941"
      },
      "outputs": [
        {
          "output_type": "display_data",
          "data": {
            "text/plain": [
              "\u001b[1mModel: \"functional_13\"\u001b[0m\n"
            ],
            "text/html": [
              "<pre style=\"white-space:pre;overflow-x:auto;line-height:normal;font-family:Menlo,'DejaVu Sans Mono',consolas,'Courier New',monospace\"><span style=\"font-weight: bold\">Model: \"functional_13\"</span>\n",
              "</pre>\n"
            ]
          },
          "metadata": {}
        },
        {
          "output_type": "display_data",
          "data": {
            "text/plain": [
              "┏━━━━━━━━━━━━━━━━━━━━━┳━━━━━━━━━━━━━━━━━━━┳━━━━━━━━━━━━┳━━━━━━━━━━━━━━━━━━━┓\n",
              "┃\u001b[1m \u001b[0m\u001b[1mLayer (type)       \u001b[0m\u001b[1m \u001b[0m┃\u001b[1m \u001b[0m\u001b[1mOutput Shape     \u001b[0m\u001b[1m \u001b[0m┃\u001b[1m \u001b[0m\u001b[1m   Param #\u001b[0m\u001b[1m \u001b[0m┃\u001b[1m \u001b[0m\u001b[1mConnected to     \u001b[0m\u001b[1m \u001b[0m┃\n",
              "┡━━━━━━━━━━━━━━━━━━━━━╇━━━━━━━━━━━━━━━━━━━╇━━━━━━━━━━━━╇━━━━━━━━━━━━━━━━━━━┩\n",
              "│ input_layer_22      │ (\u001b[38;5;45mNone\u001b[0m, \u001b[38;5;34m59\u001b[0m)        │          \u001b[38;5;34m0\u001b[0m │ -                 │\n",
              "│ (\u001b[38;5;33mInputLayer\u001b[0m)        │                   │            │                   │\n",
              "├─────────────────────┼───────────────────┼────────────┼───────────────────┤\n",
              "│ input_layer_23      │ (\u001b[38;5;45mNone\u001b[0m, \u001b[38;5;34m59\u001b[0m)        │          \u001b[38;5;34m0\u001b[0m │ -                 │\n",
              "│ (\u001b[38;5;33mInputLayer\u001b[0m)        │                   │            │                   │\n",
              "├─────────────────────┼───────────────────┼────────────┼───────────────────┤\n",
              "│ embedding_10        │ (\u001b[38;5;45mNone\u001b[0m, \u001b[38;5;34m59\u001b[0m, \u001b[38;5;34m256\u001b[0m)   │  \u001b[38;5;34m1,408,768\u001b[0m │ input_layer_22[\u001b[38;5;34m0\u001b[0m… │\n",
              "│ (\u001b[38;5;33mEmbedding\u001b[0m)         │                   │            │                   │\n",
              "├─────────────────────┼───────────────────┼────────────┼───────────────────┤\n",
              "│ embedding_9         │ (\u001b[38;5;45mNone\u001b[0m, \u001b[38;5;34m59\u001b[0m, \u001b[38;5;34m256\u001b[0m)   │  \u001b[38;5;34m1,266,944\u001b[0m │ input_layer_23[\u001b[38;5;34m0\u001b[0m… │\n",
              "│ (\u001b[38;5;33mEmbedding\u001b[0m)         │                   │            │                   │\n",
              "├─────────────────────┼───────────────────┼────────────┼───────────────────┤\n",
              "│ lstm_10 (\u001b[38;5;33mLSTM\u001b[0m)      │ [(\u001b[38;5;45mNone\u001b[0m, \u001b[38;5;34m59\u001b[0m, \u001b[38;5;34m256\u001b[0m), │    \u001b[38;5;34m525,312\u001b[0m │ embedding_10[\u001b[38;5;34m0\u001b[0m][\u001b[38;5;34m…\u001b[0m │\n",
              "│                     │ (\u001b[38;5;45mNone\u001b[0m, \u001b[38;5;34m256\u001b[0m),      │            │                   │\n",
              "│                     │ (\u001b[38;5;45mNone\u001b[0m, \u001b[38;5;34m256\u001b[0m)]      │            │                   │\n",
              "├─────────────────────┼───────────────────┼────────────┼───────────────────┤\n",
              "│ lstm_11 (\u001b[38;5;33mLSTM\u001b[0m)      │ [(\u001b[38;5;45mNone\u001b[0m, \u001b[38;5;34m59\u001b[0m, \u001b[38;5;34m256\u001b[0m), │    \u001b[38;5;34m525,312\u001b[0m │ embedding_9[\u001b[38;5;34m2\u001b[0m][\u001b[38;5;34m0\u001b[0m… │\n",
              "│                     │ (\u001b[38;5;45mNone\u001b[0m, \u001b[38;5;34m256\u001b[0m),      │            │ lstm_10[\u001b[38;5;34m0\u001b[0m][\u001b[38;5;34m1\u001b[0m],    │\n",
              "│                     │ (\u001b[38;5;45mNone\u001b[0m, \u001b[38;5;34m256\u001b[0m)]      │            │ lstm_10[\u001b[38;5;34m0\u001b[0m][\u001b[38;5;34m2\u001b[0m]     │\n",
              "├─────────────────────┼───────────────────┼────────────┼───────────────────┤\n",
              "│ attention_layer_5   │ [(\u001b[38;5;45mNone\u001b[0m, \u001b[38;5;34m59\u001b[0m, \u001b[38;5;34m256\u001b[0m), │    \u001b[38;5;34m131,328\u001b[0m │ lstm_10[\u001b[38;5;34m0\u001b[0m][\u001b[38;5;34m0\u001b[0m],    │\n",
              "│ (\u001b[38;5;33mAttentionLayer\u001b[0m)    │ (\u001b[38;5;45mNone\u001b[0m, \u001b[38;5;34m59\u001b[0m, \u001b[38;5;34m59\u001b[0m)]   │            │ lstm_11[\u001b[38;5;34m0\u001b[0m][\u001b[38;5;34m0\u001b[0m]     │\n",
              "├─────────────────────┼───────────────────┼────────────┼───────────────────┤\n",
              "│ concatenate_9       │ (\u001b[38;5;45mNone\u001b[0m, \u001b[38;5;34m59\u001b[0m, \u001b[38;5;34m512\u001b[0m)   │          \u001b[38;5;34m0\u001b[0m │ lstm_11[\u001b[38;5;34m0\u001b[0m][\u001b[38;5;34m0\u001b[0m],    │\n",
              "│ (\u001b[38;5;33mConcatenate\u001b[0m)       │                   │            │ attention_layer_… │\n",
              "├─────────────────────┼───────────────────┼────────────┼───────────────────┤\n",
              "│ time_distributed_5  │ (\u001b[38;5;45mNone\u001b[0m, \u001b[38;5;34m59\u001b[0m, \u001b[38;5;34m5503\u001b[0m)  │  \u001b[38;5;34m2,823,039\u001b[0m │ concatenate_9[\u001b[38;5;34m0\u001b[0m]… │\n",
              "│ (\u001b[38;5;33mTimeDistributed\u001b[0m)   │                   │            │                   │\n",
              "└─────────────────────┴───────────────────┴────────────┴───────────────────┘\n"
            ],
            "text/html": [
              "<pre style=\"white-space:pre;overflow-x:auto;line-height:normal;font-family:Menlo,'DejaVu Sans Mono',consolas,'Courier New',monospace\">┏━━━━━━━━━━━━━━━━━━━━━┳━━━━━━━━━━━━━━━━━━━┳━━━━━━━━━━━━┳━━━━━━━━━━━━━━━━━━━┓\n",
              "┃<span style=\"font-weight: bold\"> Layer (type)        </span>┃<span style=\"font-weight: bold\"> Output Shape      </span>┃<span style=\"font-weight: bold\">    Param # </span>┃<span style=\"font-weight: bold\"> Connected to      </span>┃\n",
              "┡━━━━━━━━━━━━━━━━━━━━━╇━━━━━━━━━━━━━━━━━━━╇━━━━━━━━━━━━╇━━━━━━━━━━━━━━━━━━━┩\n",
              "│ input_layer_22      │ (<span style=\"color: #00d7ff; text-decoration-color: #00d7ff\">None</span>, <span style=\"color: #00af00; text-decoration-color: #00af00\">59</span>)        │          <span style=\"color: #00af00; text-decoration-color: #00af00\">0</span> │ -                 │\n",
              "│ (<span style=\"color: #0087ff; text-decoration-color: #0087ff\">InputLayer</span>)        │                   │            │                   │\n",
              "├─────────────────────┼───────────────────┼────────────┼───────────────────┤\n",
              "│ input_layer_23      │ (<span style=\"color: #00d7ff; text-decoration-color: #00d7ff\">None</span>, <span style=\"color: #00af00; text-decoration-color: #00af00\">59</span>)        │          <span style=\"color: #00af00; text-decoration-color: #00af00\">0</span> │ -                 │\n",
              "│ (<span style=\"color: #0087ff; text-decoration-color: #0087ff\">InputLayer</span>)        │                   │            │                   │\n",
              "├─────────────────────┼───────────────────┼────────────┼───────────────────┤\n",
              "│ embedding_10        │ (<span style=\"color: #00d7ff; text-decoration-color: #00d7ff\">None</span>, <span style=\"color: #00af00; text-decoration-color: #00af00\">59</span>, <span style=\"color: #00af00; text-decoration-color: #00af00\">256</span>)   │  <span style=\"color: #00af00; text-decoration-color: #00af00\">1,408,768</span> │ input_layer_22[<span style=\"color: #00af00; text-decoration-color: #00af00\">0</span>… │\n",
              "│ (<span style=\"color: #0087ff; text-decoration-color: #0087ff\">Embedding</span>)         │                   │            │                   │\n",
              "├─────────────────────┼───────────────────┼────────────┼───────────────────┤\n",
              "│ embedding_9         │ (<span style=\"color: #00d7ff; text-decoration-color: #00d7ff\">None</span>, <span style=\"color: #00af00; text-decoration-color: #00af00\">59</span>, <span style=\"color: #00af00; text-decoration-color: #00af00\">256</span>)   │  <span style=\"color: #00af00; text-decoration-color: #00af00\">1,266,944</span> │ input_layer_23[<span style=\"color: #00af00; text-decoration-color: #00af00\">0</span>… │\n",
              "│ (<span style=\"color: #0087ff; text-decoration-color: #0087ff\">Embedding</span>)         │                   │            │                   │\n",
              "├─────────────────────┼───────────────────┼────────────┼───────────────────┤\n",
              "│ lstm_10 (<span style=\"color: #0087ff; text-decoration-color: #0087ff\">LSTM</span>)      │ [(<span style=\"color: #00d7ff; text-decoration-color: #00d7ff\">None</span>, <span style=\"color: #00af00; text-decoration-color: #00af00\">59</span>, <span style=\"color: #00af00; text-decoration-color: #00af00\">256</span>), │    <span style=\"color: #00af00; text-decoration-color: #00af00\">525,312</span> │ embedding_10[<span style=\"color: #00af00; text-decoration-color: #00af00\">0</span>][<span style=\"color: #00af00; text-decoration-color: #00af00\">…</span> │\n",
              "│                     │ (<span style=\"color: #00d7ff; text-decoration-color: #00d7ff\">None</span>, <span style=\"color: #00af00; text-decoration-color: #00af00\">256</span>),      │            │                   │\n",
              "│                     │ (<span style=\"color: #00d7ff; text-decoration-color: #00d7ff\">None</span>, <span style=\"color: #00af00; text-decoration-color: #00af00\">256</span>)]      │            │                   │\n",
              "├─────────────────────┼───────────────────┼────────────┼───────────────────┤\n",
              "│ lstm_11 (<span style=\"color: #0087ff; text-decoration-color: #0087ff\">LSTM</span>)      │ [(<span style=\"color: #00d7ff; text-decoration-color: #00d7ff\">None</span>, <span style=\"color: #00af00; text-decoration-color: #00af00\">59</span>, <span style=\"color: #00af00; text-decoration-color: #00af00\">256</span>), │    <span style=\"color: #00af00; text-decoration-color: #00af00\">525,312</span> │ embedding_9[<span style=\"color: #00af00; text-decoration-color: #00af00\">2</span>][<span style=\"color: #00af00; text-decoration-color: #00af00\">0</span>… │\n",
              "│                     │ (<span style=\"color: #00d7ff; text-decoration-color: #00d7ff\">None</span>, <span style=\"color: #00af00; text-decoration-color: #00af00\">256</span>),      │            │ lstm_10[<span style=\"color: #00af00; text-decoration-color: #00af00\">0</span>][<span style=\"color: #00af00; text-decoration-color: #00af00\">1</span>],    │\n",
              "│                     │ (<span style=\"color: #00d7ff; text-decoration-color: #00d7ff\">None</span>, <span style=\"color: #00af00; text-decoration-color: #00af00\">256</span>)]      │            │ lstm_10[<span style=\"color: #00af00; text-decoration-color: #00af00\">0</span>][<span style=\"color: #00af00; text-decoration-color: #00af00\">2</span>]     │\n",
              "├─────────────────────┼───────────────────┼────────────┼───────────────────┤\n",
              "│ attention_layer_5   │ [(<span style=\"color: #00d7ff; text-decoration-color: #00d7ff\">None</span>, <span style=\"color: #00af00; text-decoration-color: #00af00\">59</span>, <span style=\"color: #00af00; text-decoration-color: #00af00\">256</span>), │    <span style=\"color: #00af00; text-decoration-color: #00af00\">131,328</span> │ lstm_10[<span style=\"color: #00af00; text-decoration-color: #00af00\">0</span>][<span style=\"color: #00af00; text-decoration-color: #00af00\">0</span>],    │\n",
              "│ (<span style=\"color: #0087ff; text-decoration-color: #0087ff\">AttentionLayer</span>)    │ (<span style=\"color: #00d7ff; text-decoration-color: #00d7ff\">None</span>, <span style=\"color: #00af00; text-decoration-color: #00af00\">59</span>, <span style=\"color: #00af00; text-decoration-color: #00af00\">59</span>)]   │            │ lstm_11[<span style=\"color: #00af00; text-decoration-color: #00af00\">0</span>][<span style=\"color: #00af00; text-decoration-color: #00af00\">0</span>]     │\n",
              "├─────────────────────┼───────────────────┼────────────┼───────────────────┤\n",
              "│ concatenate_9       │ (<span style=\"color: #00d7ff; text-decoration-color: #00d7ff\">None</span>, <span style=\"color: #00af00; text-decoration-color: #00af00\">59</span>, <span style=\"color: #00af00; text-decoration-color: #00af00\">512</span>)   │          <span style=\"color: #00af00; text-decoration-color: #00af00\">0</span> │ lstm_11[<span style=\"color: #00af00; text-decoration-color: #00af00\">0</span>][<span style=\"color: #00af00; text-decoration-color: #00af00\">0</span>],    │\n",
              "│ (<span style=\"color: #0087ff; text-decoration-color: #0087ff\">Concatenate</span>)       │                   │            │ attention_layer_… │\n",
              "├─────────────────────┼───────────────────┼────────────┼───────────────────┤\n",
              "│ time_distributed_5  │ (<span style=\"color: #00d7ff; text-decoration-color: #00d7ff\">None</span>, <span style=\"color: #00af00; text-decoration-color: #00af00\">59</span>, <span style=\"color: #00af00; text-decoration-color: #00af00\">5503</span>)  │  <span style=\"color: #00af00; text-decoration-color: #00af00\">2,823,039</span> │ concatenate_9[<span style=\"color: #00af00; text-decoration-color: #00af00\">0</span>]… │\n",
              "│ (<span style=\"color: #0087ff; text-decoration-color: #0087ff\">TimeDistributed</span>)   │                   │            │                   │\n",
              "└─────────────────────┴───────────────────┴────────────┴───────────────────┘\n",
              "</pre>\n"
            ]
          },
          "metadata": {}
        },
        {
          "output_type": "display_data",
          "data": {
            "text/plain": [
              "\u001b[1m Total params: \u001b[0m\u001b[38;5;34m6,680,703\u001b[0m (25.48 MB)\n"
            ],
            "text/html": [
              "<pre style=\"white-space:pre;overflow-x:auto;line-height:normal;font-family:Menlo,'DejaVu Sans Mono',consolas,'Courier New',monospace\"><span style=\"font-weight: bold\"> Total params: </span><span style=\"color: #00af00; text-decoration-color: #00af00\">6,680,703</span> (25.48 MB)\n",
              "</pre>\n"
            ]
          },
          "metadata": {}
        },
        {
          "output_type": "display_data",
          "data": {
            "text/plain": [
              "\u001b[1m Trainable params: \u001b[0m\u001b[38;5;34m6,680,703\u001b[0m (25.48 MB)\n"
            ],
            "text/html": [
              "<pre style=\"white-space:pre;overflow-x:auto;line-height:normal;font-family:Menlo,'DejaVu Sans Mono',consolas,'Courier New',monospace\"><span style=\"font-weight: bold\"> Trainable params: </span><span style=\"color: #00af00; text-decoration-color: #00af00\">6,680,703</span> (25.48 MB)\n",
              "</pre>\n"
            ]
          },
          "metadata": {}
        },
        {
          "output_type": "display_data",
          "data": {
            "text/plain": [
              "\u001b[1m Non-trainable params: \u001b[0m\u001b[38;5;34m0\u001b[0m (0.00 B)\n"
            ],
            "text/html": [
              "<pre style=\"white-space:pre;overflow-x:auto;line-height:normal;font-family:Menlo,'DejaVu Sans Mono',consolas,'Courier New',monospace\"><span style=\"font-weight: bold\"> Non-trainable params: </span><span style=\"color: #00af00; text-decoration-color: #00af00\">0</span> (0.00 B)\n",
              "</pre>\n"
            ]
          },
          "metadata": {}
        }
      ],
      "execution_count": 110
    },
    {
      "cell_type": "code",
      "source": [
        "# Training with Early Stopping\n",
        "epochs = 50\n",
        "batch_size = 64\n",
        "es = EarlyStopping(monitor='val_loss', mode='max', verbose=1, patience=5, restore_best_weights=True)\n",
        "anger_history =anger_model.fit(\n",
        "    [anger_encoder_input_train, anger_decoder_input_train],\n",
        "    anger_decoder_target_train,\n",
        "    batch_size=batch_size,\n",
        "    epochs=epochs,\n",
        "    validation_data=([anger_encoder_input_val, anger_decoder_input_val], anger_decoder_target_val),\n",
        "    callbacks=[es]\n",
        ")"
      ],
      "metadata": {
        "trusted": true,
        "execution": {
          "iopub.status.busy": "2025-05-14T11:09:45.635257Z",
          "iopub.execute_input": "2025-05-14T11:09:45.635949Z",
          "iopub.status.idle": "2025-05-14T11:10:34.010531Z",
          "shell.execute_reply.started": "2025-05-14T11:09:45.635924Z",
          "shell.execute_reply": "2025-05-14T11:10:34.009790Z"
        },
        "colab": {
          "base_uri": "https://localhost:8080/"
        },
        "id": "BDkPf4--PuFP",
        "outputId": "d60e6b4b-9692-46d4-ddbe-246cc8fc4c02"
      },
      "outputs": [
        {
          "output_type": "stream",
          "name": "stdout",
          "text": [
            "Epoch 1/50\n",
            "\u001b[1m34/34\u001b[0m \u001b[32m━━━━━━━━━━━━━━━━━━━━\u001b[0m\u001b[37m\u001b[0m \u001b[1m14s\u001b[0m 221ms/step - accuracy: 0.5824 - loss: 4.7492 - val_accuracy: 0.6648 - val_loss: 1.9587\n",
            "Epoch 2/50\n",
            "\u001b[1m34/34\u001b[0m \u001b[32m━━━━━━━━━━━━━━━━━━━━\u001b[0m\u001b[37m\u001b[0m \u001b[1m9s\u001b[0m 195ms/step - accuracy: 0.6811 - loss: 1.8918 - val_accuracy: 0.6876 - val_loss: 1.8989\n",
            "Epoch 3/50\n",
            "\u001b[1m34/34\u001b[0m \u001b[32m━━━━━━━━━━━━━━━━━━━━\u001b[0m\u001b[37m\u001b[0m \u001b[1m7s\u001b[0m 210ms/step - accuracy: 0.6980 - loss: 1.8051 - val_accuracy: 0.6883 - val_loss: 1.9035\n",
            "Epoch 4/50\n",
            "\u001b[1m34/34\u001b[0m \u001b[32m━━━━━━━━━━━━━━━━━━━━\u001b[0m\u001b[37m\u001b[0m \u001b[1m9s\u001b[0m 179ms/step - accuracy: 0.6926 - loss: 1.8331 - val_accuracy: 0.6898 - val_loss: 1.8489\n",
            "Epoch 5/50\n",
            "\u001b[1m34/34\u001b[0m \u001b[32m━━━━━━━━━━━━━━━━━━━━\u001b[0m\u001b[37m\u001b[0m \u001b[1m7s\u001b[0m 206ms/step - accuracy: 0.6998 - loss: 1.7480 - val_accuracy: 0.6947 - val_loss: 1.7916\n",
            "Epoch 6/50\n",
            "\u001b[1m34/34\u001b[0m \u001b[32m━━━━━━━━━━━━━━━━━━━━\u001b[0m\u001b[37m\u001b[0m \u001b[1m10s\u001b[0m 212ms/step - accuracy: 0.7057 - loss: 1.6822 - val_accuracy: 0.7002 - val_loss: 1.7425\n",
            "Epoch 6: early stopping\n",
            "Restoring model weights from the end of the best epoch: 1.\n"
          ]
        }
      ],
      "execution_count": 111
    },
    {
      "cell_type": "code",
      "source": [
        "# Extract training history\n",
        "anger_loss = anger_history.history['loss']\n",
        "anger_val_loss = anger_history.history['val_loss']\n",
        "anger_accuracy = anger_history.history['accuracy']\n",
        "anger_val_accuracy = anger_history.history['val_accuracy']\n",
        "\n",
        "# Create subplots\n",
        "plt.figure(figsize=(12, 5))\n",
        "\n",
        "# Plot Loss\n",
        "plt.subplot(1, 2, 1)\n",
        "plt.plot(anger_loss, label='Training Loss')\n",
        "plt.plot(anger_val_loss, label='Validation Loss')\n",
        "plt.title('anger Model - Loss')\n",
        "plt.xlabel('Epochs')\n",
        "plt.ylabel('Loss')\n",
        "plt.legend()\n",
        "\n",
        "# Plot Accuracy\n",
        "plt.subplot(1, 2, 2)\n",
        "plt.plot(anger_accuracy, label='Training Accuracy')\n",
        "plt.plot(anger_val_accuracy, label='Validation Accuracy')\n",
        "plt.title('anger Model - Accuracy')\n",
        "plt.xlabel('Epochs')\n",
        "plt.ylabel('Accuracy')\n",
        "plt.legend()\n",
        "\n",
        "plt.tight_layout()\n",
        "plt.show()\n"
      ],
      "metadata": {
        "trusted": true,
        "execution": {
          "iopub.status.busy": "2025-05-14T11:10:34.012100Z",
          "iopub.execute_input": "2025-05-14T11:10:34.012359Z",
          "iopub.status.idle": "2025-05-14T11:10:34.350031Z",
          "shell.execute_reply.started": "2025-05-14T11:10:34.012341Z",
          "shell.execute_reply": "2025-05-14T11:10:34.349266Z"
        },
        "colab": {
          "base_uri": "https://localhost:8080/",
          "height": 293
        },
        "id": "Bkge8lS1PuFP",
        "outputId": "dbcb9a11-30c1-4946-9faa-f76b959a1f30"
      },
      "outputs": [
        {
          "output_type": "display_data",
          "data": {
            "text/plain": [
              "<Figure size 1200x500 with 2 Axes>"
            ],
            "image/png": "[encoded data removed]"
          },
          "metadata": {}
        }
      ],
      "execution_count": 159
    },
    {
      "cell_type": "markdown",
      "source": [
        "### Inference"
      ],
      "metadata": {
        "id": "eroQotM_PuFP"
      }
    },
    {
      "cell_type": "code",
      "source": [
        "\n",
        "latent_dim = 256\n",
        "\n",
        "# Encoder inference model\n",
        "anger_encoder_model = Model(inputs=anger_encoder_inputs, outputs=[anger_encoder_out,anger_state_h,anger_state_c])\n",
        "\n",
        "# Decoder inference model\n",
        "anger_decoder_state_input_h = Input(shape=(latent_dim,))\n",
        "anger_decoder_state_input_c = Input(shape=(latent_dim,))\n",
        "anger_decoder_hidden_state_input = Input(shape=(max_sentence_length - 1, latent_dim))\n",
        "\n",
        "anger_dec_emb2 = anger_dec_emb_layer(anger_decoder_inputs)\n",
        "\n",
        "anger_decoder_outputs2, state_h2, state_c2 = anger_decoder_lstm(anger_dec_emb2, initial_state=[anger_decoder_state_input_h, anger_decoder_state_input_c])\n",
        "\n",
        "anger_attn_out_inf, _ = anger_attn_layer([anger_decoder_hidden_state_input,anger_decoder_outputs2])\n",
        "anger_decoder_inf_concat = Concatenate(axis=-1)([anger_decoder_outputs2, anger_attn_out_inf])\n",
        "\n",
        "anger_decoder_outputs2 =anger_decoder_dense(anger_decoder_inf_concat)\n",
        "\n",
        "anger_decoder_model = Model(\n",
        "    [anger_decoder_inputs, anger_decoder_hidden_state_input, anger_decoder_state_input_h, anger_decoder_state_input_c],\n",
        "    [anger_decoder_outputs2, state_h2, state_c2]\n",
        ")\n"
      ],
      "metadata": {
        "trusted": true,
        "execution": {
          "iopub.status.busy": "2025-05-14T11:10:34.350879Z",
          "iopub.execute_input": "2025-05-14T11:10:34.351078Z",
          "iopub.status.idle": "2025-05-14T11:10:34.369375Z",
          "shell.execute_reply.started": "2025-05-14T11:10:34.351062Z",
          "shell.execute_reply": "2025-05-14T11:10:34.368807Z"
        },
        "id": "uQAxZ8ANPuFP"
      },
      "outputs": [],
      "execution_count": 160
    },
    {
      "cell_type": "markdown",
      "source": [
        "### Generate text function for anger"
      ],
      "metadata": {
        "id": "lSHZmnxBPuFP"
      }
    },
    {
      "cell_type": "code",
      "source": [
        "\n",
        "def generate_text_for_anger(tokenizer, encoder_model, decoder_model, max_len=max_sentence_length-1):\n",
        "    prompt = \"generate a tweet expressing your anger\"\n",
        "\n",
        "    # Convert prompt to sequence\n",
        "    input_seq_ids = tokenizer.texts_to_sequences([prompt])[0]\n",
        "    input_seq_padded = pad_sequences([input_seq_ids], maxlen=max_len, padding='post')\n",
        "\n",
        "    # Encode prompt\n",
        "    encoder_out, state_h, state_c = encoder_model.predict(input_seq_padded, verbose=0)\n",
        "    states = [state_h, state_c]\n",
        "\n",
        "    # Initialize decoder\n",
        "    sos_token_index = tokenizer.word_index['<sos>']\n",
        "    eos_token_index = tokenizer.word_index['<eos>']\n",
        "    target_seq = np.array([[sos_token_index]])\n",
        "\n",
        "    decoded_tokens = []\n",
        "\n",
        "    for _ in range(15):\n",
        "        output_tokens, h, c = decoder_model.predict(\n",
        "            [target_seq, encoder_out, state_h, state_c], verbose=0)\n",
        "        preds = output_tokens[0, 0, :]\n",
        "        sampled_token_index = sample_with_top_p_and_temperature(preds, top_p=0.9, temperature=0.7)\n",
        "\n",
        "        if sampled_token_index == eos_token_index:\n",
        "            break\n",
        "\n",
        "        decoded_tokens.append(sampled_token_index)\n",
        "        target_seq = np.array([[sampled_token_index]])\n",
        "        state_h, state_c = h, c\n",
        "\n",
        "    sentence = tokenizer.sequences_to_texts([decoded_tokens])[0]\n",
        "    sentence = post_process_sentence(sentence)\n",
        "    sentence = correct_grammar(sentence)\n",
        "\n",
        "    # Add quality checks\n",
        "    if not sentence or len(sentence.split()) < 3:\n",
        "        return generate_text_for_anger(tokenizer, encoder_model, decoder_model, max_sentence_length)\n",
        "\n",
        "    return sentence\n"
      ],
      "metadata": {
        "trusted": true,
        "execution": {
          "iopub.status.busy": "2025-05-14T11:19:54.794148Z",
          "iopub.execute_input": "2025-05-14T11:19:54.794842Z",
          "iopub.status.idle": "2025-05-14T11:19:54.801366Z",
          "shell.execute_reply.started": "2025-05-14T11:19:54.794817Z",
          "shell.execute_reply": "2025-05-14T11:19:54.800595Z"
        },
        "id": "Qf7F_7YyPuFP"
      },
      "outputs": [],
      "execution_count": 191
    },
    {
      "cell_type": "code",
      "source": [
        "def generate_anger_texts(n):\n",
        "    generated = []\n",
        "    for i in range(n):\n",
        "        sentence = generate_text_for_anger(anger_tokenizer, anger_encoder_model, anger_decoder_model, max_len=max_sentence_length - 1)\n",
        "        generated.append(sentence)\n",
        "    return generated"
      ],
      "metadata": {
        "trusted": true,
        "execution": {
          "iopub.status.busy": "2025-05-14T11:19:56.889099Z",
          "iopub.execute_input": "2025-05-14T11:19:56.889727Z",
          "iopub.status.idle": "2025-05-14T11:19:56.893791Z",
          "shell.execute_reply.started": "2025-05-14T11:19:56.889695Z",
          "shell.execute_reply": "2025-05-14T11:19:56.893039Z"
        },
        "id": "-MX77dkqPuFQ"
      },
      "outputs": [],
      "execution_count": 192
    },
    {
      "cell_type": "code",
      "source": [
        "anger_gentext = generate_anger_texts(10)\n",
        "anger_gentext"
      ],
      "metadata": {
        "trusted": true,
        "execution": {
          "iopub.status.busy": "2025-05-14T11:19:59.570470Z",
          "iopub.execute_input": "2025-05-14T11:19:59.571191Z",
          "iopub.status.idle": "2025-05-14T11:20:11.389217Z",
          "shell.execute_reply.started": "2025-05-14T11:19:59.571170Z",
          "shell.execute_reply": "2025-05-14T11:20:11.388463Z"
        },
        "colab": {
          "base_uri": "https://localhost:8080/"
        },
        "id": "nBNiccRlPuFQ",
        "outputId": "ca8ac2a4-e9c3-420a-a049-eb030c53f778"
      },
      "outputs": [
        {
          "output_type": "execute_result",
          "data": {
            "text/plain": [
              "['I am feeling but',\n",
              " 'I am feeling feelings',\n",
              " 'I am feeling but',\n",
              " 'I am feeling <unk> your this said',\n",
              " 'I am feeling but feelings <unk>',\n",
              " 'I am feeling but feelings',\n",
              " 'I am feeling feelings',\n",
              " 'I am feeling feelings',\n",
              " 'I am feeling feelings',\n",
              " 'I am feeling but feelings <unk> your minibus']"
            ]
          },
          "metadata": {},
          "execution_count": 193
        }
      ],
      "execution_count": 193
    },
    {
      "cell_type": "markdown",
      "source": [
        "Above are 10 synthetic tweets generated by the seq2seq model trained on the *anger* emotion. The generation uses Top-p sampling with temperature to ensure diversity and emotional relevance."
      ],
      "metadata": {
        "id": "SejInbVf2uAc"
      }
    },
    {
      "cell_type": "code",
      "source": [
        "anger_gentext = anger_surprise_texts(5120)\n",
        "anger_gentext"
      ],
      "metadata": {
        "trusted": true,
        "execution": {
          "iopub.status.busy": "2025-05-14T11:10:48.950830Z",
          "iopub.execute_input": "2025-05-14T11:10:48.951052Z",
          "iopub.status.idle": "2025-05-14T11:10:48.965476Z",
          "shell.execute_reply.started": "2025-05-14T11:10:48.951032Z",
          "shell.execute_reply": "2025-05-14T11:10:48.964733Z"
        },
        "colab": {
          "base_uri": "https://localhost:8080/",
          "height": 36
        },
        "id": "eHZ1H9sTPuFQ",
        "outputId": "469f3ff1-d6f5-4ff4-b9ce-380a6bd50eeb"
      },
      "outputs": [
        {
          "output_type": "execute_result",
          "data": {
            "text/plain": [
              "'anger_gentext = anger_surprise_texts(5120)\\nanger_gentext'"
            ],
            "application/vnd.google.colaboratory.intrinsic+json": {
              "type": "string"
            }
          },
          "metadata": {},
          "execution_count": 165
        }
      ],
      "execution_count": 165
    },
    {
      "cell_type": "code",
      "source": [
        "df_anger_texts.to_csv('/kaggle/working/anger_texts.csv', index=False)"
      ],
      "metadata": {
        "trusted": true,
        "id": "aoXV_1S3PuFQ"
      },
      "outputs": [],
      "execution_count": 119
    },
    {
      "cell_type": "markdown",
      "source": [
        "## conlusion\n",
        "- This project successfully implemented a text generation model to augment an emotion classification dataset.  \n",
        "- By training separate sequence-to-sequence (Seq2Seq) models with attention mechanisms for each emotion category (sadness, surprise, love, fear, and anger), the model generated synthetic text samples.  \n",
        "- The use of top-p sampling and temperature control in the text generation process helped to ensure diversity and quality, while post-processing and grammar correction further enhanced the generated text's coherence and readability.\n",
        "- The generated synthetic data addressed class imbalance issues in the original dataset, ultimately aiming to improve the performance of a downstream emotion classification model.  \n",
        "- The project demonstrated a practical approach to data augmentation for imbalanced datasets using deep learning techniques.\n"
      ],
      "metadata": {
        "id": "aK8jvRFb3hCz"
      }
    }
  ]
}